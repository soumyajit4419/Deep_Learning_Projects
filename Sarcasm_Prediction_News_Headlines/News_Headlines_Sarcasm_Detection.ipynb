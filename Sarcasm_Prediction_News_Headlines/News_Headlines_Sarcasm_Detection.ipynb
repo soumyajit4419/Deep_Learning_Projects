{
  "nbformat": 4,
  "nbformat_minor": 0,
  "metadata": {
    "colab": {
      "name": "News Headlines Sarcasm Detection.ipynb",
      "provenance": [],
      "collapsed_sections": []
    },
    "kernelspec": {
      "name": "python3",
      "display_name": "Python 3"
    },
    "accelerator": "GPU"
  },
  "cells": [
    {
      "cell_type": "code",
      "metadata": {
        "id": "g0eftqbZ2zET",
        "colab_type": "code",
        "outputId": "d3c529e7-ac83-4c6a-f293-9079e04b9034",
        "colab": {
          "base_uri": "https://localhost:8080/",
          "height": 72
        }
      },
      "source": [
        "import pandas as pd\n",
        "import numpy as np\n",
        "import seaborn as sns\n",
        "import matplotlib.pyplot as plt\n",
        "%matplotlib inline"
      ],
      "execution_count": 1,
      "outputs": [
        {
          "output_type": "stream",
          "text": [
            "/usr/local/lib/python3.6/dist-packages/statsmodels/tools/_testing.py:19: FutureWarning: pandas.util.testing is deprecated. Use the functions in the public API at pandas.testing instead.\n",
            "  import pandas.util.testing as tm\n"
          ],
          "name": "stderr"
        }
      ]
    },
    {
      "cell_type": "code",
      "metadata": {
        "id": "hkLrnsdstHS0",
        "colab_type": "code",
        "colab": {}
      },
      "source": [
        "from sklearn.model_selection import train_test_split"
      ],
      "execution_count": 0,
      "outputs": []
    },
    {
      "cell_type": "code",
      "metadata": {
        "id": "xMff2xBr3qpG",
        "colab_type": "code",
        "outputId": "346cc450-9d93-4ace-e058-728f27d7fdfe",
        "colab": {
          "base_uri": "https://localhost:8080/",
          "height": 34
        }
      },
      "source": [
        "import tensorflow as tf\n",
        "tf.__version__"
      ],
      "execution_count": 3,
      "outputs": [
        {
          "output_type": "execute_result",
          "data": {
            "text/plain": [
              "'2.2.0-rc3'"
            ]
          },
          "metadata": {
            "tags": []
          },
          "execution_count": 3
        }
      ]
    },
    {
      "cell_type": "code",
      "metadata": {
        "id": "hu6wdtFW3vsA",
        "colab_type": "code",
        "colab": {}
      },
      "source": [
        "from tensorflow.keras.preprocessing.text import Tokenizer\n",
        "from tensorflow.keras.preprocessing.sequence import pad_sequences"
      ],
      "execution_count": 0,
      "outputs": []
    },
    {
      "cell_type": "code",
      "metadata": {
        "id": "UhqQJ12yzLkz",
        "colab_type": "code",
        "colab": {}
      },
      "source": [
        "from tensorflow.keras.models import Sequential\n",
        "from tensorflow.keras.layers import Dense\n",
        "from tensorflow.keras.layers import Dropout,Flatten,GlobalAveragePooling1D\n",
        "from tensorflow.keras.layers import LSTM\n",
        "from tensorflow.keras.layers import Bidirectional\n",
        "from tensorflow.keras.layers import Embedding"
      ],
      "execution_count": 0,
      "outputs": []
    },
    {
      "cell_type": "code",
      "metadata": {
        "id": "IfkU2joL57aw",
        "colab_type": "code",
        "colab": {}
      },
      "source": [
        "df=pd.read_csv('/content/drive/My Drive/Colab Notebooks/headlines.csv')"
      ],
      "execution_count": 0,
      "outputs": []
    },
    {
      "cell_type": "code",
      "metadata": {
        "id": "yZscSx9-7xqS",
        "colab_type": "code",
        "outputId": "c4cd3f8f-c6d8-4931-93e4-de1bdcf730e4",
        "colab": {
          "base_uri": "https://localhost:8080/",
          "height": 197
        }
      },
      "source": [
        "df.head()"
      ],
      "execution_count": 7,
      "outputs": [
        {
          "output_type": "execute_result",
          "data": {
            "text/html": [
              "<div>\n",
              "<style scoped>\n",
              "    .dataframe tbody tr th:only-of-type {\n",
              "        vertical-align: middle;\n",
              "    }\n",
              "\n",
              "    .dataframe tbody tr th {\n",
              "        vertical-align: top;\n",
              "    }\n",
              "\n",
              "    .dataframe thead th {\n",
              "        text-align: right;\n",
              "    }\n",
              "</style>\n",
              "<table border=\"1\" class=\"dataframe\">\n",
              "  <thead>\n",
              "    <tr style=\"text-align: right;\">\n",
              "      <th></th>\n",
              "      <th>article_link</th>\n",
              "      <th>headline</th>\n",
              "      <th>is_sarcastic</th>\n",
              "    </tr>\n",
              "  </thead>\n",
              "  <tbody>\n",
              "    <tr>\n",
              "      <th>0</th>\n",
              "      <td>https://www.huffingtonpost.com/entry/versace-b...</td>\n",
              "      <td>former versace store clerk sues over secret 'b...</td>\n",
              "      <td>0</td>\n",
              "    </tr>\n",
              "    <tr>\n",
              "      <th>1</th>\n",
              "      <td>https://www.huffingtonpost.com/entry/roseanne-...</td>\n",
              "      <td>the 'roseanne' revival catches up to our thorn...</td>\n",
              "      <td>0</td>\n",
              "    </tr>\n",
              "    <tr>\n",
              "      <th>2</th>\n",
              "      <td>https://local.theonion.com/mom-starting-to-fea...</td>\n",
              "      <td>mom starting to fear son's web series closest ...</td>\n",
              "      <td>1</td>\n",
              "    </tr>\n",
              "    <tr>\n",
              "      <th>3</th>\n",
              "      <td>https://politics.theonion.com/boehner-just-wan...</td>\n",
              "      <td>boehner just wants wife to listen, not come up...</td>\n",
              "      <td>1</td>\n",
              "    </tr>\n",
              "    <tr>\n",
              "      <th>4</th>\n",
              "      <td>https://www.huffingtonpost.com/entry/jk-rowlin...</td>\n",
              "      <td>j.k. rowling wishes snape happy birthday in th...</td>\n",
              "      <td>0</td>\n",
              "    </tr>\n",
              "  </tbody>\n",
              "</table>\n",
              "</div>"
            ],
            "text/plain": [
              "                                        article_link  ... is_sarcastic\n",
              "0  https://www.huffingtonpost.com/entry/versace-b...  ...            0\n",
              "1  https://www.huffingtonpost.com/entry/roseanne-...  ...            0\n",
              "2  https://local.theonion.com/mom-starting-to-fea...  ...            1\n",
              "3  https://politics.theonion.com/boehner-just-wan...  ...            1\n",
              "4  https://www.huffingtonpost.com/entry/jk-rowlin...  ...            0\n",
              "\n",
              "[5 rows x 3 columns]"
            ]
          },
          "metadata": {
            "tags": []
          },
          "execution_count": 7
        }
      ]
    },
    {
      "cell_type": "code",
      "metadata": {
        "id": "rgIIG7bG70xi",
        "colab_type": "code",
        "outputId": "42e5c1c9-183b-4a49-957d-0a723c89bae0",
        "colab": {
          "base_uri": "https://localhost:8080/",
          "height": 34
        }
      },
      "source": [
        "df.shape"
      ],
      "execution_count": 8,
      "outputs": [
        {
          "output_type": "execute_result",
          "data": {
            "text/plain": [
              "(26709, 3)"
            ]
          },
          "metadata": {
            "tags": []
          },
          "execution_count": 8
        }
      ]
    },
    {
      "cell_type": "code",
      "metadata": {
        "id": "R56MWoe39z4N",
        "colab_type": "code",
        "colab": {
          "base_uri": "https://localhost:8080/",
          "height": 227
        },
        "outputId": "85ffe136-3646-45a7-9bb4-f010736945f3"
      },
      "source": [
        "headlines=df['headline']\n",
        "headlines"
      ],
      "execution_count": 9,
      "outputs": [
        {
          "output_type": "execute_result",
          "data": {
            "text/plain": [
              "0        former versace store clerk sues over secret 'b...\n",
              "1        the 'roseanne' revival catches up to our thorn...\n",
              "2        mom starting to fear son's web series closest ...\n",
              "3        boehner just wants wife to listen, not come up...\n",
              "4        j.k. rowling wishes snape happy birthday in th...\n",
              "                               ...                        \n",
              "26704                 american politics in moral free-fall\n",
              "26705                              america's best 20 hikes\n",
              "26706                                reparations and obama\n",
              "26707    israeli ban targeting boycott supporters raise...\n",
              "26708                    gourmet gifts for the foodie 2014\n",
              "Name: headline, Length: 26709, dtype: object"
            ]
          },
          "metadata": {
            "tags": []
          },
          "execution_count": 9
        }
      ]
    },
    {
      "cell_type": "code",
      "metadata": {
        "id": "dxux2nVNtQeY",
        "colab_type": "code",
        "colab": {
          "base_uri": "https://localhost:8080/",
          "height": 227
        },
        "outputId": "f3ca6ee4-09aa-4d7e-f793-d7a64606d751"
      },
      "source": [
        "label=df['is_sarcastic']\n",
        "label"
      ],
      "execution_count": 10,
      "outputs": [
        {
          "output_type": "execute_result",
          "data": {
            "text/plain": [
              "0        0\n",
              "1        0\n",
              "2        1\n",
              "3        1\n",
              "4        0\n",
              "        ..\n",
              "26704    0\n",
              "26705    0\n",
              "26706    0\n",
              "26707    0\n",
              "26708    0\n",
              "Name: is_sarcastic, Length: 26709, dtype: int64"
            ]
          },
          "metadata": {
            "tags": []
          },
          "execution_count": 10
        }
      ]
    },
    {
      "cell_type": "markdown",
      "metadata": {
        "id": "qTinrGqSt2VS",
        "colab_type": "text"
      },
      "source": [
        "## Splitting The Data\n",
        "\n"
      ]
    },
    {
      "cell_type": "code",
      "metadata": {
        "id": "u_8eNLW_tXLG",
        "colab_type": "code",
        "colab": {}
      },
      "source": [
        "x_train,x_test,y_train,y_test=train_test_split(headlines,label,test_size=0.3)"
      ],
      "execution_count": 0,
      "outputs": []
    },
    {
      "cell_type": "markdown",
      "metadata": {
        "id": "44HJf_MVt7Q3",
        "colab_type": "text"
      },
      "source": [
        "## Preparing the train data\n",
        "\n",
        "\n"
      ]
    },
    {
      "cell_type": "code",
      "metadata": {
        "id": "BxH8syEzthM9",
        "colab_type": "code",
        "colab": {}
      },
      "source": [
        "tokenizer=Tokenizer(num_words=5000)"
      ],
      "execution_count": 0,
      "outputs": []
    },
    {
      "cell_type": "code",
      "metadata": {
        "id": "zc6G228Qtwnc",
        "colab_type": "code",
        "colab": {}
      },
      "source": [
        "tokenizer.fit_on_texts(x_train)"
      ],
      "execution_count": 0,
      "outputs": []
    },
    {
      "cell_type": "code",
      "metadata": {
        "id": "bLTFiykQuDOj",
        "colab_type": "code",
        "colab": {
          "base_uri": "https://localhost:8080/",
          "height": 1000
        },
        "outputId": "8c9c2f20-e7d4-4ea9-8a14-ea62313b1d6a"
      },
      "source": [
        "word_index=tokenizer.word_index\n",
        "word_index"
      ],
      "execution_count": 14,
      "outputs": [
        {
          "output_type": "execute_result",
          "data": {
            "text/plain": [
              "{'to': 1,\n",
              " 'of': 2,\n",
              " 'the': 3,\n",
              " 'in': 4,\n",
              " 'for': 5,\n",
              " 'a': 6,\n",
              " 'on': 7,\n",
              " 'and': 8,\n",
              " 'with': 9,\n",
              " 'is': 10,\n",
              " 'new': 11,\n",
              " 'trump': 12,\n",
              " 'man': 13,\n",
              " 'from': 14,\n",
              " 'at': 15,\n",
              " 'about': 16,\n",
              " 'you': 17,\n",
              " 'this': 18,\n",
              " 'by': 19,\n",
              " 'up': 20,\n",
              " 'after': 21,\n",
              " 'out': 22,\n",
              " 'be': 23,\n",
              " 'as': 24,\n",
              " 'that': 25,\n",
              " 'how': 26,\n",
              " 'it': 27,\n",
              " 'not': 28,\n",
              " 'your': 29,\n",
              " 'are': 30,\n",
              " 'what': 31,\n",
              " 'just': 32,\n",
              " 'has': 33,\n",
              " 'his': 34,\n",
              " 'he': 35,\n",
              " 'all': 36,\n",
              " 'who': 37,\n",
              " 'will': 38,\n",
              " 'more': 39,\n",
              " 'year': 40,\n",
              " 'into': 41,\n",
              " 'report': 42,\n",
              " 'u': 43,\n",
              " 'have': 44,\n",
              " 'area': 45,\n",
              " 'one': 46,\n",
              " 'donald': 47,\n",
              " 's': 48,\n",
              " 'over': 49,\n",
              " 'why': 50,\n",
              " 'day': 51,\n",
              " 'says': 52,\n",
              " 'first': 53,\n",
              " 'can': 54,\n",
              " 'woman': 55,\n",
              " 'time': 56,\n",
              " 'old': 57,\n",
              " 'her': 58,\n",
              " \"trump's\": 59,\n",
              " 'no': 60,\n",
              " 'like': 61,\n",
              " 'get': 62,\n",
              " 'now': 63,\n",
              " 'life': 64,\n",
              " 'off': 65,\n",
              " 'an': 66,\n",
              " 'still': 67,\n",
              " 'obama': 68,\n",
              " 'was': 69,\n",
              " 'people': 70,\n",
              " 'house': 71,\n",
              " 'white': 72,\n",
              " 'than': 73,\n",
              " 'make': 74,\n",
              " 'if': 75,\n",
              " 'women': 76,\n",
              " \"'\": 77,\n",
              " 'clinton': 78,\n",
              " 'back': 79,\n",
              " 'my': 80,\n",
              " 'i': 81,\n",
              " 'down': 82,\n",
              " 'world': 83,\n",
              " 'do': 84,\n",
              " '5': 85,\n",
              " 'could': 86,\n",
              " 'we': 87,\n",
              " 'most': 88,\n",
              " 'when': 89,\n",
              " 'before': 90,\n",
              " 'school': 91,\n",
              " 'way': 92,\n",
              " 'americans': 93,\n",
              " 'their': 94,\n",
              " 'black': 95,\n",
              " 'family': 96,\n",
              " \"it's\": 97,\n",
              " 'years': 98,\n",
              " 'they': 99,\n",
              " '3': 100,\n",
              " 'study': 101,\n",
              " 'best': 102,\n",
              " 'should': 103,\n",
              " 'watch': 104,\n",
              " 'know': 105,\n",
              " 'but': 106,\n",
              " 'bill': 107,\n",
              " 'him': 108,\n",
              " 'gop': 109,\n",
              " 'so': 110,\n",
              " 'being': 111,\n",
              " 'police': 112,\n",
              " '10': 113,\n",
              " 'during': 114,\n",
              " 'american': 115,\n",
              " 'would': 116,\n",
              " 'really': 117,\n",
              " 'state': 118,\n",
              " 'going': 119,\n",
              " 'video': 120,\n",
              " \"can't\": 121,\n",
              " 'death': 122,\n",
              " 'home': 123,\n",
              " 'last': 124,\n",
              " 'nation': 125,\n",
              " '2': 126,\n",
              " 'she': 127,\n",
              " 'or': 128,\n",
              " 'finds': 129,\n",
              " 'hillary': 130,\n",
              " 'things': 131,\n",
              " \"'the\": 132,\n",
              " 'too': 133,\n",
              " 'health': 134,\n",
              " 'president': 135,\n",
              " 'say': 136,\n",
              " 'only': 137,\n",
              " 'good': 138,\n",
              " 'may': 139,\n",
              " 'big': 140,\n",
              " 'show': 141,\n",
              " 'love': 142,\n",
              " 'campaign': 143,\n",
              " 'party': 144,\n",
              " 'every': 145,\n",
              " 'against': 146,\n",
              " 'need': 147,\n",
              " 'high': 148,\n",
              " 'kids': 149,\n",
              " '000': 150,\n",
              " 'these': 151,\n",
              " 'makes': 152,\n",
              " 'work': 153,\n",
              " 'gets': 154,\n",
              " 'mom': 155,\n",
              " \"doesn't\": 156,\n",
              " 'self': 157,\n",
              " 'calls': 158,\n",
              " 'getting': 159,\n",
              " 'our': 160,\n",
              " 'gay': 161,\n",
              " 'parents': 162,\n",
              " 'through': 163,\n",
              " 'change': 164,\n",
              " 'court': 165,\n",
              " 'some': 166,\n",
              " 'never': 167,\n",
              " 'news': 168,\n",
              " 'little': 169,\n",
              " 'take': 170,\n",
              " 'child': 171,\n",
              " 'real': 172,\n",
              " 'war': 173,\n",
              " 'america': 174,\n",
              " 'election': 175,\n",
              " '6': 176,\n",
              " 'own': 177,\n",
              " 'john': 178,\n",
              " '4': 179,\n",
              " 'right': 180,\n",
              " 'even': 181,\n",
              " 'see': 182,\n",
              " 'want': 183,\n",
              " 'where': 184,\n",
              " 'look': 185,\n",
              " 'while': 186,\n",
              " 'local': 187,\n",
              " \"don't\": 188,\n",
              " 'dead': 189,\n",
              " 'next': 190,\n",
              " 'go': 191,\n",
              " 'again': 192,\n",
              " \"nation's\": 193,\n",
              " 'college': 194,\n",
              " \"here's\": 195,\n",
              " 'dog': 196,\n",
              " 'bush': 197,\n",
              " '7': 198,\n",
              " 'other': 199,\n",
              " 'another': 200,\n",
              " '1': 201,\n",
              " 'sex': 202,\n",
              " 'made': 203,\n",
              " 'takes': 204,\n",
              " 'gun': 205,\n",
              " 'its': 206,\n",
              " 'office': 207,\n",
              " 'week': 208,\n",
              " 'around': 209,\n",
              " 'stop': 210,\n",
              " 'them': 211,\n",
              " \"he's\": 212,\n",
              " 'job': 213,\n",
              " 'dad': 214,\n",
              " 'plan': 215,\n",
              " 'ever': 216,\n",
              " 'us': 217,\n",
              " 'thing': 218,\n",
              " 'wants': 219,\n",
              " 'got': 220,\n",
              " 'guy': 221,\n",
              " 'much': 222,\n",
              " 'baby': 223,\n",
              " 'care': 224,\n",
              " 'top': 225,\n",
              " 'debate': 226,\n",
              " 'season': 227,\n",
              " 'congress': 228,\n",
              " 'been': 229,\n",
              " 'north': 230,\n",
              " 'two': 231,\n",
              " 'million': 232,\n",
              " 'under': 233,\n",
              " 'finally': 234,\n",
              " \"man's\": 235,\n",
              " 'night': 236,\n",
              " 'live': 237,\n",
              " '9': 238,\n",
              " 'paul': 239,\n",
              " 'god': 240,\n",
              " 'long': 241,\n",
              " 'climate': 242,\n",
              " 'shows': 243,\n",
              " 'couple': 244,\n",
              " 'media': 245,\n",
              " \"won't\": 246,\n",
              " 'without': 247,\n",
              " '8': 248,\n",
              " 'shooting': 249,\n",
              " 'actually': 250,\n",
              " 'senate': 251,\n",
              " 'star': 252,\n",
              " 'attack': 253,\n",
              " 'think': 254,\n",
              " 'everyone': 255,\n",
              " 'me': 256,\n",
              " 'help': 257,\n",
              " 'trying': 258,\n",
              " 'great': 259,\n",
              " 'body': 260,\n",
              " 'away': 261,\n",
              " 'sexual': 262,\n",
              " 'government': 263,\n",
              " 'had': 264,\n",
              " 'money': 265,\n",
              " 'introduces': 266,\n",
              " 'anti': 267,\n",
              " '20': 268,\n",
              " 'national': 269,\n",
              " 'fight': 270,\n",
              " 'ways': 271,\n",
              " 'wedding': 272,\n",
              " 'does': 273,\n",
              " 'making': 274,\n",
              " 'york': 275,\n",
              " 'end': 276,\n",
              " 'history': 277,\n",
              " 'there': 278,\n",
              " 'reveals': 279,\n",
              " 'movie': 280,\n",
              " 'film': 281,\n",
              " 'talk': 282,\n",
              " 'food': 283,\n",
              " 'game': 284,\n",
              " '11': 285,\n",
              " 'pope': 286,\n",
              " 'tv': 287,\n",
              " 'republican': 288,\n",
              " 'book': 289,\n",
              " 'facebook': 290,\n",
              " 'students': 291,\n",
              " 'announces': 292,\n",
              " 'better': 293,\n",
              " 'city': 294,\n",
              " 'bad': 295,\n",
              " 'teen': 296,\n",
              " 'single': 297,\n",
              " 'give': 298,\n",
              " 'company': 299,\n",
              " 'story': 300,\n",
              " 'any': 301,\n",
              " 'tell': 302,\n",
              " 'deal': 303,\n",
              " 'enough': 304,\n",
              " 'former': 305,\n",
              " 'supreme': 306,\n",
              " 'found': 307,\n",
              " 'business': 308,\n",
              " 'face': 309,\n",
              " 'girl': 310,\n",
              " 'call': 311,\n",
              " 'presidential': 312,\n",
              " 'fire': 313,\n",
              " 'morning': 314,\n",
              " 'entire': 315,\n",
              " 'part': 316,\n",
              " 'line': 317,\n",
              " 'email': 318,\n",
              " 'pretty': 319,\n",
              " 'friend': 320,\n",
              " 'speech': 321,\n",
              " 'free': 322,\n",
              " 'come': 323,\n",
              " 'same': 324,\n",
              " 'name': 325,\n",
              " 'something': 326,\n",
              " 'keep': 327,\n",
              " 'republicans': 328,\n",
              " 'run': 329,\n",
              " 'men': 330,\n",
              " 'marriage': 331,\n",
              " 'friends': 332,\n",
              " 'find': 333,\n",
              " 'must': 334,\n",
              " 'public': 335,\n",
              " 'looking': 336,\n",
              " 'person': 337,\n",
              " 'future': 338,\n",
              " 'used': 339,\n",
              " 'children': 340,\n",
              " '2016': 341,\n",
              " 'car': 342,\n",
              " 'releases': 343,\n",
              " 'open': 344,\n",
              " 'might': 345,\n",
              " 'democrats': 346,\n",
              " 'tax': 347,\n",
              " 'control': 348,\n",
              " 'second': 349,\n",
              " 'son': 350,\n",
              " 'middle': 351,\n",
              " 'fans': 352,\n",
              " 'use': 353,\n",
              " 'case': 354,\n",
              " 'thinks': 355,\n",
              " 'support': 356,\n",
              " 'photos': 357,\n",
              " 'vote': 358,\n",
              " 'between': 359,\n",
              " 'security': 360,\n",
              " 'sanders': 361,\n",
              " 'meet': 362,\n",
              " 'voters': 363,\n",
              " 'james': 364,\n",
              " 'cruz': 365,\n",
              " 'win': 366,\n",
              " 'law': 367,\n",
              " 'violence': 368,\n",
              " 'doing': 369,\n",
              " \"didn't\": 370,\n",
              " 'full': 371,\n",
              " 'asks': 372,\n",
              " 'rights': 373,\n",
              " 'coming': 374,\n",
              " 'room': 375,\n",
              " 'because': 376,\n",
              " 'reports': 377,\n",
              " 'month': 378,\n",
              " \"world's\": 379,\n",
              " 'head': 380,\n",
              " '12': 381,\n",
              " 'human': 382,\n",
              " 'already': 383,\n",
              " 'twitter': 384,\n",
              " 'ban': 385,\n",
              " 'very': 386,\n",
              " 'goes': 387,\n",
              " 'student': 388,\n",
              " 'three': 389,\n",
              " 'group': 390,\n",
              " 'each': 391,\n",
              " 'photo': 392,\n",
              " 'running': 393,\n",
              " 'record': 394,\n",
              " 'mother': 395,\n",
              " 'poll': 396,\n",
              " 'needs': 397,\n",
              " 'behind': 398,\n",
              " 'once': 399,\n",
              " 'killed': 400,\n",
              " 'warns': 401,\n",
              " 'forced': 402,\n",
              " 'many': 403,\n",
              " 'lives': 404,\n",
              " \"i'm\": 405,\n",
              " 'christmas': 406,\n",
              " 'having': 407,\n",
              " 'power': 408,\n",
              " 'list': 409,\n",
              " 'boy': 410,\n",
              " 'kim': 411,\n",
              " 'secret': 412,\n",
              " 'department': 413,\n",
              " 'ad': 414,\n",
              " 'working': 415,\n",
              " 'team': 416,\n",
              " 'red': 417,\n",
              " 'perfect': 418,\n",
              " 'class': 419,\n",
              " 'sure': 420,\n",
              " 'female': 421,\n",
              " 'teacher': 422,\n",
              " 'super': 423,\n",
              " 'michael': 424,\n",
              " 'art': 425,\n",
              " 'social': 426,\n",
              " 'ryan': 427,\n",
              " 'water': 428,\n",
              " '15': 429,\n",
              " 'did': 430,\n",
              " 'eating': 431,\n",
              " 'ted': 432,\n",
              " 'music': 433,\n",
              " 'obamacare': 434,\n",
              " 'bernie': 435,\n",
              " 'save': 436,\n",
              " 'meeting': 437,\n",
              " 'missing': 438,\n",
              " 'race': 439,\n",
              " 'thought': 440,\n",
              " 'ready': 441,\n",
              " 'inside': 442,\n",
              " 'george': 443,\n",
              " 'until': 444,\n",
              " 'let': 445,\n",
              " 'hot': 446,\n",
              " \"'i\": 447,\n",
              " 'young': 448,\n",
              " 'past': 449,\n",
              " 'crisis': 450,\n",
              " 'plans': 451,\n",
              " 'mike': 452,\n",
              " 'ceo': 453,\n",
              " 'pay': 454,\n",
              " 'states': 455,\n",
              " 'fbi': 456,\n",
              " 'ask': 457,\n",
              " 'candidate': 458,\n",
              " 'father': 459,\n",
              " 'country': 460,\n",
              " 'hours': 461,\n",
              " 'were': 462,\n",
              " 'days': 463,\n",
              " 'political': 464,\n",
              " 'justice': 465,\n",
              " 'set': 466,\n",
              " 'living': 467,\n",
              " 'leaves': 468,\n",
              " 'tells': 469,\n",
              " 'texas': 470,\n",
              " 'today': 471,\n",
              " '30': 472,\n",
              " 'romney': 473,\n",
              " 'looks': 474,\n",
              " \"women's\": 475,\n",
              " 'wife': 476,\n",
              " 'scientists': 477,\n",
              " 'letter': 478,\n",
              " 'admits': 479,\n",
              " 'post': 480,\n",
              " 'california': 481,\n",
              " 'questions': 482,\n",
              " 'times': 483,\n",
              " 'lost': 484,\n",
              " 'dies': 485,\n",
              " 'employee': 486,\n",
              " 'place': 487,\n",
              " 'put': 488,\n",
              " 'russia': 489,\n",
              " 'south': 490,\n",
              " 'idea': 491,\n",
              " 'wins': 492,\n",
              " 'comes': 493,\n",
              " 'ex': 494,\n",
              " 'start': 495,\n",
              " 'heart': 496,\n",
              " 'hard': 497,\n",
              " 'series': 498,\n",
              " 'giving': 499,\n",
              " 'march': 500,\n",
              " 'here': 501,\n",
              " 'isis': 502,\n",
              " 'korea': 503,\n",
              " 'always': 504,\n",
              " 'claims': 505,\n",
              " '2015': 506,\n",
              " 'summer': 507,\n",
              " 'taking': 508,\n",
              " 'director': 509,\n",
              " 'tweets': 510,\n",
              " 'iran': 511,\n",
              " 'street': 512,\n",
              " 'kill': 513,\n",
              " 'secretary': 514,\n",
              " 'unveils': 515,\n",
              " 'probably': 516,\n",
              " 'restaurant': 517,\n",
              " 'breaking': 518,\n",
              " 'education': 519,\n",
              " 'small': 520,\n",
              " 'yet': 521,\n",
              " 'percent': 522,\n",
              " 'half': 523,\n",
              " 'abortion': 524,\n",
              " 'gives': 525,\n",
              " 'nuclear': 526,\n",
              " 'different': 527,\n",
              " \"isn't\": 528,\n",
              " 'service': 529,\n",
              " 'tips': 530,\n",
              " 'together': 531,\n",
              " 'minutes': 532,\n",
              " 'personal': 533,\n",
              " 'cancer': 534,\n",
              " 'someone': 535,\n",
              " 'box': 536,\n",
              " 'military': 537,\n",
              " 'cat': 538,\n",
              " 'wall': 539,\n",
              " 'third': 540,\n",
              " \"america's\": 541,\n",
              " 'wrong': 542,\n",
              " 'shot': 543,\n",
              " 'king': 544,\n",
              " 'left': 545,\n",
              " 'everything': 546,\n",
              " 'florida': 547,\n",
              " 'months': 548,\n",
              " 'hit': 549,\n",
              " 'biden': 550,\n",
              " 'trailer': 551,\n",
              " 'francis': 552,\n",
              " 'fun': 553,\n",
              " 'chief': 554,\n",
              " 'knows': 555,\n",
              " 'talks': 556,\n",
              " 'travel': 557,\n",
              " 'guide': 558,\n",
              " \"she's\": 559,\n",
              " 'age': 560,\n",
              " 'prison': 561,\n",
              " 'stars': 562,\n",
              " 'straight': 563,\n",
              " 'issues': 564,\n",
              " 'al': 565,\n",
              " 'majority': 566,\n",
              " 'latest': 567,\n",
              " 'muslim': 568,\n",
              " 'congressman': 569,\n",
              " 'hollywood': 570,\n",
              " 'told': 571,\n",
              " 'federal': 572,\n",
              " 'since': 573,\n",
              " 'word': 574,\n",
              " 'rock': 575,\n",
              " 'democratic': 576,\n",
              " \"you're\": 577,\n",
              " 'daughter': 578,\n",
              " 'problem': 579,\n",
              " 'few': 580,\n",
              " 'order': 581,\n",
              " 'rise': 582,\n",
              " 'sign': 583,\n",
              " 'those': 584,\n",
              " 'hour': 585,\n",
              " 'ice': 586,\n",
              " 'holiday': 587,\n",
              " 'fucking': 588,\n",
              " 'weekend': 589,\n",
              " 'shit': 590,\n",
              " 'judge': 591,\n",
              " \"they're\": 592,\n",
              " 'protest': 593,\n",
              " 'drug': 594,\n",
              " 'watching': 595,\n",
              " 'excited': 596,\n",
              " 'talking': 597,\n",
              " 'response': 598,\n",
              " 'lessons': 599,\n",
              " 'thousands': 600,\n",
              " 'store': 601,\n",
              " 'community': 602,\n",
              " 'relationship': 603,\n",
              " 'read': 604,\n",
              " 'special': 605,\n",
              " 'united': 606,\n",
              " 'beautiful': 607,\n",
              " 'dream': 608,\n",
              " 'well': 609,\n",
              " 'administration': 610,\n",
              " 'system': 611,\n",
              " 'air': 612,\n",
              " 'washington': 613,\n",
              " 'birthday': 614,\n",
              " 'kid': 615,\n",
              " 'cop': 616,\n",
              " 'mark': 617,\n",
              " 'internet': 618,\n",
              " 'seen': 619,\n",
              " 'huffpost': 620,\n",
              " 'online': 621,\n",
              " 'girls': 622,\n",
              " 'celebrates': 623,\n",
              " 'union': 624,\n",
              " 'move': 625,\n",
              " 'earth': 626,\n",
              " 'feel': 627,\n",
              " 'late': 628,\n",
              " 'town': 629,\n",
              " 'hate': 630,\n",
              " 'owner': 631,\n",
              " \"obama's\": 632,\n",
              " 'cops': 633,\n",
              " 'phone': 634,\n",
              " 'break': 635,\n",
              " 'sleep': 636,\n",
              " 'front': 637,\n",
              " '100': 638,\n",
              " 'play': 639,\n",
              " 'believe': 640,\n",
              " 'china': 641,\n",
              " 'reasons': 642,\n",
              " 'russian': 643,\n",
              " 'fan': 644,\n",
              " 'buy': 645,\n",
              " 'himself': 646,\n",
              " 'birth': 647,\n",
              " 'bar': 648,\n",
              " 'minute': 649,\n",
              " 'nothing': 650,\n",
              " 'outside': 651,\n",
              " 'whole': 652,\n",
              " 'chris': 653,\n",
              " 'message': 654,\n",
              " 'return': 655,\n",
              " 'anything': 656,\n",
              " 'offers': 657,\n",
              " 'policy': 658,\n",
              " 'wearing': 659,\n",
              " 'words': 660,\n",
              " 'girlfriend': 661,\n",
              " 'names': 662,\n",
              " 'cover': 663,\n",
              " 'thinking': 664,\n",
              " 'eat': 665,\n",
              " 'non': 666,\n",
              " 'favorite': 667,\n",
              " 'leaders': 668,\n",
              " 'happy': 669,\n",
              " 'reason': 670,\n",
              " 'lead': 671,\n",
              " 'huge': 672,\n",
              " 'officials': 673,\n",
              " 'killing': 674,\n",
              " 'puts': 675,\n",
              " 'murder': 676,\n",
              " \"what's\": 677,\n",
              " 'opens': 678,\n",
              " 'attacks': 679,\n",
              " 'drunk': 680,\n",
              " 'lot': 681,\n",
              " 'host': 682,\n",
              " 'leave': 683,\n",
              " 'rules': 684,\n",
              " 'visit': 685,\n",
              " 'queer': 686,\n",
              " 'true': 687,\n",
              " 'victims': 688,\n",
              " 'politics': 689,\n",
              " 'point': 690,\n",
              " 'accused': 691,\n",
              " 'adorable': 692,\n",
              " 'learned': 693,\n",
              " 'fox': 694,\n",
              " 'tom': 695,\n",
              " 'candidates': 696,\n",
              " 'assault': 697,\n",
              " 'interview': 698,\n",
              " 't': 699,\n",
              " 'stephen': 700,\n",
              " 'spends': 701,\n",
              " '50': 702,\n",
              " 'fall': 703,\n",
              " 'chinese': 704,\n",
              " 'breaks': 705,\n",
              " 'bring': 706,\n",
              " 'un': 707,\n",
              " 'early': 708,\n",
              " 'career': 709,\n",
              " 'jimmy': 710,\n",
              " 'immigration': 711,\n",
              " 'using': 712,\n",
              " 'senator': 713,\n",
              " 'conversation': 714,\n",
              " 'reportedly': 715,\n",
              " 'moment': 716,\n",
              " 'moving': 717,\n",
              " 'stage': 718,\n",
              " 'david': 719,\n",
              " 'trip': 720,\n",
              " 'investigation': 721,\n",
              " 'billion': 722,\n",
              " 'oscar': 723,\n",
              " 'taylor': 724,\n",
              " 'pizza': 725,\n",
              " 'hits': 726,\n",
              " 'kind': 727,\n",
              " 'coffee': 728,\n",
              " 'official': 729,\n",
              " 'bus': 730,\n",
              " 'driving': 731,\n",
              " 'center': 732,\n",
              " 'turn': 733,\n",
              " 'completely': 734,\n",
              " 'k': 735,\n",
              " 'returns': 736,\n",
              " 'fashion': 737,\n",
              " 'reality': 738,\n",
              " 'sports': 739,\n",
              " 'die': 740,\n",
              " 'kills': 741,\n",
              " 'final': 742,\n",
              " 'schools': 743,\n",
              " 'hope': 744,\n",
              " 'global': 745,\n",
              " 'prince': 746,\n",
              " 'transgender': 747,\n",
              " 'syria': 748,\n",
              " 'near': 749,\n",
              " 'powerful': 750,\n",
              " 'hair': 751,\n",
              " 'leads': 752,\n",
              " 'following': 753,\n",
              " 'less': 754,\n",
              " 'least': 755,\n",
              " 'style': 756,\n",
              " '40': 757,\n",
              " 'brings': 758,\n",
              " 'keeps': 759,\n",
              " 'scott': 760,\n",
              " 'called': 761,\n",
              " '13': 762,\n",
              " 'pence': 763,\n",
              " 'far': 764,\n",
              " 'gift': 765,\n",
              " 'crash': 766,\n",
              " 'act': 767,\n",
              " 'light': 768,\n",
              " 'c': 769,\n",
              " 'apple': 770,\n",
              " 'turns': 771,\n",
              " 'longer': 772,\n",
              " 'oscars': 773,\n",
              " 'five': 774,\n",
              " 'song': 775,\n",
              " 'totally': 776,\n",
              " 'worried': 777,\n",
              " 'syrian': 778,\n",
              " 'massive': 779,\n",
              " 'signs': 780,\n",
              " 'experience': 781,\n",
              " 'lose': 782,\n",
              " 'struggling': 783,\n",
              " 'anniversary': 784,\n",
              " 'rubio': 785,\n",
              " 'almost': 786,\n",
              " 'adds': 787,\n",
              " '2014': 788,\n",
              " 'oil': 789,\n",
              " 'dating': 790,\n",
              " 'stand': 791,\n",
              " 'test': 792,\n",
              " 'commercial': 793,\n",
              " 'vows': 794,\n",
              " 'voice': 795,\n",
              " 'fear': 796,\n",
              " 'defense': 797,\n",
              " 'industry': 798,\n",
              " 'dinner': 799,\n",
              " 'date': 800,\n",
              " 'worst': 801,\n",
              " 'across': 802,\n",
              " 'leader': 803,\n",
              " 'paris': 804,\n",
              " 'board': 805,\n",
              " 'planned': 806,\n",
              " 'simple': 807,\n",
              " 'homeless': 808,\n",
              " 'become': 809,\n",
              " 'millions': 810,\n",
              " 'jr': 811,\n",
              " 'worth': 812,\n",
              " 'key': 813,\n",
              " 'executive': 814,\n",
              " 'mind': 815,\n",
              " 'question': 816,\n",
              " 'hand': 817,\n",
              " 'mass': 818,\n",
              " 'leaving': 819,\n",
              " 'picture': 820,\n",
              " 'shop': 821,\n",
              " 'building': 822,\n",
              " 'church': 823,\n",
              " 'desperate': 824,\n",
              " 'side': 825,\n",
              " 'protesters': 826,\n",
              " 'suspect': 827,\n",
              " 'train': 828,\n",
              " 'general': 829,\n",
              " \"we're\": 830,\n",
              " 'amazon': 831,\n",
              " 'discover': 832,\n",
              " 'poor': 833,\n",
              " 'program': 834,\n",
              " 'given': 835,\n",
              " 'advice': 836,\n",
              " 'trans': 837,\n",
              " 'iraq': 838,\n",
              " 'reveal': 839,\n",
              " 'nyc': 840,\n",
              " 'door': 841,\n",
              " 'number': 842,\n",
              " 'joe': 843,\n",
              " 'dance': 844,\n",
              " 'feels': 845,\n",
              " 'members': 846,\n",
              " 'cut': 847,\n",
              " 'low': 848,\n",
              " 'documentary': 849,\n",
              " 'pick': 850,\n",
              " \"there's\": 851,\n",
              " 'j': 852,\n",
              " 'anyone': 853,\n",
              " 'peace': 854,\n",
              " 'risk': 855,\n",
              " 'royal': 856,\n",
              " 'ben': 857,\n",
              " 'begins': 858,\n",
              " 'chicago': 859,\n",
              " 'magazine': 860,\n",
              " 'celebrate': 861,\n",
              " 'close': 862,\n",
              " 'moore': 863,\n",
              " 'sick': 864,\n",
              " 'hopes': 865,\n",
              " 'loses': 866,\n",
              " 'nfl': 867,\n",
              " 'ferguson': 868,\n",
              " 'results': 869,\n",
              " 'jenner': 870,\n",
              " 'band': 871,\n",
              " 'doctor': 872,\n",
              " 'decision': 873,\n",
              " 'economy': 874,\n",
              " 'beauty': 875,\n",
              " 'demands': 876,\n",
              " 'chance': 877,\n",
              " 'workers': 878,\n",
              " 'fuck': 879,\n",
              " 'google': 880,\n",
              " 'employees': 881,\n",
              " 'sound': 882,\n",
              " 'park': 883,\n",
              " 'biggest': 884,\n",
              " 'rally': 885,\n",
              " 'cool': 886,\n",
              " 'throws': 887,\n",
              " 'review': 888,\n",
              " 'kardashian': 889,\n",
              " 'audience': 890,\n",
              " 'queen': 891,\n",
              " 'try': 892,\n",
              " 'hands': 893,\n",
              " 'coworker': 894,\n",
              " 'mental': 895,\n",
              " '2017': 896,\n",
              " 'artist': 897,\n",
              " 'private': 898,\n",
              " 'netflix': 899,\n",
              " '17': 900,\n",
              " 'uses': 901,\n",
              " 'waiting': 902,\n",
              " 'data': 903,\n",
              " 'hoping': 904,\n",
              " 'boss': 905,\n",
              " 'weight': 906,\n",
              " \"aren't\": 907,\n",
              " 'sales': 908,\n",
              " 'plane': 909,\n",
              " 'carolina': 910,\n",
              " 'miss': 911,\n",
              " 'check': 912,\n",
              " 'space': 913,\n",
              " 'force': 914,\n",
              " 'wishes': 915,\n",
              " 'awards': 916,\n",
              " 'robert': 917,\n",
              " 'starting': 918,\n",
              " 'chicken': 919,\n",
              " 'humans': 920,\n",
              " 'israel': 921,\n",
              " 'weird': 922,\n",
              " 'd': 923,\n",
              " 'epa': 924,\n",
              " 'nearly': 925,\n",
              " 'budget': 926,\n",
              " \"mother's\": 927,\n",
              " 'battle': 928,\n",
              " 'hall': 929,\n",
              " 'halloween': 930,\n",
              " 'role': 931,\n",
              " 'died': 932,\n",
              " 'likely': 933,\n",
              " 'repeal': 934,\n",
              " 'push': 935,\n",
              " 'prevent': 936,\n",
              " 'abuse': 937,\n",
              " 'stay': 938,\n",
              " '25': 939,\n",
              " 'blue': 940,\n",
              " 'reform': 941,\n",
              " 'university': 942,\n",
              " 'learn': 943,\n",
              " 'passes': 944,\n",
              " 'bowl': 945,\n",
              " 'driver': 946,\n",
              " 'wait': 947,\n",
              " 'press': 948,\n",
              " 'dying': 949,\n",
              " 'clearly': 950,\n",
              " 'apologizes': 951,\n",
              " 'receives': 952,\n",
              " 'hurricane': 953,\n",
              " 'families': 954,\n",
              " 'somehow': 955,\n",
              " 'despite': 956,\n",
              " 'leading': 957,\n",
              " 'happens': 958,\n",
              " 'finding': 959,\n",
              " 'points': 960,\n",
              " 'matter': 961,\n",
              " 'pro': 962,\n",
              " 'senators': 963,\n",
              " 'which': 964,\n",
              " 'mayor': 965,\n",
              " 'urges': 966,\n",
              " 'martin': 967,\n",
              " 'deadly': 968,\n",
              " 'fighting': 969,\n",
              " \"hasn't\": 970,\n",
              " 'movies': 971,\n",
              " 'performance': 972,\n",
              " 'moms': 973,\n",
              " 'boys': 974,\n",
              " 'surprise': 975,\n",
              " 'card': 976,\n",
              " 'responds': 977,\n",
              " 'important': 978,\n",
              " 'remember': 979,\n",
              " 'short': 980,\n",
              " 'marijuana': 981,\n",
              " 'congressional': 982,\n",
              " 'crime': 983,\n",
              " 'address': 984,\n",
              " 'steps': 985,\n",
              " 'shares': 986,\n",
              " 'culture': 987,\n",
              " 'michelle': 988,\n",
              " 'fast': 989,\n",
              " 'fake': 990,\n",
              " 'rest': 991,\n",
              " 'football': 992,\n",
              " 'asking': 993,\n",
              " 'color': 994,\n",
              " 'major': 995,\n",
              " 'steve': 996,\n",
              " 'suggests': 997,\n",
              " 'walk': 998,\n",
              " 'search': 999,\n",
              " 'fails': 1000,\n",
              " ...}"
            ]
          },
          "metadata": {
            "tags": []
          },
          "execution_count": 14
        }
      ]
    },
    {
      "cell_type": "code",
      "metadata": {
        "id": "3SgsYH6NuQav",
        "colab_type": "code",
        "colab": {}
      },
      "source": [
        "train_sequence=tokenizer.texts_to_sequences(x_train)  "
      ],
      "execution_count": 0,
      "outputs": []
    },
    {
      "cell_type": "code",
      "metadata": {
        "id": "YvXoz_KVu2k_",
        "colab_type": "code",
        "colab": {}
      },
      "source": [
        "training_padded = pad_sequences(train_sequence, padding='post',truncating='post',)"
      ],
      "execution_count": 0,
      "outputs": []
    },
    {
      "cell_type": "markdown",
      "metadata": {
        "id": "CiJVUW7uvPTf",
        "colab_type": "text"
      },
      "source": [
        "## Preparing the test data\n",
        "\n"
      ]
    },
    {
      "cell_type": "code",
      "metadata": {
        "id": "2f965kyNvDny",
        "colab_type": "code",
        "colab": {}
      },
      "source": [
        "test_sequence=tokenizer.texts_to_sequences(x_test)\n",
        "test_padded = pad_sequences(test_sequence, padding='post',truncating='post')"
      ],
      "execution_count": 0,
      "outputs": []
    },
    {
      "cell_type": "markdown",
      "metadata": {
        "id": "-JKEpq66w6YG",
        "colab_type": "text"
      },
      "source": [
        "## Building And Testing Accuracy Different Models\n",
        "\n",
        "\n"
      ]
    },
    {
      "cell_type": "markdown",
      "metadata": {
        "id": "vN9UZ9idyVq_",
        "colab_type": "text"
      },
      "source": [
        "### Simple Model with ANN"
      ]
    },
    {
      "cell_type": "code",
      "metadata": {
        "id": "1oQnoyNOyeoG",
        "colab_type": "code",
        "colab": {}
      },
      "source": [
        "model1=Sequential()"
      ],
      "execution_count": 0,
      "outputs": []
    },
    {
      "cell_type": "code",
      "metadata": {
        "id": "exLG6MX7yeqv",
        "colab_type": "code",
        "colab": {}
      },
      "source": [
        "model1.add(Embedding(input_dim=5000,output_dim=16))\n",
        "model1.add(GlobalAveragePooling1D())\n",
        "model1.add(Dense(units=32,activation='relu'))\n",
        "model1.add(Dense(units=1,activation='sigmoid'))"
      ],
      "execution_count": 0,
      "outputs": []
    },
    {
      "cell_type": "code",
      "metadata": {
        "id": "f1Nr2sUcye0s",
        "colab_type": "code",
        "colab": {
          "base_uri": "https://localhost:8080/",
          "height": 297
        },
        "outputId": "6d077cfc-33ee-41b1-8ccc-b679d55edf55"
      },
      "source": [
        "model1.summary()"
      ],
      "execution_count": 20,
      "outputs": [
        {
          "output_type": "stream",
          "text": [
            "Model: \"sequential\"\n",
            "_________________________________________________________________\n",
            "Layer (type)                 Output Shape              Param #   \n",
            "=================================================================\n",
            "embedding (Embedding)        (None, None, 16)          80000     \n",
            "_________________________________________________________________\n",
            "global_average_pooling1d (Gl (None, 16)                0         \n",
            "_________________________________________________________________\n",
            "dense (Dense)                (None, 32)                544       \n",
            "_________________________________________________________________\n",
            "dense_1 (Dense)              (None, 1)                 33        \n",
            "=================================================================\n",
            "Total params: 80,577\n",
            "Trainable params: 80,577\n",
            "Non-trainable params: 0\n",
            "_________________________________________________________________\n"
          ],
          "name": "stdout"
        }
      ]
    },
    {
      "cell_type": "code",
      "metadata": {
        "id": "DNL8Ypd91Voi",
        "colab_type": "code",
        "colab": {}
      },
      "source": [
        "model1.compile(optimizer='adam',loss='binary_crossentropy',metrics=['accuracy'])"
      ],
      "execution_count": 0,
      "outputs": []
    },
    {
      "cell_type": "code",
      "metadata": {
        "id": "et025ktL5D3F",
        "colab_type": "code",
        "colab": {
          "base_uri": "https://localhost:8080/",
          "height": 367
        },
        "outputId": "ea4931be-8964-442f-d0cc-75cc3b85f860"
      },
      "source": [
        "history=model1.fit(training_padded,y_train,epochs=10,validation_data=(test_padded,y_test))"
      ],
      "execution_count": 22,
      "outputs": [
        {
          "output_type": "stream",
          "text": [
            "Epoch 1/10\n",
            "585/585 [==============================] - 3s 5ms/step - loss: 0.5802 - accuracy: 0.6891 - val_loss: 0.4009 - val_accuracy: 0.8331\n",
            "Epoch 2/10\n",
            "585/585 [==============================] - 2s 4ms/step - loss: 0.3407 - accuracy: 0.8577 - val_loss: 0.3530 - val_accuracy: 0.8424\n",
            "Epoch 3/10\n",
            "585/585 [==============================] - 2s 4ms/step - loss: 0.2766 - accuracy: 0.8864 - val_loss: 0.3445 - val_accuracy: 0.8497\n",
            "Epoch 4/10\n",
            "585/585 [==============================] - 2s 4ms/step - loss: 0.2438 - accuracy: 0.9006 - val_loss: 0.3563 - val_accuracy: 0.8486\n",
            "Epoch 5/10\n",
            "585/585 [==============================] - 2s 4ms/step - loss: 0.2236 - accuracy: 0.9101 - val_loss: 0.3915 - val_accuracy: 0.8398\n",
            "Epoch 6/10\n",
            "585/585 [==============================] - 2s 4ms/step - loss: 0.2084 - accuracy: 0.9153 - val_loss: 0.3913 - val_accuracy: 0.8458\n",
            "Epoch 7/10\n",
            "585/585 [==============================] - 2s 4ms/step - loss: 0.1964 - accuracy: 0.9224 - val_loss: 0.4097 - val_accuracy: 0.8449\n",
            "Epoch 8/10\n",
            "585/585 [==============================] - 2s 4ms/step - loss: 0.1870 - accuracy: 0.9241 - val_loss: 0.4302 - val_accuracy: 0.8378\n",
            "Epoch 9/10\n",
            "585/585 [==============================] - 2s 4ms/step - loss: 0.1787 - accuracy: 0.9293 - val_loss: 0.4491 - val_accuracy: 0.8390\n",
            "Epoch 10/10\n",
            "585/585 [==============================] - 2s 4ms/step - loss: 0.1727 - accuracy: 0.9317 - val_loss: 0.4710 - val_accuracy: 0.8345\n"
          ],
          "name": "stdout"
        }
      ]
    },
    {
      "cell_type": "code",
      "metadata": {
        "id": "lIoUcZVJ5_bj",
        "colab_type": "code",
        "colab": {
          "base_uri": "https://localhost:8080/",
          "height": 336
        },
        "outputId": "42442b8c-cdb0-46b0-ce3a-641927edb90e"
      },
      "source": [
        "fig,(ax1,ax2)=plt.subplots(nrows=1,ncols=2,figsize=(20,5))\n",
        "ax1.plot(history.history['accuracy'],label='train_accuracy')\n",
        "ax1.plot(history.history['val_accuracy'],label='test_accuracy')\n",
        "ax1.set_title('Accuracy')\n",
        "ax1.legend()\n",
        "ax2.plot(history.history['loss'],label='train_loss')\n",
        "ax2.plot(history.history['val_loss'],label='test_loss')\n",
        "ax2.set_title('Loss')\n",
        "ax2.legend()\n",
        "plt.show()"
      ],
      "execution_count": 23,
      "outputs": [
        {
          "output_type": "display_data",
          "data": {
            "image/png": "[encoded data removed]",
            "text/plain": [
              "<Figure size 1440x360 with 2 Axes>"
            ]
          },
          "metadata": {
            "tags": [],
            "needs_background": "light"
          }
        }
      ]
    },
    {
      "cell_type": "markdown",
      "metadata": {
        "id": "ZGhLLEECxRbJ",
        "colab_type": "text"
      },
      "source": [
        "### Bidirectional Single Layer LSTM"
      ]
    },
    {
      "cell_type": "code",
      "metadata": {
        "id": "KMqml77KxnA3",
        "colab_type": "code",
        "colab": {}
      },
      "source": [
        "model2=Sequential()"
      ],
      "execution_count": 0,
      "outputs": []
    },
    {
      "cell_type": "code",
      "metadata": {
        "id": "K88vmLt7xnDR",
        "colab_type": "code",
        "colab": {}
      },
      "source": [
        "model2.add(Embedding(input_dim=5000,output_dim=32))\n",
        "model2.add(Bidirectional(LSTM(64)))\n",
        "model2.add(Dense(units=32,activation='relu'))\n",
        "model2.add(Dense(units=1,activation='sigmoid'))"
      ],
      "execution_count": 0,
      "outputs": []
    },
    {
      "cell_type": "code",
      "metadata": {
        "id": "TyGfnPSCxnFi",
        "colab_type": "code",
        "colab": {
          "base_uri": "https://localhost:8080/",
          "height": 297
        },
        "outputId": "df639c52-4a6c-4e7d-b64b-6631fda756f6"
      },
      "source": [
        "model2.summary()"
      ],
      "execution_count": 26,
      "outputs": [
        {
          "output_type": "stream",
          "text": [
            "Model: \"sequential_1\"\n",
            "_________________________________________________________________\n",
            "Layer (type)                 Output Shape              Param #   \n",
            "=================================================================\n",
            "embedding_1 (Embedding)      (None, None, 32)          160000    \n",
            "_________________________________________________________________\n",
            "bidirectional (Bidirectional (None, 128)               49664     \n",
            "_________________________________________________________________\n",
            "dense_2 (Dense)              (None, 32)                4128      \n",
            "_________________________________________________________________\n",
            "dense_3 (Dense)              (None, 1)                 33        \n",
            "=================================================================\n",
            "Total params: 213,825\n",
            "Trainable params: 213,825\n",
            "Non-trainable params: 0\n",
            "_________________________________________________________________\n"
          ],
          "name": "stdout"
        }
      ]
    },
    {
      "cell_type": "code",
      "metadata": {
        "id": "R3xPfqzk1WFP",
        "colab_type": "code",
        "colab": {}
      },
      "source": [
        "model2.compile(optimizer='adam',loss='binary_crossentropy',metrics=['accuracy'])"
      ],
      "execution_count": 0,
      "outputs": []
    },
    {
      "cell_type": "code",
      "metadata": {
        "id": "yxOxMvWjAktx",
        "colab_type": "code",
        "colab": {
          "base_uri": "https://localhost:8080/",
          "height": 367
        },
        "outputId": "61f682fc-0826-4e73-95f5-2d72bca7daec"
      },
      "source": [
        "history=model2.fit(training_padded,y_train,epochs=10,validation_data=(test_padded,y_test))"
      ],
      "execution_count": 28,
      "outputs": [
        {
          "output_type": "stream",
          "text": [
            "Epoch 1/10\n",
            "585/585 [==============================] - 6s 11ms/step - loss: 0.4125 - accuracy: 0.7962 - val_loss: 0.3308 - val_accuracy: 0.8532\n",
            "Epoch 2/10\n",
            "585/585 [==============================] - 6s 10ms/step - loss: 0.2630 - accuracy: 0.8885 - val_loss: 0.3351 - val_accuracy: 0.8570\n",
            "Epoch 3/10\n",
            "585/585 [==============================] - 6s 10ms/step - loss: 0.2027 - accuracy: 0.9160 - val_loss: 0.3630 - val_accuracy: 0.8530\n",
            "Epoch 4/10\n",
            "585/585 [==============================] - 6s 10ms/step - loss: 0.1493 - accuracy: 0.9424 - val_loss: 0.4302 - val_accuracy: 0.8519\n",
            "Epoch 5/10\n",
            "585/585 [==============================] - 6s 10ms/step - loss: 0.1149 - accuracy: 0.9564 - val_loss: 0.4978 - val_accuracy: 0.8393\n",
            "Epoch 6/10\n",
            "585/585 [==============================] - 6s 10ms/step - loss: 0.0885 - accuracy: 0.9683 - val_loss: 0.5278 - val_accuracy: 0.8409\n",
            "Epoch 7/10\n",
            "585/585 [==============================] - 6s 10ms/step - loss: 0.0645 - accuracy: 0.9781 - val_loss: 0.6358 - val_accuracy: 0.8371\n",
            "Epoch 8/10\n",
            "585/585 [==============================] - 6s 10ms/step - loss: 0.0483 - accuracy: 0.9827 - val_loss: 0.8114 - val_accuracy: 0.8325\n",
            "Epoch 9/10\n",
            "585/585 [==============================] - 6s 10ms/step - loss: 0.0367 - accuracy: 0.9870 - val_loss: 0.8960 - val_accuracy: 0.8259\n",
            "Epoch 10/10\n",
            "585/585 [==============================] - 6s 10ms/step - loss: 0.0331 - accuracy: 0.9882 - val_loss: 0.8895 - val_accuracy: 0.8279\n"
          ],
          "name": "stdout"
        }
      ]
    },
    {
      "cell_type": "code",
      "metadata": {
        "id": "IXLt2VJwBVnL",
        "colab_type": "code",
        "colab": {
          "base_uri": "https://localhost:8080/",
          "height": 336
        },
        "outputId": "2c8b382a-60ee-44cd-99c1-315d5eca97ac"
      },
      "source": [
        "fig,(ax1,ax2)=plt.subplots(nrows=1,ncols=2,figsize=(20,5))\n",
        "ax1.plot(history.history['accuracy'],label='train_accuracy')\n",
        "ax1.plot(history.history['val_accuracy'],label='test_accuracy')\n",
        "ax1.set_title('Accuracy')\n",
        "ax1.legend()\n",
        "ax2.plot(history.history['loss'],label='train_loss')\n",
        "ax2.plot(history.history['val_loss'],label='test_loss')\n",
        "ax2.set_title('Loss')\n",
        "ax2.legend()\n",
        "plt.show()"
      ],
      "execution_count": 29,
      "outputs": [
        {
          "output_type": "display_data",
          "data": {
            "image/png": "[encoded data removed]",
            "text/plain": [
              "<Figure size 1440x360 with 2 Axes>"
            ]
          },
          "metadata": {
            "tags": [],
            "needs_background": "light"
          }
        }
      ]
    },
    {
      "cell_type": "markdown",
      "metadata": {
        "id": "E9UQJK4bxhju",
        "colab_type": "text"
      },
      "source": [
        "### Bidirectional Multilayer Layer LSTM"
      ]
    },
    {
      "cell_type": "code",
      "metadata": {
        "id": "36G4nGk01W4w",
        "colab_type": "code",
        "colab": {}
      },
      "source": [
        "model3=Sequential()"
      ],
      "execution_count": 0,
      "outputs": []
    },
    {
      "cell_type": "code",
      "metadata": {
        "id": "rpRz90dRxn-D",
        "colab_type": "code",
        "colab": {}
      },
      "source": [
        "model3.add(Embedding(input_dim=5000,output_dim=32))\n",
        "model3.add(Bidirectional(LSTM(64,return_sequences=True)))\n",
        "model3.add(Bidirectional(LSTM(32)))\n",
        "model3.add(Dense(units=64,activation='relu'))\n",
        "model3.add(Dense(units=1,activation='sigmoid'))"
      ],
      "execution_count": 0,
      "outputs": []
    },
    {
      "cell_type": "code",
      "metadata": {
        "id": "RA9CCLrBRLU2",
        "colab_type": "code",
        "colab": {
          "base_uri": "https://localhost:8080/",
          "height": 332
        },
        "outputId": "7bcb6ebc-e8f4-4dc0-cc38-3f14bc388f45"
      },
      "source": [
        "model3.summary()"
      ],
      "execution_count": 36,
      "outputs": [
        {
          "output_type": "stream",
          "text": [
            "Model: \"sequential_2\"\n",
            "_________________________________________________________________\n",
            "Layer (type)                 Output Shape              Param #   \n",
            "=================================================================\n",
            "embedding_2 (Embedding)      (None, None, 32)          160000    \n",
            "_________________________________________________________________\n",
            "bidirectional_1 (Bidirection (None, None, 128)         49664     \n",
            "_________________________________________________________________\n",
            "bidirectional_2 (Bidirection (None, 64)                41216     \n",
            "_________________________________________________________________\n",
            "dense_4 (Dense)              (None, 64)                4160      \n",
            "_________________________________________________________________\n",
            "dense_5 (Dense)              (None, 1)                 65        \n",
            "=================================================================\n",
            "Total params: 255,105\n",
            "Trainable params: 255,105\n",
            "Non-trainable params: 0\n",
            "_________________________________________________________________\n"
          ],
          "name": "stdout"
        }
      ]
    },
    {
      "cell_type": "code",
      "metadata": {
        "id": "yoEPjNgaxoAi",
        "colab_type": "code",
        "colab": {}
      },
      "source": [
        "model3.compile(optimizer='adam',loss='binary_crossentropy',metrics=['accuracy'])"
      ],
      "execution_count": 0,
      "outputs": []
    },
    {
      "cell_type": "code",
      "metadata": {
        "id": "LMqcDn0gxoC-",
        "colab_type": "code",
        "colab": {
          "base_uri": "https://localhost:8080/",
          "height": 367
        },
        "outputId": "ec433c64-a6e6-44a1-dffd-26cbabaa4282"
      },
      "source": [
        "history=model3.fit(training_padded,y_train,epochs=10,validation_data=(test_padded,y_test))"
      ],
      "execution_count": 33,
      "outputs": [
        {
          "output_type": "stream",
          "text": [
            "Epoch 1/10\n",
            "585/585 [==============================] - 9s 16ms/step - loss: 0.4073 - accuracy: 0.8033 - val_loss: 0.3334 - val_accuracy: 0.8551\n",
            "Epoch 2/10\n",
            "585/585 [==============================] - 8s 14ms/step - loss: 0.2533 - accuracy: 0.8939 - val_loss: 0.3313 - val_accuracy: 0.8559\n",
            "Epoch 3/10\n",
            "585/585 [==============================] - 8s 14ms/step - loss: 0.1853 - accuracy: 0.9280 - val_loss: 0.3981 - val_accuracy: 0.8536\n",
            "Epoch 4/10\n",
            "585/585 [==============================] - 8s 14ms/step - loss: 0.1405 - accuracy: 0.9458 - val_loss: 0.4383 - val_accuracy: 0.8418\n",
            "Epoch 5/10\n",
            "585/585 [==============================] - 8s 14ms/step - loss: 0.1037 - accuracy: 0.9631 - val_loss: 0.4785 - val_accuracy: 0.8413\n",
            "Epoch 6/10\n",
            "585/585 [==============================] - 8s 14ms/step - loss: 0.0775 - accuracy: 0.9725 - val_loss: 0.5536 - val_accuracy: 0.8379\n",
            "Epoch 7/10\n",
            "585/585 [==============================] - 8s 15ms/step - loss: 0.0614 - accuracy: 0.9788 - val_loss: 0.6582 - val_accuracy: 0.8330\n",
            "Epoch 8/10\n",
            "585/585 [==============================] - 8s 14ms/step - loss: 0.0466 - accuracy: 0.9838 - val_loss: 0.7414 - val_accuracy: 0.8333\n",
            "Epoch 9/10\n",
            "585/585 [==============================] - 8s 14ms/step - loss: 0.0367 - accuracy: 0.9875 - val_loss: 0.8486 - val_accuracy: 0.8331\n",
            "Epoch 10/10\n",
            "585/585 [==============================] - 9s 15ms/step - loss: 0.0281 - accuracy: 0.9915 - val_loss: 0.8903 - val_accuracy: 0.8240\n"
          ],
          "name": "stdout"
        }
      ]
    },
    {
      "cell_type": "code",
      "metadata": {
        "id": "6gc4pQKvPdpQ",
        "colab_type": "code",
        "colab": {
          "base_uri": "https://localhost:8080/",
          "height": 336
        },
        "outputId": "536e4c28-c1f9-41ad-8f1e-daf1d1e787ce"
      },
      "source": [
        "fig,(ax1,ax2)=plt.subplots(nrows=1,ncols=2,figsize=(20,5))\n",
        "ax1.plot(history.history['accuracy'],label='train_accuracy')\n",
        "ax1.plot(history.history['val_accuracy'],label='test_accuracy')\n",
        "ax1.set_title('Accuracy')\n",
        "ax1.legend()\n",
        "ax2.plot(history.history['loss'],label='train_loss')\n",
        "ax2.plot(history.history['val_loss'],label='test_loss')\n",
        "ax2.set_title('Loss')\n",
        "ax2.legend()\n",
        "plt.show()"
      ],
      "execution_count": 34,
      "outputs": [
        {
          "output_type": "display_data",
          "data": {
            "image/png": "[encoded data removed]",
            "text/plain": [
              "<Figure size 1440x360 with 2 Axes>"
            ]
          },
          "metadata": {
            "tags": [],
            "needs_background": "light"
          }
        }
      ]
    },
    {
      "cell_type": "markdown",
      "metadata": {
        "id": "s5EiIDqIQ15Y",
        "colab_type": "text"
      },
      "source": [
        "### Single Layer LSTM"
      ]
    },
    {
      "cell_type": "code",
      "metadata": {
        "id": "MLUwCYmCQ5q8",
        "colab_type": "code",
        "colab": {}
      },
      "source": [
        "model4=Sequential()"
      ],
      "execution_count": 0,
      "outputs": []
    },
    {
      "cell_type": "code",
      "metadata": {
        "id": "1KHNDRF1Q5tz",
        "colab_type": "code",
        "colab": {}
      },
      "source": [
        "model4.add(Embedding(input_dim=5000,output_dim=32))\n",
        "model4.add(LSTM(62))\n",
        "model4.add(Dense(units=64,activation='relu'))\n",
        "model4.add(Dense(units=1,activation='sigmoid'))"
      ],
      "execution_count": 0,
      "outputs": []
    },
    {
      "cell_type": "code",
      "metadata": {
        "id": "sQdZEWYvRPlN",
        "colab_type": "code",
        "colab": {
          "base_uri": "https://localhost:8080/",
          "height": 297
        },
        "outputId": "63886119-8f41-4b37-ddf0-118ac998856d"
      },
      "source": [
        "model4.summary()"
      ],
      "execution_count": 39,
      "outputs": [
        {
          "output_type": "stream",
          "text": [
            "Model: \"sequential_4\"\n",
            "_________________________________________________________________\n",
            "Layer (type)                 Output Shape              Param #   \n",
            "=================================================================\n",
            "embedding_3 (Embedding)      (None, None, 32)          160000    \n",
            "_________________________________________________________________\n",
            "lstm_3 (LSTM)                (None, 62)                23560     \n",
            "_________________________________________________________________\n",
            "dense_6 (Dense)              (None, 64)                4032      \n",
            "_________________________________________________________________\n",
            "dense_7 (Dense)              (None, 1)                 65        \n",
            "=================================================================\n",
            "Total params: 187,657\n",
            "Trainable params: 187,657\n",
            "Non-trainable params: 0\n",
            "_________________________________________________________________\n"
          ],
          "name": "stdout"
        }
      ]
    },
    {
      "cell_type": "code",
      "metadata": {
        "id": "SpvrCjzNQ5oW",
        "colab_type": "code",
        "colab": {}
      },
      "source": [
        "model4.compile(optimizer='adam',loss='binary_crossentropy',metrics=['accuracy'])"
      ],
      "execution_count": 0,
      "outputs": []
    },
    {
      "cell_type": "code",
      "metadata": {
        "id": "HJBIRrldRRAP",
        "colab_type": "code",
        "colab": {
          "base_uri": "https://localhost:8080/",
          "height": 367
        },
        "outputId": "eba94f40-a4a0-4273-cc74-34fc62c1d409"
      },
      "source": [
        "history=model4.fit(training_padded,y_train,epochs=10,validation_data=(test_padded,y_test))"
      ],
      "execution_count": 41,
      "outputs": [
        {
          "output_type": "stream",
          "text": [
            "Epoch 1/10\n",
            "585/585 [==============================] - 5s 8ms/step - loss: 0.4504 - accuracy: 0.7753 - val_loss: 0.3676 - val_accuracy: 0.8444\n",
            "Epoch 2/10\n",
            "585/585 [==============================] - 4s 8ms/step - loss: 0.2879 - accuracy: 0.8817 - val_loss: 0.3823 - val_accuracy: 0.8418\n",
            "Epoch 3/10\n",
            "585/585 [==============================] - 4s 8ms/step - loss: 0.2426 - accuracy: 0.9005 - val_loss: 0.3642 - val_accuracy: 0.8480\n",
            "Epoch 4/10\n",
            "585/585 [==============================] - 4s 8ms/step - loss: 0.2116 - accuracy: 0.9138 - val_loss: 0.4071 - val_accuracy: 0.8409\n",
            "Epoch 5/10\n",
            "585/585 [==============================] - 4s 7ms/step - loss: 0.1749 - accuracy: 0.9237 - val_loss: 0.4851 - val_accuracy: 0.8330\n",
            "Epoch 6/10\n",
            "585/585 [==============================] - 4s 7ms/step - loss: 0.1541 - accuracy: 0.9311 - val_loss: 0.4983 - val_accuracy: 0.8361\n",
            "Epoch 7/10\n",
            "585/585 [==============================] - 4s 7ms/step - loss: 0.1340 - accuracy: 0.9375 - val_loss: 0.5068 - val_accuracy: 0.8368\n",
            "Epoch 8/10\n",
            "585/585 [==============================] - 4s 7ms/step - loss: 0.1213 - accuracy: 0.9426 - val_loss: 0.6429 - val_accuracy: 0.8308\n",
            "Epoch 9/10\n",
            "585/585 [==============================] - 4s 7ms/step - loss: 0.1106 - accuracy: 0.9459 - val_loss: 0.5813 - val_accuracy: 0.8323\n",
            "Epoch 10/10\n",
            "585/585 [==============================] - 4s 7ms/step - loss: 0.1001 - accuracy: 0.9536 - val_loss: 0.5735 - val_accuracy: 0.8277\n"
          ],
          "name": "stdout"
        }
      ]
    },
    {
      "cell_type": "code",
      "metadata": {
        "id": "SYRfNC2uRT4p",
        "colab_type": "code",
        "colab": {
          "base_uri": "https://localhost:8080/",
          "height": 336
        },
        "outputId": "7b02c3ba-aa03-45a4-bc04-5cb526c2c396"
      },
      "source": [
        "fig,(ax1,ax2)=plt.subplots(nrows=1,ncols=2,figsize=(20,5))\n",
        "ax1.plot(history.history['accuracy'],label='train_accuracy')\n",
        "ax1.plot(history.history['val_accuracy'],label='test_accuracy')\n",
        "ax1.set_title('Accuracy')\n",
        "ax1.legend()\n",
        "ax2.plot(history.history['loss'],label='train_loss')\n",
        "ax2.plot(history.history['val_loss'],label='test_loss')\n",
        "ax2.set_title('Loss')\n",
        "ax2.legend()\n",
        "plt.show()"
      ],
      "execution_count": 42,
      "outputs": [
        {
          "output_type": "display_data",
          "data": {
            "image/png": "[encoded data removed]",
            "text/plain": [
              "<Figure size 1440x360 with 2 Axes>"
            ]
          },
          "metadata": {
            "tags": [],
            "needs_background": "light"
          }
        }
      ]
    }
  ]
}