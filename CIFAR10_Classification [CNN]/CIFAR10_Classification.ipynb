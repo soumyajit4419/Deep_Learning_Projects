{
  "nbformat": 4,
  "nbformat_minor": 0,
  "metadata": {
    "colab": {
      "name": "CIFAR10_Classification.ipynb",
      "provenance": [],
      "collapsed_sections": []
    },
    "kernelspec": {
      "name": "python3",
      "display_name": "Python 3"
    },
    "accelerator": "GPU"
  },
  "cells": [
    {
      "cell_type": "markdown",
      "metadata": {
        "id": "nMJQmxqXEUF9",
        "colab_type": "text"
      },
      "source": [
        "### Importing Libraries"
      ]
    },
    {
      "cell_type": "code",
      "metadata": {
        "id": "nlLA6Hu_CfkH",
        "colab_type": "code",
        "colab": {}
      },
      "source": [
        "import pandas as pd\n",
        "import numpy as np\n",
        "import seaborn as sns\n",
        "import matplotlib.pyplot as plt"
      ],
      "execution_count": 0,
      "outputs": []
    },
    {
      "cell_type": "code",
      "metadata": {
        "id": "sp5s2NqmDTHw",
        "colab_type": "code",
        "outputId": "e2df929c-df03-4583-d361-3888644e8994",
        "colab": {
          "base_uri": "https://localhost:8080/",
          "height": 34
        }
      },
      "source": [
        "import tensorflow as tf\n",
        "tf.__version__"
      ],
      "execution_count": 22,
      "outputs": [
        {
          "output_type": "execute_result",
          "data": {
            "text/plain": [
              "'2.2.0-rc3'"
            ]
          },
          "metadata": {
            "tags": []
          },
          "execution_count": 22
        }
      ]
    },
    {
      "cell_type": "code",
      "metadata": {
        "id": "_MLRDLfEDlDe",
        "colab_type": "code",
        "colab": {}
      },
      "source": [
        "from tensorflow.keras.models import Sequential\n",
        "from tensorflow.keras.layers import Dense,Flatten\n",
        "from tensorflow.keras.layers import Convolution2D\n",
        "from tensorflow.keras.layers import MaxPooling2D,Dropout,BatchNormalization\n",
        "from tensorflow.keras.preprocessing.image import ImageDataGenerator"
      ],
      "execution_count": 0,
      "outputs": []
    },
    {
      "cell_type": "code",
      "metadata": {
        "id": "0Oo4gs8LHtBV",
        "colab_type": "code",
        "colab": {}
      },
      "source": [
        "from keras.datasets import cifar10\n",
        "(x_train, y_train), (x_test, y_test) = cifar10.load_data()"
      ],
      "execution_count": 0,
      "outputs": []
    },
    {
      "cell_type": "code",
      "metadata": {
        "id": "9jxrZaSv8gmd",
        "colab_type": "code",
        "colab": {
          "base_uri": "https://localhost:8080/",
          "height": 34
        },
        "outputId": "678c1a18-1170-4501-97fc-82601a438e23"
      },
      "source": [
        "y_train.shape"
      ],
      "execution_count": 25,
      "outputs": [
        {
          "output_type": "execute_result",
          "data": {
            "text/plain": [
              "(50000, 1)"
            ]
          },
          "metadata": {
            "tags": []
          },
          "execution_count": 25
        }
      ]
    },
    {
      "cell_type": "code",
      "metadata": {
        "id": "ETk1TOtV8uuh",
        "colab_type": "code",
        "colab": {
          "base_uri": "https://localhost:8080/",
          "height": 34
        },
        "outputId": "a67d15c2-7c93-4d6f-c637-91aff70f549d"
      },
      "source": [
        "y_train[0]"
      ],
      "execution_count": 26,
      "outputs": [
        {
          "output_type": "execute_result",
          "data": {
            "text/plain": [
              "array([6], dtype=uint8)"
            ]
          },
          "metadata": {
            "tags": []
          },
          "execution_count": 26
        }
      ]
    },
    {
      "cell_type": "code",
      "metadata": {
        "id": "2DWj9r659Z05",
        "colab_type": "code",
        "colab": {
          "base_uri": "https://localhost:8080/",
          "height": 87
        },
        "outputId": "45544ba1-fa81-48d5-e1ba-fb51431b9fd5"
      },
      "source": [
        "print(x_train.shape)\n",
        "print(x_test.shape)\n",
        "print(y_train.shape)\n",
        "print(y_test.shape)\n"
      ],
      "execution_count": 27,
      "outputs": [
        {
          "output_type": "stream",
          "text": [
            "(50000, 32, 32, 3)\n",
            "(10000, 32, 32, 3)\n",
            "(50000, 1)\n",
            "(10000, 1)\n"
          ],
          "name": "stdout"
        }
      ]
    },
    {
      "cell_type": "markdown",
      "metadata": {
        "id": "dy4YSU9lMQac",
        "colab_type": "text"
      },
      "source": [
        "### Building the model\n"
      ]
    },
    {
      "cell_type": "code",
      "metadata": {
        "id": "zOlUFU1-JoI3",
        "colab_type": "code",
        "colab": {}
      },
      "source": [
        "model=Sequential()"
      ],
      "execution_count": 0,
      "outputs": []
    },
    {
      "cell_type": "code",
      "metadata": {
        "id": "5jl52mIs6R6E",
        "colab_type": "code",
        "colab": {}
      },
      "source": [
        "model.add(BatchNormalization(input_shape = (32,32,3)))"
      ],
      "execution_count": 0,
      "outputs": []
    },
    {
      "cell_type": "code",
      "metadata": {
        "id": "1Sjin_soMmtM",
        "colab_type": "code",
        "colab": {}
      },
      "source": [
        "model.add(Convolution2D(32,3,3,input_shape=(32,32,3),activation='relu',padding='same'))"
      ],
      "execution_count": 0,
      "outputs": []
    },
    {
      "cell_type": "code",
      "metadata": {
        "id": "Dje-97H4aF8N",
        "colab_type": "code",
        "colab": {}
      },
      "source": [
        "model.add(MaxPooling2D(pool_size=(2,2),padding='valid'))"
      ],
      "execution_count": 0,
      "outputs": []
    },
    {
      "cell_type": "code",
      "metadata": {
        "id": "1zggfZOM280O",
        "colab_type": "code",
        "colab": {}
      },
      "source": [
        "model.add(Dropout(0.2))"
      ],
      "execution_count": 0,
      "outputs": []
    },
    {
      "cell_type": "code",
      "metadata": {
        "id": "7koGvu5bE_CM",
        "colab_type": "code",
        "colab": {}
      },
      "source": [
        "model.add(Convolution2D(64,3,3,activation='relu',padding='same'))"
      ],
      "execution_count": 0,
      "outputs": []
    },
    {
      "cell_type": "code",
      "metadata": {
        "id": "X55lIncUE_mK",
        "colab_type": "code",
        "colab": {}
      },
      "source": [
        "model.add(MaxPooling2D(pool_size=(2,2),padding='valid'))"
      ],
      "execution_count": 0,
      "outputs": []
    },
    {
      "cell_type": "code",
      "metadata": {
        "id": "FTPyvPGy2_PB",
        "colab_type": "code",
        "colab": {}
      },
      "source": [
        "model.add(Dropout(0.2))"
      ],
      "execution_count": 0,
      "outputs": []
    },
    {
      "cell_type": "code",
      "metadata": {
        "id": "R_LU-s4LWNJz",
        "colab_type": "code",
        "colab": {}
      },
      "source": [
        "model.add(Flatten())"
      ],
      "execution_count": 0,
      "outputs": []
    },
    {
      "cell_type": "code",
      "metadata": {
        "id": "dLD00R5QNery",
        "colab_type": "code",
        "colab": {}
      },
      "source": [
        "model.add(Dense(units=128,activation='relu'))\n",
        "model.add(Dense(units=10,activation='softmax'))"
      ],
      "execution_count": 0,
      "outputs": []
    },
    {
      "cell_type": "code",
      "metadata": {
        "id": "jO1pNce0VUQ4",
        "colab_type": "code",
        "colab": {}
      },
      "source": [
        "model.compile(optimizer='adam',loss='sparse_categorical_crossentropy',metrics=['accuracy'])"
      ],
      "execution_count": 0,
      "outputs": []
    },
    {
      "cell_type": "code",
      "metadata": {
        "id": "uvM-aeKgVoye",
        "colab_type": "code",
        "outputId": "102b0055-198b-473e-84c7-b1ae1c73f510",
        "colab": {
          "base_uri": "https://localhost:8080/",
          "height": 507
        }
      },
      "source": [
        "model.summary()"
      ],
      "execution_count": 39,
      "outputs": [
        {
          "output_type": "stream",
          "text": [
            "Model: \"sequential_1\"\n",
            "_________________________________________________________________\n",
            "Layer (type)                 Output Shape              Param #   \n",
            "=================================================================\n",
            "batch_normalization_1 (Batch (None, 32, 32, 3)         12        \n",
            "_________________________________________________________________\n",
            "conv2d_2 (Conv2D)            (None, 11, 11, 32)        896       \n",
            "_________________________________________________________________\n",
            "max_pooling2d_2 (MaxPooling2 (None, 5, 5, 32)          0         \n",
            "_________________________________________________________________\n",
            "dropout_2 (Dropout)          (None, 5, 5, 32)          0         \n",
            "_________________________________________________________________\n",
            "conv2d_3 (Conv2D)            (None, 2, 2, 64)          18496     \n",
            "_________________________________________________________________\n",
            "max_pooling2d_3 (MaxPooling2 (None, 1, 1, 64)          0         \n",
            "_________________________________________________________________\n",
            "dropout_3 (Dropout)          (None, 1, 1, 64)          0         \n",
            "_________________________________________________________________\n",
            "flatten_1 (Flatten)          (None, 64)                0         \n",
            "_________________________________________________________________\n",
            "dense_2 (Dense)              (None, 128)               8320      \n",
            "_________________________________________________________________\n",
            "dense_3 (Dense)              (None, 10)                1290      \n",
            "=================================================================\n",
            "Total params: 29,014\n",
            "Trainable params: 29,008\n",
            "Non-trainable params: 6\n",
            "_________________________________________________________________\n"
          ],
          "name": "stdout"
        }
      ]
    },
    {
      "cell_type": "markdown",
      "metadata": {
        "id": "igrHnkTN20G3",
        "colab_type": "text"
      },
      "source": [
        "### Image Preprocessing\n"
      ]
    },
    {
      "cell_type": "code",
      "metadata": {
        "id": "lwSqhjY4qs4M",
        "colab_type": "code",
        "outputId": "40db0a3c-9bfa-4eb1-edce-966a30791342",
        "colab": {
          "base_uri": "https://localhost:8080/",
          "height": 909
        }
      },
      "source": [
        "model.fit(x_train,y_train,batch_size=32,epochs=25,validation_data=(x_test,y_test))"
      ],
      "execution_count": 40,
      "outputs": [
        {
          "output_type": "stream",
          "text": [
            "Epoch 1/25\n",
            "1563/1563 [==============================] - 5s 3ms/step - loss: 1.7187 - accuracy: 0.3755 - val_loss: 1.4251 - val_accuracy: 0.4855\n",
            "Epoch 2/25\n",
            "1563/1563 [==============================] - 5s 3ms/step - loss: 1.4896 - accuracy: 0.4613 - val_loss: 1.3267 - val_accuracy: 0.5263\n",
            "Epoch 3/25\n",
            "1563/1563 [==============================] - 5s 3ms/step - loss: 1.4144 - accuracy: 0.4909 - val_loss: 1.2704 - val_accuracy: 0.5525\n",
            "Epoch 4/25\n",
            "1563/1563 [==============================] - 5s 3ms/step - loss: 1.3614 - accuracy: 0.5120 - val_loss: 1.2379 - val_accuracy: 0.5611\n",
            "Epoch 5/25\n",
            "1563/1563 [==============================] - 5s 3ms/step - loss: 1.3248 - accuracy: 0.5234 - val_loss: 1.2085 - val_accuracy: 0.5744\n",
            "Epoch 6/25\n",
            "1563/1563 [==============================] - 5s 3ms/step - loss: 1.3020 - accuracy: 0.5331 - val_loss: 1.1755 - val_accuracy: 0.5789\n",
            "Epoch 7/25\n",
            "1563/1563 [==============================] - 5s 3ms/step - loss: 1.2807 - accuracy: 0.5431 - val_loss: 1.1507 - val_accuracy: 0.5923\n",
            "Epoch 8/25\n",
            "1563/1563 [==============================] - 5s 3ms/step - loss: 1.2651 - accuracy: 0.5478 - val_loss: 1.1651 - val_accuracy: 0.5946\n",
            "Epoch 9/25\n",
            "1563/1563 [==============================] - 5s 3ms/step - loss: 1.2512 - accuracy: 0.5496 - val_loss: 1.1615 - val_accuracy: 0.5876\n",
            "Epoch 10/25\n",
            "1563/1563 [==============================] - 5s 3ms/step - loss: 1.2428 - accuracy: 0.5555 - val_loss: 1.1200 - val_accuracy: 0.6024\n",
            "Epoch 11/25\n",
            "1563/1563 [==============================] - 5s 3ms/step - loss: 1.2329 - accuracy: 0.5600 - val_loss: 1.1126 - val_accuracy: 0.6055\n",
            "Epoch 12/25\n",
            "1563/1563 [==============================] - 5s 3ms/step - loss: 1.2190 - accuracy: 0.5649 - val_loss: 1.1118 - val_accuracy: 0.6028\n",
            "Epoch 13/25\n",
            "1563/1563 [==============================] - 5s 3ms/step - loss: 1.2174 - accuracy: 0.5654 - val_loss: 1.1180 - val_accuracy: 0.6061\n",
            "Epoch 14/25\n",
            "1563/1563 [==============================] - 5s 3ms/step - loss: 1.2048 - accuracy: 0.5683 - val_loss: 1.1063 - val_accuracy: 0.6052\n",
            "Epoch 15/25\n",
            "1563/1563 [==============================] - 5s 3ms/step - loss: 1.2020 - accuracy: 0.5712 - val_loss: 1.1136 - val_accuracy: 0.6009\n",
            "Epoch 16/25\n",
            "1563/1563 [==============================] - 5s 3ms/step - loss: 1.1975 - accuracy: 0.5701 - val_loss: 1.0951 - val_accuracy: 0.6073\n",
            "Epoch 17/25\n",
            "1563/1563 [==============================] - 5s 3ms/step - loss: 1.1906 - accuracy: 0.5748 - val_loss: 1.0969 - val_accuracy: 0.6090\n",
            "Epoch 18/25\n",
            "1563/1563 [==============================] - 5s 3ms/step - loss: 1.1853 - accuracy: 0.5750 - val_loss: 1.0784 - val_accuracy: 0.6141\n",
            "Epoch 19/25\n",
            "1563/1563 [==============================] - 5s 3ms/step - loss: 1.1808 - accuracy: 0.5757 - val_loss: 1.0935 - val_accuracy: 0.6075\n",
            "Epoch 20/25\n",
            "1563/1563 [==============================] - 5s 3ms/step - loss: 1.1786 - accuracy: 0.5797 - val_loss: 1.0907 - val_accuracy: 0.6119\n",
            "Epoch 21/25\n",
            "1563/1563 [==============================] - 5s 3ms/step - loss: 1.1692 - accuracy: 0.5820 - val_loss: 1.0766 - val_accuracy: 0.6158\n",
            "Epoch 22/25\n",
            "1563/1563 [==============================] - 5s 3ms/step - loss: 1.1681 - accuracy: 0.5819 - val_loss: 1.0689 - val_accuracy: 0.6213\n",
            "Epoch 23/25\n",
            "1563/1563 [==============================] - 5s 3ms/step - loss: 1.1624 - accuracy: 0.5847 - val_loss: 1.0647 - val_accuracy: 0.6217\n",
            "Epoch 24/25\n",
            "1563/1563 [==============================] - 5s 3ms/step - loss: 1.1687 - accuracy: 0.5788 - val_loss: 1.0862 - val_accuracy: 0.6118\n",
            "Epoch 25/25\n",
            "1563/1563 [==============================] - 5s 3ms/step - loss: 1.1619 - accuracy: 0.5839 - val_loss: 1.0702 - val_accuracy: 0.6231\n"
          ],
          "name": "stdout"
        },
        {
          "output_type": "execute_result",
          "data": {
            "text/plain": [
              "<tensorflow.python.keras.callbacks.History at 0x7f528c4a8a90>"
            ]
          },
          "metadata": {
            "tags": []
          },
          "execution_count": 40
        }
      ]
    },
    {
      "cell_type": "markdown",
      "metadata": {
        "id": "Jf9ef710bkUN",
        "colab_type": "text"
      },
      "source": [
        "### Checking Test Accuracy"
      ]
    },
    {
      "cell_type": "code",
      "metadata": {
        "id": "gom26zCUV1_B",
        "colab_type": "code",
        "outputId": "4f6af2eb-32b5-4eab-c790-6cc4781a0841",
        "colab": {
          "base_uri": "https://localhost:8080/",
          "height": 34
        }
      },
      "source": [
        "test_loss, test_accuracy = model.evaluate(x_test, y_test)"
      ],
      "execution_count": 41,
      "outputs": [
        {
          "output_type": "stream",
          "text": [
            "313/313 [==============================] - 1s 2ms/step - loss: 1.0702 - accuracy: 0.6231\n"
          ],
          "name": "stdout"
        }
      ]
    },
    {
      "cell_type": "code",
      "metadata": {
        "id": "5I0JpN1e2lLX",
        "colab_type": "code",
        "outputId": "8836aced-6b66-41ed-b143-5da357dda8bc",
        "colab": {
          "base_uri": "https://localhost:8080/",
          "height": 34
        }
      },
      "source": [
        "test_loss, test_accuracy = model.evaluate(x_train, y_train)"
      ],
      "execution_count": 42,
      "outputs": [
        {
          "output_type": "stream",
          "text": [
            "1563/1563 [==============================] - 3s 2ms/step - loss: 0.9487 - accuracy: 0.6716\n"
          ],
          "name": "stdout"
        }
      ]
    },
    {
      "cell_type": "markdown",
      "metadata": {
        "id": "VEwH3vb3bU_q",
        "colab_type": "text"
      },
      "source": [
        "\n",
        "\n",
        "\n",
        "### Train Accuracy 67% and Test Accuracy is 62%\n"
      ]
    },
    {
      "cell_type": "code",
      "metadata": {
        "id": "Kt1uJAJE4ifj",
        "colab_type": "code",
        "outputId": "e6fefa7c-ec86-41b3-b463-caee1fb9534f",
        "colab": {
          "base_uri": "https://localhost:8080/",
          "height": 34
        }
      },
      "source": [
        "num_classes = len(np.unique(y_train))\n",
        "num_classes"
      ],
      "execution_count": 43,
      "outputs": [
        {
          "output_type": "execute_result",
          "data": {
            "text/plain": [
              "10"
            ]
          },
          "metadata": {
            "tags": []
          },
          "execution_count": 43
        }
      ]
    },
    {
      "cell_type": "markdown",
      "metadata": {
        "id": "kXZJzSuW27ql",
        "colab_type": "text"
      },
      "source": [
        "### Saving and Testing the model"
      ]
    },
    {
      "cell_type": "markdown",
      "metadata": {
        "id": "eE43t9EzOKDm",
        "colab_type": "text"
      },
      "source": [
        "airplane : 0\n",
        "automobile : 1\n",
        "bird : 2\n",
        "cat : 3\n",
        "deer : 4\n",
        "dog : 5\n",
        "frog : 6\n",
        "horse : 7\n",
        "ship : 8\n",
        "truck : 9"
      ]
    },
    {
      "cell_type": "code",
      "metadata": {
        "id": "ihI7NP2A26yF",
        "colab_type": "code",
        "colab": {}
      },
      "source": [
        "model.save('cifar10.h5')"
      ],
      "execution_count": 0,
      "outputs": []
    },
    {
      "cell_type": "code",
      "metadata": {
        "id": "xIqLYb9Y269L",
        "colab_type": "code",
        "colab": {}
      },
      "source": [
        "from tensorflow.keras.models import load_model"
      ],
      "execution_count": 0,
      "outputs": []
    },
    {
      "cell_type": "code",
      "metadata": {
        "id": "T59ugXzo27EV",
        "colab_type": "code",
        "colab": {}
      },
      "source": [
        "classifier=load_model('cifar10.h5')"
      ],
      "execution_count": 0,
      "outputs": []
    },
    {
      "cell_type": "code",
      "metadata": {
        "id": "6w3CaZMg9ZHb",
        "colab_type": "code",
        "outputId": "5b60ff12-3c70-4b6e-9cd6-5549cbbe338d",
        "colab": {
          "base_uri": "https://localhost:8080/",
          "height": 292
        }
      },
      "source": [
        "plt.matshow(x_test[105])"
      ],
      "execution_count": 47,
      "outputs": [
        {
          "output_type": "execute_result",
          "data": {
            "text/plain": [
              "<matplotlib.image.AxesImage at 0x7f528c176240>"
            ]
          },
          "metadata": {
            "tags": []
          },
          "execution_count": 47
        },
        {
          "output_type": "display_data",
          "data": {
            "image/png": "[encoded data removed]",
            "text/plain": [
              "<Figure size 288x288 with 1 Axes>"
            ]
          },
          "metadata": {
            "tags": [],
            "needs_background": "light"
          }
        }
      ]
    },
    {
      "cell_type": "code",
      "metadata": {
        "id": "iesnNZ2P-Ekl",
        "colab_type": "code",
        "colab": {}
      },
      "source": [
        "prediction=model.predict(x_test)"
      ],
      "execution_count": 0,
      "outputs": []
    },
    {
      "cell_type": "code",
      "metadata": {
        "id": "hHEHcgnP97Fw",
        "colab_type": "code",
        "outputId": "27c94b77-e6c4-4d0a-baa2-7b5cb15f343e",
        "colab": {
          "base_uri": "https://localhost:8080/",
          "height": 34
        }
      },
      "source": [
        "pr=prediction[105]\n",
        "np.argmax(pr)"
      ],
      "execution_count": 49,
      "outputs": [
        {
          "output_type": "execute_result",
          "data": {
            "text/plain": [
              "1"
            ]
          },
          "metadata": {
            "tags": []
          },
          "execution_count": 49
        }
      ]
    },
    {
      "cell_type": "code",
      "metadata": {
        "id": "uRia2wU9-gLb",
        "colab_type": "code",
        "outputId": "71003ded-2b19-44b7-c513-6d9e0518c6cd",
        "colab": {
          "base_uri": "https://localhost:8080/",
          "height": 34
        }
      },
      "source": [
        "y_test[105]"
      ],
      "execution_count": 50,
      "outputs": [
        {
          "output_type": "execute_result",
          "data": {
            "text/plain": [
              "array([1])"
            ]
          },
          "metadata": {
            "tags": []
          },
          "execution_count": 50
        }
      ]
    },
    {
      "cell_type": "code",
      "metadata": {
        "id": "kxWLinmSTR0q",
        "colab_type": "code",
        "outputId": "143be720-9800-4405-db30-006ad5e6e949",
        "colab": {
          "base_uri": "https://localhost:8080/",
          "height": 292
        }
      },
      "source": [
        "plt.matshow(x_test[100])"
      ],
      "execution_count": 51,
      "outputs": [
        {
          "output_type": "execute_result",
          "data": {
            "text/plain": [
              "<matplotlib.image.AxesImage at 0x7f528c7c4630>"
            ]
          },
          "metadata": {
            "tags": []
          },
          "execution_count": 51
        },
        {
          "output_type": "display_data",
          "data": {
            "image/png": "[encoded data removed]",
            "text/plain": [
              "<Figure size 288x288 with 1 Axes>"
            ]
          },
          "metadata": {
            "tags": [],
            "needs_background": "light"
          }
        }
      ]
    },
    {
      "cell_type": "code",
      "metadata": {
        "id": "Ajk-0kXITd7b",
        "colab_type": "code",
        "outputId": "fc98bdce-adb3-4eb0-f7e2-bb06ce100408",
        "colab": {
          "base_uri": "https://localhost:8080/",
          "height": 34
        }
      },
      "source": [
        "pr=prediction[100]\n",
        "np.argmax(pr)"
      ],
      "execution_count": 52,
      "outputs": [
        {
          "output_type": "execute_result",
          "data": {
            "text/plain": [
              "4"
            ]
          },
          "metadata": {
            "tags": []
          },
          "execution_count": 52
        }
      ]
    },
    {
      "cell_type": "code",
      "metadata": {
        "id": "lsrRhWViThUJ",
        "colab_type": "code",
        "outputId": "a1344e9c-f205-4d61-cc93-a62a51894fc0",
        "colab": {
          "base_uri": "https://localhost:8080/",
          "height": 34
        }
      },
      "source": [
        "y_test[100]"
      ],
      "execution_count": 53,
      "outputs": [
        {
          "output_type": "execute_result",
          "data": {
            "text/plain": [
              "array([4])"
            ]
          },
          "metadata": {
            "tags": []
          },
          "execution_count": 53
        }
      ]
    }
  ]
}