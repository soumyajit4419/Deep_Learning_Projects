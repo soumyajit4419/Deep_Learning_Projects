{
  "nbformat": 4,
  "nbformat_minor": 0,
  "metadata": {
    "colab": {
      "name": "Cifar10 transfer learning.ipynb",
      "provenance": [],
      "collapsed_sections": []
    },
    "kernelspec": {
      "name": "python3",
      "display_name": "Python 3"
    },
    "accelerator": "GPU"
  },
  "cells": [
    {
      "cell_type": "markdown",
      "metadata": {
        "id": "Kv6HK1VD3esr",
        "colab_type": "text"
      },
      "source": [
        "## Import Libraries And Load Dataset\n",
        "\n"
      ]
    },
    {
      "cell_type": "code",
      "metadata": {
        "id": "1X5Y1kJExxqm",
        "colab_type": "code",
        "colab": {}
      },
      "source": [
        "import pandas as pd\n",
        "import numpy as np\n",
        "import matplotlib.pyplot as plt"
      ],
      "execution_count": 0,
      "outputs": []
    },
    {
      "cell_type": "code",
      "metadata": {
        "id": "jShaRSf22TfV",
        "colab_type": "code",
        "colab": {}
      },
      "source": [
        "from tensorflow.keras.layers import Dense,Flatten,Dropout\n",
        "from tensorflow.keras.models import Model\n",
        "from tensorflow.keras.preprocessing import image\n",
        "from tensorflow.keras.preprocessing.image import ImageDataGenerator\n",
        "from tensorflow.keras.optimizers import Adam\n",
        "from tensorflow.keras.optimizers import SGD\n",
        "import tensorflow.keras.utils as ku\n",
        "from tensorflow.keras.applications.vgg19 import VGG19\n",
        "from tensorflow.keras.applications.vgg19 import preprocess_input\n",
        "from tensorflow.keras.callbacks import ReduceLROnPlateau"
      ],
      "execution_count": 0,
      "outputs": []
    },
    {
      "cell_type": "code",
      "metadata": {
        "id": "nqzbRwiyyA3Q",
        "colab_type": "code",
        "outputId": "f56756bf-7bf2-411f-ddc2-795da880bff5",
        "colab": {
          "base_uri": "https://localhost:8080/",
          "height": 34
        }
      },
      "source": [
        "import tensorflow as tf\n",
        "tf.__version__"
      ],
      "execution_count": 3,
      "outputs": [
        {
          "output_type": "execute_result",
          "data": {
            "text/plain": [
              "'2.2.0-rc4'"
            ]
          },
          "metadata": {
            "tags": []
          },
          "execution_count": 3
        }
      ]
    },
    {
      "cell_type": "code",
      "metadata": {
        "id": "G7-HMZX41XRN",
        "colab_type": "code",
        "colab": {}
      },
      "source": [
        "from tensorflow.keras.datasets import cifar10"
      ],
      "execution_count": 0,
      "outputs": []
    },
    {
      "cell_type": "code",
      "metadata": {
        "id": "UbH8OVaE1gIm",
        "colab_type": "code",
        "colab": {}
      },
      "source": [
        "(x_train, y_train), (x_test, y_test) = cifar10.load_data()"
      ],
      "execution_count": 0,
      "outputs": []
    },
    {
      "cell_type": "markdown",
      "metadata": {
        "id": "uMIW-rRK3V2O",
        "colab_type": "text"
      },
      "source": [
        "## Prepare The Dataset\n",
        "\n"
      ]
    },
    {
      "cell_type": "code",
      "metadata": {
        "id": "oGjsRyUh1s7u",
        "colab_type": "code",
        "outputId": "248de1aa-93ff-4ec2-c472-5069bd744852",
        "colab": {
          "base_uri": "https://localhost:8080/",
          "height": 87
        }
      },
      "source": [
        "print(x_train.shape)\n",
        "print(y_train.shape)\n",
        "print(x_test.shape)\n",
        "print(y_test.shape)"
      ],
      "execution_count": 6,
      "outputs": [
        {
          "output_type": "stream",
          "text": [
            "(50000, 32, 32, 3)\n",
            "(50000, 1)\n",
            "(10000, 32, 32, 3)\n",
            "(10000, 1)\n"
          ],
          "name": "stdout"
        }
      ]
    },
    {
      "cell_type": "code",
      "metadata": {
        "id": "BSzP0QFBRw8V",
        "colab_type": "code",
        "colab": {}
      },
      "source": [
        "x_train=x_train/255\n",
        "x_test=x_test/255"
      ],
      "execution_count": 0,
      "outputs": []
    },
    {
      "cell_type": "code",
      "metadata": {
        "id": "8h1VbZuwRcZ1",
        "colab_type": "code",
        "colab": {}
      },
      "source": [
        "y_train = ku.to_categorical(y_train, 10)\n",
        "y_test = ku.to_categorical(y_test, 10)"
      ],
      "execution_count": 0,
      "outputs": []
    },
    {
      "cell_type": "markdown",
      "metadata": {
        "id": "GVIYHzAT54WA",
        "colab_type": "text"
      },
      "source": [
        "## Building Transfer Learning Models"
      ]
    },
    {
      "cell_type": "code",
      "metadata": {
        "id": "m0tEZY__D17x",
        "colab_type": "code",
        "colab": {}
      },
      "source": [
        "vgg = VGG19(input_shape=(32,32,3), weights='imagenet', include_top=False)"
      ],
      "execution_count": 0,
      "outputs": []
    },
    {
      "cell_type": "code",
      "metadata": {
        "id": "dVOR8tjWD4IR",
        "colab_type": "code",
        "colab": {}
      },
      "source": [
        "for layer in vgg.layers:\n",
        "  layer.trainable = False"
      ],
      "execution_count": 0,
      "outputs": []
    },
    {
      "cell_type": "code",
      "metadata": {
        "id": "oijnO8b2D_8x",
        "colab_type": "code",
        "colab": {}
      },
      "source": [
        "x = Flatten()(vgg.output)"
      ],
      "execution_count": 0,
      "outputs": []
    },
    {
      "cell_type": "code",
      "metadata": {
        "id": "58ynob-xEYx7",
        "colab_type": "code",
        "colab": {}
      },
      "source": [
        "x=Dense(units=1024,activation='relu')(x)\n",
        "x=Dense(units=512,activation='relu')(x)\n",
        "x=Dropout(0.3)(x)\n",
        "x=Dense(units=256,activation='relu')(x)\n",
        "x=Dropout(0.2)(x)\n",
        "x=Dense(units=128,activation='relu')(x)\n",
        "prediction = Dense(units=10, activation='softmax')(x)"
      ],
      "execution_count": 0,
      "outputs": []
    },
    {
      "cell_type": "code",
      "metadata": {
        "id": "tm8IaqyKEhp_",
        "colab_type": "code",
        "colab": {}
      },
      "source": [
        "model = Model(inputs=vgg.input, outputs=prediction)"
      ],
      "execution_count": 0,
      "outputs": []
    },
    {
      "cell_type": "code",
      "metadata": {
        "id": "ytO5m1dPElRd",
        "colab_type": "code",
        "outputId": "924df061-2024-4f25-e026-c4d819afa04c",
        "colab": {
          "base_uri": "https://localhost:8080/",
          "height": 1000
        }
      },
      "source": [
        "model.summary()"
      ],
      "execution_count": 14,
      "outputs": [
        {
          "output_type": "stream",
          "text": [
            "Model: \"model\"\n",
            "_________________________________________________________________\n",
            "Layer (type)                 Output Shape              Param #   \n",
            "=================================================================\n",
            "input_1 (InputLayer)         [(None, 32, 32, 3)]       0         \n",
            "_________________________________________________________________\n",
            "block1_conv1 (Conv2D)        (None, 32, 32, 64)        1792      \n",
            "_________________________________________________________________\n",
            "block1_conv2 (Conv2D)        (None, 32, 32, 64)        36928     \n",
            "_________________________________________________________________\n",
            "block1_pool (MaxPooling2D)   (None, 16, 16, 64)        0         \n",
            "_________________________________________________________________\n",
            "block2_conv1 (Conv2D)        (None, 16, 16, 128)       73856     \n",
            "_________________________________________________________________\n",
            "block2_conv2 (Conv2D)        (None, 16, 16, 128)       147584    \n",
            "_________________________________________________________________\n",
            "block2_pool (MaxPooling2D)   (None, 8, 8, 128)         0         \n",
            "_________________________________________________________________\n",
            "block3_conv1 (Conv2D)        (None, 8, 8, 256)         295168    \n",
            "_________________________________________________________________\n",
            "block3_conv2 (Conv2D)        (None, 8, 8, 256)         590080    \n",
            "_________________________________________________________________\n",
            "block3_conv3 (Conv2D)        (None, 8, 8, 256)         590080    \n",
            "_________________________________________________________________\n",
            "block3_conv4 (Conv2D)        (None, 8, 8, 256)         590080    \n",
            "_________________________________________________________________\n",
            "block3_pool (MaxPooling2D)   (None, 4, 4, 256)         0         \n",
            "_________________________________________________________________\n",
            "block4_conv1 (Conv2D)        (None, 4, 4, 512)         1180160   \n",
            "_________________________________________________________________\n",
            "block4_conv2 (Conv2D)        (None, 4, 4, 512)         2359808   \n",
            "_________________________________________________________________\n",
            "block4_conv3 (Conv2D)        (None, 4, 4, 512)         2359808   \n",
            "_________________________________________________________________\n",
            "block4_conv4 (Conv2D)        (None, 4, 4, 512)         2359808   \n",
            "_________________________________________________________________\n",
            "block4_pool (MaxPooling2D)   (None, 2, 2, 512)         0         \n",
            "_________________________________________________________________\n",
            "block5_conv1 (Conv2D)        (None, 2, 2, 512)         2359808   \n",
            "_________________________________________________________________\n",
            "block5_conv2 (Conv2D)        (None, 2, 2, 512)         2359808   \n",
            "_________________________________________________________________\n",
            "block5_conv3 (Conv2D)        (None, 2, 2, 512)         2359808   \n",
            "_________________________________________________________________\n",
            "block5_conv4 (Conv2D)        (None, 2, 2, 512)         2359808   \n",
            "_________________________________________________________________\n",
            "block5_pool (MaxPooling2D)   (None, 1, 1, 512)         0         \n",
            "_________________________________________________________________\n",
            "flatten (Flatten)            (None, 512)               0         \n",
            "_________________________________________________________________\n",
            "dense (Dense)                (None, 1024)              525312    \n",
            "_________________________________________________________________\n",
            "dense_1 (Dense)              (None, 512)               524800    \n",
            "_________________________________________________________________\n",
            "dropout (Dropout)            (None, 512)               0         \n",
            "_________________________________________________________________\n",
            "dense_2 (Dense)              (None, 256)               131328    \n",
            "_________________________________________________________________\n",
            "dropout_1 (Dropout)          (None, 256)               0         \n",
            "_________________________________________________________________\n",
            "dense_3 (Dense)              (None, 128)               32896     \n",
            "_________________________________________________________________\n",
            "dense_4 (Dense)              (None, 10)                1290      \n",
            "=================================================================\n",
            "Total params: 21,240,010\n",
            "Trainable params: 1,215,626\n",
            "Non-trainable params: 20,024,384\n",
            "_________________________________________________________________\n"
          ],
          "name": "stdout"
        }
      ]
    },
    {
      "cell_type": "code",
      "metadata": {
        "id": "z0617QF9Es4_",
        "colab_type": "code",
        "colab": {}
      },
      "source": [
        "model.compile(loss='categorical_crossentropy',optimizer=Adam(learning_rate=0.001),metrics=['accuracy'])"
      ],
      "execution_count": 0,
      "outputs": []
    },
    {
      "cell_type": "code",
      "metadata": {
        "id": "82OfdfQjPqJ9",
        "colab_type": "code",
        "colab": {}
      },
      "source": [
        "train_datagen = ImageDataGenerator(\n",
        "       horizontal_flip=False,\n",
        "       zoom_range=.1 )\n",
        "\n",
        "\n",
        "train_datagen.fit(x_train)"
      ],
      "execution_count": 0,
      "outputs": []
    },
    {
      "cell_type": "code",
      "metadata": {
        "id": "Lrt2YoKGPxqi",
        "colab_type": "code",
        "colab": {
          "base_uri": "https://localhost:8080/",
          "height": 789
        },
        "outputId": "629d43d0-3add-49ba-9c69-d3359c65e3d9"
      },
      "source": [
        "# fits the model on batches with real-time data augmentation:\n",
        "history=model.fit_generator(train_datagen.flow(x_train, y_train, batch_size=150),\n",
        "                    steps_per_epoch=len(x_train) / 150, epochs=20,\n",
        "                    validation_data=(x_test,y_test),\n",
        "                    validation_steps=len(x_test)/150)"
      ],
      "execution_count": 18,
      "outputs": [
        {
          "output_type": "stream",
          "text": [
            "WARNING:tensorflow:From <ipython-input-18-0acf3f7f477d>:4: Model.fit_generator (from tensorflow.python.keras.engine.training) is deprecated and will be removed in a future version.\n",
            "Instructions for updating:\n",
            "Please use Model.fit, which supports generators.\n",
            "Epoch 1/20\n",
            "334/333 [==============================] - 21s 61ms/step - loss: 1.5399 - accuracy: 0.4506 - val_loss: 1.3481 - val_accuracy: 0.5184\n",
            "Epoch 2/20\n",
            "334/333 [==============================] - 20s 59ms/step - loss: 1.3195 - accuracy: 0.5377 - val_loss: 1.2498 - val_accuracy: 0.5592\n",
            "Epoch 3/20\n",
            "334/333 [==============================] - 20s 60ms/step - loss: 1.2455 - accuracy: 0.5653 - val_loss: 1.2302 - val_accuracy: 0.5744\n",
            "Epoch 4/20\n",
            "334/333 [==============================] - 20s 60ms/step - loss: 1.1958 - accuracy: 0.5821 - val_loss: 1.2225 - val_accuracy: 0.5756\n",
            "Epoch 5/20\n",
            "334/333 [==============================] - 20s 60ms/step - loss: 1.1563 - accuracy: 0.5955 - val_loss: 1.2381 - val_accuracy: 0.5729\n",
            "Epoch 6/20\n",
            "334/333 [==============================] - 20s 59ms/step - loss: 1.1211 - accuracy: 0.6075 - val_loss: 1.1849 - val_accuracy: 0.5855\n",
            "Epoch 7/20\n",
            "334/333 [==============================] - 20s 60ms/step - loss: 1.0828 - accuracy: 0.6209 - val_loss: 1.1601 - val_accuracy: 0.5997\n",
            "Epoch 8/20\n",
            "334/333 [==============================] - 20s 60ms/step - loss: 1.0481 - accuracy: 0.6341 - val_loss: 1.1485 - val_accuracy: 0.6062\n",
            "Epoch 9/20\n",
            "334/333 [==============================] - 20s 60ms/step - loss: 1.0197 - accuracy: 0.6427 - val_loss: 1.1435 - val_accuracy: 0.6096\n",
            "Epoch 10/20\n",
            "334/333 [==============================] - 20s 60ms/step - loss: 1.0002 - accuracy: 0.6480 - val_loss: 1.1401 - val_accuracy: 0.6071\n",
            "Epoch 11/20\n",
            "334/333 [==============================] - 20s 59ms/step - loss: 0.9701 - accuracy: 0.6591 - val_loss: 1.1939 - val_accuracy: 0.5981\n",
            "Epoch 12/20\n",
            "334/333 [==============================] - 20s 60ms/step - loss: 0.9412 - accuracy: 0.6668 - val_loss: 1.1681 - val_accuracy: 0.6050\n",
            "Epoch 13/20\n",
            "334/333 [==============================] - 20s 60ms/step - loss: 0.9176 - accuracy: 0.6775 - val_loss: 1.1582 - val_accuracy: 0.6084\n",
            "Epoch 14/20\n",
            "334/333 [==============================] - 20s 60ms/step - loss: 0.8918 - accuracy: 0.6860 - val_loss: 1.1733 - val_accuracy: 0.6101\n",
            "Epoch 15/20\n",
            "334/333 [==============================] - 20s 59ms/step - loss: 0.8689 - accuracy: 0.6905 - val_loss: 1.1801 - val_accuracy: 0.6115\n",
            "Epoch 16/20\n",
            "334/333 [==============================] - 20s 60ms/step - loss: 0.8438 - accuracy: 0.7005 - val_loss: 1.1718 - val_accuracy: 0.6170\n",
            "Epoch 17/20\n",
            "334/333 [==============================] - 20s 61ms/step - loss: 0.8231 - accuracy: 0.7059 - val_loss: 1.2272 - val_accuracy: 0.6119\n",
            "Epoch 18/20\n",
            "334/333 [==============================] - 20s 60ms/step - loss: 0.8039 - accuracy: 0.7144 - val_loss: 1.2280 - val_accuracy: 0.6076\n",
            "Epoch 19/20\n",
            "334/333 [==============================] - 20s 60ms/step - loss: 0.7800 - accuracy: 0.7235 - val_loss: 1.2340 - val_accuracy: 0.6067\n",
            "Epoch 20/20\n",
            "334/333 [==============================] - 20s 60ms/step - loss: 0.7608 - accuracy: 0.7307 - val_loss: 1.2635 - val_accuracy: 0.6098\n"
          ],
          "name": "stdout"
        }
      ]
    },
    {
      "cell_type": "code",
      "metadata": {
        "id": "qxg6zwexXBMy",
        "colab_type": "code",
        "colab": {
          "base_uri": "https://localhost:8080/",
          "height": 374
        },
        "outputId": "fbc30f8d-05d9-43ff-8034-bdb25805ccaa"
      },
      "source": [
        "fig,(ax1,ax2)=plt.subplots(nrows=1,ncols=2,figsize=(20,6))\n",
        "ax1.plot(history.history['accuracy'],label='train_accuracy')\n",
        "ax1.plot(history.history['val_accuracy'],label='test_accuracy')\n",
        "ax1.legend()\n",
        "ax2.plot(history.history['loss'],label='train_loss')\n",
        "ax2.plot(history.history['val_loss'],label='test_loss')\n",
        "ax2.legend()\n",
        "plt.show()"
      ],
      "execution_count": 19,
      "outputs": [
        {
          "output_type": "display_data",
          "data": {
            "image/png": "[encoded data removed]",
            "text/plain": [
              "<Figure size 1440x432 with 2 Axes>"
            ]
          },
          "metadata": {
            "tags": [],
            "needs_background": "light"
          }
        }
      ]
    }
  ]
}