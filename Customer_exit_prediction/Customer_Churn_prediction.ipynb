{
  "nbformat": 4,
  "nbformat_minor": 0,
  "metadata": {
    "colab": {
      "name": "Customer_Churn_prediction.ipynb",
      "provenance": [],
      "collapsed_sections": [],
      "toc_visible": true
    },
    "kernelspec": {
      "name": "python3",
      "display_name": "Python 3"
    },
    "accelerator": "GPU"
  },
  "cells": [
    {
      "cell_type": "code",
      "metadata": {
        "id": "MRnAFCt4upiY",
        "colab_type": "code",
        "colab": {}
      },
      "source": [
        "import pandas as pd \n",
        "import numpy as np\n",
        "import seaborn as sns\n",
        "import matplotlib.pyplot as plt\n",
        "%matplotlib inline"
      ],
      "execution_count": 0,
      "outputs": []
    },
    {
      "cell_type": "code",
      "metadata": {
        "id": "Ly04ArY7vV-V",
        "colab_type": "code",
        "colab": {}
      },
      "source": [
        "import keras\n",
        "import tensorflow as tf\n",
        "from tensorflow.python.keras import Sequential\n",
        "from tensorflow.python.keras.layers import Dense"
      ],
      "execution_count": 0,
      "outputs": []
    },
    {
      "cell_type": "code",
      "metadata": {
        "id": "10AYyPsWvrSH",
        "colab_type": "code",
        "colab": {}
      },
      "source": [
        "df=pd.read_csv('/content/drive/My Drive/Colab Notebooks/BankCustomers.csv')"
      ],
      "execution_count": 0,
      "outputs": []
    },
    {
      "cell_type": "code",
      "metadata": {
        "id": "MCphKE2KvzV1",
        "colab_type": "code",
        "outputId": "90fb3271-df16-4abb-c0f2-9f595f78a4cf",
        "colab": {
          "base_uri": "https://localhost:8080/",
          "height": 217
        }
      },
      "source": [
        "df.head()"
      ],
      "execution_count": 52,
      "outputs": [
        {
          "output_type": "execute_result",
          "data": {
            "text/html": [
              "<div>\n",
              "<style scoped>\n",
              "    .dataframe tbody tr th:only-of-type {\n",
              "        vertical-align: middle;\n",
              "    }\n",
              "\n",
              "    .dataframe tbody tr th {\n",
              "        vertical-align: top;\n",
              "    }\n",
              "\n",
              "    .dataframe thead th {\n",
              "        text-align: right;\n",
              "    }\n",
              "</style>\n",
              "<table border=\"1\" class=\"dataframe\">\n",
              "  <thead>\n",
              "    <tr style=\"text-align: right;\">\n",
              "      <th></th>\n",
              "      <th>RowNumber</th>\n",
              "      <th>CustomerId</th>\n",
              "      <th>Surname</th>\n",
              "      <th>CreditScore</th>\n",
              "      <th>Geography</th>\n",
              "      <th>Gender</th>\n",
              "      <th>Age</th>\n",
              "      <th>Tenure</th>\n",
              "      <th>Balance</th>\n",
              "      <th>NumOfProducts</th>\n",
              "      <th>HasCrCard</th>\n",
              "      <th>IsActiveMember</th>\n",
              "      <th>EstimatedSalary</th>\n",
              "      <th>Exited</th>\n",
              "    </tr>\n",
              "  </thead>\n",
              "  <tbody>\n",
              "    <tr>\n",
              "      <th>0</th>\n",
              "      <td>1</td>\n",
              "      <td>15634602</td>\n",
              "      <td>Hargrave</td>\n",
              "      <td>619</td>\n",
              "      <td>France</td>\n",
              "      <td>Female</td>\n",
              "      <td>42</td>\n",
              "      <td>2</td>\n",
              "      <td>0.00</td>\n",
              "      <td>1</td>\n",
              "      <td>1</td>\n",
              "      <td>1</td>\n",
              "      <td>101348.88</td>\n",
              "      <td>1</td>\n",
              "    </tr>\n",
              "    <tr>\n",
              "      <th>1</th>\n",
              "      <td>2</td>\n",
              "      <td>15647311</td>\n",
              "      <td>Hill</td>\n",
              "      <td>608</td>\n",
              "      <td>Spain</td>\n",
              "      <td>Female</td>\n",
              "      <td>41</td>\n",
              "      <td>1</td>\n",
              "      <td>83807.86</td>\n",
              "      <td>1</td>\n",
              "      <td>0</td>\n",
              "      <td>1</td>\n",
              "      <td>112542.58</td>\n",
              "      <td>0</td>\n",
              "    </tr>\n",
              "    <tr>\n",
              "      <th>2</th>\n",
              "      <td>3</td>\n",
              "      <td>15619304</td>\n",
              "      <td>Onio</td>\n",
              "      <td>502</td>\n",
              "      <td>France</td>\n",
              "      <td>Female</td>\n",
              "      <td>42</td>\n",
              "      <td>8</td>\n",
              "      <td>159660.80</td>\n",
              "      <td>3</td>\n",
              "      <td>1</td>\n",
              "      <td>0</td>\n",
              "      <td>113931.57</td>\n",
              "      <td>1</td>\n",
              "    </tr>\n",
              "    <tr>\n",
              "      <th>3</th>\n",
              "      <td>4</td>\n",
              "      <td>15701354</td>\n",
              "      <td>Boni</td>\n",
              "      <td>699</td>\n",
              "      <td>France</td>\n",
              "      <td>Female</td>\n",
              "      <td>39</td>\n",
              "      <td>1</td>\n",
              "      <td>0.00</td>\n",
              "      <td>2</td>\n",
              "      <td>0</td>\n",
              "      <td>0</td>\n",
              "      <td>93826.63</td>\n",
              "      <td>0</td>\n",
              "    </tr>\n",
              "    <tr>\n",
              "      <th>4</th>\n",
              "      <td>5</td>\n",
              "      <td>15737888</td>\n",
              "      <td>Mitchell</td>\n",
              "      <td>850</td>\n",
              "      <td>Spain</td>\n",
              "      <td>Female</td>\n",
              "      <td>43</td>\n",
              "      <td>2</td>\n",
              "      <td>125510.82</td>\n",
              "      <td>1</td>\n",
              "      <td>1</td>\n",
              "      <td>1</td>\n",
              "      <td>79084.10</td>\n",
              "      <td>0</td>\n",
              "    </tr>\n",
              "  </tbody>\n",
              "</table>\n",
              "</div>"
            ],
            "text/plain": [
              "   RowNumber  CustomerId   Surname  ...  IsActiveMember EstimatedSalary Exited\n",
              "0          1    15634602  Hargrave  ...               1       101348.88      1\n",
              "1          2    15647311      Hill  ...               1       112542.58      0\n",
              "2          3    15619304      Onio  ...               0       113931.57      1\n",
              "3          4    15701354      Boni  ...               0        93826.63      0\n",
              "4          5    15737888  Mitchell  ...               1        79084.10      0\n",
              "\n",
              "[5 rows x 14 columns]"
            ]
          },
          "metadata": {
            "tags": []
          },
          "execution_count": 52
        }
      ]
    },
    {
      "cell_type": "code",
      "metadata": {
        "id": "eR4URjo4w15i",
        "colab_type": "code",
        "outputId": "6b221f47-3288-4161-a105-34da8a413287",
        "colab": {
          "base_uri": "https://localhost:8080/",
          "height": 34
        }
      },
      "source": [
        "df.shape"
      ],
      "execution_count": 53,
      "outputs": [
        {
          "output_type": "execute_result",
          "data": {
            "text/plain": [
              "(10000, 14)"
            ]
          },
          "metadata": {
            "tags": []
          },
          "execution_count": 53
        }
      ]
    },
    {
      "cell_type": "markdown",
      "metadata": {
        "id": "-sOTK6e3wsaw",
        "colab_type": "text"
      },
      "source": [
        "### EDA and Feature Engineering\n"
      ]
    },
    {
      "cell_type": "code",
      "metadata": {
        "id": "etbC8wqFwZze",
        "colab_type": "code",
        "outputId": "b62187fd-b494-4cdb-a435-64c383c1913a",
        "colab": {
          "base_uri": "https://localhost:8080/",
          "height": 384
        }
      },
      "source": [
        "df.info()"
      ],
      "execution_count": 54,
      "outputs": [
        {
          "output_type": "stream",
          "text": [
            "<class 'pandas.core.frame.DataFrame'>\n",
            "RangeIndex: 10000 entries, 0 to 9999\n",
            "Data columns (total 14 columns):\n",
            " #   Column           Non-Null Count  Dtype  \n",
            "---  ------           --------------  -----  \n",
            " 0   RowNumber        10000 non-null  int64  \n",
            " 1   CustomerId       10000 non-null  int64  \n",
            " 2   Surname          10000 non-null  object \n",
            " 3   CreditScore      10000 non-null  int64  \n",
            " 4   Geography        10000 non-null  object \n",
            " 5   Gender           10000 non-null  object \n",
            " 6   Age              10000 non-null  int64  \n",
            " 7   Tenure           10000 non-null  int64  \n",
            " 8   Balance          10000 non-null  float64\n",
            " 9   NumOfProducts    10000 non-null  int64  \n",
            " 10  HasCrCard        10000 non-null  int64  \n",
            " 11  IsActiveMember   10000 non-null  int64  \n",
            " 12  EstimatedSalary  10000 non-null  float64\n",
            " 13  Exited           10000 non-null  int64  \n",
            "dtypes: float64(2), int64(9), object(3)\n",
            "memory usage: 1.1+ MB\n"
          ],
          "name": "stdout"
        }
      ]
    },
    {
      "cell_type": "code",
      "metadata": {
        "id": "LkSYaCfmxApa",
        "colab_type": "code",
        "outputId": "631fd019-22ab-4c21-c565-a574fe49722c",
        "colab": {
          "base_uri": "https://localhost:8080/",
          "height": 279
        }
      },
      "source": [
        "df.isnull().sum()"
      ],
      "execution_count": 55,
      "outputs": [
        {
          "output_type": "execute_result",
          "data": {
            "text/plain": [
              "RowNumber          0\n",
              "CustomerId         0\n",
              "Surname            0\n",
              "CreditScore        0\n",
              "Geography          0\n",
              "Gender             0\n",
              "Age                0\n",
              "Tenure             0\n",
              "Balance            0\n",
              "NumOfProducts      0\n",
              "HasCrCard          0\n",
              "IsActiveMember     0\n",
              "EstimatedSalary    0\n",
              "Exited             0\n",
              "dtype: int64"
            ]
          },
          "metadata": {
            "tags": []
          },
          "execution_count": 55
        }
      ]
    },
    {
      "cell_type": "code",
      "metadata": {
        "id": "Plg0mr8HxHl5",
        "colab_type": "code",
        "colab": {}
      },
      "source": [
        "# Droping Columns which are not necessary\n",
        "df.drop(['RowNumber','Surname','CustomerId'],axis=1,inplace=True)"
      ],
      "execution_count": 0,
      "outputs": []
    },
    {
      "cell_type": "code",
      "metadata": {
        "id": "NneDB_wExUTZ",
        "colab_type": "code",
        "outputId": "7d3b89e8-8042-443e-eecd-0e71443c73dc",
        "colab": {
          "base_uri": "https://localhost:8080/",
          "height": 197
        }
      },
      "source": [
        "df.head()"
      ],
      "execution_count": 57,
      "outputs": [
        {
          "output_type": "execute_result",
          "data": {
            "text/html": [
              "<div>\n",
              "<style scoped>\n",
              "    .dataframe tbody tr th:only-of-type {\n",
              "        vertical-align: middle;\n",
              "    }\n",
              "\n",
              "    .dataframe tbody tr th {\n",
              "        vertical-align: top;\n",
              "    }\n",
              "\n",
              "    .dataframe thead th {\n",
              "        text-align: right;\n",
              "    }\n",
              "</style>\n",
              "<table border=\"1\" class=\"dataframe\">\n",
              "  <thead>\n",
              "    <tr style=\"text-align: right;\">\n",
              "      <th></th>\n",
              "      <th>CreditScore</th>\n",
              "      <th>Geography</th>\n",
              "      <th>Gender</th>\n",
              "      <th>Age</th>\n",
              "      <th>Tenure</th>\n",
              "      <th>Balance</th>\n",
              "      <th>NumOfProducts</th>\n",
              "      <th>HasCrCard</th>\n",
              "      <th>IsActiveMember</th>\n",
              "      <th>EstimatedSalary</th>\n",
              "      <th>Exited</th>\n",
              "    </tr>\n",
              "  </thead>\n",
              "  <tbody>\n",
              "    <tr>\n",
              "      <th>0</th>\n",
              "      <td>619</td>\n",
              "      <td>France</td>\n",
              "      <td>Female</td>\n",
              "      <td>42</td>\n",
              "      <td>2</td>\n",
              "      <td>0.00</td>\n",
              "      <td>1</td>\n",
              "      <td>1</td>\n",
              "      <td>1</td>\n",
              "      <td>101348.88</td>\n",
              "      <td>1</td>\n",
              "    </tr>\n",
              "    <tr>\n",
              "      <th>1</th>\n",
              "      <td>608</td>\n",
              "      <td>Spain</td>\n",
              "      <td>Female</td>\n",
              "      <td>41</td>\n",
              "      <td>1</td>\n",
              "      <td>83807.86</td>\n",
              "      <td>1</td>\n",
              "      <td>0</td>\n",
              "      <td>1</td>\n",
              "      <td>112542.58</td>\n",
              "      <td>0</td>\n",
              "    </tr>\n",
              "    <tr>\n",
              "      <th>2</th>\n",
              "      <td>502</td>\n",
              "      <td>France</td>\n",
              "      <td>Female</td>\n",
              "      <td>42</td>\n",
              "      <td>8</td>\n",
              "      <td>159660.80</td>\n",
              "      <td>3</td>\n",
              "      <td>1</td>\n",
              "      <td>0</td>\n",
              "      <td>113931.57</td>\n",
              "      <td>1</td>\n",
              "    </tr>\n",
              "    <tr>\n",
              "      <th>3</th>\n",
              "      <td>699</td>\n",
              "      <td>France</td>\n",
              "      <td>Female</td>\n",
              "      <td>39</td>\n",
              "      <td>1</td>\n",
              "      <td>0.00</td>\n",
              "      <td>2</td>\n",
              "      <td>0</td>\n",
              "      <td>0</td>\n",
              "      <td>93826.63</td>\n",
              "      <td>0</td>\n",
              "    </tr>\n",
              "    <tr>\n",
              "      <th>4</th>\n",
              "      <td>850</td>\n",
              "      <td>Spain</td>\n",
              "      <td>Female</td>\n",
              "      <td>43</td>\n",
              "      <td>2</td>\n",
              "      <td>125510.82</td>\n",
              "      <td>1</td>\n",
              "      <td>1</td>\n",
              "      <td>1</td>\n",
              "      <td>79084.10</td>\n",
              "      <td>0</td>\n",
              "    </tr>\n",
              "  </tbody>\n",
              "</table>\n",
              "</div>"
            ],
            "text/plain": [
              "   CreditScore Geography  Gender  ...  IsActiveMember  EstimatedSalary  Exited\n",
              "0          619    France  Female  ...               1        101348.88       1\n",
              "1          608     Spain  Female  ...               1        112542.58       0\n",
              "2          502    France  Female  ...               0        113931.57       1\n",
              "3          699    France  Female  ...               0         93826.63       0\n",
              "4          850     Spain  Female  ...               1         79084.10       0\n",
              "\n",
              "[5 rows x 11 columns]"
            ]
          },
          "metadata": {
            "tags": []
          },
          "execution_count": 57
        }
      ]
    },
    {
      "cell_type": "code",
      "metadata": {
        "id": "ymQQvr2wxtQa",
        "colab_type": "code",
        "outputId": "31283af0-a8bb-4a74-97b9-4dfdf86cce3e",
        "colab": {
          "base_uri": "https://localhost:8080/",
          "height": 87
        }
      },
      "source": [
        "df['Geography'].value_counts()"
      ],
      "execution_count": 58,
      "outputs": [
        {
          "output_type": "execute_result",
          "data": {
            "text/plain": [
              "France     5014\n",
              "Germany    2509\n",
              "Spain      2477\n",
              "Name: Geography, dtype: int64"
            ]
          },
          "metadata": {
            "tags": []
          },
          "execution_count": 58
        }
      ]
    },
    {
      "cell_type": "code",
      "metadata": {
        "id": "o5mxuaIExzyD",
        "colab_type": "code",
        "outputId": "b8af698d-0808-4894-da0a-0a85d15e77b3",
        "colab": {
          "base_uri": "https://localhost:8080/",
          "height": 69
        }
      },
      "source": [
        "df['Gender'].value_counts()"
      ],
      "execution_count": 59,
      "outputs": [
        {
          "output_type": "execute_result",
          "data": {
            "text/plain": [
              "Male      5457\n",
              "Female    4543\n",
              "Name: Gender, dtype: int64"
            ]
          },
          "metadata": {
            "tags": []
          },
          "execution_count": 59
        }
      ]
    },
    {
      "cell_type": "code",
      "metadata": {
        "id": "pRGmAJUuyJUU",
        "colab_type": "code",
        "outputId": "cd354de5-8768-4790-f661-c96f7ceba393",
        "colab": {
          "base_uri": "https://localhost:8080/",
          "height": 122
        }
      },
      "source": [
        "df.groupby('Gender')['Exited'].value_counts()"
      ],
      "execution_count": 60,
      "outputs": [
        {
          "output_type": "execute_result",
          "data": {
            "text/plain": [
              "Gender  Exited\n",
              "Female  0         3404\n",
              "        1         1139\n",
              "Male    0         4559\n",
              "        1          898\n",
              "Name: Exited, dtype: int64"
            ]
          },
          "metadata": {
            "tags": []
          },
          "execution_count": 60
        }
      ]
    },
    {
      "cell_type": "code",
      "metadata": {
        "id": "ZsZJ2lfFyxCL",
        "colab_type": "code",
        "outputId": "07994f86-cb17-46ef-df35-35e46bd197ab",
        "colab": {
          "base_uri": "https://localhost:8080/",
          "height": 157
        }
      },
      "source": [
        "df.groupby('Geography')['Exited'].value_counts()"
      ],
      "execution_count": 61,
      "outputs": [
        {
          "output_type": "execute_result",
          "data": {
            "text/plain": [
              "Geography  Exited\n",
              "France     0         4204\n",
              "           1          810\n",
              "Germany    0         1695\n",
              "           1          814\n",
              "Spain      0         2064\n",
              "           1          413\n",
              "Name: Exited, dtype: int64"
            ]
          },
          "metadata": {
            "tags": []
          },
          "execution_count": 61
        }
      ]
    },
    {
      "cell_type": "code",
      "metadata": {
        "id": "2TvlfgPl6_Kr",
        "colab_type": "code",
        "outputId": "e90ae059-f777-4c78-de4b-46ca9eaf421f",
        "colab": {
          "base_uri": "https://localhost:8080/",
          "height": 69
        }
      },
      "source": [
        "df['Exited'].value_counts()"
      ],
      "execution_count": 62,
      "outputs": [
        {
          "output_type": "execute_result",
          "data": {
            "text/plain": [
              "0    7963\n",
              "1    2037\n",
              "Name: Exited, dtype: int64"
            ]
          },
          "metadata": {
            "tags": []
          },
          "execution_count": 62
        }
      ]
    },
    {
      "cell_type": "markdown",
      "metadata": {
        "id": "hcNsZsQz0iNi",
        "colab_type": "text"
      },
      "source": [
        "### Feature Encoding\n"
      ]
    },
    {
      "cell_type": "code",
      "metadata": {
        "id": "_u4cIrdM0nVC",
        "colab_type": "code",
        "outputId": "529a30e0-accd-4ffd-a3d7-db73ed05a85f",
        "colab": {
          "base_uri": "https://localhost:8080/",
          "height": 407
        }
      },
      "source": [
        "gender=pd.get_dummies(df['Gender'])\n",
        "gender"
      ],
      "execution_count": 63,
      "outputs": [
        {
          "output_type": "execute_result",
          "data": {
            "text/html": [
              "<div>\n",
              "<style scoped>\n",
              "    .dataframe tbody tr th:only-of-type {\n",
              "        vertical-align: middle;\n",
              "    }\n",
              "\n",
              "    .dataframe tbody tr th {\n",
              "        vertical-align: top;\n",
              "    }\n",
              "\n",
              "    .dataframe thead th {\n",
              "        text-align: right;\n",
              "    }\n",
              "</style>\n",
              "<table border=\"1\" class=\"dataframe\">\n",
              "  <thead>\n",
              "    <tr style=\"text-align: right;\">\n",
              "      <th></th>\n",
              "      <th>Female</th>\n",
              "      <th>Male</th>\n",
              "    </tr>\n",
              "  </thead>\n",
              "  <tbody>\n",
              "    <tr>\n",
              "      <th>0</th>\n",
              "      <td>1</td>\n",
              "      <td>0</td>\n",
              "    </tr>\n",
              "    <tr>\n",
              "      <th>1</th>\n",
              "      <td>1</td>\n",
              "      <td>0</td>\n",
              "    </tr>\n",
              "    <tr>\n",
              "      <th>2</th>\n",
              "      <td>1</td>\n",
              "      <td>0</td>\n",
              "    </tr>\n",
              "    <tr>\n",
              "      <th>3</th>\n",
              "      <td>1</td>\n",
              "      <td>0</td>\n",
              "    </tr>\n",
              "    <tr>\n",
              "      <th>4</th>\n",
              "      <td>1</td>\n",
              "      <td>0</td>\n",
              "    </tr>\n",
              "    <tr>\n",
              "      <th>...</th>\n",
              "      <td>...</td>\n",
              "      <td>...</td>\n",
              "    </tr>\n",
              "    <tr>\n",
              "      <th>9995</th>\n",
              "      <td>0</td>\n",
              "      <td>1</td>\n",
              "    </tr>\n",
              "    <tr>\n",
              "      <th>9996</th>\n",
              "      <td>0</td>\n",
              "      <td>1</td>\n",
              "    </tr>\n",
              "    <tr>\n",
              "      <th>9997</th>\n",
              "      <td>1</td>\n",
              "      <td>0</td>\n",
              "    </tr>\n",
              "    <tr>\n",
              "      <th>9998</th>\n",
              "      <td>0</td>\n",
              "      <td>1</td>\n",
              "    </tr>\n",
              "    <tr>\n",
              "      <th>9999</th>\n",
              "      <td>1</td>\n",
              "      <td>0</td>\n",
              "    </tr>\n",
              "  </tbody>\n",
              "</table>\n",
              "<p>10000 rows × 2 columns</p>\n",
              "</div>"
            ],
            "text/plain": [
              "      Female  Male\n",
              "0          1     0\n",
              "1          1     0\n",
              "2          1     0\n",
              "3          1     0\n",
              "4          1     0\n",
              "...      ...   ...\n",
              "9995       0     1\n",
              "9996       0     1\n",
              "9997       1     0\n",
              "9998       0     1\n",
              "9999       1     0\n",
              "\n",
              "[10000 rows x 2 columns]"
            ]
          },
          "metadata": {
            "tags": []
          },
          "execution_count": 63
        }
      ]
    },
    {
      "cell_type": "code",
      "metadata": {
        "id": "xdiITJoq06aU",
        "colab_type": "code",
        "outputId": "a0a195ff-21d0-4cf9-cde9-7a8e42ecdfc6",
        "colab": {
          "base_uri": "https://localhost:8080/",
          "height": 407
        }
      },
      "source": [
        "location=pd.get_dummies(df['Geography'])\n",
        "location"
      ],
      "execution_count": 64,
      "outputs": [
        {
          "output_type": "execute_result",
          "data": {
            "text/html": [
              "<div>\n",
              "<style scoped>\n",
              "    .dataframe tbody tr th:only-of-type {\n",
              "        vertical-align: middle;\n",
              "    }\n",
              "\n",
              "    .dataframe tbody tr th {\n",
              "        vertical-align: top;\n",
              "    }\n",
              "\n",
              "    .dataframe thead th {\n",
              "        text-align: right;\n",
              "    }\n",
              "</style>\n",
              "<table border=\"1\" class=\"dataframe\">\n",
              "  <thead>\n",
              "    <tr style=\"text-align: right;\">\n",
              "      <th></th>\n",
              "      <th>France</th>\n",
              "      <th>Germany</th>\n",
              "      <th>Spain</th>\n",
              "    </tr>\n",
              "  </thead>\n",
              "  <tbody>\n",
              "    <tr>\n",
              "      <th>0</th>\n",
              "      <td>1</td>\n",
              "      <td>0</td>\n",
              "      <td>0</td>\n",
              "    </tr>\n",
              "    <tr>\n",
              "      <th>1</th>\n",
              "      <td>0</td>\n",
              "      <td>0</td>\n",
              "      <td>1</td>\n",
              "    </tr>\n",
              "    <tr>\n",
              "      <th>2</th>\n",
              "      <td>1</td>\n",
              "      <td>0</td>\n",
              "      <td>0</td>\n",
              "    </tr>\n",
              "    <tr>\n",
              "      <th>3</th>\n",
              "      <td>1</td>\n",
              "      <td>0</td>\n",
              "      <td>0</td>\n",
              "    </tr>\n",
              "    <tr>\n",
              "      <th>4</th>\n",
              "      <td>0</td>\n",
              "      <td>0</td>\n",
              "      <td>1</td>\n",
              "    </tr>\n",
              "    <tr>\n",
              "      <th>...</th>\n",
              "      <td>...</td>\n",
              "      <td>...</td>\n",
              "      <td>...</td>\n",
              "    </tr>\n",
              "    <tr>\n",
              "      <th>9995</th>\n",
              "      <td>1</td>\n",
              "      <td>0</td>\n",
              "      <td>0</td>\n",
              "    </tr>\n",
              "    <tr>\n",
              "      <th>9996</th>\n",
              "      <td>1</td>\n",
              "      <td>0</td>\n",
              "      <td>0</td>\n",
              "    </tr>\n",
              "    <tr>\n",
              "      <th>9997</th>\n",
              "      <td>1</td>\n",
              "      <td>0</td>\n",
              "      <td>0</td>\n",
              "    </tr>\n",
              "    <tr>\n",
              "      <th>9998</th>\n",
              "      <td>0</td>\n",
              "      <td>1</td>\n",
              "      <td>0</td>\n",
              "    </tr>\n",
              "    <tr>\n",
              "      <th>9999</th>\n",
              "      <td>1</td>\n",
              "      <td>0</td>\n",
              "      <td>0</td>\n",
              "    </tr>\n",
              "  </tbody>\n",
              "</table>\n",
              "<p>10000 rows × 3 columns</p>\n",
              "</div>"
            ],
            "text/plain": [
              "      France  Germany  Spain\n",
              "0          1        0      0\n",
              "1          0        0      1\n",
              "2          1        0      0\n",
              "3          1        0      0\n",
              "4          0        0      1\n",
              "...      ...      ...    ...\n",
              "9995       1        0      0\n",
              "9996       1        0      0\n",
              "9997       1        0      0\n",
              "9998       0        1      0\n",
              "9999       1        0      0\n",
              "\n",
              "[10000 rows x 3 columns]"
            ]
          },
          "metadata": {
            "tags": []
          },
          "execution_count": 64
        }
      ]
    },
    {
      "cell_type": "markdown",
      "metadata": {
        "id": "P-DJNLXA1O18",
        "colab_type": "text"
      },
      "source": [
        "### Merging data frames and droping columns"
      ]
    },
    {
      "cell_type": "code",
      "metadata": {
        "id": "fEM8JGT21U8k",
        "colab_type": "code",
        "colab": {}
      },
      "source": [
        "col=[df,gender,location]"
      ],
      "execution_count": 0,
      "outputs": []
    },
    {
      "cell_type": "code",
      "metadata": {
        "id": "6BxYDNs01afJ",
        "colab_type": "code",
        "outputId": "a01cf8fd-bedf-4648-9e5d-69329945a8f4",
        "colab": {
          "base_uri": "https://localhost:8080/",
          "height": 217
        }
      },
      "source": [
        "df=pd.concat(col,axis=1)\n",
        "df.head()"
      ],
      "execution_count": 66,
      "outputs": [
        {
          "output_type": "execute_result",
          "data": {
            "text/html": [
              "<div>\n",
              "<style scoped>\n",
              "    .dataframe tbody tr th:only-of-type {\n",
              "        vertical-align: middle;\n",
              "    }\n",
              "\n",
              "    .dataframe tbody tr th {\n",
              "        vertical-align: top;\n",
              "    }\n",
              "\n",
              "    .dataframe thead th {\n",
              "        text-align: right;\n",
              "    }\n",
              "</style>\n",
              "<table border=\"1\" class=\"dataframe\">\n",
              "  <thead>\n",
              "    <tr style=\"text-align: right;\">\n",
              "      <th></th>\n",
              "      <th>CreditScore</th>\n",
              "      <th>Geography</th>\n",
              "      <th>Gender</th>\n",
              "      <th>Age</th>\n",
              "      <th>Tenure</th>\n",
              "      <th>Balance</th>\n",
              "      <th>NumOfProducts</th>\n",
              "      <th>HasCrCard</th>\n",
              "      <th>IsActiveMember</th>\n",
              "      <th>EstimatedSalary</th>\n",
              "      <th>Exited</th>\n",
              "      <th>Female</th>\n",
              "      <th>Male</th>\n",
              "      <th>France</th>\n",
              "      <th>Germany</th>\n",
              "      <th>Spain</th>\n",
              "    </tr>\n",
              "  </thead>\n",
              "  <tbody>\n",
              "    <tr>\n",
              "      <th>0</th>\n",
              "      <td>619</td>\n",
              "      <td>France</td>\n",
              "      <td>Female</td>\n",
              "      <td>42</td>\n",
              "      <td>2</td>\n",
              "      <td>0.00</td>\n",
              "      <td>1</td>\n",
              "      <td>1</td>\n",
              "      <td>1</td>\n",
              "      <td>101348.88</td>\n",
              "      <td>1</td>\n",
              "      <td>1</td>\n",
              "      <td>0</td>\n",
              "      <td>1</td>\n",
              "      <td>0</td>\n",
              "      <td>0</td>\n",
              "    </tr>\n",
              "    <tr>\n",
              "      <th>1</th>\n",
              "      <td>608</td>\n",
              "      <td>Spain</td>\n",
              "      <td>Female</td>\n",
              "      <td>41</td>\n",
              "      <td>1</td>\n",
              "      <td>83807.86</td>\n",
              "      <td>1</td>\n",
              "      <td>0</td>\n",
              "      <td>1</td>\n",
              "      <td>112542.58</td>\n",
              "      <td>0</td>\n",
              "      <td>1</td>\n",
              "      <td>0</td>\n",
              "      <td>0</td>\n",
              "      <td>0</td>\n",
              "      <td>1</td>\n",
              "    </tr>\n",
              "    <tr>\n",
              "      <th>2</th>\n",
              "      <td>502</td>\n",
              "      <td>France</td>\n",
              "      <td>Female</td>\n",
              "      <td>42</td>\n",
              "      <td>8</td>\n",
              "      <td>159660.80</td>\n",
              "      <td>3</td>\n",
              "      <td>1</td>\n",
              "      <td>0</td>\n",
              "      <td>113931.57</td>\n",
              "      <td>1</td>\n",
              "      <td>1</td>\n",
              "      <td>0</td>\n",
              "      <td>1</td>\n",
              "      <td>0</td>\n",
              "      <td>0</td>\n",
              "    </tr>\n",
              "    <tr>\n",
              "      <th>3</th>\n",
              "      <td>699</td>\n",
              "      <td>France</td>\n",
              "      <td>Female</td>\n",
              "      <td>39</td>\n",
              "      <td>1</td>\n",
              "      <td>0.00</td>\n",
              "      <td>2</td>\n",
              "      <td>0</td>\n",
              "      <td>0</td>\n",
              "      <td>93826.63</td>\n",
              "      <td>0</td>\n",
              "      <td>1</td>\n",
              "      <td>0</td>\n",
              "      <td>1</td>\n",
              "      <td>0</td>\n",
              "      <td>0</td>\n",
              "    </tr>\n",
              "    <tr>\n",
              "      <th>4</th>\n",
              "      <td>850</td>\n",
              "      <td>Spain</td>\n",
              "      <td>Female</td>\n",
              "      <td>43</td>\n",
              "      <td>2</td>\n",
              "      <td>125510.82</td>\n",
              "      <td>1</td>\n",
              "      <td>1</td>\n",
              "      <td>1</td>\n",
              "      <td>79084.10</td>\n",
              "      <td>0</td>\n",
              "      <td>1</td>\n",
              "      <td>0</td>\n",
              "      <td>0</td>\n",
              "      <td>0</td>\n",
              "      <td>1</td>\n",
              "    </tr>\n",
              "  </tbody>\n",
              "</table>\n",
              "</div>"
            ],
            "text/plain": [
              "   CreditScore Geography  Gender  Age  ...  Male  France  Germany  Spain\n",
              "0          619    France  Female   42  ...     0       1        0      0\n",
              "1          608     Spain  Female   41  ...     0       0        0      1\n",
              "2          502    France  Female   42  ...     0       1        0      0\n",
              "3          699    France  Female   39  ...     0       1        0      0\n",
              "4          850     Spain  Female   43  ...     0       0        0      1\n",
              "\n",
              "[5 rows x 16 columns]"
            ]
          },
          "metadata": {
            "tags": []
          },
          "execution_count": 66
        }
      ]
    },
    {
      "cell_type": "code",
      "metadata": {
        "id": "OJkGDpKv1kJV",
        "colab_type": "code",
        "colab": {}
      },
      "source": [
        "df.drop(['Geography','Gender'],axis=1,inplace=True)"
      ],
      "execution_count": 0,
      "outputs": []
    },
    {
      "cell_type": "code",
      "metadata": {
        "id": "ZK3WkSs12W__",
        "colab_type": "code",
        "outputId": "3451eb8d-6be2-4289-b921-42a8847273b8",
        "colab": {
          "base_uri": "https://localhost:8080/",
          "height": 197
        }
      },
      "source": [
        "df.head()"
      ],
      "execution_count": 68,
      "outputs": [
        {
          "output_type": "execute_result",
          "data": {
            "text/html": [
              "<div>\n",
              "<style scoped>\n",
              "    .dataframe tbody tr th:only-of-type {\n",
              "        vertical-align: middle;\n",
              "    }\n",
              "\n",
              "    .dataframe tbody tr th {\n",
              "        vertical-align: top;\n",
              "    }\n",
              "\n",
              "    .dataframe thead th {\n",
              "        text-align: right;\n",
              "    }\n",
              "</style>\n",
              "<table border=\"1\" class=\"dataframe\">\n",
              "  <thead>\n",
              "    <tr style=\"text-align: right;\">\n",
              "      <th></th>\n",
              "      <th>CreditScore</th>\n",
              "      <th>Age</th>\n",
              "      <th>Tenure</th>\n",
              "      <th>Balance</th>\n",
              "      <th>NumOfProducts</th>\n",
              "      <th>HasCrCard</th>\n",
              "      <th>IsActiveMember</th>\n",
              "      <th>EstimatedSalary</th>\n",
              "      <th>Exited</th>\n",
              "      <th>Female</th>\n",
              "      <th>Male</th>\n",
              "      <th>France</th>\n",
              "      <th>Germany</th>\n",
              "      <th>Spain</th>\n",
              "    </tr>\n",
              "  </thead>\n",
              "  <tbody>\n",
              "    <tr>\n",
              "      <th>0</th>\n",
              "      <td>619</td>\n",
              "      <td>42</td>\n",
              "      <td>2</td>\n",
              "      <td>0.00</td>\n",
              "      <td>1</td>\n",
              "      <td>1</td>\n",
              "      <td>1</td>\n",
              "      <td>101348.88</td>\n",
              "      <td>1</td>\n",
              "      <td>1</td>\n",
              "      <td>0</td>\n",
              "      <td>1</td>\n",
              "      <td>0</td>\n",
              "      <td>0</td>\n",
              "    </tr>\n",
              "    <tr>\n",
              "      <th>1</th>\n",
              "      <td>608</td>\n",
              "      <td>41</td>\n",
              "      <td>1</td>\n",
              "      <td>83807.86</td>\n",
              "      <td>1</td>\n",
              "      <td>0</td>\n",
              "      <td>1</td>\n",
              "      <td>112542.58</td>\n",
              "      <td>0</td>\n",
              "      <td>1</td>\n",
              "      <td>0</td>\n",
              "      <td>0</td>\n",
              "      <td>0</td>\n",
              "      <td>1</td>\n",
              "    </tr>\n",
              "    <tr>\n",
              "      <th>2</th>\n",
              "      <td>502</td>\n",
              "      <td>42</td>\n",
              "      <td>8</td>\n",
              "      <td>159660.80</td>\n",
              "      <td>3</td>\n",
              "      <td>1</td>\n",
              "      <td>0</td>\n",
              "      <td>113931.57</td>\n",
              "      <td>1</td>\n",
              "      <td>1</td>\n",
              "      <td>0</td>\n",
              "      <td>1</td>\n",
              "      <td>0</td>\n",
              "      <td>0</td>\n",
              "    </tr>\n",
              "    <tr>\n",
              "      <th>3</th>\n",
              "      <td>699</td>\n",
              "      <td>39</td>\n",
              "      <td>1</td>\n",
              "      <td>0.00</td>\n",
              "      <td>2</td>\n",
              "      <td>0</td>\n",
              "      <td>0</td>\n",
              "      <td>93826.63</td>\n",
              "      <td>0</td>\n",
              "      <td>1</td>\n",
              "      <td>0</td>\n",
              "      <td>1</td>\n",
              "      <td>0</td>\n",
              "      <td>0</td>\n",
              "    </tr>\n",
              "    <tr>\n",
              "      <th>4</th>\n",
              "      <td>850</td>\n",
              "      <td>43</td>\n",
              "      <td>2</td>\n",
              "      <td>125510.82</td>\n",
              "      <td>1</td>\n",
              "      <td>1</td>\n",
              "      <td>1</td>\n",
              "      <td>79084.10</td>\n",
              "      <td>0</td>\n",
              "      <td>1</td>\n",
              "      <td>0</td>\n",
              "      <td>0</td>\n",
              "      <td>0</td>\n",
              "      <td>1</td>\n",
              "    </tr>\n",
              "  </tbody>\n",
              "</table>\n",
              "</div>"
            ],
            "text/plain": [
              "   CreditScore  Age  Tenure    Balance  ...  Male  France  Germany  Spain\n",
              "0          619   42       2       0.00  ...     0       1        0      0\n",
              "1          608   41       1   83807.86  ...     0       0        0      1\n",
              "2          502   42       8  159660.80  ...     0       1        0      0\n",
              "3          699   39       1       0.00  ...     0       1        0      0\n",
              "4          850   43       2  125510.82  ...     0       0        0      1\n",
              "\n",
              "[5 rows x 14 columns]"
            ]
          },
          "metadata": {
            "tags": []
          },
          "execution_count": 68
        }
      ]
    },
    {
      "cell_type": "code",
      "metadata": {
        "id": "lRTdab6Y2ZNr",
        "colab_type": "code",
        "colab": {}
      },
      "source": [
        "from sklearn.preprocessing import StandardScaler"
      ],
      "execution_count": 0,
      "outputs": []
    },
    {
      "cell_type": "code",
      "metadata": {
        "id": "ewQqgs4s2w21",
        "colab_type": "code",
        "colab": {}
      },
      "source": [
        "sc=StandardScaler()"
      ],
      "execution_count": 0,
      "outputs": []
    },
    {
      "cell_type": "code",
      "metadata": {
        "id": "iR-Q7ZxI2zXO",
        "colab_type": "code",
        "colab": {}
      },
      "source": [
        "cols=['CreditScore','Age','Balance','EstimatedSalary']"
      ],
      "execution_count": 0,
      "outputs": []
    },
    {
      "cell_type": "code",
      "metadata": {
        "id": "L58cxxiv2-Ko",
        "colab_type": "code",
        "colab": {}
      },
      "source": [
        "df[cols]=sc.fit_transform(df[cols])"
      ],
      "execution_count": 0,
      "outputs": []
    },
    {
      "cell_type": "code",
      "metadata": {
        "id": "sFba6WRt3HMa",
        "colab_type": "code",
        "outputId": "c283775b-a0eb-48b8-ae72-9f730d66459e",
        "colab": {
          "base_uri": "https://localhost:8080/",
          "height": 217
        }
      },
      "source": [
        "df.head()"
      ],
      "execution_count": 73,
      "outputs": [
        {
          "output_type": "execute_result",
          "data": {
            "text/html": [
              "<div>\n",
              "<style scoped>\n",
              "    .dataframe tbody tr th:only-of-type {\n",
              "        vertical-align: middle;\n",
              "    }\n",
              "\n",
              "    .dataframe tbody tr th {\n",
              "        vertical-align: top;\n",
              "    }\n",
              "\n",
              "    .dataframe thead th {\n",
              "        text-align: right;\n",
              "    }\n",
              "</style>\n",
              "<table border=\"1\" class=\"dataframe\">\n",
              "  <thead>\n",
              "    <tr style=\"text-align: right;\">\n",
              "      <th></th>\n",
              "      <th>CreditScore</th>\n",
              "      <th>Age</th>\n",
              "      <th>Tenure</th>\n",
              "      <th>Balance</th>\n",
              "      <th>NumOfProducts</th>\n",
              "      <th>HasCrCard</th>\n",
              "      <th>IsActiveMember</th>\n",
              "      <th>EstimatedSalary</th>\n",
              "      <th>Exited</th>\n",
              "      <th>Female</th>\n",
              "      <th>Male</th>\n",
              "      <th>France</th>\n",
              "      <th>Germany</th>\n",
              "      <th>Spain</th>\n",
              "    </tr>\n",
              "  </thead>\n",
              "  <tbody>\n",
              "    <tr>\n",
              "      <th>0</th>\n",
              "      <td>-0.326221</td>\n",
              "      <td>0.293517</td>\n",
              "      <td>2</td>\n",
              "      <td>-1.225848</td>\n",
              "      <td>1</td>\n",
              "      <td>1</td>\n",
              "      <td>1</td>\n",
              "      <td>0.021886</td>\n",
              "      <td>1</td>\n",
              "      <td>1</td>\n",
              "      <td>0</td>\n",
              "      <td>1</td>\n",
              "      <td>0</td>\n",
              "      <td>0</td>\n",
              "    </tr>\n",
              "    <tr>\n",
              "      <th>1</th>\n",
              "      <td>-0.440036</td>\n",
              "      <td>0.198164</td>\n",
              "      <td>1</td>\n",
              "      <td>0.117350</td>\n",
              "      <td>1</td>\n",
              "      <td>0</td>\n",
              "      <td>1</td>\n",
              "      <td>0.216534</td>\n",
              "      <td>0</td>\n",
              "      <td>1</td>\n",
              "      <td>0</td>\n",
              "      <td>0</td>\n",
              "      <td>0</td>\n",
              "      <td>1</td>\n",
              "    </tr>\n",
              "    <tr>\n",
              "      <th>2</th>\n",
              "      <td>-1.536794</td>\n",
              "      <td>0.293517</td>\n",
              "      <td>8</td>\n",
              "      <td>1.333053</td>\n",
              "      <td>3</td>\n",
              "      <td>1</td>\n",
              "      <td>0</td>\n",
              "      <td>0.240687</td>\n",
              "      <td>1</td>\n",
              "      <td>1</td>\n",
              "      <td>0</td>\n",
              "      <td>1</td>\n",
              "      <td>0</td>\n",
              "      <td>0</td>\n",
              "    </tr>\n",
              "    <tr>\n",
              "      <th>3</th>\n",
              "      <td>0.501521</td>\n",
              "      <td>0.007457</td>\n",
              "      <td>1</td>\n",
              "      <td>-1.225848</td>\n",
              "      <td>2</td>\n",
              "      <td>0</td>\n",
              "      <td>0</td>\n",
              "      <td>-0.108918</td>\n",
              "      <td>0</td>\n",
              "      <td>1</td>\n",
              "      <td>0</td>\n",
              "      <td>1</td>\n",
              "      <td>0</td>\n",
              "      <td>0</td>\n",
              "    </tr>\n",
              "    <tr>\n",
              "      <th>4</th>\n",
              "      <td>2.063884</td>\n",
              "      <td>0.388871</td>\n",
              "      <td>2</td>\n",
              "      <td>0.785728</td>\n",
              "      <td>1</td>\n",
              "      <td>1</td>\n",
              "      <td>1</td>\n",
              "      <td>-0.365276</td>\n",
              "      <td>0</td>\n",
              "      <td>1</td>\n",
              "      <td>0</td>\n",
              "      <td>0</td>\n",
              "      <td>0</td>\n",
              "      <td>1</td>\n",
              "    </tr>\n",
              "  </tbody>\n",
              "</table>\n",
              "</div>"
            ],
            "text/plain": [
              "   CreditScore       Age  Tenure   Balance  ...  Male  France  Germany  Spain\n",
              "0    -0.326221  0.293517       2 -1.225848  ...     0       1        0      0\n",
              "1    -0.440036  0.198164       1  0.117350  ...     0       0        0      1\n",
              "2    -1.536794  0.293517       8  1.333053  ...     0       1        0      0\n",
              "3     0.501521  0.007457       1 -1.225848  ...     0       1        0      0\n",
              "4     2.063884  0.388871       2  0.785728  ...     0       0        0      1\n",
              "\n",
              "[5 rows x 14 columns]"
            ]
          },
          "metadata": {
            "tags": []
          },
          "execution_count": 73
        }
      ]
    },
    {
      "cell_type": "code",
      "metadata": {
        "id": "BAhKQZuu3NgE",
        "colab_type": "code",
        "outputId": "efa83813-ac25-48b3-a29d-862ec1382207",
        "colab": {
          "base_uri": "https://localhost:8080/",
          "height": 34
        }
      },
      "source": [
        "df.shape"
      ],
      "execution_count": 74,
      "outputs": [
        {
          "output_type": "execute_result",
          "data": {
            "text/plain": [
              "(10000, 14)"
            ]
          },
          "metadata": {
            "tags": []
          },
          "execution_count": 74
        }
      ]
    },
    {
      "cell_type": "code",
      "metadata": {
        "id": "SsvXYN9b3w8w",
        "colab_type": "code",
        "colab": {}
      },
      "source": [
        "from sklearn.model_selection import train_test_split"
      ],
      "execution_count": 0,
      "outputs": []
    },
    {
      "cell_type": "code",
      "metadata": {
        "id": "6nmTU5vy30e5",
        "colab_type": "code",
        "outputId": "beee7076-6da2-4d50-bdf1-7cc7d8b3c2d5",
        "colab": {
          "base_uri": "https://localhost:8080/",
          "height": 407
        }
      },
      "source": [
        "x=df.drop('Exited',axis=1)\n",
        "x"
      ],
      "execution_count": 76,
      "outputs": [
        {
          "output_type": "execute_result",
          "data": {
            "text/html": [
              "<div>\n",
              "<style scoped>\n",
              "    .dataframe tbody tr th:only-of-type {\n",
              "        vertical-align: middle;\n",
              "    }\n",
              "\n",
              "    .dataframe tbody tr th {\n",
              "        vertical-align: top;\n",
              "    }\n",
              "\n",
              "    .dataframe thead th {\n",
              "        text-align: right;\n",
              "    }\n",
              "</style>\n",
              "<table border=\"1\" class=\"dataframe\">\n",
              "  <thead>\n",
              "    <tr style=\"text-align: right;\">\n",
              "      <th></th>\n",
              "      <th>CreditScore</th>\n",
              "      <th>Age</th>\n",
              "      <th>Tenure</th>\n",
              "      <th>Balance</th>\n",
              "      <th>NumOfProducts</th>\n",
              "      <th>HasCrCard</th>\n",
              "      <th>IsActiveMember</th>\n",
              "      <th>EstimatedSalary</th>\n",
              "      <th>Female</th>\n",
              "      <th>Male</th>\n",
              "      <th>France</th>\n",
              "      <th>Germany</th>\n",
              "      <th>Spain</th>\n",
              "    </tr>\n",
              "  </thead>\n",
              "  <tbody>\n",
              "    <tr>\n",
              "      <th>0</th>\n",
              "      <td>-0.326221</td>\n",
              "      <td>0.293517</td>\n",
              "      <td>2</td>\n",
              "      <td>-1.225848</td>\n",
              "      <td>1</td>\n",
              "      <td>1</td>\n",
              "      <td>1</td>\n",
              "      <td>0.021886</td>\n",
              "      <td>1</td>\n",
              "      <td>0</td>\n",
              "      <td>1</td>\n",
              "      <td>0</td>\n",
              "      <td>0</td>\n",
              "    </tr>\n",
              "    <tr>\n",
              "      <th>1</th>\n",
              "      <td>-0.440036</td>\n",
              "      <td>0.198164</td>\n",
              "      <td>1</td>\n",
              "      <td>0.117350</td>\n",
              "      <td>1</td>\n",
              "      <td>0</td>\n",
              "      <td>1</td>\n",
              "      <td>0.216534</td>\n",
              "      <td>1</td>\n",
              "      <td>0</td>\n",
              "      <td>0</td>\n",
              "      <td>0</td>\n",
              "      <td>1</td>\n",
              "    </tr>\n",
              "    <tr>\n",
              "      <th>2</th>\n",
              "      <td>-1.536794</td>\n",
              "      <td>0.293517</td>\n",
              "      <td>8</td>\n",
              "      <td>1.333053</td>\n",
              "      <td>3</td>\n",
              "      <td>1</td>\n",
              "      <td>0</td>\n",
              "      <td>0.240687</td>\n",
              "      <td>1</td>\n",
              "      <td>0</td>\n",
              "      <td>1</td>\n",
              "      <td>0</td>\n",
              "      <td>0</td>\n",
              "    </tr>\n",
              "    <tr>\n",
              "      <th>3</th>\n",
              "      <td>0.501521</td>\n",
              "      <td>0.007457</td>\n",
              "      <td>1</td>\n",
              "      <td>-1.225848</td>\n",
              "      <td>2</td>\n",
              "      <td>0</td>\n",
              "      <td>0</td>\n",
              "      <td>-0.108918</td>\n",
              "      <td>1</td>\n",
              "      <td>0</td>\n",
              "      <td>1</td>\n",
              "      <td>0</td>\n",
              "      <td>0</td>\n",
              "    </tr>\n",
              "    <tr>\n",
              "      <th>4</th>\n",
              "      <td>2.063884</td>\n",
              "      <td>0.388871</td>\n",
              "      <td>2</td>\n",
              "      <td>0.785728</td>\n",
              "      <td>1</td>\n",
              "      <td>1</td>\n",
              "      <td>1</td>\n",
              "      <td>-0.365276</td>\n",
              "      <td>1</td>\n",
              "      <td>0</td>\n",
              "      <td>0</td>\n",
              "      <td>0</td>\n",
              "      <td>1</td>\n",
              "    </tr>\n",
              "    <tr>\n",
              "      <th>...</th>\n",
              "      <td>...</td>\n",
              "      <td>...</td>\n",
              "      <td>...</td>\n",
              "      <td>...</td>\n",
              "      <td>...</td>\n",
              "      <td>...</td>\n",
              "      <td>...</td>\n",
              "      <td>...</td>\n",
              "      <td>...</td>\n",
              "      <td>...</td>\n",
              "      <td>...</td>\n",
              "      <td>...</td>\n",
              "      <td>...</td>\n",
              "    </tr>\n",
              "    <tr>\n",
              "      <th>9995</th>\n",
              "      <td>1.246488</td>\n",
              "      <td>0.007457</td>\n",
              "      <td>5</td>\n",
              "      <td>-1.225848</td>\n",
              "      <td>2</td>\n",
              "      <td>1</td>\n",
              "      <td>0</td>\n",
              "      <td>-0.066419</td>\n",
              "      <td>0</td>\n",
              "      <td>1</td>\n",
              "      <td>1</td>\n",
              "      <td>0</td>\n",
              "      <td>0</td>\n",
              "    </tr>\n",
              "    <tr>\n",
              "      <th>9996</th>\n",
              "      <td>-1.391939</td>\n",
              "      <td>-0.373958</td>\n",
              "      <td>10</td>\n",
              "      <td>-0.306379</td>\n",
              "      <td>1</td>\n",
              "      <td>1</td>\n",
              "      <td>1</td>\n",
              "      <td>0.027988</td>\n",
              "      <td>0</td>\n",
              "      <td>1</td>\n",
              "      <td>1</td>\n",
              "      <td>0</td>\n",
              "      <td>0</td>\n",
              "    </tr>\n",
              "    <tr>\n",
              "      <th>9997</th>\n",
              "      <td>0.604988</td>\n",
              "      <td>-0.278604</td>\n",
              "      <td>7</td>\n",
              "      <td>-1.225848</td>\n",
              "      <td>1</td>\n",
              "      <td>0</td>\n",
              "      <td>1</td>\n",
              "      <td>-1.008643</td>\n",
              "      <td>1</td>\n",
              "      <td>0</td>\n",
              "      <td>1</td>\n",
              "      <td>0</td>\n",
              "      <td>0</td>\n",
              "    </tr>\n",
              "    <tr>\n",
              "      <th>9998</th>\n",
              "      <td>1.256835</td>\n",
              "      <td>0.293517</td>\n",
              "      <td>3</td>\n",
              "      <td>-0.022608</td>\n",
              "      <td>2</td>\n",
              "      <td>1</td>\n",
              "      <td>0</td>\n",
              "      <td>-0.125231</td>\n",
              "      <td>0</td>\n",
              "      <td>1</td>\n",
              "      <td>0</td>\n",
              "      <td>1</td>\n",
              "      <td>0</td>\n",
              "    </tr>\n",
              "    <tr>\n",
              "      <th>9999</th>\n",
              "      <td>1.463771</td>\n",
              "      <td>-1.041433</td>\n",
              "      <td>4</td>\n",
              "      <td>0.859965</td>\n",
              "      <td>1</td>\n",
              "      <td>1</td>\n",
              "      <td>0</td>\n",
              "      <td>-1.076370</td>\n",
              "      <td>1</td>\n",
              "      <td>0</td>\n",
              "      <td>1</td>\n",
              "      <td>0</td>\n",
              "      <td>0</td>\n",
              "    </tr>\n",
              "  </tbody>\n",
              "</table>\n",
              "<p>10000 rows × 13 columns</p>\n",
              "</div>"
            ],
            "text/plain": [
              "      CreditScore       Age  Tenure   Balance  ...  Male  France  Germany  Spain\n",
              "0       -0.326221  0.293517       2 -1.225848  ...     0       1        0      0\n",
              "1       -0.440036  0.198164       1  0.117350  ...     0       0        0      1\n",
              "2       -1.536794  0.293517       8  1.333053  ...     0       1        0      0\n",
              "3        0.501521  0.007457       1 -1.225848  ...     0       1        0      0\n",
              "4        2.063884  0.388871       2  0.785728  ...     0       0        0      1\n",
              "...           ...       ...     ...       ...  ...   ...     ...      ...    ...\n",
              "9995     1.246488  0.007457       5 -1.225848  ...     1       1        0      0\n",
              "9996    -1.391939 -0.373958      10 -0.306379  ...     1       1        0      0\n",
              "9997     0.604988 -0.278604       7 -1.225848  ...     0       1        0      0\n",
              "9998     1.256835  0.293517       3 -0.022608  ...     1       0        1      0\n",
              "9999     1.463771 -1.041433       4  0.859965  ...     0       1        0      0\n",
              "\n",
              "[10000 rows x 13 columns]"
            ]
          },
          "metadata": {
            "tags": []
          },
          "execution_count": 76
        }
      ]
    },
    {
      "cell_type": "code",
      "metadata": {
        "id": "DAdGUo9W3729",
        "colab_type": "code",
        "outputId": "862f7284-387c-4d8a-8194-e503ef1c6a84",
        "colab": {
          "base_uri": "https://localhost:8080/",
          "height": 227
        }
      },
      "source": [
        "y=df['Exited']\n",
        "y"
      ],
      "execution_count": 77,
      "outputs": [
        {
          "output_type": "execute_result",
          "data": {
            "text/plain": [
              "0       1\n",
              "1       0\n",
              "2       1\n",
              "3       0\n",
              "4       0\n",
              "       ..\n",
              "9995    0\n",
              "9996    0\n",
              "9997    1\n",
              "9998    1\n",
              "9999    0\n",
              "Name: Exited, Length: 10000, dtype: int64"
            ]
          },
          "metadata": {
            "tags": []
          },
          "execution_count": 77
        }
      ]
    },
    {
      "cell_type": "code",
      "metadata": {
        "id": "IgqLSCyD3_Ce",
        "colab_type": "code",
        "colab": {}
      },
      "source": [
        "x_train,x_test,y_train,y_test=train_test_split(x,y,test_size=0.3,random_state=42)"
      ],
      "execution_count": 0,
      "outputs": []
    },
    {
      "cell_type": "markdown",
      "metadata": {
        "id": "gwYFkPS63eCN",
        "colab_type": "text"
      },
      "source": [
        "### Building Keras Model With ANN\n"
      ]
    },
    {
      "cell_type": "code",
      "metadata": {
        "id": "gXZ500h_3awF",
        "colab_type": "code",
        "colab": {}
      },
      "source": [
        "model=Sequential()"
      ],
      "execution_count": 0,
      "outputs": []
    },
    {
      "cell_type": "code",
      "metadata": {
        "id": "zFnKj2fT3mHD",
        "colab_type": "code",
        "colab": {}
      },
      "source": [
        "model.add(Dense(units=7,input_dim=13,activation='relu'))\n",
        "model.add(Dense(units=7,activation='relu'))\n",
        "model.add(Dense(units=1,activation='sigmoid'))"
      ],
      "execution_count": 0,
      "outputs": []
    },
    {
      "cell_type": "code",
      "metadata": {
        "id": "CtBUVJcE4cTZ",
        "colab_type": "code",
        "colab": {}
      },
      "source": [
        "model.compile(optimizer='adam',metrics=['accuracy'],loss='binary_crossentropy')"
      ],
      "execution_count": 0,
      "outputs": []
    },
    {
      "cell_type": "code",
      "metadata": {
        "id": "hov2QwWP4xoC",
        "colab_type": "code",
        "outputId": "486ef8fc-9029-45b9-8a9a-7a6311397e29",
        "colab": {
          "base_uri": "https://localhost:8080/",
          "height": 262
        }
      },
      "source": [
        "model.summary()"
      ],
      "execution_count": 82,
      "outputs": [
        {
          "output_type": "stream",
          "text": [
            "Model: \"sequential_11\"\n",
            "_________________________________________________________________\n",
            "Layer (type)                 Output Shape              Param #   \n",
            "=================================================================\n",
            "dense_33 (Dense)             (None, 7)                 98        \n",
            "_________________________________________________________________\n",
            "dense_34 (Dense)             (None, 7)                 56        \n",
            "_________________________________________________________________\n",
            "dense_35 (Dense)             (None, 1)                 8         \n",
            "=================================================================\n",
            "Total params: 162\n",
            "Trainable params: 162\n",
            "Non-trainable params: 0\n",
            "_________________________________________________________________\n"
          ],
          "name": "stdout"
        }
      ]
    },
    {
      "cell_type": "code",
      "metadata": {
        "id": "kW44Kdd_4zjI",
        "colab_type": "code",
        "outputId": "41be68f2-5561-4e03-8a9b-c15b01cff303",
        "colab": {
          "base_uri": "https://localhost:8080/",
          "height": 1000
        }
      },
      "source": [
        "model.fit(x_train,y_train,batch_size=10,epochs=100)"
      ],
      "execution_count": 83,
      "outputs": [
        {
          "output_type": "stream",
          "text": [
            "Epoch 1/100\n",
            "700/700 [==============================] - 1s 2ms/step - loss: 0.5077 - accuracy: 0.7824\n",
            "Epoch 2/100\n",
            "700/700 [==============================] - 1s 2ms/step - loss: 0.4442 - accuracy: 0.7990\n",
            "Epoch 3/100\n",
            "700/700 [==============================] - 1s 2ms/step - loss: 0.4279 - accuracy: 0.8146\n",
            "Epoch 4/100\n",
            "700/700 [==============================] - 1s 2ms/step - loss: 0.4213 - accuracy: 0.8174\n",
            "Epoch 5/100\n",
            "700/700 [==============================] - 1s 2ms/step - loss: 0.4182 - accuracy: 0.8216\n",
            "Epoch 6/100\n",
            "700/700 [==============================] - 1s 2ms/step - loss: 0.4150 - accuracy: 0.8256\n",
            "Epoch 7/100\n",
            "700/700 [==============================] - 1s 2ms/step - loss: 0.4129 - accuracy: 0.8247\n",
            "Epoch 8/100\n",
            "700/700 [==============================] - 1s 2ms/step - loss: 0.4100 - accuracy: 0.8254\n",
            "Epoch 9/100\n",
            "700/700 [==============================] - 1s 2ms/step - loss: 0.4074 - accuracy: 0.8276\n",
            "Epoch 10/100\n",
            "700/700 [==============================] - 1s 2ms/step - loss: 0.4048 - accuracy: 0.8300\n",
            "Epoch 11/100\n",
            "700/700 [==============================] - 1s 2ms/step - loss: 0.4032 - accuracy: 0.8276\n",
            "Epoch 12/100\n",
            "700/700 [==============================] - 1s 2ms/step - loss: 0.3985 - accuracy: 0.8339\n",
            "Epoch 13/100\n",
            "700/700 [==============================] - 1s 2ms/step - loss: 0.3950 - accuracy: 0.8337\n",
            "Epoch 14/100\n",
            "700/700 [==============================] - 1s 2ms/step - loss: 0.3913 - accuracy: 0.8387\n",
            "Epoch 15/100\n",
            "700/700 [==============================] - 1s 2ms/step - loss: 0.3858 - accuracy: 0.8400\n",
            "Epoch 16/100\n",
            "700/700 [==============================] - 1s 2ms/step - loss: 0.3804 - accuracy: 0.8410\n",
            "Epoch 17/100\n",
            "700/700 [==============================] - 1s 2ms/step - loss: 0.3757 - accuracy: 0.8444\n",
            "Epoch 18/100\n",
            "700/700 [==============================] - 1s 2ms/step - loss: 0.3703 - accuracy: 0.8490\n",
            "Epoch 19/100\n",
            "700/700 [==============================] - 1s 2ms/step - loss: 0.3656 - accuracy: 0.8506\n",
            "Epoch 20/100\n",
            "700/700 [==============================] - 1s 2ms/step - loss: 0.3589 - accuracy: 0.8540\n",
            "Epoch 21/100\n",
            "700/700 [==============================] - 1s 2ms/step - loss: 0.3555 - accuracy: 0.8579\n",
            "Epoch 22/100\n",
            "700/700 [==============================] - 1s 2ms/step - loss: 0.3523 - accuracy: 0.8567\n",
            "Epoch 23/100\n",
            "700/700 [==============================] - 1s 2ms/step - loss: 0.3495 - accuracy: 0.8596\n",
            "Epoch 24/100\n",
            "700/700 [==============================] - 1s 2ms/step - loss: 0.3478 - accuracy: 0.8587\n",
            "Epoch 25/100\n",
            "700/700 [==============================] - 1s 2ms/step - loss: 0.3454 - accuracy: 0.8587\n",
            "Epoch 26/100\n",
            "700/700 [==============================] - 1s 2ms/step - loss: 0.3454 - accuracy: 0.8606\n",
            "Epoch 27/100\n",
            "700/700 [==============================] - 1s 2ms/step - loss: 0.3436 - accuracy: 0.8590\n",
            "Epoch 28/100\n",
            "700/700 [==============================] - 1s 2ms/step - loss: 0.3438 - accuracy: 0.8609\n",
            "Epoch 29/100\n",
            "700/700 [==============================] - 1s 2ms/step - loss: 0.3422 - accuracy: 0.8606\n",
            "Epoch 30/100\n",
            "700/700 [==============================] - 1s 2ms/step - loss: 0.3425 - accuracy: 0.8600\n",
            "Epoch 31/100\n",
            "700/700 [==============================] - 1s 2ms/step - loss: 0.3413 - accuracy: 0.8611\n",
            "Epoch 32/100\n",
            "700/700 [==============================] - 1s 2ms/step - loss: 0.3421 - accuracy: 0.8599\n",
            "Epoch 33/100\n",
            "700/700 [==============================] - 1s 2ms/step - loss: 0.3404 - accuracy: 0.8586\n",
            "Epoch 34/100\n",
            "700/700 [==============================] - 1s 2ms/step - loss: 0.3409 - accuracy: 0.8610\n",
            "Epoch 35/100\n",
            "700/700 [==============================] - 1s 2ms/step - loss: 0.3414 - accuracy: 0.8599\n",
            "Epoch 36/100\n",
            "700/700 [==============================] - 1s 2ms/step - loss: 0.3406 - accuracy: 0.8601\n",
            "Epoch 37/100\n",
            "700/700 [==============================] - 1s 2ms/step - loss: 0.3402 - accuracy: 0.8609\n",
            "Epoch 38/100\n",
            "700/700 [==============================] - 1s 2ms/step - loss: 0.3403 - accuracy: 0.8619\n",
            "Epoch 39/100\n",
            "700/700 [==============================] - 1s 2ms/step - loss: 0.3407 - accuracy: 0.8611\n",
            "Epoch 40/100\n",
            "700/700 [==============================] - 1s 2ms/step - loss: 0.3402 - accuracy: 0.8609\n",
            "Epoch 41/100\n",
            "700/700 [==============================] - 1s 2ms/step - loss: 0.3389 - accuracy: 0.8613\n",
            "Epoch 42/100\n",
            "700/700 [==============================] - 1s 2ms/step - loss: 0.3387 - accuracy: 0.8620\n",
            "Epoch 43/100\n",
            "700/700 [==============================] - 1s 2ms/step - loss: 0.3387 - accuracy: 0.8634\n",
            "Epoch 44/100\n",
            "700/700 [==============================] - 1s 2ms/step - loss: 0.3391 - accuracy: 0.8607\n",
            "Epoch 45/100\n",
            "700/700 [==============================] - 1s 2ms/step - loss: 0.3383 - accuracy: 0.8594\n",
            "Epoch 46/100\n",
            "700/700 [==============================] - 1s 2ms/step - loss: 0.3381 - accuracy: 0.8614\n",
            "Epoch 47/100\n",
            "700/700 [==============================] - 1s 2ms/step - loss: 0.3387 - accuracy: 0.8611\n",
            "Epoch 48/100\n",
            "700/700 [==============================] - 1s 2ms/step - loss: 0.3375 - accuracy: 0.8596\n",
            "Epoch 49/100\n",
            "700/700 [==============================] - 1s 2ms/step - loss: 0.3375 - accuracy: 0.8614\n",
            "Epoch 50/100\n",
            "700/700 [==============================] - 1s 2ms/step - loss: 0.3374 - accuracy: 0.8613\n",
            "Epoch 51/100\n",
            "700/700 [==============================] - 1s 2ms/step - loss: 0.3378 - accuracy: 0.8607\n",
            "Epoch 52/100\n",
            "700/700 [==============================] - 1s 2ms/step - loss: 0.3369 - accuracy: 0.8610\n",
            "Epoch 53/100\n",
            "700/700 [==============================] - 1s 2ms/step - loss: 0.3369 - accuracy: 0.8611\n",
            "Epoch 54/100\n",
            "700/700 [==============================] - 1s 2ms/step - loss: 0.3384 - accuracy: 0.8600\n",
            "Epoch 55/100\n",
            "700/700 [==============================] - 1s 2ms/step - loss: 0.3373 - accuracy: 0.8609\n",
            "Epoch 56/100\n",
            "700/700 [==============================] - 1s 2ms/step - loss: 0.3367 - accuracy: 0.8624\n",
            "Epoch 57/100\n",
            "700/700 [==============================] - 1s 2ms/step - loss: 0.3367 - accuracy: 0.8620\n",
            "Epoch 58/100\n",
            "700/700 [==============================] - 1s 2ms/step - loss: 0.3367 - accuracy: 0.8619\n",
            "Epoch 59/100\n",
            "700/700 [==============================] - 1s 2ms/step - loss: 0.3367 - accuracy: 0.8590\n",
            "Epoch 60/100\n",
            "700/700 [==============================] - 1s 2ms/step - loss: 0.3360 - accuracy: 0.8609\n",
            "Epoch 61/100\n",
            "700/700 [==============================] - 1s 2ms/step - loss: 0.3361 - accuracy: 0.8621\n",
            "Epoch 62/100\n",
            "700/700 [==============================] - 1s 2ms/step - loss: 0.3363 - accuracy: 0.8610\n",
            "Epoch 63/100\n",
            "700/700 [==============================] - 1s 2ms/step - loss: 0.3360 - accuracy: 0.8623\n",
            "Epoch 64/100\n",
            "700/700 [==============================] - 1s 2ms/step - loss: 0.3361 - accuracy: 0.8593\n",
            "Epoch 65/100\n",
            "700/700 [==============================] - 1s 2ms/step - loss: 0.3360 - accuracy: 0.8611\n",
            "Epoch 66/100\n",
            "700/700 [==============================] - 1s 2ms/step - loss: 0.3361 - accuracy: 0.8621\n",
            "Epoch 67/100\n",
            "700/700 [==============================] - 1s 2ms/step - loss: 0.3360 - accuracy: 0.8597\n",
            "Epoch 68/100\n",
            "700/700 [==============================] - 1s 2ms/step - loss: 0.3354 - accuracy: 0.8601\n",
            "Epoch 69/100\n",
            "700/700 [==============================] - 1s 2ms/step - loss: 0.3363 - accuracy: 0.8619\n",
            "Epoch 70/100\n",
            "700/700 [==============================] - 1s 2ms/step - loss: 0.3352 - accuracy: 0.8609\n",
            "Epoch 71/100\n",
            "700/700 [==============================] - 1s 2ms/step - loss: 0.3342 - accuracy: 0.8620\n",
            "Epoch 72/100\n",
            "700/700 [==============================] - 1s 2ms/step - loss: 0.3368 - accuracy: 0.8624\n",
            "Epoch 73/100\n",
            "700/700 [==============================] - 1s 2ms/step - loss: 0.3353 - accuracy: 0.8621\n",
            "Epoch 74/100\n",
            "700/700 [==============================] - 1s 2ms/step - loss: 0.3356 - accuracy: 0.8590\n",
            "Epoch 75/100\n",
            "700/700 [==============================] - 1s 2ms/step - loss: 0.3358 - accuracy: 0.8597\n",
            "Epoch 76/100\n",
            "700/700 [==============================] - 1s 2ms/step - loss: 0.3352 - accuracy: 0.8626\n",
            "Epoch 77/100\n",
            "700/700 [==============================] - 1s 2ms/step - loss: 0.3350 - accuracy: 0.8596\n",
            "Epoch 78/100\n",
            "700/700 [==============================] - 1s 2ms/step - loss: 0.3355 - accuracy: 0.8596\n",
            "Epoch 79/100\n",
            "700/700 [==============================] - 1s 2ms/step - loss: 0.3354 - accuracy: 0.8619\n",
            "Epoch 80/100\n",
            "700/700 [==============================] - 1s 2ms/step - loss: 0.3355 - accuracy: 0.8613\n",
            "Epoch 81/100\n",
            "700/700 [==============================] - 1s 2ms/step - loss: 0.3347 - accuracy: 0.8609\n",
            "Epoch 82/100\n",
            "700/700 [==============================] - 1s 2ms/step - loss: 0.3358 - accuracy: 0.8604\n",
            "Epoch 83/100\n",
            "700/700 [==============================] - 1s 2ms/step - loss: 0.3358 - accuracy: 0.8621\n",
            "Epoch 84/100\n",
            "700/700 [==============================] - 1s 2ms/step - loss: 0.3354 - accuracy: 0.8596\n",
            "Epoch 85/100\n",
            "700/700 [==============================] - 1s 2ms/step - loss: 0.3363 - accuracy: 0.8599\n",
            "Epoch 86/100\n",
            "700/700 [==============================] - 1s 2ms/step - loss: 0.3350 - accuracy: 0.8613\n",
            "Epoch 87/100\n",
            "700/700 [==============================] - 1s 2ms/step - loss: 0.3351 - accuracy: 0.8607\n",
            "Epoch 88/100\n",
            "700/700 [==============================] - 1s 2ms/step - loss: 0.3349 - accuracy: 0.8619\n",
            "Epoch 89/100\n",
            "700/700 [==============================] - 1s 2ms/step - loss: 0.3359 - accuracy: 0.8627\n",
            "Epoch 90/100\n",
            "700/700 [==============================] - 1s 2ms/step - loss: 0.3350 - accuracy: 0.8609\n",
            "Epoch 91/100\n",
            "700/700 [==============================] - 1s 2ms/step - loss: 0.3340 - accuracy: 0.8629\n",
            "Epoch 92/100\n",
            "700/700 [==============================] - 1s 2ms/step - loss: 0.3351 - accuracy: 0.8620\n",
            "Epoch 93/100\n",
            "700/700 [==============================] - 1s 2ms/step - loss: 0.3353 - accuracy: 0.8616\n",
            "Epoch 94/100\n",
            "700/700 [==============================] - 1s 2ms/step - loss: 0.3343 - accuracy: 0.8600\n",
            "Epoch 95/100\n",
            "700/700 [==============================] - 1s 2ms/step - loss: 0.3338 - accuracy: 0.8624\n",
            "Epoch 96/100\n",
            "700/700 [==============================] - 1s 2ms/step - loss: 0.3359 - accuracy: 0.8616\n",
            "Epoch 97/100\n",
            "700/700 [==============================] - 1s 2ms/step - loss: 0.3350 - accuracy: 0.8630\n",
            "Epoch 98/100\n",
            "700/700 [==============================] - 1s 2ms/step - loss: 0.3352 - accuracy: 0.8606\n",
            "Epoch 99/100\n",
            "700/700 [==============================] - 1s 2ms/step - loss: 0.3344 - accuracy: 0.8617\n",
            "Epoch 100/100\n",
            "700/700 [==============================] - 1s 2ms/step - loss: 0.3345 - accuracy: 0.8623\n"
          ],
          "name": "stdout"
        },
        {
          "output_type": "execute_result",
          "data": {
            "text/plain": [
              "<tensorflow.python.keras.callbacks.History at 0x7f8e05732c18>"
            ]
          },
          "metadata": {
            "tags": []
          },
          "execution_count": 83
        }
      ]
    },
    {
      "cell_type": "code",
      "metadata": {
        "id": "RVZxqJeW5qil",
        "colab_type": "code",
        "colab": {}
      },
      "source": [
        "from sklearn.metrics import classification_report,confusion_matrix"
      ],
      "execution_count": 0,
      "outputs": []
    },
    {
      "cell_type": "code",
      "metadata": {
        "id": "6eIkZTGz5xzB",
        "colab_type": "code",
        "colab": {}
      },
      "source": [
        "prediction=model.predict(x_test)\n",
        "prediction=(prediction>0.5)"
      ],
      "execution_count": 0,
      "outputs": []
    },
    {
      "cell_type": "code",
      "metadata": {
        "id": "NwLV0Gjj6G_y",
        "colab_type": "code",
        "outputId": "8f5cff05-0f4d-4584-be8e-4c03faf66308",
        "colab": {
          "base_uri": "https://localhost:8080/",
          "height": 52
        }
      },
      "source": [
        "confusion_matrix(prediction,y_test)"
      ],
      "execution_count": 86,
      "outputs": [
        {
          "output_type": "execute_result",
          "data": {
            "text/plain": [
              "array([[2324,  313],\n",
              "       [  92,  271]])"
            ]
          },
          "metadata": {
            "tags": []
          },
          "execution_count": 86
        }
      ]
    },
    {
      "cell_type": "code",
      "metadata": {
        "id": "L3P1_8pS6N_A",
        "colab_type": "code",
        "outputId": "abf4e412-34f0-427b-cad2-9e3dbc2d90ed",
        "colab": {
          "base_uri": "https://localhost:8080/",
          "height": 174
        }
      },
      "source": [
        "print(classification_report(prediction,y_test))"
      ],
      "execution_count": 87,
      "outputs": [
        {
          "output_type": "stream",
          "text": [
            "              precision    recall  f1-score   support\n",
            "\n",
            "       False       0.96      0.88      0.92      2637\n",
            "        True       0.46      0.75      0.57       363\n",
            "\n",
            "    accuracy                           0.86      3000\n",
            "   macro avg       0.71      0.81      0.75      3000\n",
            "weighted avg       0.90      0.86      0.88      3000\n",
            "\n"
          ],
          "name": "stdout"
        }
      ]
    },
    {
      "cell_type": "markdown",
      "metadata": {
        "id": "oJqIUMYt4RZr",
        "colab_type": "text"
      },
      "source": [
        "###  Trying Cross validation to check accuracy \n"
      ]
    },
    {
      "cell_type": "code",
      "metadata": {
        "id": "mTlf6UPA4Pvo",
        "colab_type": "code",
        "colab": {}
      },
      "source": [
        "from keras.wrappers.scikit_learn import KerasClassifier"
      ],
      "execution_count": 0,
      "outputs": []
    },
    {
      "cell_type": "code",
      "metadata": {
        "id": "w08vfErL_Fn3",
        "colab_type": "code",
        "colab": {}
      },
      "source": [
        "from sklearn.model_selection import cross_val_score"
      ],
      "execution_count": 0,
      "outputs": []
    },
    {
      "cell_type": "code",
      "metadata": {
        "id": "5oB8q0WQ_LtB",
        "colab_type": "code",
        "colab": {}
      },
      "source": [
        "def build_classifier():\n",
        "   model=Sequential()\n",
        "   model.add(Dense(units=7,input_dim=13,activation='relu'))\n",
        "   model.add(Dense(units=7,activation='relu'))\n",
        "   model.add(Dense(units=1,activation='sigmoid'))  \n",
        "   model.compile(optimizer='adam',metrics=['accuracy'],loss='binary_crossentropy')\n",
        "   return model"
      ],
      "execution_count": 0,
      "outputs": []
    },
    {
      "cell_type": "code",
      "metadata": {
        "id": "Gjwc0Js9_1QN",
        "colab_type": "code",
        "colab": {}
      },
      "source": [
        "classifier=KerasClassifier(build_fn=build_classifier,batch_size=25,epochs=100)"
      ],
      "execution_count": 0,
      "outputs": []
    },
    {
      "cell_type": "code",
      "metadata": {
        "id": "Yg7kQjM2ASE9",
        "colab_type": "code",
        "colab": {}
      },
      "source": [
        "accuracy=cross_val_score(estimator=classifier,X=x_train,y=y_train,cv=10,scoring='accuracy')\n",
        "accuracy.mean()"
      ],
      "execution_count": 0,
      "outputs": []
    },
    {
      "cell_type": "code",
      "metadata": {
        "id": "YqEPCRvlA9KE",
        "colab_type": "code",
        "colab": {
          "base_uri": "https://localhost:8080/",
          "height": 34
        },
        "outputId": "46721400-96e7-4e19-9d44-993c387e8cd6"
      },
      "source": [
        "accuracy.mean()"
      ],
      "execution_count": 94,
      "outputs": [
        {
          "output_type": "execute_result",
          "data": {
            "text/plain": [
              "0.8558571428571428"
            ]
          },
          "metadata": {
            "tags": []
          },
          "execution_count": 94
        }
      ]
    },
    {
      "cell_type": "markdown",
      "metadata": {
        "id": "aBz5GD9E_Mdu",
        "colab_type": "text"
      },
      "source": [
        "### Model is 86% accurate\n",
        "\n"
      ]
    }
  ]
}