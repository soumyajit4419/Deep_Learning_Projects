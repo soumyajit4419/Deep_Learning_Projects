{
  "nbformat": 4,
  "nbformat_minor": 0,
  "metadata": {
    "colab": {
      "name": "Sarcastic_Hedline_Detection_With_Globe_Embedding.ipynb",
      "provenance": [],
      "collapsed_sections": []
    },
    "kernelspec": {
      "name": "python3",
      "display_name": "Python 3"
    },
    "accelerator": "GPU"
  },
  "cells": [
    {
      "cell_type": "code",
      "metadata": {
        "id": "cwjlbCysFtxT",
        "colab_type": "code",
        "colab": {}
      },
      "source": [
        "import pandas as pd\n",
        "import numpy as np\n",
        "import matplotlib.pyplot as plt\n",
        "%matplotlib inline"
      ],
      "execution_count": 0,
      "outputs": []
    },
    {
      "cell_type": "code",
      "metadata": {
        "id": "iv3XN3V4GO2I",
        "colab_type": "code",
        "colab": {
          "base_uri": "https://localhost:8080/",
          "height": 34
        },
        "outputId": "8d30e3a8-a1b5-48fe-a5dc-4157052ba9b5"
      },
      "source": [
        "import tensorflow as tf\n",
        "tf.__version__"
      ],
      "execution_count": 2,
      "outputs": [
        {
          "output_type": "execute_result",
          "data": {
            "text/plain": [
              "'2.2.0-rc3'"
            ]
          },
          "metadata": {
            "tags": []
          },
          "execution_count": 2
        }
      ]
    },
    {
      "cell_type": "code",
      "metadata": {
        "id": "hyLtV5C7Gfbn",
        "colab_type": "code",
        "colab": {}
      },
      "source": [
        "from sklearn.model_selection import train_test_split"
      ],
      "execution_count": 0,
      "outputs": []
    },
    {
      "cell_type": "code",
      "metadata": {
        "id": "Z44J7QRfIZYO",
        "colab_type": "code",
        "colab": {}
      },
      "source": [
        "from tensorflow.keras.preprocessing.text import Tokenizer\n",
        "from tensorflow.keras.preprocessing.sequence import pad_sequences"
      ],
      "execution_count": 0,
      "outputs": []
    },
    {
      "cell_type": "code",
      "metadata": {
        "id": "pV0hrHZMLda8",
        "colab_type": "code",
        "colab": {}
      },
      "source": [
        "from tensorflow.keras.models import Sequential\n",
        "from tensorflow.keras.layers import Embedding\n",
        "from tensorflow.keras.layers import Dense\n",
        "from tensorflow.keras.layers import Dropout\n",
        "from tensorflow.keras.layers import Bidirectional\n",
        "from tensorflow.keras.layers import LSTM"
      ],
      "execution_count": 0,
      "outputs": []
    },
    {
      "cell_type": "code",
      "metadata": {
        "id": "k2dFhKuEGS96",
        "colab_type": "code",
        "colab": {}
      },
      "source": [
        "df=pd.read_csv('/content/drive/My Drive/Colab Notebooks/Datasets/headlines.csv')"
      ],
      "execution_count": 0,
      "outputs": []
    },
    {
      "cell_type": "code",
      "metadata": {
        "id": "mFcqadJYGbEr",
        "colab_type": "code",
        "colab": {
          "base_uri": "https://localhost:8080/",
          "height": 197
        },
        "outputId": "f5e90eb6-ba3f-4beb-e8fb-3fee14376196"
      },
      "source": [
        "df.head()"
      ],
      "execution_count": 7,
      "outputs": [
        {
          "output_type": "execute_result",
          "data": {
            "text/html": [
              "<div>\n",
              "<style scoped>\n",
              "    .dataframe tbody tr th:only-of-type {\n",
              "        vertical-align: middle;\n",
              "    }\n",
              "\n",
              "    .dataframe tbody tr th {\n",
              "        vertical-align: top;\n",
              "    }\n",
              "\n",
              "    .dataframe thead th {\n",
              "        text-align: right;\n",
              "    }\n",
              "</style>\n",
              "<table border=\"1\" class=\"dataframe\">\n",
              "  <thead>\n",
              "    <tr style=\"text-align: right;\">\n",
              "      <th></th>\n",
              "      <th>article_link</th>\n",
              "      <th>headline</th>\n",
              "      <th>is_sarcastic</th>\n",
              "    </tr>\n",
              "  </thead>\n",
              "  <tbody>\n",
              "    <tr>\n",
              "      <th>0</th>\n",
              "      <td>https://www.huffingtonpost.com/entry/versace-b...</td>\n",
              "      <td>former versace store clerk sues over secret 'b...</td>\n",
              "      <td>0</td>\n",
              "    </tr>\n",
              "    <tr>\n",
              "      <th>1</th>\n",
              "      <td>https://www.huffingtonpost.com/entry/roseanne-...</td>\n",
              "      <td>the 'roseanne' revival catches up to our thorn...</td>\n",
              "      <td>0</td>\n",
              "    </tr>\n",
              "    <tr>\n",
              "      <th>2</th>\n",
              "      <td>https://local.theonion.com/mom-starting-to-fea...</td>\n",
              "      <td>mom starting to fear son's web series closest ...</td>\n",
              "      <td>1</td>\n",
              "    </tr>\n",
              "    <tr>\n",
              "      <th>3</th>\n",
              "      <td>https://politics.theonion.com/boehner-just-wan...</td>\n",
              "      <td>boehner just wants wife to listen, not come up...</td>\n",
              "      <td>1</td>\n",
              "    </tr>\n",
              "    <tr>\n",
              "      <th>4</th>\n",
              "      <td>https://www.huffingtonpost.com/entry/jk-rowlin...</td>\n",
              "      <td>j.k. rowling wishes snape happy birthday in th...</td>\n",
              "      <td>0</td>\n",
              "    </tr>\n",
              "  </tbody>\n",
              "</table>\n",
              "</div>"
            ],
            "text/plain": [
              "                                        article_link  ... is_sarcastic\n",
              "0  https://www.huffingtonpost.com/entry/versace-b...  ...            0\n",
              "1  https://www.huffingtonpost.com/entry/roseanne-...  ...            0\n",
              "2  https://local.theonion.com/mom-starting-to-fea...  ...            1\n",
              "3  https://politics.theonion.com/boehner-just-wan...  ...            1\n",
              "4  https://www.huffingtonpost.com/entry/jk-rowlin...  ...            0\n",
              "\n",
              "[5 rows x 3 columns]"
            ]
          },
          "metadata": {
            "tags": []
          },
          "execution_count": 7
        }
      ]
    },
    {
      "cell_type": "code",
      "metadata": {
        "id": "TClZxfXRH5OX",
        "colab_type": "code",
        "colab": {
          "base_uri": "https://localhost:8080/",
          "height": 34
        },
        "outputId": "f20abe6e-0928-4f76-d5b2-8c43779dfa7c"
      },
      "source": [
        "df.shape"
      ],
      "execution_count": 8,
      "outputs": [
        {
          "output_type": "execute_result",
          "data": {
            "text/plain": [
              "(26709, 3)"
            ]
          },
          "metadata": {
            "tags": []
          },
          "execution_count": 8
        }
      ]
    },
    {
      "cell_type": "code",
      "metadata": {
        "id": "uOEX2c5rH7Cb",
        "colab_type": "code",
        "colab": {
          "base_uri": "https://localhost:8080/",
          "height": 87
        },
        "outputId": "73d16f9f-8cda-4d0f-9a19-cea9c840bff5"
      },
      "source": [
        "df.isnull().sum()"
      ],
      "execution_count": 9,
      "outputs": [
        {
          "output_type": "execute_result",
          "data": {
            "text/plain": [
              "article_link    0\n",
              "headline        0\n",
              "is_sarcastic    0\n",
              "dtype: int64"
            ]
          },
          "metadata": {
            "tags": []
          },
          "execution_count": 9
        }
      ]
    },
    {
      "cell_type": "code",
      "metadata": {
        "id": "B2DTc0qxGl-Y",
        "colab_type": "code",
        "colab": {
          "base_uri": "https://localhost:8080/",
          "height": 227
        },
        "outputId": "6eea3e9c-040b-4574-b5c3-e446f1e1ebac"
      },
      "source": [
        "headlines=df['headline']\n",
        "headlines"
      ],
      "execution_count": 10,
      "outputs": [
        {
          "output_type": "execute_result",
          "data": {
            "text/plain": [
              "0        former versace store clerk sues over secret 'b...\n",
              "1        the 'roseanne' revival catches up to our thorn...\n",
              "2        mom starting to fear son's web series closest ...\n",
              "3        boehner just wants wife to listen, not come up...\n",
              "4        j.k. rowling wishes snape happy birthday in th...\n",
              "                               ...                        \n",
              "26704                 american politics in moral free-fall\n",
              "26705                              america's best 20 hikes\n",
              "26706                                reparations and obama\n",
              "26707    israeli ban targeting boycott supporters raise...\n",
              "26708                    gourmet gifts for the foodie 2014\n",
              "Name: headline, Length: 26709, dtype: object"
            ]
          },
          "metadata": {
            "tags": []
          },
          "execution_count": 10
        }
      ]
    },
    {
      "cell_type": "code",
      "metadata": {
        "id": "Fq9YQ0VcHi46",
        "colab_type": "code",
        "colab": {
          "base_uri": "https://localhost:8080/",
          "height": 227
        },
        "outputId": "9e9ff23e-983a-41ff-cb20-4976a6a3ec5c"
      },
      "source": [
        "label=df['is_sarcastic']\n",
        "label"
      ],
      "execution_count": 11,
      "outputs": [
        {
          "output_type": "execute_result",
          "data": {
            "text/plain": [
              "0        0\n",
              "1        0\n",
              "2        1\n",
              "3        1\n",
              "4        0\n",
              "        ..\n",
              "26704    0\n",
              "26705    0\n",
              "26706    0\n",
              "26707    0\n",
              "26708    0\n",
              "Name: is_sarcastic, Length: 26709, dtype: int64"
            ]
          },
          "metadata": {
            "tags": []
          },
          "execution_count": 11
        }
      ]
    },
    {
      "cell_type": "code",
      "metadata": {
        "id": "818HqukVHpU3",
        "colab_type": "code",
        "colab": {}
      },
      "source": [
        "x_train,x_test,y_train,y_test=train_test_split(headlines,label,random_state=42,test_size=0.2)"
      ],
      "execution_count": 0,
      "outputs": []
    },
    {
      "cell_type": "code",
      "metadata": {
        "id": "0BmZPGQXIU-D",
        "colab_type": "code",
        "colab": {}
      },
      "source": [
        "tokenizer=Tokenizer()"
      ],
      "execution_count": 0,
      "outputs": []
    },
    {
      "cell_type": "code",
      "metadata": {
        "id": "H2BXzJ41IvKq",
        "colab_type": "code",
        "colab": {}
      },
      "source": [
        "tokenizer.fit_on_texts(x_train)"
      ],
      "execution_count": 0,
      "outputs": []
    },
    {
      "cell_type": "code",
      "metadata": {
        "id": "jeSCuKreJrR2",
        "colab_type": "code",
        "colab": {
          "base_uri": "https://localhost:8080/",
          "height": 34
        },
        "outputId": "aedc5c36-6113-4840-c90d-c4e6a8f082db"
      },
      "source": [
        "word_index=tokenizer.word_index\n",
        "word_size=len(word_index)+1\n",
        "word_size"
      ],
      "execution_count": 15,
      "outputs": [
        {
          "output_type": "execute_result",
          "data": {
            "text/plain": [
              "26536"
            ]
          },
          "metadata": {
            "tags": []
          },
          "execution_count": 15
        }
      ]
    },
    {
      "cell_type": "code",
      "metadata": {
        "id": "QdqOJSjGI0xj",
        "colab_type": "code",
        "colab": {}
      },
      "source": [
        "train_sequence=tokenizer.texts_to_sequences(x_train)\n",
        "train_padded=pad_sequences(train_sequence,maxlen=30)"
      ],
      "execution_count": 0,
      "outputs": []
    },
    {
      "cell_type": "code",
      "metadata": {
        "id": "eGhtsgKkKHRF",
        "colab_type": "code",
        "colab": {}
      },
      "source": [
        "test_sequence=tokenizer.texts_to_sequences(x_test)\n",
        "test_padded=pad_sequences(test_sequence,maxlen=30)"
      ],
      "execution_count": 0,
      "outputs": []
    },
    {
      "cell_type": "code",
      "metadata": {
        "id": "rvbfOraCKURi",
        "colab_type": "code",
        "colab": {
          "base_uri": "https://localhost:8080/",
          "height": 209
        },
        "outputId": "92c521f0-1f15-428b-fd9a-38131fffe65c"
      },
      "source": [
        "# Used a api of globe for faster access\n",
        "!wget --no-check-certificate \\\n",
        "    https://storage.googleapis.com/laurencemoroney-blog.appspot.com/glove.6B.100d.txt \\\n",
        "    -O /tmp/glove.6B.100d.txt\n",
        "embeddings_index = {};\n",
        "with open('/tmp/glove.6B.100d.txt') as f:\n",
        "    for line in f:\n",
        "        values = line.split();\n",
        "        word = values[0];\n",
        "        coefs = np.asarray(values[1:], dtype='float32');\n",
        "        embeddings_index[word] = coefs;\n",
        "\n",
        "embeddings_matrix = np.zeros((word_size,100));\n",
        "for word, i in word_index.items():\n",
        "    embedding_vector = embeddings_index.get(word);\n",
        "    if embedding_vector is not None:\n",
        "        embeddings_matrix[i] = embedding_vector;"
      ],
      "execution_count": 18,
      "outputs": [
        {
          "output_type": "stream",
          "text": [
            "--2020-04-28 05:45:54--  https://storage.googleapis.com/laurencemoroney-blog.appspot.com/glove.6B.100d.txt\n",
            "Resolving storage.googleapis.com (storage.googleapis.com)... 173.194.76.128, 2a00:1450:400c:c02::80\n",
            "Connecting to storage.googleapis.com (storage.googleapis.com)|173.194.76.128|:443... connected.\n",
            "HTTP request sent, awaiting response... 200 OK\n",
            "Length: 347116733 (331M) [text/plain]\n",
            "Saving to: ‘/tmp/glove.6B.100d.txt’\n",
            "\n",
            "/tmp/glove.6B.100d. 100%[===================>] 331.04M  87.4MB/s    in 3.8s    \n",
            "\n",
            "2020-04-28 05:45:58 (87.4 MB/s) - ‘/tmp/glove.6B.100d.txt’ saved [347116733/347116733]\n",
            "\n"
          ],
          "name": "stdout"
        }
      ]
    },
    {
      "cell_type": "markdown",
      "metadata": {
        "id": "K0AUgSpgMJ02",
        "colab_type": "text"
      },
      "source": [
        "## Checking accurcay with different models\n"
      ]
    },
    {
      "cell_type": "markdown",
      "metadata": {
        "id": "oB311_B0MQAn",
        "colab_type": "text"
      },
      "source": [
        "### Single Layer Bidirectional LSTM"
      ]
    },
    {
      "cell_type": "code",
      "metadata": {
        "id": "CoyNGwZNLcFr",
        "colab_type": "code",
        "colab": {}
      },
      "source": [
        "model1=Sequential()"
      ],
      "execution_count": 0,
      "outputs": []
    },
    {
      "cell_type": "code",
      "metadata": {
        "id": "ZV-hAoW6Lw4o",
        "colab_type": "code",
        "colab": {}
      },
      "source": [
        "model1.add(Embedding(word_size,100, input_length=30, weights=[embeddings_matrix], trainable=False))\n",
        "model1.add(Dropout(0.2))\n",
        "model1.add(Bidirectional(LSTM(64)))\n",
        "model1.add(Dense(1,activation='sigmoid'))"
      ],
      "execution_count": 0,
      "outputs": []
    },
    {
      "cell_type": "code",
      "metadata": {
        "id": "Fs8etRWPMdZ4",
        "colab_type": "code",
        "colab": {
          "base_uri": "https://localhost:8080/",
          "height": 297
        },
        "outputId": "caf8de50-4ef0-4d06-8fc8-bbf656bac446"
      },
      "source": [
        "model1.summary()"
      ],
      "execution_count": 21,
      "outputs": [
        {
          "output_type": "stream",
          "text": [
            "Model: \"sequential\"\n",
            "_________________________________________________________________\n",
            "Layer (type)                 Output Shape              Param #   \n",
            "=================================================================\n",
            "embedding (Embedding)        (None, 30, 100)           2653600   \n",
            "_________________________________________________________________\n",
            "dropout (Dropout)            (None, 30, 100)           0         \n",
            "_________________________________________________________________\n",
            "bidirectional (Bidirectional (None, 128)               84480     \n",
            "_________________________________________________________________\n",
            "dense (Dense)                (None, 1)                 129       \n",
            "=================================================================\n",
            "Total params: 2,738,209\n",
            "Trainable params: 84,609\n",
            "Non-trainable params: 2,653,600\n",
            "_________________________________________________________________\n"
          ],
          "name": "stdout"
        }
      ]
    },
    {
      "cell_type": "code",
      "metadata": {
        "id": "QY-Oh2GDMmEp",
        "colab_type": "code",
        "colab": {}
      },
      "source": [
        "model1.compile(optimizer='adam',loss='binary_crossentropy',metrics=['accuracy'])"
      ],
      "execution_count": 0,
      "outputs": []
    },
    {
      "cell_type": "code",
      "metadata": {
        "id": "ojo8xmtiM3c2",
        "colab_type": "code",
        "colab": {
          "base_uri": "https://localhost:8080/",
          "height": 717
        },
        "outputId": "d005527e-167f-4d81-d541-385deec6a86c"
      },
      "source": [
        "history=model1.fit(train_padded,y_train,epochs=20,validation_data=(test_padded,y_test))"
      ],
      "execution_count": 23,
      "outputs": [
        {
          "output_type": "stream",
          "text": [
            "Epoch 1/20\n",
            "668/668 [==============================] - 7s 10ms/step - loss: 0.5007 - accuracy: 0.7552 - val_loss: 0.3944 - val_accuracy: 0.8242\n",
            "Epoch 2/20\n",
            "668/668 [==============================] - 6s 9ms/step - loss: 0.3799 - accuracy: 0.8287 - val_loss: 0.3580 - val_accuracy: 0.8443\n",
            "Epoch 3/20\n",
            "668/668 [==============================] - 6s 9ms/step - loss: 0.3364 - accuracy: 0.8536 - val_loss: 0.3415 - val_accuracy: 0.8525\n",
            "Epoch 4/20\n",
            "668/668 [==============================] - 6s 10ms/step - loss: 0.3105 - accuracy: 0.8641 - val_loss: 0.3423 - val_accuracy: 0.8504\n",
            "Epoch 5/20\n",
            "668/668 [==============================] - 6s 9ms/step - loss: 0.2793 - accuracy: 0.8803 - val_loss: 0.3693 - val_accuracy: 0.8531\n",
            "Epoch 6/20\n",
            "668/668 [==============================] - 6s 9ms/step - loss: 0.2631 - accuracy: 0.8870 - val_loss: 0.3152 - val_accuracy: 0.8656\n",
            "Epoch 7/20\n",
            "668/668 [==============================] - 6s 9ms/step - loss: 0.2411 - accuracy: 0.9002 - val_loss: 0.3938 - val_accuracy: 0.8418\n",
            "Epoch 8/20\n",
            "668/668 [==============================] - 6s 9ms/step - loss: 0.2230 - accuracy: 0.9059 - val_loss: 0.3156 - val_accuracy: 0.8650\n",
            "Epoch 9/20\n",
            "668/668 [==============================] - 6s 9ms/step - loss: 0.2039 - accuracy: 0.9157 - val_loss: 0.3714 - val_accuracy: 0.8560\n",
            "Epoch 10/20\n",
            "668/668 [==============================] - 6s 9ms/step - loss: 0.1962 - accuracy: 0.9210 - val_loss: 0.3333 - val_accuracy: 0.8575\n",
            "Epoch 11/20\n",
            "668/668 [==============================] - 6s 9ms/step - loss: 0.1770 - accuracy: 0.9264 - val_loss: 0.3441 - val_accuracy: 0.8652\n",
            "Epoch 12/20\n",
            "668/668 [==============================] - 6s 9ms/step - loss: 0.1571 - accuracy: 0.9375 - val_loss: 0.3247 - val_accuracy: 0.8660\n",
            "Epoch 13/20\n",
            "668/668 [==============================] - 6s 9ms/step - loss: 0.1468 - accuracy: 0.9436 - val_loss: 0.3717 - val_accuracy: 0.8641\n",
            "Epoch 14/20\n",
            "668/668 [==============================] - 6s 9ms/step - loss: 0.1411 - accuracy: 0.9455 - val_loss: 0.3525 - val_accuracy: 0.8697\n",
            "Epoch 15/20\n",
            "668/668 [==============================] - 6s 9ms/step - loss: 0.1291 - accuracy: 0.9479 - val_loss: 0.3640 - val_accuracy: 0.8667\n",
            "Epoch 16/20\n",
            "668/668 [==============================] - 6s 9ms/step - loss: 0.1192 - accuracy: 0.9532 - val_loss: 0.3719 - val_accuracy: 0.8680\n",
            "Epoch 17/20\n",
            "668/668 [==============================] - 6s 9ms/step - loss: 0.1127 - accuracy: 0.9561 - val_loss: 0.3975 - val_accuracy: 0.8635\n",
            "Epoch 18/20\n",
            "668/668 [==============================] - 6s 9ms/step - loss: 0.1000 - accuracy: 0.9616 - val_loss: 0.4085 - val_accuracy: 0.8705\n",
            "Epoch 19/20\n",
            "668/668 [==============================] - 6s 9ms/step - loss: 0.0985 - accuracy: 0.9606 - val_loss: 0.3928 - val_accuracy: 0.8714\n",
            "Epoch 20/20\n",
            "668/668 [==============================] - 6s 9ms/step - loss: 0.0945 - accuracy: 0.9635 - val_loss: 0.4240 - val_accuracy: 0.8693\n"
          ],
          "name": "stdout"
        }
      ]
    },
    {
      "cell_type": "code",
      "metadata": {
        "id": "1G5qWd22NNOq",
        "colab_type": "code",
        "colab": {
          "base_uri": "https://localhost:8080/",
          "height": 374
        },
        "outputId": "4e24e8fe-dba6-4301-9624-e5ed787e6796"
      },
      "source": [
        "fig,(ax1,ax2)=plt.subplots(nrows=1,ncols=2,figsize=(20,6))\n",
        "ax1.plot(history.history['accuracy'],label='train_accuracy')\n",
        "ax1.plot(history.history['val_accuracy'],label='test_accuracy')\n",
        "ax1.legend()\n",
        "ax2.plot(history.history['loss'],label='train_loss')\n",
        "ax2.plot(history.history['val_loss'],label='test_loss')\n",
        "ax2.legend()\n",
        "plt.show()"
      ],
      "execution_count": 24,
      "outputs": [
        {
          "output_type": "display_data",
          "data": {
            "image/png": "[encoded data removed]",
            "text/plain": [
              "<Figure size 1440x432 with 2 Axes>"
            ]
          },
          "metadata": {
            "tags": [],
            "needs_background": "light"
          }
        }
      ]
    },
    {
      "cell_type": "markdown",
      "metadata": {
        "id": "wHS05bkmRSYa",
        "colab_type": "text"
      },
      "source": [
        "### Bidirectional Multilayer Layer LSTM\n"
      ]
    },
    {
      "cell_type": "code",
      "metadata": {
        "id": "Ykob9sPzOXo9",
        "colab_type": "code",
        "colab": {}
      },
      "source": [
        "model2=Sequential()"
      ],
      "execution_count": 0,
      "outputs": []
    },
    {
      "cell_type": "code",
      "metadata": {
        "id": "PI5bFZkNRZud",
        "colab_type": "code",
        "colab": {}
      },
      "source": [
        "model2.add(Embedding(word_size,100, input_length=30, weights=[embeddings_matrix], trainable=False))\n",
        "model2.add(Dropout(0.3))\n",
        "model2.add(Bidirectional(LSTM(32,return_sequences=True)))\n",
        "model2.add(Dropout(0.3))\n",
        "model2.add(Bidirectional(LSTM(32)))\n",
        "model2.add(Dense(1,activation='sigmoid'))"
      ],
      "execution_count": 0,
      "outputs": []
    },
    {
      "cell_type": "code",
      "metadata": {
        "id": "lIdiPj6ZRl68",
        "colab_type": "code",
        "colab": {
          "base_uri": "https://localhost:8080/",
          "height": 367
        },
        "outputId": "980973cc-068e-4a2d-bab0-26a9a5752eea"
      },
      "source": [
        "model2.summary()"
      ],
      "execution_count": 27,
      "outputs": [
        {
          "output_type": "stream",
          "text": [
            "Model: \"sequential_1\"\n",
            "_________________________________________________________________\n",
            "Layer (type)                 Output Shape              Param #   \n",
            "=================================================================\n",
            "embedding_1 (Embedding)      (None, 30, 100)           2653600   \n",
            "_________________________________________________________________\n",
            "dropout_1 (Dropout)          (None, 30, 100)           0         \n",
            "_________________________________________________________________\n",
            "bidirectional_1 (Bidirection (None, 30, 64)            34048     \n",
            "_________________________________________________________________\n",
            "dropout_2 (Dropout)          (None, 30, 64)            0         \n",
            "_________________________________________________________________\n",
            "bidirectional_2 (Bidirection (None, 64)                24832     \n",
            "_________________________________________________________________\n",
            "dense_1 (Dense)              (None, 1)                 65        \n",
            "=================================================================\n",
            "Total params: 2,712,545\n",
            "Trainable params: 58,945\n",
            "Non-trainable params: 2,653,600\n",
            "_________________________________________________________________\n"
          ],
          "name": "stdout"
        }
      ]
    },
    {
      "cell_type": "code",
      "metadata": {
        "id": "tddHWaYqRoIu",
        "colab_type": "code",
        "colab": {}
      },
      "source": [
        "model2.compile(optimizer='adam',loss='binary_crossentropy',metrics=['accuracy'])"
      ],
      "execution_count": 0,
      "outputs": []
    },
    {
      "cell_type": "code",
      "metadata": {
        "id": "of8uBiDxRvC_",
        "colab_type": "code",
        "colab": {
          "base_uri": "https://localhost:8080/",
          "height": 717
        },
        "outputId": "109a2d1d-ecd4-4fbb-9d8d-ec5d0783d82f"
      },
      "source": [
        "history=model2.fit(train_padded,y_train,epochs=20,validation_data=(test_padded,y_test))"
      ],
      "execution_count": 29,
      "outputs": [
        {
          "output_type": "stream",
          "text": [
            "Epoch 1/20\n",
            "668/668 [==============================] - 11s 17ms/step - loss: 0.5222 - accuracy: 0.7389 - val_loss: 0.4150 - val_accuracy: 0.8132\n",
            "Epoch 2/20\n",
            "668/668 [==============================] - 10s 15ms/step - loss: 0.4182 - accuracy: 0.8075 - val_loss: 0.3703 - val_accuracy: 0.8392\n",
            "Epoch 3/20\n",
            "668/668 [==============================] - 10s 15ms/step - loss: 0.3732 - accuracy: 0.8345 - val_loss: 0.3476 - val_accuracy: 0.8527\n",
            "Epoch 4/20\n",
            "668/668 [==============================] - 10s 15ms/step - loss: 0.3528 - accuracy: 0.8442 - val_loss: 0.3269 - val_accuracy: 0.8609\n",
            "Epoch 5/20\n",
            "668/668 [==============================] - 10s 15ms/step - loss: 0.3269 - accuracy: 0.8563 - val_loss: 0.3308 - val_accuracy: 0.8596\n",
            "Epoch 6/20\n",
            "668/668 [==============================] - 10s 15ms/step - loss: 0.3124 - accuracy: 0.8647 - val_loss: 0.3144 - val_accuracy: 0.8673\n",
            "Epoch 7/20\n",
            "668/668 [==============================] - 10s 15ms/step - loss: 0.3022 - accuracy: 0.8685 - val_loss: 0.3084 - val_accuracy: 0.8675\n",
            "Epoch 8/20\n",
            "668/668 [==============================] - 10s 15ms/step - loss: 0.2893 - accuracy: 0.8771 - val_loss: 0.3203 - val_accuracy: 0.8648\n",
            "Epoch 9/20\n",
            "668/668 [==============================] - 10s 15ms/step - loss: 0.2746 - accuracy: 0.8833 - val_loss: 0.3123 - val_accuracy: 0.8680\n",
            "Epoch 10/20\n",
            "668/668 [==============================] - 10s 15ms/step - loss: 0.2723 - accuracy: 0.8835 - val_loss: 0.3137 - val_accuracy: 0.8723\n",
            "Epoch 11/20\n",
            "668/668 [==============================] - 10s 15ms/step - loss: 0.2643 - accuracy: 0.8890 - val_loss: 0.3039 - val_accuracy: 0.8703\n",
            "Epoch 12/20\n",
            "668/668 [==============================] - 10s 15ms/step - loss: 0.2556 - accuracy: 0.8928 - val_loss: 0.3089 - val_accuracy: 0.8718\n",
            "Epoch 13/20\n",
            "668/668 [==============================] - 10s 15ms/step - loss: 0.2527 - accuracy: 0.8914 - val_loss: 0.3025 - val_accuracy: 0.8776\n",
            "Epoch 14/20\n",
            "668/668 [==============================] - 10s 15ms/step - loss: 0.2437 - accuracy: 0.8973 - val_loss: 0.3151 - val_accuracy: 0.8693\n",
            "Epoch 15/20\n",
            "668/668 [==============================] - 10s 15ms/step - loss: 0.2362 - accuracy: 0.8997 - val_loss: 0.3062 - val_accuracy: 0.8768\n",
            "Epoch 16/20\n",
            "668/668 [==============================] - 10s 15ms/step - loss: 0.2297 - accuracy: 0.9034 - val_loss: 0.3138 - val_accuracy: 0.8746\n",
            "Epoch 17/20\n",
            "668/668 [==============================] - 10s 15ms/step - loss: 0.2299 - accuracy: 0.9038 - val_loss: 0.3100 - val_accuracy: 0.8794\n",
            "Epoch 18/20\n",
            "668/668 [==============================] - 10s 15ms/step - loss: 0.2214 - accuracy: 0.9083 - val_loss: 0.3123 - val_accuracy: 0.8736\n",
            "Epoch 19/20\n",
            "668/668 [==============================] - 10s 15ms/step - loss: 0.2182 - accuracy: 0.9091 - val_loss: 0.3000 - val_accuracy: 0.8824\n",
            "Epoch 20/20\n",
            "668/668 [==============================] - 10s 15ms/step - loss: 0.2128 - accuracy: 0.9096 - val_loss: 0.2999 - val_accuracy: 0.8817\n"
          ],
          "name": "stdout"
        }
      ]
    },
    {
      "cell_type": "code",
      "metadata": {
        "id": "fXCtodrRRyev",
        "colab_type": "code",
        "colab": {
          "base_uri": "https://localhost:8080/",
          "height": 374
        },
        "outputId": "c9396928-e2fc-461b-f33d-423aad7187af"
      },
      "source": [
        "fig,(ax1,ax2)=plt.subplots(nrows=1,ncols=2,figsize=(20,6))\n",
        "ax1.plot(history.history['accuracy'],label='train_accuracy')\n",
        "ax1.plot(history.history['val_accuracy'],label='test_accuracy')\n",
        "ax1.legend()\n",
        "ax2.plot(history.history['loss'],label='train_loss')\n",
        "ax2.plot(history.history['val_loss'],label='test_loss')\n",
        "ax2.legend()\n",
        "plt.show()"
      ],
      "execution_count": 30,
      "outputs": [
        {
          "output_type": "display_data",
          "data": {
            "image/png": "[encoded data removed]",
            "text/plain": [
              "<Figure size 1440x432 with 2 Axes>"
            ]
          },
          "metadata": {
            "tags": [],
            "needs_background": "light"
          }
        }
      ]
    },
    {
      "cell_type": "markdown",
      "metadata": {
        "id": "0qpWw93FSE75",
        "colab_type": "text"
      },
      "source": [
        "#### ***Using Globe Embedding Ovefitting Has been removed and both increse in test loss and decrese in taring accuracy is also solved.***\n"
      ]
    },
    {
      "cell_type": "markdown",
      "metadata": {
        "id": "nGd9NrsmTb1P",
        "colab_type": "text"
      },
      "source": [
        "#### ***Accuracy also increased to 88%***"
      ]
    },
    {
      "cell_type": "markdown",
      "metadata": {
        "id": "M8PlK8JuVUfg",
        "colab_type": "text"
      },
      "source": [
        "### ***Bidirectional Multilayer LSTM is a better fit model with good accuracy.***"
      ]
    }
  ]
}