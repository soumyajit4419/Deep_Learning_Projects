{
  "nbformat": 4,
  "nbformat_minor": 0,
  "metadata": {
    "colab": {
      "name": "News Headlines Sarcasm Detection.ipynb",
      "provenance": [],
      "collapsed_sections": []
    },
    "kernelspec": {
      "name": "python3",
      "display_name": "Python 3"
    },
    "accelerator": "GPU"
  },
  "cells": [
    {
      "cell_type": "code",
      "metadata": {
        "id": "g0eftqbZ2zET",
        "colab_type": "code",
        "outputId": "d77b4fe5-48a0-42b9-cfd2-e1e95aa94ed3",
        "colab": {
          "base_uri": "https://localhost:8080/",
          "height": 72
        }
      },
      "source": [
        "import pandas as pd\n",
        "import numpy as np\n",
        "import seaborn as sns\n",
        "import matplotlib.pyplot as plt\n",
        "%matplotlib inline"
      ],
      "execution_count": 0,
      "outputs": [
        {
          "output_type": "stream",
          "text": [
            "/usr/local/lib/python3.6/dist-packages/statsmodels/tools/_testing.py:19: FutureWarning: pandas.util.testing is deprecated. Use the functions in the public API at pandas.testing instead.\n",
            "  import pandas.util.testing as tm\n"
          ],
          "name": "stderr"
        }
      ]
    },
    {
      "cell_type": "code",
      "metadata": {
        "id": "hkLrnsdstHS0",
        "colab_type": "code",
        "colab": {}
      },
      "source": [
        "from sklearn.model_selection import train_test_split"
      ],
      "execution_count": 0,
      "outputs": []
    },
    {
      "cell_type": "code",
      "metadata": {
        "id": "xMff2xBr3qpG",
        "colab_type": "code",
        "outputId": "a51d96cc-ae17-456b-ae22-da66009d0e13",
        "colab": {
          "base_uri": "https://localhost:8080/",
          "height": 34
        }
      },
      "source": [
        "import tensorflow as tf\n",
        "tf.__version__"
      ],
      "execution_count": 0,
      "outputs": [
        {
          "output_type": "execute_result",
          "data": {
            "text/plain": [
              "'2.2.0-rc3'"
            ]
          },
          "metadata": {
            "tags": []
          },
          "execution_count": 3
        }
      ]
    },
    {
      "cell_type": "code",
      "metadata": {
        "id": "hu6wdtFW3vsA",
        "colab_type": "code",
        "colab": {}
      },
      "source": [
        "from tensorflow.keras.preprocessing.text import Tokenizer\n",
        "from tensorflow.keras.preprocessing.sequence import pad_sequences"
      ],
      "execution_count": 0,
      "outputs": []
    },
    {
      "cell_type": "code",
      "metadata": {
        "id": "UhqQJ12yzLkz",
        "colab_type": "code",
        "colab": {}
      },
      "source": [
        "from tensorflow.keras.models import Sequential\n",
        "from tensorflow.keras.layers import Dense\n",
        "from tensorflow.keras.layers import Dropout,Flatten,GlobalAveragePooling1D\n",
        "from tensorflow.keras.layers import LSTM\n",
        "from tensorflow.keras.layers import Bidirectional\n",
        "from tensorflow.keras.layers import Embedding"
      ],
      "execution_count": 0,
      "outputs": []
    },
    {
      "cell_type": "code",
      "metadata": {
        "id": "IfkU2joL57aw",
        "colab_type": "code",
        "colab": {}
      },
      "source": [
        "df=pd.read_csv('/content/drive/My Drive/Colab Notebooks/headlines.csv')"
      ],
      "execution_count": 0,
      "outputs": []
    },
    {
      "cell_type": "code",
      "metadata": {
        "id": "yZscSx9-7xqS",
        "colab_type": "code",
        "outputId": "f5909fce-6459-4ed6-d1ca-647d4f333620",
        "colab": {
          "base_uri": "https://localhost:8080/",
          "height": 197
        }
      },
      "source": [
        "df.head()"
      ],
      "execution_count": 0,
      "outputs": [
        {
          "output_type": "execute_result",
          "data": {
            "text/html": [
              "<div>\n",
              "<style scoped>\n",
              "    .dataframe tbody tr th:only-of-type {\n",
              "        vertical-align: middle;\n",
              "    }\n",
              "\n",
              "    .dataframe tbody tr th {\n",
              "        vertical-align: top;\n",
              "    }\n",
              "\n",
              "    .dataframe thead th {\n",
              "        text-align: right;\n",
              "    }\n",
              "</style>\n",
              "<table border=\"1\" class=\"dataframe\">\n",
              "  <thead>\n",
              "    <tr style=\"text-align: right;\">\n",
              "      <th></th>\n",
              "      <th>article_link</th>\n",
              "      <th>headline</th>\n",
              "      <th>is_sarcastic</th>\n",
              "    </tr>\n",
              "  </thead>\n",
              "  <tbody>\n",
              "    <tr>\n",
              "      <th>0</th>\n",
              "      <td>https://www.huffingtonpost.com/entry/versace-b...</td>\n",
              "      <td>former versace store clerk sues over secret 'b...</td>\n",
              "      <td>0</td>\n",
              "    </tr>\n",
              "    <tr>\n",
              "      <th>1</th>\n",
              "      <td>https://www.huffingtonpost.com/entry/roseanne-...</td>\n",
              "      <td>the 'roseanne' revival catches up to our thorn...</td>\n",
              "      <td>0</td>\n",
              "    </tr>\n",
              "    <tr>\n",
              "      <th>2</th>\n",
              "      <td>https://local.theonion.com/mom-starting-to-fea...</td>\n",
              "      <td>mom starting to fear son's web series closest ...</td>\n",
              "      <td>1</td>\n",
              "    </tr>\n",
              "    <tr>\n",
              "      <th>3</th>\n",
              "      <td>https://politics.theonion.com/boehner-just-wan...</td>\n",
              "      <td>boehner just wants wife to listen, not come up...</td>\n",
              "      <td>1</td>\n",
              "    </tr>\n",
              "    <tr>\n",
              "      <th>4</th>\n",
              "      <td>https://www.huffingtonpost.com/entry/jk-rowlin...</td>\n",
              "      <td>j.k. rowling wishes snape happy birthday in th...</td>\n",
              "      <td>0</td>\n",
              "    </tr>\n",
              "  </tbody>\n",
              "</table>\n",
              "</div>"
            ],
            "text/plain": [
              "                                        article_link  ... is_sarcastic\n",
              "0  https://www.huffingtonpost.com/entry/versace-b...  ...            0\n",
              "1  https://www.huffingtonpost.com/entry/roseanne-...  ...            0\n",
              "2  https://local.theonion.com/mom-starting-to-fea...  ...            1\n",
              "3  https://politics.theonion.com/boehner-just-wan...  ...            1\n",
              "4  https://www.huffingtonpost.com/entry/jk-rowlin...  ...            0\n",
              "\n",
              "[5 rows x 3 columns]"
            ]
          },
          "metadata": {
            "tags": []
          },
          "execution_count": 7
        }
      ]
    },
    {
      "cell_type": "code",
      "metadata": {
        "id": "rgIIG7bG70xi",
        "colab_type": "code",
        "outputId": "94970a87-f08c-41ea-ed53-2256209c94ae",
        "colab": {
          "base_uri": "https://localhost:8080/",
          "height": 34
        }
      },
      "source": [
        "df.shape"
      ],
      "execution_count": 0,
      "outputs": [
        {
          "output_type": "execute_result",
          "data": {
            "text/plain": [
              "(26709, 3)"
            ]
          },
          "metadata": {
            "tags": []
          },
          "execution_count": 8
        }
      ]
    },
    {
      "cell_type": "code",
      "metadata": {
        "id": "R56MWoe39z4N",
        "colab_type": "code",
        "outputId": "5595e186-df43-4a14-d2ee-41009658cfd7",
        "colab": {
          "base_uri": "https://localhost:8080/",
          "height": 227
        }
      },
      "source": [
        "headlines=df['headline']\n",
        "headlines"
      ],
      "execution_count": 0,
      "outputs": [
        {
          "output_type": "execute_result",
          "data": {
            "text/plain": [
              "0        former versace store clerk sues over secret 'b...\n",
              "1        the 'roseanne' revival catches up to our thorn...\n",
              "2        mom starting to fear son's web series closest ...\n",
              "3        boehner just wants wife to listen, not come up...\n",
              "4        j.k. rowling wishes snape happy birthday in th...\n",
              "                               ...                        \n",
              "26704                 american politics in moral free-fall\n",
              "26705                              america's best 20 hikes\n",
              "26706                                reparations and obama\n",
              "26707    israeli ban targeting boycott supporters raise...\n",
              "26708                    gourmet gifts for the foodie 2014\n",
              "Name: headline, Length: 26709, dtype: object"
            ]
          },
          "metadata": {
            "tags": []
          },
          "execution_count": 9
        }
      ]
    },
    {
      "cell_type": "code",
      "metadata": {
        "id": "dxux2nVNtQeY",
        "colab_type": "code",
        "outputId": "69109c9b-f614-42c5-a25a-48edfe05b1b4",
        "colab": {
          "base_uri": "https://localhost:8080/",
          "height": 227
        }
      },
      "source": [
        "label=df['is_sarcastic']\n",
        "label"
      ],
      "execution_count": 0,
      "outputs": [
        {
          "output_type": "execute_result",
          "data": {
            "text/plain": [
              "0        0\n",
              "1        0\n",
              "2        1\n",
              "3        1\n",
              "4        0\n",
              "        ..\n",
              "26704    0\n",
              "26705    0\n",
              "26706    0\n",
              "26707    0\n",
              "26708    0\n",
              "Name: is_sarcastic, Length: 26709, dtype: int64"
            ]
          },
          "metadata": {
            "tags": []
          },
          "execution_count": 10
        }
      ]
    },
    {
      "cell_type": "markdown",
      "metadata": {
        "id": "qTinrGqSt2VS",
        "colab_type": "text"
      },
      "source": [
        "## Splitting The Data\n",
        "\n"
      ]
    },
    {
      "cell_type": "code",
      "metadata": {
        "id": "u_8eNLW_tXLG",
        "colab_type": "code",
        "colab": {}
      },
      "source": [
        "x_train,x_test,y_train,y_test=train_test_split(headlines,label,test_size=0.3)"
      ],
      "execution_count": 0,
      "outputs": []
    },
    {
      "cell_type": "markdown",
      "metadata": {
        "id": "44HJf_MVt7Q3",
        "colab_type": "text"
      },
      "source": [
        "## Preparing the train data\n",
        "\n",
        "\n"
      ]
    },
    {
      "cell_type": "code",
      "metadata": {
        "id": "BxH8syEzthM9",
        "colab_type": "code",
        "colab": {}
      },
      "source": [
        "tokenizer=Tokenizer(num_words=10000)"
      ],
      "execution_count": 0,
      "outputs": []
    },
    {
      "cell_type": "code",
      "metadata": {
        "id": "zc6G228Qtwnc",
        "colab_type": "code",
        "colab": {}
      },
      "source": [
        "tokenizer.fit_on_texts(x_train)"
      ],
      "execution_count": 0,
      "outputs": []
    },
    {
      "cell_type": "code",
      "metadata": {
        "id": "bLTFiykQuDOj",
        "colab_type": "code",
        "outputId": "39e37780-4ab3-4518-d0fd-bae1f1e4f5de",
        "colab": {
          "base_uri": "https://localhost:8080/",
          "height": 1000
        }
      },
      "source": [
        "word_index=tokenizer.word_index\n",
        "word_index"
      ],
      "execution_count": 0,
      "outputs": [
        {
          "output_type": "execute_result",
          "data": {
            "text/plain": [
              "{'to': 1,\n",
              " 'of': 2,\n",
              " 'the': 3,\n",
              " 'in': 4,\n",
              " 'for': 5,\n",
              " 'a': 6,\n",
              " 'on': 7,\n",
              " 'and': 8,\n",
              " 'with': 9,\n",
              " 'is': 10,\n",
              " 'new': 11,\n",
              " 'trump': 12,\n",
              " 'at': 13,\n",
              " 'from': 14,\n",
              " 'man': 15,\n",
              " 'about': 16,\n",
              " 'you': 17,\n",
              " 'this': 18,\n",
              " 'be': 19,\n",
              " 'up': 20,\n",
              " 'by': 21,\n",
              " 'after': 22,\n",
              " 'how': 23,\n",
              " 'out': 24,\n",
              " 'that': 25,\n",
              " 'as': 26,\n",
              " 'it': 27,\n",
              " 'not': 28,\n",
              " 'what': 29,\n",
              " 'your': 30,\n",
              " 'are': 31,\n",
              " 'his': 32,\n",
              " 'all': 33,\n",
              " 'just': 34,\n",
              " 'will': 35,\n",
              " 'he': 36,\n",
              " 'who': 37,\n",
              " 'into': 38,\n",
              " 'has': 39,\n",
              " 'one': 40,\n",
              " 'year': 41,\n",
              " 'more': 42,\n",
              " 'why': 43,\n",
              " 'report': 44,\n",
              " 'area': 45,\n",
              " 'have': 46,\n",
              " 'u': 47,\n",
              " 'donald': 48,\n",
              " 'over': 49,\n",
              " 'day': 50,\n",
              " 'says': 51,\n",
              " 's': 52,\n",
              " 'can': 53,\n",
              " 'time': 54,\n",
              " 'woman': 55,\n",
              " 'first': 56,\n",
              " 'like': 57,\n",
              " 'no': 58,\n",
              " 'old': 59,\n",
              " 'get': 60,\n",
              " \"trump's\": 61,\n",
              " 'people': 62,\n",
              " 'her': 63,\n",
              " 'off': 64,\n",
              " 'life': 65,\n",
              " 'an': 66,\n",
              " 'house': 67,\n",
              " 'obama': 68,\n",
              " 'now': 69,\n",
              " 'women': 70,\n",
              " 'still': 71,\n",
              " 'white': 72,\n",
              " 'my': 73,\n",
              " 'make': 74,\n",
              " \"'\": 75,\n",
              " 'i': 76,\n",
              " 'was': 77,\n",
              " 'clinton': 78,\n",
              " 'than': 79,\n",
              " 'if': 80,\n",
              " 'back': 81,\n",
              " 'down': 82,\n",
              " '5': 83,\n",
              " 'world': 84,\n",
              " 'we': 85,\n",
              " 'could': 86,\n",
              " 'when': 87,\n",
              " 'before': 88,\n",
              " 'their': 89,\n",
              " 'do': 90,\n",
              " 'gop': 91,\n",
              " 'him': 92,\n",
              " 'way': 93,\n",
              " \"it's\": 94,\n",
              " '3': 95,\n",
              " 'most': 96,\n",
              " 'americans': 97,\n",
              " 'should': 98,\n",
              " 'would': 99,\n",
              " 'black': 100,\n",
              " 'being': 101,\n",
              " 'family': 102,\n",
              " 'bill': 103,\n",
              " 'study': 104,\n",
              " 'they': 105,\n",
              " 'last': 106,\n",
              " 'really': 107,\n",
              " 'watch': 108,\n",
              " 'years': 109,\n",
              " 'know': 110,\n",
              " 'best': 111,\n",
              " 'school': 112,\n",
              " 'home': 113,\n",
              " 'police': 114,\n",
              " 'but': 115,\n",
              " 'american': 116,\n",
              " 'video': 117,\n",
              " 'only': 118,\n",
              " 'during': 119,\n",
              " 'may': 120,\n",
              " \"can't\": 121,\n",
              " 'so': 122,\n",
              " 'or': 123,\n",
              " 'death': 124,\n",
              " 'going': 125,\n",
              " 'president': 126,\n",
              " 'nation': 127,\n",
              " 'health': 128,\n",
              " '10': 129,\n",
              " 'show': 130,\n",
              " 'hillary': 131,\n",
              " 'need': 132,\n",
              " 'state': 133,\n",
              " 'things': 134,\n",
              " \"'the\": 135,\n",
              " 'finds': 136,\n",
              " 'good': 137,\n",
              " 'say': 138,\n",
              " 'big': 139,\n",
              " 'campaign': 140,\n",
              " 'right': 141,\n",
              " '2': 142,\n",
              " 'against': 143,\n",
              " '000': 144,\n",
              " 'some': 145,\n",
              " 'work': 146,\n",
              " 'every': 147,\n",
              " 'mom': 148,\n",
              " 'she': 149,\n",
              " 'party': 150,\n",
              " 'child': 151,\n",
              " 'change': 152,\n",
              " \"don't\": 153,\n",
              " 'getting': 154,\n",
              " 'high': 155,\n",
              " 'love': 156,\n",
              " 'our': 157,\n",
              " 'kids': 158,\n",
              " 'gets': 159,\n",
              " 'parents': 160,\n",
              " 'self': 161,\n",
              " 'too': 162,\n",
              " 'makes': 163,\n",
              " 'look': 164,\n",
              " 'while': 165,\n",
              " 'john': 166,\n",
              " 'other': 167,\n",
              " 'dead': 168,\n",
              " 'calls': 169,\n",
              " \"doesn't\": 170,\n",
              " 'election': 171,\n",
              " 'little': 172,\n",
              " 'court': 173,\n",
              " \"here's\": 174,\n",
              " 'want': 175,\n",
              " 'again': 176,\n",
              " 'real': 177,\n",
              " 'through': 178,\n",
              " 'next': 179,\n",
              " 'these': 180,\n",
              " 'take': 181,\n",
              " 'local': 182,\n",
              " 'go': 183,\n",
              " '7': 184,\n",
              " 'gay': 185,\n",
              " 'office': 186,\n",
              " 'see': 187,\n",
              " 'never': 188,\n",
              " 'takes': 189,\n",
              " 'where': 190,\n",
              " '6': 191,\n",
              " \"he's\": 192,\n",
              " 'million': 193,\n",
              " 'week': 194,\n",
              " 'own': 195,\n",
              " 'help': 196,\n",
              " 'bush': 197,\n",
              " 'news': 198,\n",
              " \"nation's\": 199,\n",
              " 'sex': 200,\n",
              " 'us': 201,\n",
              " 'college': 202,\n",
              " 'plan': 203,\n",
              " 'even': 204,\n",
              " '1': 205,\n",
              " 'got': 206,\n",
              " 'another': 207,\n",
              " 'around': 208,\n",
              " 'dad': 209,\n",
              " 'made': 210,\n",
              " 'them': 211,\n",
              " 'its': 212,\n",
              " 'baby': 213,\n",
              " 'guy': 214,\n",
              " 'congress': 215,\n",
              " 'thing': 216,\n",
              " 'dog': 217,\n",
              " 'stop': 218,\n",
              " 'war': 219,\n",
              " 'star': 220,\n",
              " 'much': 221,\n",
              " 'long': 222,\n",
              " 'ever': 223,\n",
              " 'climate': 224,\n",
              " 'america': 225,\n",
              " 'care': 226,\n",
              " 'wants': 227,\n",
              " 'night': 228,\n",
              " 'two': 229,\n",
              " 'finally': 230,\n",
              " '4': 231,\n",
              " 'debate': 232,\n",
              " 'ways': 233,\n",
              " 'couple': 234,\n",
              " 'food': 235,\n",
              " 'sexual': 236,\n",
              " 'anti': 237,\n",
              " 'national': 238,\n",
              " 'senate': 239,\n",
              " 'north': 240,\n",
              " 'bad': 241,\n",
              " \"man's\": 242,\n",
              " 'business': 243,\n",
              " '20': 244,\n",
              " 'actually': 245,\n",
              " 'paul': 246,\n",
              " 'gun': 247,\n",
              " 'live': 248,\n",
              " 'give': 249,\n",
              " 'under': 250,\n",
              " 'had': 251,\n",
              " 'better': 252,\n",
              " 'been': 253,\n",
              " 'shows': 254,\n",
              " 'money': 255,\n",
              " 'shooting': 256,\n",
              " 'top': 257,\n",
              " '8': 258,\n",
              " 'season': 259,\n",
              " 'announces': 260,\n",
              " 'without': 261,\n",
              " '9': 262,\n",
              " 'face': 263,\n",
              " 'game': 264,\n",
              " 'children': 265,\n",
              " 'son': 266,\n",
              " 'me': 267,\n",
              " 'end': 268,\n",
              " 'job': 269,\n",
              " 'trying': 270,\n",
              " 'students': 271,\n",
              " 'government': 272,\n",
              " 'fire': 273,\n",
              " 'film': 274,\n",
              " 'middle': 275,\n",
              " 'there': 276,\n",
              " 'god': 277,\n",
              " 'republicans': 278,\n",
              " 'men': 279,\n",
              " \"won't\": 280,\n",
              " 'supreme': 281,\n",
              " 'teen': 282,\n",
              " 'tv': 283,\n",
              " 'media': 284,\n",
              " 'introduces': 285,\n",
              " 'reveals': 286,\n",
              " 'history': 287,\n",
              " 'story': 288,\n",
              " 'city': 289,\n",
              " 'away': 290,\n",
              " 'pope': 291,\n",
              " 'movie': 292,\n",
              " 'law': 293,\n",
              " 'keep': 294,\n",
              " 'former': 295,\n",
              " 'attack': 296,\n",
              " 'facebook': 297,\n",
              " 'speech': 298,\n",
              " 'fight': 299,\n",
              " 'great': 300,\n",
              " '2016': 301,\n",
              " 'republican': 302,\n",
              " 'everyone': 303,\n",
              " 'friend': 304,\n",
              " 'support': 305,\n",
              " 'free': 306,\n",
              " 'tell': 307,\n",
              " 'enough': 308,\n",
              " 'does': 309,\n",
              " 'run': 310,\n",
              " 'come': 311,\n",
              " 'friends': 312,\n",
              " '11': 313,\n",
              " 'security': 314,\n",
              " 'making': 315,\n",
              " 'wedding': 316,\n",
              " 'car': 317,\n",
              " 'found': 318,\n",
              " 'york': 319,\n",
              " 'sanders': 320,\n",
              " 'open': 321,\n",
              " 'democrats': 322,\n",
              " 'looking': 323,\n",
              " 'doing': 324,\n",
              " 'must': 325,\n",
              " 'email': 326,\n",
              " 'deal': 327,\n",
              " 'behind': 328,\n",
              " 'might': 329,\n",
              " 'already': 330,\n",
              " 'talk': 331,\n",
              " 'presidential': 332,\n",
              " 'body': 333,\n",
              " 'entire': 334,\n",
              " 'find': 335,\n",
              " 'photos': 336,\n",
              " 'rights': 337,\n",
              " 'part': 338,\n",
              " 'line': 339,\n",
              " 'book': 340,\n",
              " 'once': 341,\n",
              " 'james': 342,\n",
              " 'power': 343,\n",
              " 'coming': 344,\n",
              " 'name': 345,\n",
              " 'single': 346,\n",
              " 'think': 347,\n",
              " 'female': 348,\n",
              " 'call': 349,\n",
              " 'thinks': 350,\n",
              " 'morning': 351,\n",
              " 'second': 352,\n",
              " 'public': 353,\n",
              " 'vote': 354,\n",
              " 'violence': 355,\n",
              " 'use': 356,\n",
              " 'twitter': 357,\n",
              " 'voters': 358,\n",
              " 'very': 359,\n",
              " 'human': 360,\n",
              " 'poll': 361,\n",
              " 'same': 362,\n",
              " 'used': 363,\n",
              " 'each': 364,\n",
              " 'scientists': 365,\n",
              " 'bernie': 366,\n",
              " 'russia': 367,\n",
              " 'win': 368,\n",
              " 'control': 369,\n",
              " 'killed': 370,\n",
              " 'marriage': 371,\n",
              " 'department': 372,\n",
              " 'having': 373,\n",
              " 'days': 374,\n",
              " 'group': 375,\n",
              " 'tax': 376,\n",
              " 'girl': 377,\n",
              " 'any': 378,\n",
              " 'ad': 379,\n",
              " 'person': 380,\n",
              " 'asks': 381,\n",
              " 'claims': 382,\n",
              " 'race': 383,\n",
              " 'secret': 384,\n",
              " \"world's\": 385,\n",
              " 'future': 386,\n",
              " 'something': 387,\n",
              " 'because': 388,\n",
              " 'california': 389,\n",
              " 'country': 390,\n",
              " 'class': 391,\n",
              " 'teacher': 392,\n",
              " 'needs': 393,\n",
              " 'ban': 394,\n",
              " 'between': 395,\n",
              " 'christmas': 396,\n",
              " 'post': 397,\n",
              " 'save': 398,\n",
              " \"didn't\": 399,\n",
              " 'ryan': 400,\n",
              " 'unveils': 401,\n",
              " 'meet': 402,\n",
              " '12': 403,\n",
              " 'releases': 404,\n",
              " 'past': 405,\n",
              " 'cruz': 406,\n",
              " 'sure': 407,\n",
              " 'many': 408,\n",
              " 'super': 409,\n",
              " 'full': 410,\n",
              " 'obamacare': 411,\n",
              " 'art': 412,\n",
              " 'room': 413,\n",
              " 'red': 414,\n",
              " 'record': 415,\n",
              " 'secretary': 416,\n",
              " 'summer': 417,\n",
              " 'set': 418,\n",
              " 'tells': 419,\n",
              " 'political': 420,\n",
              " 'ceo': 421,\n",
              " 'put': 422,\n",
              " 'let': 423,\n",
              " 'did': 424,\n",
              " 'minutes': 425,\n",
              " 'student': 426,\n",
              " 'employee': 427,\n",
              " 'left': 428,\n",
              " '15': 429,\n",
              " 'pay': 430,\n",
              " 'mike': 431,\n",
              " 'reports': 432,\n",
              " 'lives': 433,\n",
              " 'pretty': 434,\n",
              " 'boy': 435,\n",
              " 'case': 436,\n",
              " 'talks': 437,\n",
              " 'michael': 438,\n",
              " 'running': 439,\n",
              " 'fans': 440,\n",
              " 'idea': 441,\n",
              " 'goes': 442,\n",
              " 'start': 443,\n",
              " 'list': 444,\n",
              " 'judge': 445,\n",
              " 'perfect': 446,\n",
              " 'wife': 447,\n",
              " 'living': 448,\n",
              " 'taking': 449,\n",
              " 'ted': 450,\n",
              " 'eating': 451,\n",
              " 'music': 452,\n",
              " 'plans': 453,\n",
              " 'biden': 454,\n",
              " 'birthday': 455,\n",
              " 'wall': 456,\n",
              " 'owner': 457,\n",
              " 'hot': 458,\n",
              " 'lost': 459,\n",
              " 'social': 460,\n",
              " 'thousands': 461,\n",
              " 'until': 462,\n",
              " 'team': 463,\n",
              " \"i'm\": 464,\n",
              " 'forced': 465,\n",
              " 'admits': 466,\n",
              " 'month': 467,\n",
              " 'fucking': 468,\n",
              " 'states': 469,\n",
              " 't': 470,\n",
              " 'inside': 471,\n",
              " 'dream': 472,\n",
              " \"you're\": 473,\n",
              " 'ready': 474,\n",
              " 'heart': 475,\n",
              " 'age': 476,\n",
              " 'always': 477,\n",
              " 'feel': 478,\n",
              " 'company': 479,\n",
              " 'kim': 480,\n",
              " '30': 481,\n",
              " 'education': 482,\n",
              " 'everything': 483,\n",
              " 'times': 484,\n",
              " 'photo': 485,\n",
              " 'missing': 486,\n",
              " 'thought': 487,\n",
              " 'chris': 488,\n",
              " 'head': 489,\n",
              " 'wrong': 490,\n",
              " 'three': 491,\n",
              " 'daughter': 492,\n",
              " 'were': 493,\n",
              " 'wins': 494,\n",
              " 'phone': 495,\n",
              " 'father': 496,\n",
              " 'attacks': 497,\n",
              " 'looks': 498,\n",
              " 'dies': 499,\n",
              " 'drug': 500,\n",
              " '50': 501,\n",
              " 'kill': 502,\n",
              " 'third': 503,\n",
              " 'chief': 504,\n",
              " 'minute': 505,\n",
              " \"what's\": 506,\n",
              " 'happy': 507,\n",
              " 'sleep': 508,\n",
              " 'probably': 509,\n",
              " 'here': 510,\n",
              " \"'i\": 511,\n",
              " 'small': 512,\n",
              " 'shot': 513,\n",
              " 'march': 514,\n",
              " 'candidate': 515,\n",
              " 'george': 516,\n",
              " 'gives': 517,\n",
              " 'working': 518,\n",
              " 'believe': 519,\n",
              " 'breaking': 520,\n",
              " 'romney': 521,\n",
              " 'warns': 522,\n",
              " 'young': 523,\n",
              " 'leaves': 524,\n",
              " 'texas': 525,\n",
              " 'service': 526,\n",
              " 'yet': 527,\n",
              " \"women's\": 528,\n",
              " 'air': 529,\n",
              " 'officials': 530,\n",
              " 'fbi': 531,\n",
              " 'justice': 532,\n",
              " 'tips': 533,\n",
              " 'isis': 534,\n",
              " 'told': 535,\n",
              " 'restaurant': 536,\n",
              " 'comes': 537,\n",
              " 'south': 538,\n",
              " 'federal': 539,\n",
              " 'order': 540,\n",
              " 'tweets': 541,\n",
              " 'percent': 542,\n",
              " 'street': 543,\n",
              " 'assault': 544,\n",
              " 'ask': 545,\n",
              " 'reasons': 546,\n",
              " 'series': 547,\n",
              " 'hard': 548,\n",
              " 'cancer': 549,\n",
              " 'well': 550,\n",
              " 'word': 551,\n",
              " 'personal': 552,\n",
              " 'fan': 553,\n",
              " 'using': 554,\n",
              " 'leave': 555,\n",
              " 'internet': 556,\n",
              " 'today': 557,\n",
              " 'reason': 558,\n",
              " 'letter': 559,\n",
              " \"she's\": 560,\n",
              " 'rise': 561,\n",
              " 'town': 562,\n",
              " 'store': 563,\n",
              " \"isn't\": 564,\n",
              " 'relationship': 565,\n",
              " 'meeting': 566,\n",
              " 'those': 567,\n",
              " 'protest': 568,\n",
              " 'beautiful': 569,\n",
              " 'rock': 570,\n",
              " 'washington': 571,\n",
              " 'half': 572,\n",
              " 'mother': 573,\n",
              " 'move': 574,\n",
              " 'crisis': 575,\n",
              " 'hours': 576,\n",
              " 'online': 577,\n",
              " 'holiday': 578,\n",
              " 'water': 579,\n",
              " 'box': 580,\n",
              " 'together': 581,\n",
              " 'cover': 582,\n",
              " 'questions': 583,\n",
              " 'military': 584,\n",
              " 'bar': 585,\n",
              " 'abortion': 586,\n",
              " 'director': 587,\n",
              " 'chinese': 588,\n",
              " 'opens': 589,\n",
              " 'ex': 590,\n",
              " 'earth': 591,\n",
              " \"america's\": 592,\n",
              " 'non': 593,\n",
              " 'watching': 594,\n",
              " 'hollywood': 595,\n",
              " 'korea': 596,\n",
              " 'stage': 597,\n",
              " 'leaders': 598,\n",
              " 'guide': 599,\n",
              " 'iran': 600,\n",
              " 'latest': 601,\n",
              " 'celebrates': 602,\n",
              " 'place': 603,\n",
              " 'taylor': 604,\n",
              " 'al': 605,\n",
              " 'outside': 606,\n",
              " 'point': 607,\n",
              " 'trans': 608,\n",
              " 'congressman': 609,\n",
              " 'someone': 610,\n",
              " 'united': 611,\n",
              " 'system': 612,\n",
              " 'message': 613,\n",
              " 'administration': 614,\n",
              " 'huffpost': 615,\n",
              " 'become': 616,\n",
              " 'fashion': 617,\n",
              " 'hit': 618,\n",
              " 'break': 619,\n",
              " 'conversation': 620,\n",
              " 'hate': 621,\n",
              " 'fun': 622,\n",
              " 'months': 623,\n",
              " 'democratic': 624,\n",
              " 'few': 625,\n",
              " 'adorable': 626,\n",
              " 'francis': 627,\n",
              " 'weekend': 628,\n",
              " 'straight': 629,\n",
              " 'early': 630,\n",
              " 'date': 631,\n",
              " 'visit': 632,\n",
              " 'excited': 633,\n",
              " 'nuclear': 634,\n",
              " 'huge': 635,\n",
              " 'leader': 636,\n",
              " 'syria': 637,\n",
              " 'less': 638,\n",
              " 'majority': 639,\n",
              " 'hair': 640,\n",
              " 'talking': 641,\n",
              " 'different': 642,\n",
              " 'cat': 643,\n",
              " 'muslim': 644,\n",
              " 'mark': 645,\n",
              " 'tom': 646,\n",
              " 'lot': 647,\n",
              " 'j': 648,\n",
              " 'problem': 649,\n",
              " 'trailer': 650,\n",
              " 'lessons': 651,\n",
              " 'far': 652,\n",
              " 'dinner': 653,\n",
              " 'weird': 654,\n",
              " 'late': 655,\n",
              " 'lead': 656,\n",
              " 'gift': 657,\n",
              " 'die': 658,\n",
              " 'front': 659,\n",
              " 'low': 660,\n",
              " 'king': 661,\n",
              " 'russian': 662,\n",
              " 'trip': 663,\n",
              " \"obama's\": 664,\n",
              " 'bring': 665,\n",
              " 'kid': 666,\n",
              " 'nothing': 667,\n",
              " 'wearing': 668,\n",
              " 'china': 669,\n",
              " 'ice': 670,\n",
              " 'buy': 671,\n",
              " 'scott': 672,\n",
              " 'shit': 673,\n",
              " 'knows': 674,\n",
              " 'himself': 675,\n",
              " 'powerful': 676,\n",
              " 'moment': 677,\n",
              " 'travel': 678,\n",
              " 'prison': 679,\n",
              " 'k': 680,\n",
              " 'worst': 681,\n",
              " 'hour': 682,\n",
              " 'senator': 683,\n",
              " 'accused': 684,\n",
              " 'dating': 685,\n",
              " 'oscar': 686,\n",
              " 'bus': 687,\n",
              " 'key': 688,\n",
              " '2015': 689,\n",
              " 'cop': 690,\n",
              " 'whole': 691,\n",
              " 'david': 692,\n",
              " 'reform': 693,\n",
              " 'issues': 694,\n",
              " 'girlfriend': 695,\n",
              " 'stephen': 696,\n",
              " 'response': 697,\n",
              " 'read': 698,\n",
              " 'called': 699,\n",
              " '100': 700,\n",
              " 'special': 701,\n",
              " 'policy': 702,\n",
              " 'play': 703,\n",
              " 'rules': 704,\n",
              " 'girls': 705,\n",
              " 'favorite': 706,\n",
              " 'driving': 707,\n",
              " 'following': 708,\n",
              " 'signs': 709,\n",
              " 'community': 710,\n",
              " 'birth': 711,\n",
              " 'hope': 712,\n",
              " 'drunk': 713,\n",
              " 'planned': 714,\n",
              " 'cops': 715,\n",
              " 'billion': 716,\n",
              " 'discover': 717,\n",
              " 'sports': 718,\n",
              " 'longer': 719,\n",
              " 'totally': 720,\n",
              " 'true': 721,\n",
              " 'schools': 722,\n",
              " 'joe': 723,\n",
              " 'hits': 724,\n",
              " 'jimmy': 725,\n",
              " 'waiting': 726,\n",
              " 'fox': 727,\n",
              " 'fall': 728,\n",
              " 'kind': 729,\n",
              " 'learned': 730,\n",
              " 'mind': 731,\n",
              " 'politics': 732,\n",
              " 'giving': 733,\n",
              " 'since': 734,\n",
              " 'adds': 735,\n",
              " '13': 736,\n",
              " 'investigation': 737,\n",
              " 'experience': 738,\n",
              " 'style': 739,\n",
              " 'immigration': 740,\n",
              " 'interview': 741,\n",
              " 'offers': 742,\n",
              " 'reality': 743,\n",
              " 'anniversary': 744,\n",
              " 'puts': 745,\n",
              " 'un': 746,\n",
              " 'light': 747,\n",
              " 'breaks': 748,\n",
              " 'completely': 749,\n",
              " 'sign': 750,\n",
              " 'hand': 751,\n",
              " 'risk': 752,\n",
              " 'florida': 753,\n",
              " 'dance': 754,\n",
              " 'iraq': 755,\n",
              " 'jr': 756,\n",
              " 'cut': 757,\n",
              " \"they're\": 758,\n",
              " 'abuse': 759,\n",
              " 'stars': 760,\n",
              " 'least': 761,\n",
              " 'try': 762,\n",
              " 'industry': 763,\n",
              " 'career': 764,\n",
              " 'turn': 765,\n",
              " 'shop': 766,\n",
              " 'sick': 767,\n",
              " 'pence': 768,\n",
              " 'mental': 769,\n",
              " 'force': 770,\n",
              " 'audience': 771,\n",
              " 'millions': 772,\n",
              " 'suspect': 773,\n",
              " 'close': 774,\n",
              " 'coffee': 775,\n",
              " 'across': 776,\n",
              " 'kills': 777,\n",
              " 'almost': 778,\n",
              " 'candidates': 779,\n",
              " 'hands': 780,\n",
              " '40': 781,\n",
              " 'center': 782,\n",
              " 'union': 783,\n",
              " 'thinking': 784,\n",
              " 'five': 785,\n",
              " 'kerry': 786,\n",
              " 'ebola': 787,\n",
              " 'program': 788,\n",
              " 'near': 789,\n",
              " 'kardashian': 790,\n",
              " 'apple': 791,\n",
              " 'rest': 792,\n",
              " 'celebrate': 793,\n",
              " 'anything': 794,\n",
              " 'fear': 795,\n",
              " 'uses': 796,\n",
              " \"we're\": 797,\n",
              " 'opening': 798,\n",
              " 'ferguson': 799,\n",
              " 'final': 800,\n",
              " 'role': 801,\n",
              " 'number': 802,\n",
              " 'vows': 803,\n",
              " 'spends': 804,\n",
              " 'steps': 805,\n",
              " \"there's\": 806,\n",
              " 'ben': 807,\n",
              " 'act': 808,\n",
              " 'host': 809,\n",
              " 'teens': 810,\n",
              " 'coworker': 811,\n",
              " 'apologizes': 812,\n",
              " 'c': 813,\n",
              " 'workers': 814,\n",
              " 'throws': 815,\n",
              " 'feels': 816,\n",
              " 'suggests': 817,\n",
              " 'test': 818,\n",
              " 'seen': 819,\n",
              " 'starting': 820,\n",
              " 'leaving': 821,\n",
              " 'syrian': 822,\n",
              " 'amazon': 823,\n",
              " 'easy': 824,\n",
              " 'weight': 825,\n",
              " 'song': 826,\n",
              " 'crash': 827,\n",
              " 'apartment': 828,\n",
              " 'suicide': 829,\n",
              " 'proud': 830,\n",
              " 'returns': 831,\n",
              " 'governor': 832,\n",
              " 'lgbt': 833,\n",
              " 'brings': 834,\n",
              " 'murder': 835,\n",
              " 'return': 836,\n",
              " 'shares': 837,\n",
              " 'worth': 838,\n",
              " 'moms': 839,\n",
              " 'band': 840,\n",
              " 'stand': 841,\n",
              " 'economy': 842,\n",
              " 'eye': 843,\n",
              " 'reportedly': 844,\n",
              " 'mass': 845,\n",
              " 'victims': 846,\n",
              " 'whether': 847,\n",
              " 'members': 848,\n",
              " 'moving': 849,\n",
              " 'demands': 850,\n",
              " 'hoping': 851,\n",
              " 'responds': 852,\n",
              " 'rally': 853,\n",
              " 'd': 854,\n",
              " 'general': 855,\n",
              " 'surprise': 856,\n",
              " 'cool': 857,\n",
              " 'bowl': 858,\n",
              " 'killing': 859,\n",
              " 'awards': 860,\n",
              " 'employees': 861,\n",
              " 'demand': 862,\n",
              " 'prince': 863,\n",
              " 'amazing': 864,\n",
              " 'keeps': 865,\n",
              " 'playing': 866,\n",
              " 'rubio': 867,\n",
              " 'happened': 868,\n",
              " 'door': 869,\n",
              " 'harassment': 870,\n",
              " 'oscars': 871,\n",
              " 'swift': 872,\n",
              " 'building': 873,\n",
              " 'paris': 874,\n",
              " 'jenner': 875,\n",
              " 'check': 876,\n",
              " 'artist': 877,\n",
              " '2017': 878,\n",
              " 'budget': 879,\n",
              " 'queer': 880,\n",
              " 'magazine': 881,\n",
              " 'williams': 882,\n",
              " 'epa': 883,\n",
              " 'words': 884,\n",
              " 'official': 885,\n",
              " 'reminds': 886,\n",
              " 'peace': 887,\n",
              " 'steve': 888,\n",
              " 'marijuana': 889,\n",
              " 'struggling': 890,\n",
              " 'global': 891,\n",
              " 'wishes': 892,\n",
              " 'performance': 893,\n",
              " 'press': 894,\n",
              " 'hear': 895,\n",
              " 'problems': 896,\n",
              " 'civil': 897,\n",
              " 'nfl': 898,\n",
              " 'reveal': 899,\n",
              " 'documentary': 900,\n",
              " 'clean': 901,\n",
              " 'deadly': 902,\n",
              " 'humans': 903,\n",
              " 'pregnant': 904,\n",
              " 'transgender': 905,\n",
              " 'quietly': 906,\n",
              " 'spot': 907,\n",
              " 'church': 908,\n",
              " 'table': 909,\n",
              " 'emotional': 910,\n",
              " 'defense': 911,\n",
              " 'allegations': 912,\n",
              " '18': 913,\n",
              " 'given': 914,\n",
              " 'massive': 915,\n",
              " 'chance': 916,\n",
              " 'action': 917,\n",
              " 'pro': 918,\n",
              " 'culture': 919,\n",
              " 'iowa': 920,\n",
              " 'university': 921,\n",
              " 'bank': 922,\n",
              " 'east': 923,\n",
              " 'anyone': 924,\n",
              " 'biggest': 925,\n",
              " 'chicken': 926,\n",
              " \"year's\": 927,\n",
              " 'turns': 928,\n",
              " 'clearly': 929,\n",
              " 'address': 930,\n",
              " 'review': 931,\n",
              " 'refugees': 932,\n",
              " 'decision': 933,\n",
              " 'hurricane': 934,\n",
              " 'among': 935,\n",
              " 'male': 936,\n",
              " 'harvey': 937,\n",
              " 'trade': 938,\n",
              " 'afghanistan': 939,\n",
              " 'forward': 940,\n",
              " 'said': 941,\n",
              " 'episode': 942,\n",
              " 'sound': 943,\n",
              " 'asking': 944,\n",
              " 'airlines': 945,\n",
              " 'oil': 946,\n",
              " 'private': 947,\n",
              " 'prevent': 948,\n",
              " '2014': 949,\n",
              " 'plane': 950,\n",
              " 'desperate': 951,\n",
              " 'youth': 952,\n",
              " 'side': 953,\n",
              " 'halloween': 954,\n",
              " 'push': 955,\n",
              " 'worried': 956,\n",
              " 'short': 957,\n",
              " 'carolina': 958,\n",
              " 'six': 959,\n",
              " 'doctor': 960,\n",
              " 'homeless': 961,\n",
              " 'remember': 962,\n",
              " 'airport': 963,\n",
              " 'feeling': 964,\n",
              " 'divorce': 965,\n",
              " 'beer': 966,\n",
              " 'executive': 967,\n",
              " 'israel': 968,\n",
              " 'spending': 969,\n",
              " 'worse': 970,\n",
              " 'beauty': 971,\n",
              " 'loss': 972,\n",
              " 'accidentally': 973,\n",
              " 'loses': 974,\n",
              " 'website': 975,\n",
              " 'possible': 976,\n",
              " 'hall': 977,\n",
              " 'michelle': 978,\n",
              " 'boys': 979,\n",
              " 'actor': 980,\n",
              " 'space': 981,\n",
              " 'finding': 982,\n",
              " 'which': 983,\n",
              " 'comey': 984,\n",
              " 'hotel': 985,\n",
              " 'vacation': 986,\n",
              " 'leads': 987,\n",
              " 'names': 988,\n",
              " 'success': 989,\n",
              " 'google': 990,\n",
              " 'officer': 991,\n",
              " 'learn': 992,\n",
              " 'netflix': 993,\n",
              " 'create': 994,\n",
              " 'cnn': 995,\n",
              " 'results': 996,\n",
              " 'thanksgiving': 997,\n",
              " 'planet': 998,\n",
              " 'slams': 999,\n",
              " 'amid': 1000,\n",
              " ...}"
            ]
          },
          "metadata": {
            "tags": []
          },
          "execution_count": 14
        }
      ]
    },
    {
      "cell_type": "code",
      "metadata": {
        "id": "3SgsYH6NuQav",
        "colab_type": "code",
        "colab": {}
      },
      "source": [
        "train_sequence=tokenizer.texts_to_sequences(x_train)  "
      ],
      "execution_count": 0,
      "outputs": []
    },
    {
      "cell_type": "code",
      "metadata": {
        "id": "YvXoz_KVu2k_",
        "colab_type": "code",
        "colab": {}
      },
      "source": [
        "training_padded = pad_sequences(train_sequence, padding='post',truncating='post',)"
      ],
      "execution_count": 0,
      "outputs": []
    },
    {
      "cell_type": "markdown",
      "metadata": {
        "id": "CiJVUW7uvPTf",
        "colab_type": "text"
      },
      "source": [
        "## Preparing the test data\n",
        "\n"
      ]
    },
    {
      "cell_type": "code",
      "metadata": {
        "id": "2f965kyNvDny",
        "colab_type": "code",
        "colab": {}
      },
      "source": [
        "test_sequence=tokenizer.texts_to_sequences(x_test)\n",
        "test_padded = pad_sequences(test_sequence, padding='post',truncating='post')"
      ],
      "execution_count": 0,
      "outputs": []
    },
    {
      "cell_type": "markdown",
      "metadata": {
        "id": "-JKEpq66w6YG",
        "colab_type": "text"
      },
      "source": [
        "## Building And Testing Accuracy With Different Models\n",
        "\n",
        "\n"
      ]
    },
    {
      "cell_type": "markdown",
      "metadata": {
        "id": "vN9UZ9idyVq_",
        "colab_type": "text"
      },
      "source": [
        "### Simple Model with ANN"
      ]
    },
    {
      "cell_type": "code",
      "metadata": {
        "id": "1oQnoyNOyeoG",
        "colab_type": "code",
        "colab": {}
      },
      "source": [
        "model1=Sequential()"
      ],
      "execution_count": 0,
      "outputs": []
    },
    {
      "cell_type": "code",
      "metadata": {
        "id": "exLG6MX7yeqv",
        "colab_type": "code",
        "colab": {}
      },
      "source": [
        "model1.add(Embedding(input_dim=10000,output_dim=32))\n",
        "model1.add(GlobalAveragePooling1D())\n",
        "model1.add(Dense(units=32,activation='relu'))\n",
        "model1.add(Dense(units=1,activation='sigmoid'))"
      ],
      "execution_count": 0,
      "outputs": []
    },
    {
      "cell_type": "code",
      "metadata": {
        "id": "f1Nr2sUcye0s",
        "colab_type": "code",
        "outputId": "7ad2f844-fc95-4913-a83f-e2992bfd1308",
        "colab": {
          "base_uri": "https://localhost:8080/",
          "height": 297
        }
      },
      "source": [
        "model1.summary()"
      ],
      "execution_count": 0,
      "outputs": [
        {
          "output_type": "stream",
          "text": [
            "Model: \"sequential\"\n",
            "_________________________________________________________________\n",
            "Layer (type)                 Output Shape              Param #   \n",
            "=================================================================\n",
            "embedding (Embedding)        (None, None, 32)          320000    \n",
            "_________________________________________________________________\n",
            "global_average_pooling1d (Gl (None, 32)                0         \n",
            "_________________________________________________________________\n",
            "dense (Dense)                (None, 32)                1056      \n",
            "_________________________________________________________________\n",
            "dense_1 (Dense)              (None, 1)                 33        \n",
            "=================================================================\n",
            "Total params: 321,089\n",
            "Trainable params: 321,089\n",
            "Non-trainable params: 0\n",
            "_________________________________________________________________\n"
          ],
          "name": "stdout"
        }
      ]
    },
    {
      "cell_type": "code",
      "metadata": {
        "id": "DNL8Ypd91Voi",
        "colab_type": "code",
        "colab": {}
      },
      "source": [
        "model1.compile(optimizer='adam',loss='binary_crossentropy',metrics=['accuracy'])"
      ],
      "execution_count": 0,
      "outputs": []
    },
    {
      "cell_type": "code",
      "metadata": {
        "id": "et025ktL5D3F",
        "colab_type": "code",
        "outputId": "b3e6dc94-ea58-42e5-9ff7-1c699795e6f0",
        "colab": {
          "base_uri": "https://localhost:8080/",
          "height": 367
        }
      },
      "source": [
        "history=model1.fit(training_padded,y_train,epochs=10,validation_data=(test_padded,y_test))"
      ],
      "execution_count": 0,
      "outputs": [
        {
          "output_type": "stream",
          "text": [
            "Epoch 1/10\n",
            "585/585 [==============================] - 3s 6ms/step - loss: 0.5662 - accuracy: 0.6912 - val_loss: 0.4021 - val_accuracy: 0.8278\n",
            "Epoch 2/10\n",
            "585/585 [==============================] - 3s 6ms/step - loss: 0.3020 - accuracy: 0.8756 - val_loss: 0.3395 - val_accuracy: 0.8550\n",
            "Epoch 3/10\n",
            "585/585 [==============================] - 3s 6ms/step - loss: 0.2221 - accuracy: 0.9139 - val_loss: 0.3359 - val_accuracy: 0.8591\n",
            "Epoch 4/10\n",
            "585/585 [==============================] - 3s 6ms/step - loss: 0.1765 - accuracy: 0.9342 - val_loss: 0.3506 - val_accuracy: 0.8555\n",
            "Epoch 5/10\n",
            "585/585 [==============================] - 3s 6ms/step - loss: 0.1442 - accuracy: 0.9478 - val_loss: 0.3755 - val_accuracy: 0.8545\n",
            "Epoch 6/10\n",
            "585/585 [==============================] - 3s 6ms/step - loss: 0.1186 - accuracy: 0.9599 - val_loss: 0.4091 - val_accuracy: 0.8482\n",
            "Epoch 7/10\n",
            "585/585 [==============================] - 3s 6ms/step - loss: 0.1002 - accuracy: 0.9663 - val_loss: 0.4476 - val_accuracy: 0.8461\n",
            "Epoch 8/10\n",
            "585/585 [==============================] - 3s 6ms/step - loss: 0.0843 - accuracy: 0.9727 - val_loss: 0.4872 - val_accuracy: 0.8416\n",
            "Epoch 9/10\n",
            "585/585 [==============================] - 3s 6ms/step - loss: 0.0718 - accuracy: 0.9776 - val_loss: 0.5319 - val_accuracy: 0.8360\n",
            "Epoch 10/10\n",
            "585/585 [==============================] - 3s 6ms/step - loss: 0.0607 - accuracy: 0.9809 - val_loss: 0.5769 - val_accuracy: 0.8331\n"
          ],
          "name": "stdout"
        }
      ]
    },
    {
      "cell_type": "code",
      "metadata": {
        "id": "lIoUcZVJ5_bj",
        "colab_type": "code",
        "outputId": "13bc1a44-b3d6-48b1-e3ac-343229367408",
        "colab": {
          "base_uri": "https://localhost:8080/",
          "height": 336
        }
      },
      "source": [
        "fig,(ax1,ax2)=plt.subplots(nrows=1,ncols=2,figsize=(20,5))\n",
        "ax1.plot(history.history['accuracy'],label='train_accuracy')\n",
        "ax1.plot(history.history['val_accuracy'],label='test_accuracy')\n",
        "ax1.set_title('Accuracy')\n",
        "ax1.legend()\n",
        "ax2.plot(history.history['loss'],label='train_loss')\n",
        "ax2.plot(history.history['val_loss'],label='test_loss')\n",
        "ax2.set_title('Loss')\n",
        "ax2.legend()\n",
        "plt.show()"
      ],
      "execution_count": 0,
      "outputs": [
        {
          "output_type": "display_data",
          "data": {
            "image/png": "[encoded data removed]",
            "text/plain": [
              "<Figure size 1440x360 with 2 Axes>"
            ]
          },
          "metadata": {
            "tags": [],
            "needs_background": "light"
          }
        }
      ]
    },
    {
      "cell_type": "markdown",
      "metadata": {
        "id": "ZGhLLEECxRbJ",
        "colab_type": "text"
      },
      "source": [
        "### Bidirectional Single Layer LSTM"
      ]
    },
    {
      "cell_type": "code",
      "metadata": {
        "id": "KMqml77KxnA3",
        "colab_type": "code",
        "colab": {}
      },
      "source": [
        "model2=Sequential()"
      ],
      "execution_count": 0,
      "outputs": []
    },
    {
      "cell_type": "code",
      "metadata": {
        "id": "K88vmLt7xnDR",
        "colab_type": "code",
        "colab": {}
      },
      "source": [
        "model2.add(Embedding(input_dim=10000,output_dim=32))\n",
        "model2.add(Bidirectional(LSTM(64)))\n",
        "model2.add(Dense(units=32,activation='relu'))\n",
        "model2.add(Dense(units=1,activation='sigmoid'))"
      ],
      "execution_count": 0,
      "outputs": []
    },
    {
      "cell_type": "code",
      "metadata": {
        "id": "TyGfnPSCxnFi",
        "colab_type": "code",
        "outputId": "30c5c98a-2d6e-4a80-d7fa-621e1965c28e",
        "colab": {
          "base_uri": "https://localhost:8080/",
          "height": 297
        }
      },
      "source": [
        "model2.summary()"
      ],
      "execution_count": 0,
      "outputs": [
        {
          "output_type": "stream",
          "text": [
            "Model: \"sequential_1\"\n",
            "_________________________________________________________________\n",
            "Layer (type)                 Output Shape              Param #   \n",
            "=================================================================\n",
            "embedding_1 (Embedding)      (None, None, 32)          320000    \n",
            "_________________________________________________________________\n",
            "bidirectional (Bidirectional (None, 128)               49664     \n",
            "_________________________________________________________________\n",
            "dense_2 (Dense)              (None, 32)                4128      \n",
            "_________________________________________________________________\n",
            "dense_3 (Dense)              (None, 1)                 33        \n",
            "=================================================================\n",
            "Total params: 373,825\n",
            "Trainable params: 373,825\n",
            "Non-trainable params: 0\n",
            "_________________________________________________________________\n"
          ],
          "name": "stdout"
        }
      ]
    },
    {
      "cell_type": "code",
      "metadata": {
        "id": "R3xPfqzk1WFP",
        "colab_type": "code",
        "colab": {}
      },
      "source": [
        "model2.compile(optimizer='adam',loss='binary_crossentropy',metrics=['accuracy'])"
      ],
      "execution_count": 0,
      "outputs": []
    },
    {
      "cell_type": "code",
      "metadata": {
        "id": "yxOxMvWjAktx",
        "colab_type": "code",
        "outputId": "ca8a19ff-e061-4739-c2cf-b3be1e0918e7",
        "colab": {
          "base_uri": "https://localhost:8080/",
          "height": 367
        }
      },
      "source": [
        "history=model2.fit(training_padded,y_train,epochs=10,validation_data=(test_padded,y_test))"
      ],
      "execution_count": 0,
      "outputs": [
        {
          "output_type": "stream",
          "text": [
            "Epoch 1/10\n",
            "585/585 [==============================] - 7s 11ms/step - loss: 0.3997 - accuracy: 0.8108 - val_loss: 0.3274 - val_accuracy: 0.8574\n",
            "Epoch 2/10\n",
            "585/585 [==============================] - 6s 10ms/step - loss: 0.2028 - accuracy: 0.9206 - val_loss: 0.3406 - val_accuracy: 0.8617\n",
            "Epoch 3/10\n",
            "585/585 [==============================] - 6s 10ms/step - loss: 0.1127 - accuracy: 0.9586 - val_loss: 0.4090 - val_accuracy: 0.8509\n",
            "Epoch 4/10\n",
            "585/585 [==============================] - 6s 11ms/step - loss: 0.0653 - accuracy: 0.9773 - val_loss: 0.5165 - val_accuracy: 0.8465\n",
            "Epoch 5/10\n",
            "585/585 [==============================] - 6s 10ms/step - loss: 0.0375 - accuracy: 0.9884 - val_loss: 0.5907 - val_accuracy: 0.8426\n",
            "Epoch 6/10\n",
            "585/585 [==============================] - 6s 10ms/step - loss: 0.0263 - accuracy: 0.9908 - val_loss: 0.7742 - val_accuracy: 0.8416\n",
            "Epoch 7/10\n",
            "585/585 [==============================] - 6s 10ms/step - loss: 0.0182 - accuracy: 0.9943 - val_loss: 0.7559 - val_accuracy: 0.8376\n",
            "Epoch 8/10\n",
            "585/585 [==============================] - 6s 10ms/step - loss: 0.0114 - accuracy: 0.9960 - val_loss: 1.0291 - val_accuracy: 0.8369\n",
            "Epoch 9/10\n",
            "585/585 [==============================] - 6s 10ms/step - loss: 0.0087 - accuracy: 0.9975 - val_loss: 1.0519 - val_accuracy: 0.8365\n",
            "Epoch 10/10\n",
            "585/585 [==============================] - 6s 10ms/step - loss: 0.0075 - accuracy: 0.9975 - val_loss: 0.9991 - val_accuracy: 0.8430\n"
          ],
          "name": "stdout"
        }
      ]
    },
    {
      "cell_type": "code",
      "metadata": {
        "id": "IXLt2VJwBVnL",
        "colab_type": "code",
        "outputId": "b4a90085-8ecc-44cb-d6ef-8b75c7f15f07",
        "colab": {
          "base_uri": "https://localhost:8080/",
          "height": 336
        }
      },
      "source": [
        "fig,(ax1,ax2)=plt.subplots(nrows=1,ncols=2,figsize=(20,5))\n",
        "ax1.plot(history.history['accuracy'],label='train_accuracy')\n",
        "ax1.plot(history.history['val_accuracy'],label='test_accuracy')\n",
        "ax1.set_title('Accuracy')\n",
        "ax1.legend()\n",
        "ax2.plot(history.history['loss'],label='train_loss')\n",
        "ax2.plot(history.history['val_loss'],label='test_loss')\n",
        "ax2.set_title('Loss')\n",
        "ax2.legend()\n",
        "plt.show()"
      ],
      "execution_count": 0,
      "outputs": [
        {
          "output_type": "display_data",
          "data": {
            "image/png": "[encoded data removed]",
            "text/plain": [
              "<Figure size 1440x360 with 2 Axes>"
            ]
          },
          "metadata": {
            "tags": [],
            "needs_background": "light"
          }
        }
      ]
    },
    {
      "cell_type": "markdown",
      "metadata": {
        "id": "E9UQJK4bxhju",
        "colab_type": "text"
      },
      "source": [
        "### Bidirectional Multilayer Layer LSTM"
      ]
    },
    {
      "cell_type": "code",
      "metadata": {
        "id": "36G4nGk01W4w",
        "colab_type": "code",
        "colab": {}
      },
      "source": [
        "model3=Sequential()"
      ],
      "execution_count": 0,
      "outputs": []
    },
    {
      "cell_type": "code",
      "metadata": {
        "id": "rpRz90dRxn-D",
        "colab_type": "code",
        "colab": {}
      },
      "source": [
        "model3.add(Embedding(input_dim=10000,output_dim=32))\n",
        "model3.add(Bidirectional(LSTM(64,return_sequences=True)))\n",
        "model3.add(Bidirectional(LSTM(32)))\n",
        "model3.add(Dense(units=64,activation='relu'))\n",
        "model3.add(Dense(units=1,activation='sigmoid'))"
      ],
      "execution_count": 0,
      "outputs": []
    },
    {
      "cell_type": "code",
      "metadata": {
        "id": "RA9CCLrBRLU2",
        "colab_type": "code",
        "outputId": "1d2c0af2-6fa1-4a03-c545-a7a25a17bf6e",
        "colab": {
          "base_uri": "https://localhost:8080/",
          "height": 332
        }
      },
      "source": [
        "model3.summary()"
      ],
      "execution_count": 0,
      "outputs": [
        {
          "output_type": "stream",
          "text": [
            "Model: \"sequential_2\"\n",
            "_________________________________________________________________\n",
            "Layer (type)                 Output Shape              Param #   \n",
            "=================================================================\n",
            "embedding_2 (Embedding)      (None, None, 32)          320000    \n",
            "_________________________________________________________________\n",
            "bidirectional_1 (Bidirection (None, None, 128)         49664     \n",
            "_________________________________________________________________\n",
            "bidirectional_2 (Bidirection (None, 64)                41216     \n",
            "_________________________________________________________________\n",
            "dense_4 (Dense)              (None, 64)                4160      \n",
            "_________________________________________________________________\n",
            "dense_5 (Dense)              (None, 1)                 65        \n",
            "=================================================================\n",
            "Total params: 415,105\n",
            "Trainable params: 415,105\n",
            "Non-trainable params: 0\n",
            "_________________________________________________________________\n"
          ],
          "name": "stdout"
        }
      ]
    },
    {
      "cell_type": "code",
      "metadata": {
        "id": "yoEPjNgaxoAi",
        "colab_type": "code",
        "colab": {}
      },
      "source": [
        "model3.compile(optimizer='adam',loss='binary_crossentropy',metrics=['accuracy'])"
      ],
      "execution_count": 0,
      "outputs": []
    },
    {
      "cell_type": "code",
      "metadata": {
        "id": "LMqcDn0gxoC-",
        "colab_type": "code",
        "outputId": "4376e02a-c3b5-4df4-e90b-ced73d4c1493",
        "colab": {
          "base_uri": "https://localhost:8080/",
          "height": 367
        }
      },
      "source": [
        "history=model3.fit(training_padded,y_train,epochs=10,validation_data=(test_padded,y_test))"
      ],
      "execution_count": 0,
      "outputs": [
        {
          "output_type": "stream",
          "text": [
            "Epoch 1/10\n",
            "585/585 [==============================] - 10s 17ms/step - loss: 0.4000 - accuracy: 0.8067 - val_loss: 0.3302 - val_accuracy: 0.8545\n",
            "Epoch 2/10\n",
            "585/585 [==============================] - 9s 15ms/step - loss: 0.2057 - accuracy: 0.9156 - val_loss: 0.3310 - val_accuracy: 0.8574\n",
            "Epoch 3/10\n",
            "585/585 [==============================] - 9s 15ms/step - loss: 0.1170 - accuracy: 0.9590 - val_loss: 0.3897 - val_accuracy: 0.8516\n",
            "Epoch 4/10\n",
            "585/585 [==============================] - 9s 15ms/step - loss: 0.0685 - accuracy: 0.9759 - val_loss: 0.6007 - val_accuracy: 0.8464\n",
            "Epoch 5/10\n",
            "585/585 [==============================] - 9s 15ms/step - loss: 0.0407 - accuracy: 0.9869 - val_loss: 0.6244 - val_accuracy: 0.8421\n",
            "Epoch 6/10\n",
            "585/585 [==============================] - 9s 15ms/step - loss: 0.0275 - accuracy: 0.9902 - val_loss: 0.7394 - val_accuracy: 0.8423\n",
            "Epoch 7/10\n",
            "585/585 [==============================] - 9s 15ms/step - loss: 0.0180 - accuracy: 0.9947 - val_loss: 0.8030 - val_accuracy: 0.8393\n",
            "Epoch 8/10\n",
            "585/585 [==============================] - 9s 15ms/step - loss: 0.0159 - accuracy: 0.9955 - val_loss: 0.8157 - val_accuracy: 0.8404\n",
            "Epoch 9/10\n",
            "585/585 [==============================] - 9s 15ms/step - loss: 0.0133 - accuracy: 0.9960 - val_loss: 0.8416 - val_accuracy: 0.8381\n",
            "Epoch 10/10\n",
            "585/585 [==============================] - 9s 15ms/step - loss: 0.0122 - accuracy: 0.9957 - val_loss: 0.9420 - val_accuracy: 0.8349\n"
          ],
          "name": "stdout"
        }
      ]
    },
    {
      "cell_type": "code",
      "metadata": {
        "id": "6gc4pQKvPdpQ",
        "colab_type": "code",
        "outputId": "05d9c94d-10d7-42c2-8db4-1313247cf971",
        "colab": {
          "base_uri": "https://localhost:8080/",
          "height": 336
        }
      },
      "source": [
        "fig,(ax1,ax2)=plt.subplots(nrows=1,ncols=2,figsize=(20,5))\n",
        "ax1.plot(history.history['accuracy'],label='train_accuracy')\n",
        "ax1.plot(history.history['val_accuracy'],label='test_accuracy')\n",
        "ax1.set_title('Accuracy')\n",
        "ax1.legend()\n",
        "ax2.plot(history.history['loss'],label='train_loss')\n",
        "ax2.plot(history.history['val_loss'],label='test_loss')\n",
        "ax2.set_title('Loss')\n",
        "ax2.legend()\n",
        "plt.show()"
      ],
      "execution_count": 0,
      "outputs": [
        {
          "output_type": "display_data",
          "data": {
            "image/png": "[encoded data removed]",
            "text/plain": [
              "<Figure size 1440x360 with 2 Axes>"
            ]
          },
          "metadata": {
            "tags": [],
            "needs_background": "light"
          }
        }
      ]
    },
    {
      "cell_type": "markdown",
      "metadata": {
        "id": "s5EiIDqIQ15Y",
        "colab_type": "text"
      },
      "source": [
        "### Single Layer LSTM"
      ]
    },
    {
      "cell_type": "code",
      "metadata": {
        "id": "MLUwCYmCQ5q8",
        "colab_type": "code",
        "colab": {}
      },
      "source": [
        "model4=Sequential()"
      ],
      "execution_count": 0,
      "outputs": []
    },
    {
      "cell_type": "code",
      "metadata": {
        "id": "1KHNDRF1Q5tz",
        "colab_type": "code",
        "colab": {}
      },
      "source": [
        "model4.add(Embedding(input_dim=10000,output_dim=32))\n",
        "model4.add(LSTM(62))\n",
        "model4.add(Dense(units=64,activation='relu'))\n",
        "model4.add(Dense(units=1,activation='sigmoid'))"
      ],
      "execution_count": 0,
      "outputs": []
    },
    {
      "cell_type": "code",
      "metadata": {
        "id": "sQdZEWYvRPlN",
        "colab_type": "code",
        "outputId": "3582b5dd-8f5a-4717-f6b1-e173de96fb8f",
        "colab": {
          "base_uri": "https://localhost:8080/",
          "height": 297
        }
      },
      "source": [
        "model4.summary()"
      ],
      "execution_count": 0,
      "outputs": [
        {
          "output_type": "stream",
          "text": [
            "Model: \"sequential_3\"\n",
            "_________________________________________________________________\n",
            "Layer (type)                 Output Shape              Param #   \n",
            "=================================================================\n",
            "embedding_3 (Embedding)      (None, None, 32)          320000    \n",
            "_________________________________________________________________\n",
            "lstm_3 (LSTM)                (None, 62)                23560     \n",
            "_________________________________________________________________\n",
            "dense_6 (Dense)              (None, 64)                4032      \n",
            "_________________________________________________________________\n",
            "dense_7 (Dense)              (None, 1)                 65        \n",
            "=================================================================\n",
            "Total params: 347,657\n",
            "Trainable params: 347,657\n",
            "Non-trainable params: 0\n",
            "_________________________________________________________________\n"
          ],
          "name": "stdout"
        }
      ]
    },
    {
      "cell_type": "code",
      "metadata": {
        "id": "SpvrCjzNQ5oW",
        "colab_type": "code",
        "colab": {}
      },
      "source": [
        "model4.compile(optimizer='adam',loss='binary_crossentropy',metrics=['accuracy'])"
      ],
      "execution_count": 0,
      "outputs": []
    },
    {
      "cell_type": "code",
      "metadata": {
        "id": "HJBIRrldRRAP",
        "colab_type": "code",
        "outputId": "cc9a0242-c854-447e-b321-ae937b0fb982",
        "colab": {
          "base_uri": "https://localhost:8080/",
          "height": 367
        }
      },
      "source": [
        "history=model4.fit(training_padded,y_train,epochs=10,validation_data=(test_padded,y_test))"
      ],
      "execution_count": 0,
      "outputs": [
        {
          "output_type": "stream",
          "text": [
            "Epoch 1/10\n",
            "585/585 [==============================] - 5s 8ms/step - loss: 0.4432 - accuracy: 0.7796 - val_loss: 0.3436 - val_accuracy: 0.8475\n",
            "Epoch 2/10\n",
            "585/585 [==============================] - 5s 8ms/step - loss: 0.2412 - accuracy: 0.9050 - val_loss: 0.3932 - val_accuracy: 0.8540\n",
            "Epoch 3/10\n",
            "585/585 [==============================] - 5s 8ms/step - loss: 0.1737 - accuracy: 0.9354 - val_loss: 0.4367 - val_accuracy: 0.8348\n",
            "Epoch 4/10\n",
            "585/585 [==============================] - 5s 8ms/step - loss: 0.1347 - accuracy: 0.9526 - val_loss: 0.5091 - val_accuracy: 0.8419\n",
            "Epoch 5/10\n",
            "585/585 [==============================] - 5s 8ms/step - loss: 0.1060 - accuracy: 0.9637 - val_loss: 0.5750 - val_accuracy: 0.8339\n",
            "Epoch 6/10\n",
            "585/585 [==============================] - 5s 8ms/step - loss: 0.0853 - accuracy: 0.9708 - val_loss: 0.5556 - val_accuracy: 0.8329\n",
            "Epoch 7/10\n",
            "585/585 [==============================] - 5s 8ms/step - loss: 0.0712 - accuracy: 0.9765 - val_loss: 0.7209 - val_accuracy: 0.8298\n",
            "Epoch 8/10\n",
            "585/585 [==============================] - 5s 8ms/step - loss: 0.0585 - accuracy: 0.9804 - val_loss: 0.7292 - val_accuracy: 0.8295\n",
            "Epoch 9/10\n",
            "585/585 [==============================] - 5s 8ms/step - loss: 0.0482 - accuracy: 0.9832 - val_loss: 0.7587 - val_accuracy: 0.8235\n",
            "Epoch 10/10\n",
            "585/585 [==============================] - 5s 8ms/step - loss: 0.0407 - accuracy: 0.9863 - val_loss: 0.8254 - val_accuracy: 0.8253\n"
          ],
          "name": "stdout"
        }
      ]
    },
    {
      "cell_type": "code",
      "metadata": {
        "id": "SYRfNC2uRT4p",
        "colab_type": "code",
        "outputId": "96b85afe-3939-4e70-99c9-8a6719a0a450",
        "colab": {
          "base_uri": "https://localhost:8080/",
          "height": 336
        }
      },
      "source": [
        "fig,(ax1,ax2)=plt.subplots(nrows=1,ncols=2,figsize=(20,5))\n",
        "ax1.plot(history.history['accuracy'],label='train_accuracy')\n",
        "ax1.plot(history.history['val_accuracy'],label='test_accuracy')\n",
        "ax1.set_title('Accuracy')\n",
        "ax1.legend()\n",
        "ax2.plot(history.history['loss'],label='train_loss')\n",
        "ax2.plot(history.history['val_loss'],label='test_loss')\n",
        "ax2.set_title('Loss')\n",
        "ax2.legend()\n",
        "plt.show()"
      ],
      "execution_count": 0,
      "outputs": [
        {
          "output_type": "display_data",
          "data": {
            "image/png": "[encoded data removed]",
            "text/plain": [
              "<Figure size 1440x360 with 2 Axes>"
            ]
          },
          "metadata": {
            "tags": [],
            "needs_background": "light"
          }
        }
      ]
    },
    {
      "cell_type": "markdown",
      "metadata": {
        "id": "HBNzft9JdvEl",
        "colab_type": "text"
      },
      "source": [
        "#### *Bidirectional Single Layer LSTM has a good accuracy and also accuracy is constant and loss first increses and the decrease .So it if as good fit model.*\n",
        "\n"
      ]
    }
  ]
}