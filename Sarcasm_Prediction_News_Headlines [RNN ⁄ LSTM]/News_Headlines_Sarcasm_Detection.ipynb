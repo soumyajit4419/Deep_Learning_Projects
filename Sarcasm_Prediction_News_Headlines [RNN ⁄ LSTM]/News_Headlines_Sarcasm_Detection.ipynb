{
  "nbformat": 4,
  "nbformat_minor": 0,
  "metadata": {
    "colab": {
      "name": "News Headlines Sarcasm Detection.ipynb",
      "provenance": [],
      "collapsed_sections": [],
      "toc_visible": true
    },
    "kernelspec": {
      "name": "python3",
      "display_name": "Python 3"
    },
    "accelerator": "GPU"
  },
  "cells": [
    {
      "cell_type": "code",
      "metadata": {
        "id": "g0eftqbZ2zET",
        "colab_type": "code",
        "outputId": "cf5751f3-84df-4656-9c77-f4f5a56cb1d8",
        "colab": {
          "base_uri": "https://localhost:8080/",
          "height": 72
        }
      },
      "source": [
        "import pandas as pd\n",
        "import numpy as np\n",
        "import seaborn as sns\n",
        "import matplotlib.pyplot as plt\n",
        "%matplotlib inline"
      ],
      "execution_count": 0,
      "outputs": [
        {
          "output_type": "stream",
          "text": [
            "/usr/local/lib/python3.6/dist-packages/statsmodels/tools/_testing.py:19: FutureWarning: pandas.util.testing is deprecated. Use the functions in the public API at pandas.testing instead.\n",
            "  import pandas.util.testing as tm\n"
          ],
          "name": "stderr"
        }
      ]
    },
    {
      "cell_type": "code",
      "metadata": {
        "id": "hkLrnsdstHS0",
        "colab_type": "code",
        "colab": {}
      },
      "source": [
        "from sklearn.model_selection import train_test_split"
      ],
      "execution_count": 0,
      "outputs": []
    },
    {
      "cell_type": "code",
      "metadata": {
        "id": "xMff2xBr3qpG",
        "colab_type": "code",
        "outputId": "2d973859-d60e-41ab-d4f4-ed59ad421271",
        "colab": {
          "base_uri": "https://localhost:8080/",
          "height": 34
        }
      },
      "source": [
        "import tensorflow as tf\n",
        "tf.__version__"
      ],
      "execution_count": 0,
      "outputs": [
        {
          "output_type": "execute_result",
          "data": {
            "text/plain": [
              "'2.2.0-rc3'"
            ]
          },
          "metadata": {
            "tags": []
          },
          "execution_count": 3
        }
      ]
    },
    {
      "cell_type": "code",
      "metadata": {
        "id": "hu6wdtFW3vsA",
        "colab_type": "code",
        "colab": {}
      },
      "source": [
        "from tensorflow.keras.preprocessing.text import Tokenizer\n",
        "from tensorflow.keras.preprocessing.sequence import pad_sequences"
      ],
      "execution_count": 0,
      "outputs": []
    },
    {
      "cell_type": "code",
      "metadata": {
        "id": "UhqQJ12yzLkz",
        "colab_type": "code",
        "colab": {}
      },
      "source": [
        "from tensorflow.keras.models import Sequential\n",
        "from tensorflow.keras.layers import Dense\n",
        "from tensorflow.keras.layers import Dropout,Flatten,GlobalAveragePooling1D\n",
        "from tensorflow.keras.layers import LSTM\n",
        "from tensorflow.keras.layers import Bidirectional\n",
        "from tensorflow.keras.layers import Embedding"
      ],
      "execution_count": 0,
      "outputs": []
    },
    {
      "cell_type": "code",
      "metadata": {
        "id": "IfkU2joL57aw",
        "colab_type": "code",
        "colab": {}
      },
      "source": [
        "df=pd.read_csv('/content/drive/My Drive/Colab Notebooks/headlines.csv')"
      ],
      "execution_count": 0,
      "outputs": []
    },
    {
      "cell_type": "code",
      "metadata": {
        "id": "yZscSx9-7xqS",
        "colab_type": "code",
        "outputId": "94d1ead0-b5c6-4e0d-994b-ea1ec016541f",
        "colab": {
          "base_uri": "https://localhost:8080/",
          "height": 197
        }
      },
      "source": [
        "df.head()"
      ],
      "execution_count": 0,
      "outputs": [
        {
          "output_type": "execute_result",
          "data": {
            "text/html": [
              "<div>\n",
              "<style scoped>\n",
              "    .dataframe tbody tr th:only-of-type {\n",
              "        vertical-align: middle;\n",
              "    }\n",
              "\n",
              "    .dataframe tbody tr th {\n",
              "        vertical-align: top;\n",
              "    }\n",
              "\n",
              "    .dataframe thead th {\n",
              "        text-align: right;\n",
              "    }\n",
              "</style>\n",
              "<table border=\"1\" class=\"dataframe\">\n",
              "  <thead>\n",
              "    <tr style=\"text-align: right;\">\n",
              "      <th></th>\n",
              "      <th>article_link</th>\n",
              "      <th>headline</th>\n",
              "      <th>is_sarcastic</th>\n",
              "    </tr>\n",
              "  </thead>\n",
              "  <tbody>\n",
              "    <tr>\n",
              "      <th>0</th>\n",
              "      <td>https://www.huffingtonpost.com/entry/versace-b...</td>\n",
              "      <td>former versace store clerk sues over secret 'b...</td>\n",
              "      <td>0</td>\n",
              "    </tr>\n",
              "    <tr>\n",
              "      <th>1</th>\n",
              "      <td>https://www.huffingtonpost.com/entry/roseanne-...</td>\n",
              "      <td>the 'roseanne' revival catches up to our thorn...</td>\n",
              "      <td>0</td>\n",
              "    </tr>\n",
              "    <tr>\n",
              "      <th>2</th>\n",
              "      <td>https://local.theonion.com/mom-starting-to-fea...</td>\n",
              "      <td>mom starting to fear son's web series closest ...</td>\n",
              "      <td>1</td>\n",
              "    </tr>\n",
              "    <tr>\n",
              "      <th>3</th>\n",
              "      <td>https://politics.theonion.com/boehner-just-wan...</td>\n",
              "      <td>boehner just wants wife to listen, not come up...</td>\n",
              "      <td>1</td>\n",
              "    </tr>\n",
              "    <tr>\n",
              "      <th>4</th>\n",
              "      <td>https://www.huffingtonpost.com/entry/jk-rowlin...</td>\n",
              "      <td>j.k. rowling wishes snape happy birthday in th...</td>\n",
              "      <td>0</td>\n",
              "    </tr>\n",
              "  </tbody>\n",
              "</table>\n",
              "</div>"
            ],
            "text/plain": [
              "                                        article_link  ... is_sarcastic\n",
              "0  https://www.huffingtonpost.com/entry/versace-b...  ...            0\n",
              "1  https://www.huffingtonpost.com/entry/roseanne-...  ...            0\n",
              "2  https://local.theonion.com/mom-starting-to-fea...  ...            1\n",
              "3  https://politics.theonion.com/boehner-just-wan...  ...            1\n",
              "4  https://www.huffingtonpost.com/entry/jk-rowlin...  ...            0\n",
              "\n",
              "[5 rows x 3 columns]"
            ]
          },
          "metadata": {
            "tags": []
          },
          "execution_count": 7
        }
      ]
    },
    {
      "cell_type": "code",
      "metadata": {
        "id": "rgIIG7bG70xi",
        "colab_type": "code",
        "outputId": "5d77166b-d608-498b-d5a3-93d0cca26852",
        "colab": {
          "base_uri": "https://localhost:8080/",
          "height": 34
        }
      },
      "source": [
        "df.shape"
      ],
      "execution_count": 0,
      "outputs": [
        {
          "output_type": "execute_result",
          "data": {
            "text/plain": [
              "(26709, 3)"
            ]
          },
          "metadata": {
            "tags": []
          },
          "execution_count": 8
        }
      ]
    },
    {
      "cell_type": "code",
      "metadata": {
        "id": "R56MWoe39z4N",
        "colab_type": "code",
        "outputId": "dba9649f-c66f-4b4d-941f-f73144dca7d3",
        "colab": {
          "base_uri": "https://localhost:8080/",
          "height": 227
        }
      },
      "source": [
        "headlines=df['headline']\n",
        "headlines"
      ],
      "execution_count": 0,
      "outputs": [
        {
          "output_type": "execute_result",
          "data": {
            "text/plain": [
              "0        former versace store clerk sues over secret 'b...\n",
              "1        the 'roseanne' revival catches up to our thorn...\n",
              "2        mom starting to fear son's web series closest ...\n",
              "3        boehner just wants wife to listen, not come up...\n",
              "4        j.k. rowling wishes snape happy birthday in th...\n",
              "                               ...                        \n",
              "26704                 american politics in moral free-fall\n",
              "26705                              america's best 20 hikes\n",
              "26706                                reparations and obama\n",
              "26707    israeli ban targeting boycott supporters raise...\n",
              "26708                    gourmet gifts for the foodie 2014\n",
              "Name: headline, Length: 26709, dtype: object"
            ]
          },
          "metadata": {
            "tags": []
          },
          "execution_count": 9
        }
      ]
    },
    {
      "cell_type": "code",
      "metadata": {
        "id": "dxux2nVNtQeY",
        "colab_type": "code",
        "outputId": "65184a4a-1344-423b-99b2-c78860b1b6a7",
        "colab": {
          "base_uri": "https://localhost:8080/",
          "height": 227
        }
      },
      "source": [
        "label=df['is_sarcastic']\n",
        "label"
      ],
      "execution_count": 0,
      "outputs": [
        {
          "output_type": "execute_result",
          "data": {
            "text/plain": [
              "0        0\n",
              "1        0\n",
              "2        1\n",
              "3        1\n",
              "4        0\n",
              "        ..\n",
              "26704    0\n",
              "26705    0\n",
              "26706    0\n",
              "26707    0\n",
              "26708    0\n",
              "Name: is_sarcastic, Length: 26709, dtype: int64"
            ]
          },
          "metadata": {
            "tags": []
          },
          "execution_count": 10
        }
      ]
    },
    {
      "cell_type": "markdown",
      "metadata": {
        "id": "qTinrGqSt2VS",
        "colab_type": "text"
      },
      "source": [
        "## Splitting The Data\n",
        "\n"
      ]
    },
    {
      "cell_type": "code",
      "metadata": {
        "id": "u_8eNLW_tXLG",
        "colab_type": "code",
        "colab": {}
      },
      "source": [
        "x_train,x_test,y_train,y_test=train_test_split(headlines,label,test_size=0.3)"
      ],
      "execution_count": 0,
      "outputs": []
    },
    {
      "cell_type": "markdown",
      "metadata": {
        "id": "44HJf_MVt7Q3",
        "colab_type": "text"
      },
      "source": [
        "## Preparing the train data\n",
        "\n",
        "\n"
      ]
    },
    {
      "cell_type": "code",
      "metadata": {
        "id": "BxH8syEzthM9",
        "colab_type": "code",
        "colab": {}
      },
      "source": [
        "tokenizer=Tokenizer()"
      ],
      "execution_count": 0,
      "outputs": []
    },
    {
      "cell_type": "code",
      "metadata": {
        "id": "zc6G228Qtwnc",
        "colab_type": "code",
        "colab": {}
      },
      "source": [
        "tokenizer.fit_on_texts(x_train)"
      ],
      "execution_count": 0,
      "outputs": []
    },
    {
      "cell_type": "code",
      "metadata": {
        "id": "bLTFiykQuDOj",
        "colab_type": "code",
        "outputId": "95cd77cb-ef18-439e-c3f9-6d1e1de51867",
        "colab": {
          "base_uri": "https://localhost:8080/",
          "height": 34
        }
      },
      "source": [
        "word_index=tokenizer.word_index\n",
        "vocab_size=len(word_index)\n",
        "vocab_size"
      ],
      "execution_count": 0,
      "outputs": [
        {
          "output_type": "execute_result",
          "data": {
            "text/plain": [
              "24915"
            ]
          },
          "metadata": {
            "tags": []
          },
          "execution_count": 14
        }
      ]
    },
    {
      "cell_type": "code",
      "metadata": {
        "id": "3SgsYH6NuQav",
        "colab_type": "code",
        "colab": {}
      },
      "source": [
        "train_sequence=tokenizer.texts_to_sequences(x_train)  "
      ],
      "execution_count": 0,
      "outputs": []
    },
    {
      "cell_type": "code",
      "metadata": {
        "id": "YvXoz_KVu2k_",
        "colab_type": "code",
        "colab": {}
      },
      "source": [
        "training_padded = pad_sequences(train_sequence, padding='post',truncating='post',)"
      ],
      "execution_count": 0,
      "outputs": []
    },
    {
      "cell_type": "markdown",
      "metadata": {
        "id": "CiJVUW7uvPTf",
        "colab_type": "text"
      },
      "source": [
        "## Preparing the test data\n",
        "\n"
      ]
    },
    {
      "cell_type": "code",
      "metadata": {
        "id": "2f965kyNvDny",
        "colab_type": "code",
        "colab": {}
      },
      "source": [
        "test_sequence=tokenizer.texts_to_sequences(x_test)\n",
        "test_padded = pad_sequences(test_sequence, padding='post',truncating='post')"
      ],
      "execution_count": 0,
      "outputs": []
    },
    {
      "cell_type": "markdown",
      "metadata": {
        "id": "-JKEpq66w6YG",
        "colab_type": "text"
      },
      "source": [
        "## Building And Testing Accuracy With Different Models\n",
        "\n",
        "\n"
      ]
    },
    {
      "cell_type": "markdown",
      "metadata": {
        "id": "vN9UZ9idyVq_",
        "colab_type": "text"
      },
      "source": [
        "### Simple Model with ANN"
      ]
    },
    {
      "cell_type": "code",
      "metadata": {
        "id": "1oQnoyNOyeoG",
        "colab_type": "code",
        "colab": {}
      },
      "source": [
        "model1=Sequential()"
      ],
      "execution_count": 0,
      "outputs": []
    },
    {
      "cell_type": "code",
      "metadata": {
        "id": "exLG6MX7yeqv",
        "colab_type": "code",
        "colab": {}
      },
      "source": [
        "model1.add(Embedding(input_dim=24915+1,output_dim=32))\n",
        "model1.add(GlobalAveragePooling1D())\n",
        "model1.add(Dense(units=32,activation='relu'))\n",
        "tf.keras.layers.Dropout(0.2)\n",
        "model1.add(Dense(units=1,activation='sigmoid'))"
      ],
      "execution_count": 0,
      "outputs": []
    },
    {
      "cell_type": "code",
      "metadata": {
        "id": "f1Nr2sUcye0s",
        "colab_type": "code",
        "outputId": "c5ec67e7-abe4-4982-f14c-71496a53c5ec",
        "colab": {
          "base_uri": "https://localhost:8080/",
          "height": 297
        }
      },
      "source": [
        "model1.summary()"
      ],
      "execution_count": 0,
      "outputs": [
        {
          "output_type": "stream",
          "text": [
            "Model: \"sequential_2\"\n",
            "_________________________________________________________________\n",
            "Layer (type)                 Output Shape              Param #   \n",
            "=================================================================\n",
            "embedding_2 (Embedding)      (None, None, 32)          797312    \n",
            "_________________________________________________________________\n",
            "global_average_pooling1d_2 ( (None, 32)                0         \n",
            "_________________________________________________________________\n",
            "dense_4 (Dense)              (None, 32)                1056      \n",
            "_________________________________________________________________\n",
            "dense_5 (Dense)              (None, 1)                 33        \n",
            "=================================================================\n",
            "Total params: 798,401\n",
            "Trainable params: 798,401\n",
            "Non-trainable params: 0\n",
            "_________________________________________________________________\n"
          ],
          "name": "stdout"
        }
      ]
    },
    {
      "cell_type": "code",
      "metadata": {
        "id": "DNL8Ypd91Voi",
        "colab_type": "code",
        "colab": {}
      },
      "source": [
        "model1.compile(optimizer='adam',loss='binary_crossentropy',metrics=['accuracy'])"
      ],
      "execution_count": 0,
      "outputs": []
    },
    {
      "cell_type": "code",
      "metadata": {
        "id": "et025ktL5D3F",
        "colab_type": "code",
        "outputId": "c4190341-7fc2-4e6d-f4ac-691d412866eb",
        "colab": {
          "base_uri": "https://localhost:8080/",
          "height": 717
        }
      },
      "source": [
        "history=model1.fit(training_padded,y_train,epochs=20,validation_data=(test_padded,y_test))"
      ],
      "execution_count": 0,
      "outputs": [
        {
          "output_type": "stream",
          "text": [
            "Epoch 1/20\n",
            "585/585 [==============================] - 5s 9ms/step - loss: 0.5644 - accuracy: 0.7030 - val_loss: 0.3796 - val_accuracy: 0.8309\n",
            "Epoch 2/20\n",
            "585/585 [==============================] - 5s 9ms/step - loss: 0.2925 - accuracy: 0.8873 - val_loss: 0.3549 - val_accuracy: 0.8494\n",
            "Epoch 3/20\n",
            "585/585 [==============================] - 5s 9ms/step - loss: 0.1928 - accuracy: 0.9298 - val_loss: 0.3559 - val_accuracy: 0.8626\n",
            "Epoch 4/20\n",
            "585/585 [==============================] - 5s 9ms/step - loss: 0.1296 - accuracy: 0.9560 - val_loss: 0.3946 - val_accuracy: 0.8581\n",
            "Epoch 5/20\n",
            "585/585 [==============================] - 5s 9ms/step - loss: 0.0866 - accuracy: 0.9726 - val_loss: 0.4469 - val_accuracy: 0.8535\n",
            "Epoch 6/20\n",
            "585/585 [==============================] - 5s 9ms/step - loss: 0.0578 - accuracy: 0.9843 - val_loss: 0.5087 - val_accuracy: 0.8490\n",
            "Epoch 7/20\n",
            "585/585 [==============================] - 5s 9ms/step - loss: 0.0391 - accuracy: 0.9905 - val_loss: 0.5748 - val_accuracy: 0.8445\n",
            "Epoch 8/20\n",
            "585/585 [==============================] - 5s 9ms/step - loss: 0.0254 - accuracy: 0.9945 - val_loss: 0.6489 - val_accuracy: 0.8380\n",
            "Epoch 9/20\n",
            "585/585 [==============================] - 5s 9ms/step - loss: 0.0173 - accuracy: 0.9969 - val_loss: 0.7111 - val_accuracy: 0.8373\n",
            "Epoch 10/20\n",
            "585/585 [==============================] - 5s 9ms/step - loss: 0.0118 - accuracy: 0.9982 - val_loss: 0.7732 - val_accuracy: 0.8319\n",
            "Epoch 11/20\n",
            "585/585 [==============================] - 5s 9ms/step - loss: 0.0082 - accuracy: 0.9990 - val_loss: 0.8540 - val_accuracy: 0.8334\n",
            "Epoch 12/20\n",
            "585/585 [==============================] - 5s 9ms/step - loss: 0.0059 - accuracy: 0.9994 - val_loss: 0.9080 - val_accuracy: 0.8304\n",
            "Epoch 13/20\n",
            "585/585 [==============================] - 5s 9ms/step - loss: 0.0040 - accuracy: 0.9997 - val_loss: 0.9891 - val_accuracy: 0.8268\n",
            "Epoch 14/20\n",
            "585/585 [==============================] - 5s 9ms/step - loss: 0.0022 - accuracy: 0.9998 - val_loss: 1.0545 - val_accuracy: 0.8254\n",
            "Epoch 15/20\n",
            "585/585 [==============================] - 5s 9ms/step - loss: 0.0016 - accuracy: 0.9998 - val_loss: 1.1195 - val_accuracy: 0.8254\n",
            "Epoch 16/20\n",
            "585/585 [==============================] - 5s 9ms/step - loss: 0.0012 - accuracy: 0.9999 - val_loss: 1.1890 - val_accuracy: 0.8253\n",
            "Epoch 17/20\n",
            "585/585 [==============================] - 5s 9ms/step - loss: 8.7719e-04 - accuracy: 0.9999 - val_loss: 1.2530 - val_accuracy: 0.8239\n",
            "Epoch 18/20\n",
            "585/585 [==============================] - 5s 9ms/step - loss: 6.5332e-04 - accuracy: 0.9999 - val_loss: 1.3101 - val_accuracy: 0.8227\n",
            "Epoch 19/20\n",
            "585/585 [==============================] - 5s 9ms/step - loss: 5.2528e-04 - accuracy: 0.9999 - val_loss: 1.3798 - val_accuracy: 0.8229\n",
            "Epoch 20/20\n",
            "585/585 [==============================] - 5s 9ms/step - loss: 3.9106e-04 - accuracy: 0.9999 - val_loss: 1.4404 - val_accuracy: 0.8208\n"
          ],
          "name": "stdout"
        }
      ]
    },
    {
      "cell_type": "code",
      "metadata": {
        "id": "lIoUcZVJ5_bj",
        "colab_type": "code",
        "outputId": "c4aec3cf-3630-44ed-c127-486655b2d851",
        "colab": {
          "base_uri": "https://localhost:8080/",
          "height": 336
        }
      },
      "source": [
        "fig,(ax1,ax2)=plt.subplots(nrows=1,ncols=2,figsize=(20,5))\n",
        "ax1.plot(history.history['accuracy'],label='train_accuracy')\n",
        "ax1.plot(history.history['val_accuracy'],label='test_accuracy')\n",
        "ax1.set_title('Accuracy')\n",
        "ax1.legend()\n",
        "ax2.plot(history.history['loss'],label='train_loss')\n",
        "ax2.plot(history.history['val_loss'],label='test_loss')\n",
        "ax2.set_title('Loss')\n",
        "ax2.legend()\n",
        "plt.show()"
      ],
      "execution_count": 0,
      "outputs": [
        {
          "output_type": "display_data",
          "data": {
            "image/png": "[encoded data removed]",
            "text/plain": [
              "<Figure size 1440x360 with 2 Axes>"
            ]
          },
          "metadata": {
            "tags": [],
            "needs_background": "light"
          }
        }
      ]
    },
    {
      "cell_type": "markdown",
      "metadata": {
        "id": "ZGhLLEECxRbJ",
        "colab_type": "text"
      },
      "source": [
        "### Bidirectional Single Layer LSTM"
      ]
    },
    {
      "cell_type": "code",
      "metadata": {
        "id": "KMqml77KxnA3",
        "colab_type": "code",
        "colab": {}
      },
      "source": [
        "model2=Sequential()"
      ],
      "execution_count": 0,
      "outputs": []
    },
    {
      "cell_type": "code",
      "metadata": {
        "id": "K88vmLt7xnDR",
        "colab_type": "code",
        "colab": {}
      },
      "source": [
        "model2.add(Embedding(input_dim=vocab_size+1,output_dim=32))\n",
        "tf.keras.layers.Dropout(0.2)\n",
        "model2.add(Bidirectional(LSTM(64)))\n",
        "tf.keras.layers.Dropout(0.2)\n",
        "model2.add(Dense(units=32,activation='relu'))\n",
        "model2.add(Dense(units=1,activation='sigmoid'))"
      ],
      "execution_count": 0,
      "outputs": []
    },
    {
      "cell_type": "code",
      "metadata": {
        "id": "TyGfnPSCxnFi",
        "colab_type": "code",
        "outputId": "5a180747-c495-4ea5-a596-26200efd203b",
        "colab": {
          "base_uri": "https://localhost:8080/",
          "height": 297
        }
      },
      "source": [
        "model2.summary()"
      ],
      "execution_count": 0,
      "outputs": [
        {
          "output_type": "stream",
          "text": [
            "Model: \"sequential_3\"\n",
            "_________________________________________________________________\n",
            "Layer (type)                 Output Shape              Param #   \n",
            "=================================================================\n",
            "embedding_3 (Embedding)      (None, None, 32)          797312    \n",
            "_________________________________________________________________\n",
            "bidirectional (Bidirectional (None, 128)               49664     \n",
            "_________________________________________________________________\n",
            "dense_6 (Dense)              (None, 32)                4128      \n",
            "_________________________________________________________________\n",
            "dense_7 (Dense)              (None, 1)                 33        \n",
            "=================================================================\n",
            "Total params: 851,137\n",
            "Trainable params: 851,137\n",
            "Non-trainable params: 0\n",
            "_________________________________________________________________\n"
          ],
          "name": "stdout"
        }
      ]
    },
    {
      "cell_type": "code",
      "metadata": {
        "id": "R3xPfqzk1WFP",
        "colab_type": "code",
        "colab": {}
      },
      "source": [
        "model2.compile(optimizer='adam',loss='binary_crossentropy',metrics=['accuracy'])"
      ],
      "execution_count": 0,
      "outputs": []
    },
    {
      "cell_type": "code",
      "metadata": {
        "id": "yxOxMvWjAktx",
        "colab_type": "code",
        "outputId": "295f4ddf-311c-4b3b-b84b-26d3683bae82",
        "colab": {
          "base_uri": "https://localhost:8080/",
          "height": 717
        }
      },
      "source": [
        "history=model2.fit(training_padded,y_train,epochs=20,validation_data=(test_padded,y_test))"
      ],
      "execution_count": 0,
      "outputs": [
        {
          "output_type": "stream",
          "text": [
            "Epoch 1/20\n",
            "585/585 [==============================] - 9s 15ms/step - loss: 0.4015 - accuracy: 0.8080 - val_loss: 0.3344 - val_accuracy: 0.8544\n",
            "Epoch 2/20\n",
            "585/585 [==============================] - 9s 15ms/step - loss: 0.1701 - accuracy: 0.9347 - val_loss: 0.3472 - val_accuracy: 0.8586\n",
            "Epoch 3/20\n",
            "585/585 [==============================] - 8s 14ms/step - loss: 0.0704 - accuracy: 0.9757 - val_loss: 0.4882 - val_accuracy: 0.8434\n",
            "Epoch 4/20\n",
            "585/585 [==============================] - 8s 14ms/step - loss: 0.0277 - accuracy: 0.9912 - val_loss: 0.5608 - val_accuracy: 0.8462\n",
            "Epoch 5/20\n",
            "585/585 [==============================] - 8s 14ms/step - loss: 0.0121 - accuracy: 0.9966 - val_loss: 0.7029 - val_accuracy: 0.8467\n",
            "Epoch 6/20\n",
            "585/585 [==============================] - 8s 14ms/step - loss: 0.0067 - accuracy: 0.9979 - val_loss: 0.8122 - val_accuracy: 0.8433\n",
            "Epoch 7/20\n",
            "585/585 [==============================] - 8s 14ms/step - loss: 0.0043 - accuracy: 0.9988 - val_loss: 0.8894 - val_accuracy: 0.8400\n",
            "Epoch 8/20\n",
            "585/585 [==============================] - 8s 14ms/step - loss: 0.0078 - accuracy: 0.9976 - val_loss: 0.6233 - val_accuracy: 0.8242\n",
            "Epoch 9/20\n",
            "585/585 [==============================] - 8s 14ms/step - loss: 0.0098 - accuracy: 0.9968 - val_loss: 0.8849 - val_accuracy: 0.8354\n",
            "Epoch 10/20\n",
            "585/585 [==============================] - 8s 14ms/step - loss: 0.0019 - accuracy: 0.9994 - val_loss: 0.9946 - val_accuracy: 0.8443\n",
            "Epoch 11/20\n",
            "585/585 [==============================] - 8s 14ms/step - loss: 0.0011 - accuracy: 0.9998 - val_loss: 1.2323 - val_accuracy: 0.8379\n",
            "Epoch 12/20\n",
            "585/585 [==============================] - 8s 14ms/step - loss: 2.3009e-04 - accuracy: 0.9999 - val_loss: 1.2502 - val_accuracy: 0.8426\n",
            "Epoch 13/20\n",
            "585/585 [==============================] - 8s 14ms/step - loss: 2.4638e-05 - accuracy: 1.0000 - val_loss: 1.2919 - val_accuracy: 0.8435\n",
            "Epoch 14/20\n",
            "585/585 [==============================] - 8s 14ms/step - loss: 8.6605e-06 - accuracy: 1.0000 - val_loss: 1.3352 - val_accuracy: 0.8433\n",
            "Epoch 15/20\n",
            "585/585 [==============================] - 8s 14ms/step - loss: 5.7177e-06 - accuracy: 1.0000 - val_loss: 1.3765 - val_accuracy: 0.8434\n",
            "Epoch 16/20\n",
            "585/585 [==============================] - 8s 14ms/step - loss: 4.0296e-06 - accuracy: 1.0000 - val_loss: 1.4140 - val_accuracy: 0.8426\n",
            "Epoch 17/20\n",
            "585/585 [==============================] - 8s 14ms/step - loss: 2.9079e-06 - accuracy: 1.0000 - val_loss: 1.4500 - val_accuracy: 0.8426\n",
            "Epoch 18/20\n",
            "585/585 [==============================] - 8s 14ms/step - loss: 2.1083e-06 - accuracy: 1.0000 - val_loss: 1.4852 - val_accuracy: 0.8424\n",
            "Epoch 19/20\n",
            "585/585 [==============================] - 8s 14ms/step - loss: 1.5504e-06 - accuracy: 1.0000 - val_loss: 1.5206 - val_accuracy: 0.8415\n",
            "Epoch 20/20\n",
            "585/585 [==============================] - 8s 14ms/step - loss: 1.1110e-06 - accuracy: 1.0000 - val_loss: 1.5530 - val_accuracy: 0.8413\n"
          ],
          "name": "stdout"
        }
      ]
    },
    {
      "cell_type": "code",
      "metadata": {
        "id": "IXLt2VJwBVnL",
        "colab_type": "code",
        "outputId": "6de26a52-211b-4cff-faaa-d1bdc0891730",
        "colab": {
          "base_uri": "https://localhost:8080/",
          "height": 336
        }
      },
      "source": [
        "fig,(ax1,ax2)=plt.subplots(nrows=1,ncols=2,figsize=(20,5))\n",
        "ax1.plot(history.history['accuracy'],label='train_accuracy')\n",
        "ax1.plot(history.history['val_accuracy'],label='test_accuracy')\n",
        "ax1.set_title('Accuracy')\n",
        "ax1.legend()\n",
        "ax2.plot(history.history['loss'],label='train_loss')\n",
        "ax2.plot(history.history['val_loss'],label='test_loss')\n",
        "ax2.set_title('Loss')\n",
        "ax2.legend()\n",
        "plt.show()"
      ],
      "execution_count": 0,
      "outputs": [
        {
          "output_type": "display_data",
          "data": {
            "image/png": "[encoded data removed]",
            "text/plain": [
              "<Figure size 1440x360 with 2 Axes>"
            ]
          },
          "metadata": {
            "tags": [],
            "needs_background": "light"
          }
        }
      ]
    },
    {
      "cell_type": "markdown",
      "metadata": {
        "id": "E9UQJK4bxhju",
        "colab_type": "text"
      },
      "source": [
        "### Bidirectional Multilayer Layer LSTM"
      ]
    },
    {
      "cell_type": "code",
      "metadata": {
        "id": "36G4nGk01W4w",
        "colab_type": "code",
        "colab": {}
      },
      "source": [
        "model3=Sequential()"
      ],
      "execution_count": 0,
      "outputs": []
    },
    {
      "cell_type": "code",
      "metadata": {
        "id": "rpRz90dRxn-D",
        "colab_type": "code",
        "colab": {}
      },
      "source": [
        "model3.add(Embedding(input_dim=vocab_size+1,output_dim=32))\n",
        "model3.add(Bidirectional(LSTM(64,return_sequences=True)))\n",
        "tf.keras.layers.Dropout(0.2)\n",
        "model3.add(Bidirectional(LSTM(32)))\n",
        "tf.keras.layers.Dropout(0.2)\n",
        "model3.add(Dense(units=64,activation='relu'))\n",
        "model3.add(Dense(units=1,activation='sigmoid'))"
      ],
      "execution_count": 0,
      "outputs": []
    },
    {
      "cell_type": "code",
      "metadata": {
        "id": "RA9CCLrBRLU2",
        "colab_type": "code",
        "outputId": "958a26f9-ff2d-4862-9ee0-63b96bb65a93",
        "colab": {
          "base_uri": "https://localhost:8080/",
          "height": 332
        }
      },
      "source": [
        "model3.summary()"
      ],
      "execution_count": 0,
      "outputs": [
        {
          "output_type": "stream",
          "text": [
            "Model: \"sequential_4\"\n",
            "_________________________________________________________________\n",
            "Layer (type)                 Output Shape              Param #   \n",
            "=================================================================\n",
            "embedding_4 (Embedding)      (None, None, 32)          797312    \n",
            "_________________________________________________________________\n",
            "bidirectional_1 (Bidirection (None, None, 128)         49664     \n",
            "_________________________________________________________________\n",
            "bidirectional_2 (Bidirection (None, 64)                41216     \n",
            "_________________________________________________________________\n",
            "dense_8 (Dense)              (None, 64)                4160      \n",
            "_________________________________________________________________\n",
            "dense_9 (Dense)              (None, 1)                 65        \n",
            "=================================================================\n",
            "Total params: 892,417\n",
            "Trainable params: 892,417\n",
            "Non-trainable params: 0\n",
            "_________________________________________________________________\n"
          ],
          "name": "stdout"
        }
      ]
    },
    {
      "cell_type": "code",
      "metadata": {
        "id": "yoEPjNgaxoAi",
        "colab_type": "code",
        "colab": {}
      },
      "source": [
        "model3.compile(optimizer='adam',loss='binary_crossentropy',metrics=['accuracy'])"
      ],
      "execution_count": 0,
      "outputs": []
    },
    {
      "cell_type": "code",
      "metadata": {
        "id": "LMqcDn0gxoC-",
        "colab_type": "code",
        "outputId": "8730658d-fddf-43dd-89f1-097926259172",
        "colab": {
          "base_uri": "https://localhost:8080/",
          "height": 717
        }
      },
      "source": [
        "history=model3.fit(training_padded,y_train,epochs=20,validation_data=(test_padded,y_test))"
      ],
      "execution_count": 0,
      "outputs": [
        {
          "output_type": "stream",
          "text": [
            "Epoch 1/20\n",
            "585/585 [==============================] - 12s 20ms/step - loss: 0.3971 - accuracy: 0.8069 - val_loss: 0.3208 - val_accuracy: 0.8626\n",
            "Epoch 2/20\n",
            "585/585 [==============================] - 11s 18ms/step - loss: 0.1543 - accuracy: 0.9404 - val_loss: 0.3709 - val_accuracy: 0.8575\n",
            "Epoch 3/20\n",
            "585/585 [==============================] - 11s 18ms/step - loss: 0.0523 - accuracy: 0.9821 - val_loss: 0.5281 - val_accuracy: 0.8401\n",
            "Epoch 4/20\n",
            "585/585 [==============================] - 11s 18ms/step - loss: 0.0216 - accuracy: 0.9925 - val_loss: 0.5966 - val_accuracy: 0.8369\n",
            "Epoch 5/20\n",
            "585/585 [==============================] - 11s 18ms/step - loss: 0.0116 - accuracy: 0.9963 - val_loss: 0.7613 - val_accuracy: 0.8388\n",
            "Epoch 6/20\n",
            "585/585 [==============================] - 11s 18ms/step - loss: 0.0069 - accuracy: 0.9977 - val_loss: 0.8456 - val_accuracy: 0.8365\n",
            "Epoch 7/20\n",
            "585/585 [==============================] - 11s 18ms/step - loss: 0.0058 - accuracy: 0.9984 - val_loss: 0.9544 - val_accuracy: 0.8356\n",
            "Epoch 8/20\n",
            "585/585 [==============================] - 11s 19ms/step - loss: 0.0048 - accuracy: 0.9983 - val_loss: 1.2140 - val_accuracy: 0.8285\n",
            "Epoch 9/20\n",
            "585/585 [==============================] - 11s 18ms/step - loss: 0.0053 - accuracy: 0.9983 - val_loss: 0.9918 - val_accuracy: 0.8375\n",
            "Epoch 10/20\n",
            "585/585 [==============================] - 11s 18ms/step - loss: 0.0055 - accuracy: 0.9983 - val_loss: 1.0586 - val_accuracy: 0.8313\n",
            "Epoch 11/20\n",
            "585/585 [==============================] - 11s 18ms/step - loss: 0.0049 - accuracy: 0.9982 - val_loss: 1.2679 - val_accuracy: 0.8252\n",
            "Epoch 12/20\n",
            "585/585 [==============================] - 11s 19ms/step - loss: 0.0018 - accuracy: 0.9996 - val_loss: 1.1187 - val_accuracy: 0.8308\n",
            "Epoch 13/20\n",
            "585/585 [==============================] - 11s 18ms/step - loss: 0.0012 - accuracy: 0.9996 - val_loss: 1.3407 - val_accuracy: 0.8329\n",
            "Epoch 14/20\n",
            "585/585 [==============================] - 11s 18ms/step - loss: 0.0037 - accuracy: 0.9991 - val_loss: 1.1072 - val_accuracy: 0.8319\n",
            "Epoch 15/20\n",
            "585/585 [==============================] - 11s 19ms/step - loss: 0.0028 - accuracy: 0.9990 - val_loss: 1.3520 - val_accuracy: 0.8162\n",
            "Epoch 16/20\n",
            "585/585 [==============================] - 11s 18ms/step - loss: 0.0011 - accuracy: 0.9998 - val_loss: 1.3235 - val_accuracy: 0.8292\n",
            "Epoch 17/20\n",
            "585/585 [==============================] - 11s 18ms/step - loss: 0.0021 - accuracy: 0.9993 - val_loss: 1.0363 - val_accuracy: 0.8277\n",
            "Epoch 18/20\n",
            "585/585 [==============================] - 11s 18ms/step - loss: 0.0020 - accuracy: 0.9994 - val_loss: 1.1893 - val_accuracy: 0.8303\n",
            "Epoch 19/20\n",
            "585/585 [==============================] - 10s 18ms/step - loss: 0.0013 - accuracy: 0.9997 - val_loss: 1.3044 - val_accuracy: 0.8320\n",
            "Epoch 20/20\n",
            "585/585 [==============================] - 11s 18ms/step - loss: 2.5831e-05 - accuracy: 1.0000 - val_loss: 1.3928 - val_accuracy: 0.8320\n"
          ],
          "name": "stdout"
        }
      ]
    },
    {
      "cell_type": "code",
      "metadata": {
        "id": "6gc4pQKvPdpQ",
        "colab_type": "code",
        "outputId": "57d47991-4400-4987-c99f-f1faca776299",
        "colab": {
          "base_uri": "https://localhost:8080/",
          "height": 336
        }
      },
      "source": [
        "fig,(ax1,ax2)=plt.subplots(nrows=1,ncols=2,figsize=(20,5))\n",
        "ax1.plot(history.history['accuracy'],label='train_accuracy')\n",
        "ax1.plot(history.history['val_accuracy'],label='test_accuracy')\n",
        "ax1.set_title('Accuracy')\n",
        "ax1.legend()\n",
        "ax2.plot(history.history['loss'],label='train_loss')\n",
        "ax2.plot(history.history['val_loss'],label='test_loss')\n",
        "ax2.set_title('Loss')\n",
        "ax2.legend()\n",
        "plt.show()"
      ],
      "execution_count": 0,
      "outputs": [
        {
          "output_type": "display_data",
          "data": {
            "image/png": "[encoded data removed]",
            "text/plain": [
              "<Figure size 1440x360 with 2 Axes>"
            ]
          },
          "metadata": {
            "tags": [],
            "needs_background": "light"
          }
        }
      ]
    },
    {
      "cell_type": "markdown",
      "metadata": {
        "id": "s5EiIDqIQ15Y",
        "colab_type": "text"
      },
      "source": [
        "### Single Layer LSTM"
      ]
    },
    {
      "cell_type": "code",
      "metadata": {
        "id": "MLUwCYmCQ5q8",
        "colab_type": "code",
        "colab": {}
      },
      "source": [
        "model4=Sequential()"
      ],
      "execution_count": 0,
      "outputs": []
    },
    {
      "cell_type": "code",
      "metadata": {
        "id": "1KHNDRF1Q5tz",
        "colab_type": "code",
        "colab": {}
      },
      "source": [
        "model4.add(Embedding(input_dim=vocab_size+1,output_dim=32))\n",
        "tf.keras.layers.Dropout(0.2)\n",
        "model4.add(LSTM(62))\n",
        "tf.keras.layers.Dropout(0.2)\n",
        "model4.add(Dense(units=64,activation='relu'))\n",
        "model4.add(Dense(units=1,activation='sigmoid'))"
      ],
      "execution_count": 0,
      "outputs": []
    },
    {
      "cell_type": "code",
      "metadata": {
        "id": "sQdZEWYvRPlN",
        "colab_type": "code",
        "outputId": "1830b9ac-2f52-4209-c14d-f8984dd800f4",
        "colab": {
          "base_uri": "https://localhost:8080/",
          "height": 297
        }
      },
      "source": [
        "model4.summary()"
      ],
      "execution_count": 0,
      "outputs": [
        {
          "output_type": "stream",
          "text": [
            "Model: \"sequential_5\"\n",
            "_________________________________________________________________\n",
            "Layer (type)                 Output Shape              Param #   \n",
            "=================================================================\n",
            "embedding_5 (Embedding)      (None, None, 32)          797312    \n",
            "_________________________________________________________________\n",
            "lstm_3 (LSTM)                (None, 62)                23560     \n",
            "_________________________________________________________________\n",
            "dense_10 (Dense)             (None, 64)                4032      \n",
            "_________________________________________________________________\n",
            "dense_11 (Dense)             (None, 1)                 65        \n",
            "=================================================================\n",
            "Total params: 824,969\n",
            "Trainable params: 824,969\n",
            "Non-trainable params: 0\n",
            "_________________________________________________________________\n"
          ],
          "name": "stdout"
        }
      ]
    },
    {
      "cell_type": "code",
      "metadata": {
        "id": "SpvrCjzNQ5oW",
        "colab_type": "code",
        "colab": {}
      },
      "source": [
        "model4.compile(optimizer='adam',loss='binary_crossentropy',metrics=['accuracy'])"
      ],
      "execution_count": 0,
      "outputs": []
    },
    {
      "cell_type": "code",
      "metadata": {
        "id": "HJBIRrldRRAP",
        "colab_type": "code",
        "outputId": "f63a6b60-c049-46dc-d6f0-97b4e6dd0772",
        "colab": {
          "base_uri": "https://localhost:8080/",
          "height": 717
        }
      },
      "source": [
        "history=model4.fit(training_padded,y_train,epochs=20,validation_data=(test_padded,y_test))"
      ],
      "execution_count": 0,
      "outputs": [
        {
          "output_type": "stream",
          "text": [
            "Epoch 1/20\n",
            "585/585 [==============================] - 7s 11ms/step - loss: 0.5929 - accuracy: 0.6573 - val_loss: 0.3902 - val_accuracy: 0.8334\n",
            "Epoch 2/20\n",
            "585/585 [==============================] - 6s 11ms/step - loss: 0.2783 - accuracy: 0.8888 - val_loss: 0.3746 - val_accuracy: 0.8574\n",
            "Epoch 3/20\n",
            "585/585 [==============================] - 6s 11ms/step - loss: 0.1334 - accuracy: 0.9552 - val_loss: 0.3456 - val_accuracy: 0.8535\n",
            "Epoch 4/20\n",
            "585/585 [==============================] - 6s 11ms/step - loss: 0.0721 - accuracy: 0.9785 - val_loss: 0.4699 - val_accuracy: 0.8411\n",
            "Epoch 5/20\n",
            "585/585 [==============================] - 6s 11ms/step - loss: 0.0425 - accuracy: 0.9879 - val_loss: 0.4300 - val_accuracy: 0.8419\n",
            "Epoch 6/20\n",
            "585/585 [==============================] - 6s 11ms/step - loss: 0.0318 - accuracy: 0.9915 - val_loss: 0.4674 - val_accuracy: 0.8364\n",
            "Epoch 7/20\n",
            "585/585 [==============================] - 6s 11ms/step - loss: 0.0220 - accuracy: 0.9948 - val_loss: 0.5893 - val_accuracy: 0.8343\n",
            "Epoch 8/20\n",
            "585/585 [==============================] - 6s 11ms/step - loss: 0.0178 - accuracy: 0.9957 - val_loss: 0.6018 - val_accuracy: 0.8360\n",
            "Epoch 9/20\n",
            "585/585 [==============================] - 6s 11ms/step - loss: 0.0165 - accuracy: 0.9963 - val_loss: 0.6612 - val_accuracy: 0.8330\n",
            "Epoch 10/20\n",
            "585/585 [==============================] - 6s 11ms/step - loss: 0.0148 - accuracy: 0.9966 - val_loss: 0.7300 - val_accuracy: 0.8334\n",
            "Epoch 11/20\n",
            "585/585 [==============================] - 6s 11ms/step - loss: 0.0139 - accuracy: 0.9965 - val_loss: 0.5151 - val_accuracy: 0.8328\n",
            "Epoch 12/20\n",
            "585/585 [==============================] - 6s 11ms/step - loss: 0.0144 - accuracy: 0.9964 - val_loss: 0.6711 - val_accuracy: 0.8287\n",
            "Epoch 13/20\n",
            "585/585 [==============================] - 6s 11ms/step - loss: 0.0118 - accuracy: 0.9978 - val_loss: 0.8228 - val_accuracy: 0.8307\n",
            "Epoch 14/20\n",
            "585/585 [==============================] - 6s 11ms/step - loss: 0.0090 - accuracy: 0.9982 - val_loss: 0.7833 - val_accuracy: 0.8341\n",
            "Epoch 15/20\n",
            "585/585 [==============================] - 6s 11ms/step - loss: 0.0106 - accuracy: 0.9980 - val_loss: 0.5669 - val_accuracy: 0.8222\n",
            "Epoch 16/20\n",
            "585/585 [==============================] - 6s 11ms/step - loss: 0.0135 - accuracy: 0.9970 - val_loss: 0.7003 - val_accuracy: 0.8300\n",
            "Epoch 17/20\n",
            "585/585 [==============================] - 6s 11ms/step - loss: 0.0109 - accuracy: 0.9979 - val_loss: 0.7949 - val_accuracy: 0.8267\n",
            "Epoch 18/20\n",
            "585/585 [==============================] - 6s 11ms/step - loss: 0.0118 - accuracy: 0.9971 - val_loss: 0.8258 - val_accuracy: 0.8321\n",
            "Epoch 19/20\n",
            "585/585 [==============================] - 6s 11ms/step - loss: 0.0103 - accuracy: 0.9982 - val_loss: 0.7093 - val_accuracy: 0.8289\n",
            "Epoch 20/20\n",
            "585/585 [==============================] - 6s 11ms/step - loss: 0.0059 - accuracy: 0.9989 - val_loss: 0.9405 - val_accuracy: 0.8311\n"
          ],
          "name": "stdout"
        }
      ]
    },
    {
      "cell_type": "code",
      "metadata": {
        "id": "SYRfNC2uRT4p",
        "colab_type": "code",
        "outputId": "32f4d570-0bd2-4e7e-ba04-f034e4a46dfb",
        "colab": {
          "base_uri": "https://localhost:8080/",
          "height": 336
        }
      },
      "source": [
        "fig,(ax1,ax2)=plt.subplots(nrows=1,ncols=2,figsize=(20,5))\n",
        "ax1.plot(history.history['accuracy'],label='train_accuracy')\n",
        "ax1.plot(history.history['val_accuracy'],label='test_accuracy')\n",
        "ax1.set_title('Accuracy')\n",
        "ax1.legend()\n",
        "ax2.plot(history.history['loss'],label='train_loss')\n",
        "ax2.plot(history.history['val_loss'],label='test_loss')\n",
        "ax2.set_title('Loss')\n",
        "ax2.legend()\n",
        "plt.show()"
      ],
      "execution_count": 0,
      "outputs": [
        {
          "output_type": "display_data",
          "data": {
            "image/png": "[encoded data removed]",
            "text/plain": [
              "<Figure size 1440x360 with 2 Axes>"
            ]
          },
          "metadata": {
            "tags": [],
            "needs_background": "light"
          }
        }
      ]
    },
    {
      "cell_type": "markdown",
      "metadata": {
        "id": "HBNzft9JdvEl",
        "colab_type": "text"
      },
      "source": [
        "#### * Single Layer LSTM has a good accuracy and also accuracy is constant and loss first increses and the decrease .So it if as good fit model.*\n",
        "\n"
      ]
    }
  ]
}