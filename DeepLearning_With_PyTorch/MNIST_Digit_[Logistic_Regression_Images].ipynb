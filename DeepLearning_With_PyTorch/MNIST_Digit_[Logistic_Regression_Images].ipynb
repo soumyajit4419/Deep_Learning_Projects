{
  "nbformat": 4,
  "nbformat_minor": 0,
  "metadata": {
    "colab": {
      "name": "MNIST Digit [Logistic Regression / Images].ipynb",
      "provenance": [],
      "collapsed_sections": []
    },
    "kernelspec": {
      "name": "python3",
      "display_name": "Python 3"
    },
    "accelerator": "GPU"
  },
  "cells": [
    {
      "cell_type": "code",
      "metadata": {
        "id": "ARSFIBm6KNq7",
        "colab_type": "code",
        "colab": {}
      },
      "source": [
        "import pandas as pd\n",
        "import numpy as np\n",
        "import matplotlib.pyplot  as plt"
      ],
      "execution_count": 0,
      "outputs": []
    },
    {
      "cell_type": "code",
      "metadata": {
        "id": "j0T5MGt7Mm-u",
        "colab_type": "code",
        "colab": {}
      },
      "source": [
        "import torch \n",
        "import torch.nn as nn\n",
        "import torch.nn.functional as F\n",
        "from torch.utils.data import DataLoader,random_split,TensorDataset \n",
        "from torchvision.datasets import MNIST\n",
        "import torchvision.transforms as transforms"
      ],
      "execution_count": 0,
      "outputs": []
    },
    {
      "cell_type": "code",
      "metadata": {
        "id": "U6kZbMsWMwQ7",
        "colab_type": "code",
        "colab": {}
      },
      "source": [
        "dataset = MNIST(root='data/', train=True, transform = transforms.ToTensor(), download=True)\n",
        "test_data = MNIST(root='data/' , train=False , transform= transforms.ToTensor())"
      ],
      "execution_count": 0,
      "outputs": []
    },
    {
      "cell_type": "code",
      "metadata": {
        "id": "Auibo8zZOo0T",
        "colab_type": "code",
        "colab": {
          "base_uri": "https://localhost:8080/",
          "height": 282
        },
        "outputId": "53738239-55f7-43fa-c1dd-3792888b6c95"
      },
      "source": [
        "image, label = dataset[0]\n",
        "plt.imshow(image[0], cmap='gray')\n",
        "print('Label:', label)"
      ],
      "execution_count": 9,
      "outputs": [
        {
          "output_type": "stream",
          "text": [
            "Label: 5\n"
          ],
          "name": "stdout"
        },
        {
          "output_type": "display_data",
          "data": {
            "image/png": "[encoded data removed]",
            "text/plain": [
              "<Figure size 432x288 with 1 Axes>"
            ]
          },
          "metadata": {
            "tags": [],
            "needs_background": "light"
          }
        }
      ]
    },
    {
      "cell_type": "code",
      "metadata": {
        "id": "lAjvlmd3O9PI",
        "colab_type": "code",
        "colab": {
          "base_uri": "https://localhost:8080/",
          "height": 35
        },
        "outputId": "8dd62dd1-78c9-4a7f-c1ea-0369fee8a1a8"
      },
      "source": [
        "image.shape"
      ],
      "execution_count": 10,
      "outputs": [
        {
          "output_type": "execute_result",
          "data": {
            "text/plain": [
              "torch.Size([1, 28, 28])"
            ]
          },
          "metadata": {
            "tags": []
          },
          "execution_count": 10
        }
      ]
    },
    {
      "cell_type": "code",
      "metadata": {
        "id": "gl-OtoQVPJKd",
        "colab_type": "code",
        "colab": {
          "base_uri": "https://localhost:8080/",
          "height": 35
        },
        "outputId": "6a7225d6-3b47-4bc5-a3df-46e0a52c9bae"
      },
      "source": [
        "len(dataset)"
      ],
      "execution_count": 11,
      "outputs": [
        {
          "output_type": "execute_result",
          "data": {
            "text/plain": [
              "60000"
            ]
          },
          "metadata": {
            "tags": []
          },
          "execution_count": 11
        }
      ]
    },
    {
      "cell_type": "markdown",
      "metadata": {
        "id": "tdhoTrQEb0Sx",
        "colab_type": "text"
      },
      "source": [
        "## Dataset and Dataloader"
      ]
    },
    {
      "cell_type": "code",
      "metadata": {
        "id": "RtgGZgh7PAx8",
        "colab_type": "code",
        "colab": {}
      },
      "source": [
        "val_percent=0.1\n",
        "num_rows = len(dataset)\n",
        "val_size = int(num_rows * val_percent)\n",
        "train_size = num_rows- val_size\n",
        "train_ds,val_ds = random_split(dataset, [train_size,val_size])"
      ],
      "execution_count": 0,
      "outputs": []
    },
    {
      "cell_type": "code",
      "metadata": {
        "id": "I1_xVl14QB9Q",
        "colab_type": "code",
        "colab": {}
      },
      "source": [
        "batchSize = 32"
      ],
      "execution_count": 0,
      "outputs": []
    },
    {
      "cell_type": "code",
      "metadata": {
        "id": "GwBhHa6jQJFt",
        "colab_type": "code",
        "colab": {}
      },
      "source": [
        "train_loader = DataLoader(train_ds,batch_size=batchSize,shuffle=True)\n",
        "val_loader = DataLoader(val_ds,batch_size=batchSize,shuffle=True)\n",
        "test_loader = DataLoader(test_data,batch_size=batchSize)"
      ],
      "execution_count": 0,
      "outputs": []
    },
    {
      "cell_type": "code",
      "metadata": {
        "id": "K_NShg0pR8Xt",
        "colab_type": "code",
        "colab": {}
      },
      "source": [
        "input_shape = 28*28\n",
        "num_classes = 10"
      ],
      "execution_count": 0,
      "outputs": []
    },
    {
      "cell_type": "markdown",
      "metadata": {
        "id": "GYdlVD2Sbdlx",
        "colab_type": "text"
      },
      "source": [
        "## Building A model"
      ]
    },
    {
      "cell_type": "code",
      "metadata": {
        "id": "D_hG1j3RSKJx",
        "colab_type": "code",
        "colab": {}
      },
      "source": [
        "class Mnist_Model(nn.Module):\n",
        "\n",
        "  def __init__(self):\n",
        "    super().__init__()\n",
        "    self.linear = nn.Linear(input_shape,num_classes)\n",
        "  \n",
        "  def forward(self,xb):\n",
        "    xb = xb.reshape(-1, 784)\n",
        "    out =self.linear(xb)\n",
        "    return out\n",
        "\n",
        "  def training_step(self,batch):\n",
        "    images,label = batch\n",
        "    out = self(images)\n",
        "    loss = F.cross_entropy(out,label)\n",
        "    return loss\n",
        "\n",
        "  def validation_step(self,batch):\n",
        "    images,label = batch\n",
        "    out = self(images)\n",
        "    loss = F.cross_entropy(out,label)\n",
        "    acc = accuracy(out,label)\n",
        "    return {'val_loss' : loss.detach() , 'val_acc': acc.detach()}\n",
        "\n",
        "  def validation_epoch_end(self,outputs):\n",
        "    batch_losses =  [x['val_loss'] for x in outputs]\n",
        "    epoch_loss = torch.stack(batch_losses).mean() \n",
        "    batch_accuracy = [x['val_acc'] for x in outputs]\n",
        "    epoch_acc = torch.stack(batch_accuracy).mean()\n",
        "    return {'val_loss': epoch_loss.item(), 'val_acc': epoch_acc.item()}\n",
        "\n",
        "  def epoch_end(self, epoch, result):\n",
        "    print(\"Epoch [{}], val_loss: {:.4f}, val_acc: {:.4f}\".format(epoch, result['val_loss'], result['val_acc']))\n"
      ],
      "execution_count": 0,
      "outputs": []
    },
    {
      "cell_type": "code",
      "metadata": {
        "id": "2StrUbmHYrOv",
        "colab_type": "code",
        "colab": {}
      },
      "source": [
        "model = Mnist_Model()"
      ],
      "execution_count": 0,
      "outputs": []
    },
    {
      "cell_type": "code",
      "metadata": {
        "id": "D1vYq9lWY1Mt",
        "colab_type": "code",
        "colab": {}
      },
      "source": [
        "def accuracy(outputs, labels):\n",
        "    _, preds = torch.max(outputs, dim=1)\n",
        "    return torch.tensor(torch.sum(preds == labels).item() / len(preds))"
      ],
      "execution_count": 0,
      "outputs": []
    },
    {
      "cell_type": "markdown",
      "metadata": {
        "id": "vRDzCftKbhh7",
        "colab_type": "text"
      },
      "source": [
        "## Training a Model"
      ]
    },
    {
      "cell_type": "code",
      "metadata": {
        "id": "6LmPn-nrbjxe",
        "colab_type": "code",
        "colab": {}
      },
      "source": [
        "def evaluate(model, val_loader):\n",
        "    outputs = [model.validation_step(batch) for batch in val_loader]\n",
        "    return model.validation_epoch_end(outputs)"
      ],
      "execution_count": 0,
      "outputs": []
    },
    {
      "cell_type": "code",
      "metadata": {
        "id": "AD1Am80hYukR",
        "colab_type": "code",
        "colab": {}
      },
      "source": [
        "def fit(epochs, lr, model, train_loader, val_loader, opt_func=torch.optim.SGD):\n",
        "    history = []\n",
        "    optimizer = opt_func(model.parameters(), lr)\n",
        "    for epoch in range(epochs):\n",
        "        # Training Phase \n",
        "        for batch in train_loader:\n",
        "            loss = model.training_step(batch)\n",
        "            loss.backward()\n",
        "            optimizer.step()\n",
        "            optimizer.zero_grad()\n",
        "        # Validation phase\n",
        "        result = evaluate(model, val_loader)\n",
        "        model.epoch_end(epoch, result)\n",
        "        history.append(result)\n",
        "    return history"
      ],
      "execution_count": 0,
      "outputs": []
    },
    {
      "cell_type": "code",
      "metadata": {
        "id": "rbyE0KzFY8sv",
        "colab_type": "code",
        "colab": {
          "base_uri": "https://localhost:8080/",
          "height": 191
        },
        "outputId": "ba19dc80-63f7-4ed0-b3d3-1dd13469ee2e"
      },
      "source": [
        "history = fit(10, 0.001, model, train_loader, val_loader)"
      ],
      "execution_count": 34,
      "outputs": [
        {
          "output_type": "stream",
          "text": [
            "Epoch [0], val_loss: 1.2823, val_acc: 0.7949\n",
            "Epoch [1], val_loss: 0.9481, val_acc: 0.8243\n",
            "Epoch [2], val_loss: 0.7940, val_acc: 0.8436\n",
            "Epoch [3], val_loss: 0.7061, val_acc: 0.8522\n",
            "Epoch [4], val_loss: 0.6490, val_acc: 0.8582\n",
            "Epoch [5], val_loss: 0.6068, val_acc: 0.8634\n",
            "Epoch [6], val_loss: 0.5763, val_acc: 0.8664\n",
            "Epoch [7], val_loss: 0.5512, val_acc: 0.8710\n",
            "Epoch [8], val_loss: 0.5315, val_acc: 0.8715\n",
            "Epoch [9], val_loss: 0.5150, val_acc: 0.8748\n"
          ],
          "name": "stdout"
        }
      ]
    },
    {
      "cell_type": "code",
      "metadata": {
        "id": "wBH_-Gi3ZZBl",
        "colab_type": "code",
        "colab": {
          "base_uri": "https://localhost:8080/",
          "height": 295
        },
        "outputId": "31ee5345-7f33-4131-928c-212d32129c9e"
      },
      "source": [
        "accuracies = [r['val_acc'] for r in history]\n",
        "plt.plot(accuracies, '-x')\n",
        "plt.xlabel('epoch')\n",
        "plt.ylabel('accuracy')\n",
        "plt.title('Accuracy vs. No. of epochs');"
      ],
      "execution_count": 35,
      "outputs": [
        {
          "output_type": "display_data",
          "data": {
            "image/png": "[encoded data removed]",
            "text/plain": [
              "<Figure size 432x288 with 1 Axes>"
            ]
          },
          "metadata": {
            "tags": [],
            "needs_background": "light"
          }
        }
      ]
    },
    {
      "cell_type": "markdown",
      "metadata": {
        "id": "e9JnCRqvbSWQ",
        "colab_type": "text"
      },
      "source": [
        "##  Evaluating on test data"
      ]
    },
    {
      "cell_type": "code",
      "metadata": {
        "id": "uJW2t9fVZR7C",
        "colab_type": "code",
        "colab": {
          "base_uri": "https://localhost:8080/",
          "height": 35
        },
        "outputId": "c06f3c65-d255-4ec6-c29d-02e506aca2f1"
      },
      "source": [
        "evaluate(model, test_loader)"
      ],
      "execution_count": 36,
      "outputs": [
        {
          "output_type": "execute_result",
          "data": {
            "text/plain": [
              "{'val_acc': 0.879792332649231, 'val_loss': 0.4920565187931061}"
            ]
          },
          "metadata": {
            "tags": []
          },
          "execution_count": 36
        }
      ]
    },
    {
      "cell_type": "markdown",
      "metadata": {
        "id": "_IuvFX34bS04",
        "colab_type": "text"
      },
      "source": [
        "## Predicting on new image"
      ]
    },
    {
      "cell_type": "code",
      "metadata": {
        "id": "v7HGHn73ZBSH",
        "colab_type": "code",
        "colab": {}
      },
      "source": [
        "def predict_image(img, model):\n",
        "    xb = img.unsqueeze(0)\n",
        "    yb = model(xb)\n",
        "    _, preds  = torch.max(yb, dim=1)\n",
        "    return preds[0].item()"
      ],
      "execution_count": 0,
      "outputs": []
    },
    {
      "cell_type": "code",
      "metadata": {
        "id": "5rutsdD1ZwLF",
        "colab_type": "code",
        "colab": {
          "base_uri": "https://localhost:8080/",
          "height": 282
        },
        "outputId": "98b3bb88-49f2-4928-afea-d7bfbe9a6411"
      },
      "source": [
        "img, label = test_data[20]\n",
        "plt.imshow(img[0], cmap='gray')\n",
        "print('Label:', label, ', Predicted:', predict_image(img, model))"
      ],
      "execution_count": 39,
      "outputs": [
        {
          "output_type": "stream",
          "text": [
            "Label: 9 , Predicted: 9\n"
          ],
          "name": "stdout"
        },
        {
          "output_type": "display_data",
          "data": {
            "image/png": "[encoded data removed]",
            "text/plain": [
              "<Figure size 432x288 with 1 Axes>"
            ]
          },
          "metadata": {
            "tags": [],
            "needs_background": "light"
          }
        }
      ]
    }
  ]
}