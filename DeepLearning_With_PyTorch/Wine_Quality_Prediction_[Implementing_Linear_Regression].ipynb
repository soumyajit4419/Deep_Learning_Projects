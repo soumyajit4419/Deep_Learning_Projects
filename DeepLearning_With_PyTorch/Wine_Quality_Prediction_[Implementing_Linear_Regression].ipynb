{
  "nbformat": 4,
  "nbformat_minor": 0,
  "metadata": {
    "colab": {
      "name": "Wine Quality Prediction [Implementing Linear Regression].ipynb",
      "provenance": [],
      "collapsed_sections": []
    },
    "kernelspec": {
      "name": "python3",
      "display_name": "Python 3"
    },
    "accelerator": "GPU"
  },
  "cells": [
    {
      "cell_type": "markdown",
      "metadata": {
        "id": "vO6hDLsDIOGF",
        "colab_type": "text"
      },
      "source": [
        "## Importing Libraries"
      ]
    },
    {
      "cell_type": "code",
      "metadata": {
        "id": "U8kihS1HeIml",
        "colab_type": "code",
        "colab": {
          "base_uri": "https://localhost:8080/",
          "height": 72
        },
        "outputId": "83c3bb1f-928c-4dea-d0f6-56ffa897ad4c"
      },
      "source": [
        "import pandas as pd\n",
        "import numpy as np\n",
        "import seaborn as sns\n",
        "import matplotlib.pyplot as plt"
      ],
      "execution_count": 1,
      "outputs": [
        {
          "output_type": "stream",
          "text": [
            "/usr/local/lib/python3.6/dist-packages/statsmodels/tools/_testing.py:19: FutureWarning: pandas.util.testing is deprecated. Use the functions in the public API at pandas.testing instead.\n",
            "  import pandas.util.testing as tm\n"
          ],
          "name": "stderr"
        }
      ]
    },
    {
      "cell_type": "code",
      "metadata": {
        "id": "J5Jr0vEIe4TF",
        "colab_type": "code",
        "colab": {}
      },
      "source": [
        "import torch\n",
        "import torch.nn.functional as F\n",
        "import torch.nn as nn\n",
        "from torch.utils.data import DataLoader,TensorDataset\n",
        "from torch.utils.data import random_split"
      ],
      "execution_count": 0,
      "outputs": []
    },
    {
      "cell_type": "code",
      "metadata": {
        "id": "170Gi4n8gFPW",
        "colab_type": "code",
        "colab": {}
      },
      "source": [
        "df=pd.read_csv('https://raw.githubusercontent.com/soumyajit4419/Wine_Quality_Classification/master/winequality.csv')"
      ],
      "execution_count": 0,
      "outputs": []
    },
    {
      "cell_type": "code",
      "metadata": {
        "id": "Y1mT_GAqgM4x",
        "colab_type": "code",
        "colab": {
          "base_uri": "https://localhost:8080/",
          "height": 197
        },
        "outputId": "0a1374ae-1565-4491-81e1-621a2ff71055"
      },
      "source": [
        "df.head()"
      ],
      "execution_count": 4,
      "outputs": [
        {
          "output_type": "execute_result",
          "data": {
            "text/html": [
              "<div>\n",
              "<style scoped>\n",
              "    .dataframe tbody tr th:only-of-type {\n",
              "        vertical-align: middle;\n",
              "    }\n",
              "\n",
              "    .dataframe tbody tr th {\n",
              "        vertical-align: top;\n",
              "    }\n",
              "\n",
              "    .dataframe thead th {\n",
              "        text-align: right;\n",
              "    }\n",
              "</style>\n",
              "<table border=\"1\" class=\"dataframe\">\n",
              "  <thead>\n",
              "    <tr style=\"text-align: right;\">\n",
              "      <th></th>\n",
              "      <th>fixed acidity</th>\n",
              "      <th>volatile acidity</th>\n",
              "      <th>citric acid</th>\n",
              "      <th>residual sugar</th>\n",
              "      <th>chlorides</th>\n",
              "      <th>free sulfur dioxide</th>\n",
              "      <th>total sulfur dioxide</th>\n",
              "      <th>density</th>\n",
              "      <th>pH</th>\n",
              "      <th>sulphates</th>\n",
              "      <th>alcohol</th>\n",
              "      <th>quality</th>\n",
              "    </tr>\n",
              "  </thead>\n",
              "  <tbody>\n",
              "    <tr>\n",
              "      <th>0</th>\n",
              "      <td>7.4</td>\n",
              "      <td>0.70</td>\n",
              "      <td>0.00</td>\n",
              "      <td>1.9</td>\n",
              "      <td>0.076</td>\n",
              "      <td>11.0</td>\n",
              "      <td>34.0</td>\n",
              "      <td>0.9978</td>\n",
              "      <td>3.51</td>\n",
              "      <td>0.56</td>\n",
              "      <td>9.4</td>\n",
              "      <td>5</td>\n",
              "    </tr>\n",
              "    <tr>\n",
              "      <th>1</th>\n",
              "      <td>7.8</td>\n",
              "      <td>0.88</td>\n",
              "      <td>0.00</td>\n",
              "      <td>2.6</td>\n",
              "      <td>0.098</td>\n",
              "      <td>25.0</td>\n",
              "      <td>67.0</td>\n",
              "      <td>0.9968</td>\n",
              "      <td>3.20</td>\n",
              "      <td>0.68</td>\n",
              "      <td>9.8</td>\n",
              "      <td>5</td>\n",
              "    </tr>\n",
              "    <tr>\n",
              "      <th>2</th>\n",
              "      <td>7.8</td>\n",
              "      <td>0.76</td>\n",
              "      <td>0.04</td>\n",
              "      <td>2.3</td>\n",
              "      <td>0.092</td>\n",
              "      <td>15.0</td>\n",
              "      <td>54.0</td>\n",
              "      <td>0.9970</td>\n",
              "      <td>3.26</td>\n",
              "      <td>0.65</td>\n",
              "      <td>9.8</td>\n",
              "      <td>5</td>\n",
              "    </tr>\n",
              "    <tr>\n",
              "      <th>3</th>\n",
              "      <td>11.2</td>\n",
              "      <td>0.28</td>\n",
              "      <td>0.56</td>\n",
              "      <td>1.9</td>\n",
              "      <td>0.075</td>\n",
              "      <td>17.0</td>\n",
              "      <td>60.0</td>\n",
              "      <td>0.9980</td>\n",
              "      <td>3.16</td>\n",
              "      <td>0.58</td>\n",
              "      <td>9.8</td>\n",
              "      <td>6</td>\n",
              "    </tr>\n",
              "    <tr>\n",
              "      <th>4</th>\n",
              "      <td>7.4</td>\n",
              "      <td>0.70</td>\n",
              "      <td>0.00</td>\n",
              "      <td>1.9</td>\n",
              "      <td>0.076</td>\n",
              "      <td>11.0</td>\n",
              "      <td>34.0</td>\n",
              "      <td>0.9978</td>\n",
              "      <td>3.51</td>\n",
              "      <td>0.56</td>\n",
              "      <td>9.4</td>\n",
              "      <td>5</td>\n",
              "    </tr>\n",
              "  </tbody>\n",
              "</table>\n",
              "</div>"
            ],
            "text/plain": [
              "   fixed acidity  volatile acidity  citric acid  ...  sulphates  alcohol  quality\n",
              "0            7.4              0.70         0.00  ...       0.56      9.4        5\n",
              "1            7.8              0.88         0.00  ...       0.68      9.8        5\n",
              "2            7.8              0.76         0.04  ...       0.65      9.8        5\n",
              "3           11.2              0.28         0.56  ...       0.58      9.8        6\n",
              "4            7.4              0.70         0.00  ...       0.56      9.4        5\n",
              "\n",
              "[5 rows x 12 columns]"
            ]
          },
          "metadata": {
            "tags": []
          },
          "execution_count": 4
        }
      ]
    },
    {
      "cell_type": "code",
      "metadata": {
        "id": "VRp8dxN1BT-B",
        "colab_type": "code",
        "colab": {
          "base_uri": "https://localhost:8080/",
          "height": 348
        },
        "outputId": "d130bc46-7e9c-45a4-b8cd-9deb4c9a6f7c"
      },
      "source": [
        "df.info()"
      ],
      "execution_count": 5,
      "outputs": [
        {
          "output_type": "stream",
          "text": [
            "<class 'pandas.core.frame.DataFrame'>\n",
            "RangeIndex: 1599 entries, 0 to 1598\n",
            "Data columns (total 12 columns):\n",
            " #   Column                Non-Null Count  Dtype  \n",
            "---  ------                --------------  -----  \n",
            " 0   fixed acidity         1599 non-null   float64\n",
            " 1   volatile acidity      1599 non-null   float64\n",
            " 2   citric acid           1599 non-null   float64\n",
            " 3   residual sugar        1599 non-null   float64\n",
            " 4   chlorides             1599 non-null   float64\n",
            " 5   free sulfur dioxide   1599 non-null   float64\n",
            " 6   total sulfur dioxide  1599 non-null   float64\n",
            " 7   density               1599 non-null   float64\n",
            " 8   pH                    1599 non-null   float64\n",
            " 9   sulphates             1599 non-null   float64\n",
            " 10  alcohol               1599 non-null   float64\n",
            " 11  quality               1599 non-null   int64  \n",
            "dtypes: float64(11), int64(1)\n",
            "memory usage: 150.0 KB\n"
          ],
          "name": "stdout"
        }
      ]
    },
    {
      "cell_type": "code",
      "metadata": {
        "id": "Coc6Idc3saJg",
        "colab_type": "code",
        "colab": {
          "base_uri": "https://localhost:8080/",
          "height": 35
        },
        "outputId": "ee20f01c-ff56-4dca-a20d-f255c6c27e7b"
      },
      "source": [
        "df.shape"
      ],
      "execution_count": 6,
      "outputs": [
        {
          "output_type": "execute_result",
          "data": {
            "text/plain": [
              "(1599, 12)"
            ]
          },
          "metadata": {
            "tags": []
          },
          "execution_count": 6
        }
      ]
    },
    {
      "cell_type": "code",
      "metadata": {
        "id": "nX1T8ccP6ZDa",
        "colab_type": "code",
        "colab": {
          "base_uri": "https://localhost:8080/",
          "height": 243
        },
        "outputId": "e709f4c0-c59a-4ca7-e634-f8f90897574a"
      },
      "source": [
        "df.isnull().sum()"
      ],
      "execution_count": 7,
      "outputs": [
        {
          "output_type": "execute_result",
          "data": {
            "text/plain": [
              "fixed acidity           0\n",
              "volatile acidity        0\n",
              "citric acid             0\n",
              "residual sugar          0\n",
              "chlorides               0\n",
              "free sulfur dioxide     0\n",
              "total sulfur dioxide    0\n",
              "density                 0\n",
              "pH                      0\n",
              "sulphates               0\n",
              "alcohol                 0\n",
              "quality                 0\n",
              "dtype: int64"
            ]
          },
          "metadata": {
            "tags": []
          },
          "execution_count": 7
        }
      ]
    },
    {
      "cell_type": "markdown",
      "metadata": {
        "id": "g9cSFg-aIU2T",
        "colab_type": "text"
      },
      "source": [
        "## Getting Input and Target Columns values"
      ]
    },
    {
      "cell_type": "code",
      "metadata": {
        "id": "eOI1ZtsJheuB",
        "colab_type": "code",
        "colab": {}
      },
      "source": [
        "inputs=df.drop('quality',axis=1)"
      ],
      "execution_count": 0,
      "outputs": []
    },
    {
      "cell_type": "code",
      "metadata": {
        "id": "OAy-Ax_hh1wQ",
        "colab_type": "code",
        "colab": {
          "base_uri": "https://localhost:8080/",
          "height": 139
        },
        "outputId": "0811ea0d-d5a6-4376-b456-8c9f2eb6fee0"
      },
      "source": [
        "inputs=inputs.values\n",
        "inputs"
      ],
      "execution_count": 9,
      "outputs": [
        {
          "output_type": "execute_result",
          "data": {
            "text/plain": [
              "array([[ 7.4  ,  0.7  ,  0.   , ...,  3.51 ,  0.56 ,  9.4  ],\n",
              "       [ 7.8  ,  0.88 ,  0.   , ...,  3.2  ,  0.68 ,  9.8  ],\n",
              "       [ 7.8  ,  0.76 ,  0.04 , ...,  3.26 ,  0.65 ,  9.8  ],\n",
              "       ...,\n",
              "       [ 6.3  ,  0.51 ,  0.13 , ...,  3.42 ,  0.75 , 11.   ],\n",
              "       [ 5.9  ,  0.645,  0.12 , ...,  3.57 ,  0.71 , 10.2  ],\n",
              "       [ 6.   ,  0.31 ,  0.47 , ...,  3.39 ,  0.66 , 11.   ]])"
            ]
          },
          "metadata": {
            "tags": []
          },
          "execution_count": 9
        }
      ]
    },
    {
      "cell_type": "code",
      "metadata": {
        "id": "9ci_G5Xfhk3E",
        "colab_type": "code",
        "colab": {}
      },
      "source": [
        "targets=df[['quality']]"
      ],
      "execution_count": 0,
      "outputs": []
    },
    {
      "cell_type": "code",
      "metadata": {
        "id": "PcmSDLSIhve7",
        "colab_type": "code",
        "colab": {
          "base_uri": "https://localhost:8080/",
          "height": 139
        },
        "outputId": "8e10f528-6714-465d-cbba-991b29fd208a"
      },
      "source": [
        "targets=targets.values\n",
        "targets"
      ],
      "execution_count": 32,
      "outputs": [
        {
          "output_type": "execute_result",
          "data": {
            "text/plain": [
              "array([[5],\n",
              "       [5],\n",
              "       [5],\n",
              "       ...,\n",
              "       [6],\n",
              "       [5],\n",
              "       [6]])"
            ]
          },
          "metadata": {
            "tags": []
          },
          "execution_count": 32
        }
      ]
    },
    {
      "cell_type": "markdown",
      "metadata": {
        "id": "uf8lTgN4Ih6I",
        "colab_type": "text"
      },
      "source": [
        "## Converting The Values to pytorch tensor"
      ]
    },
    {
      "cell_type": "code",
      "metadata": {
        "id": "UCH3S26XiETr",
        "colab_type": "code",
        "colab": {}
      },
      "source": [
        "py_inputs=torch.tensor(inputs, dtype=torch.float32)\n",
        "py_target=torch.tensor(targets)"
      ],
      "execution_count": 0,
      "outputs": []
    },
    {
      "cell_type": "code",
      "metadata": {
        "id": "a53yCWt3jRru",
        "colab_type": "code",
        "colab": {
          "base_uri": "https://localhost:8080/",
          "height": 261
        },
        "outputId": "05b7704a-590f-4201-b2c4-9d4c686327ce"
      },
      "source": [
        "print(py_inputs)\n",
        "print(py_target)"
      ],
      "execution_count": 13,
      "outputs": [
        {
          "output_type": "stream",
          "text": [
            "tensor([[ 7.4000,  0.7000,  0.0000,  ...,  3.5100,  0.5600,  9.4000],\n",
            "        [ 7.8000,  0.8800,  0.0000,  ...,  3.2000,  0.6800,  9.8000],\n",
            "        [ 7.8000,  0.7600,  0.0400,  ...,  3.2600,  0.6500,  9.8000],\n",
            "        ...,\n",
            "        [ 6.3000,  0.5100,  0.1300,  ...,  3.4200,  0.7500, 11.0000],\n",
            "        [ 5.9000,  0.6450,  0.1200,  ...,  3.5700,  0.7100, 10.2000],\n",
            "        [ 6.0000,  0.3100,  0.4700,  ...,  3.3900,  0.6600, 11.0000]])\n",
            "tensor([[5],\n",
            "        [5],\n",
            "        [5],\n",
            "        ...,\n",
            "        [6],\n",
            "        [5],\n",
            "        [6]])\n"
          ],
          "name": "stdout"
        }
      ]
    },
    {
      "cell_type": "code",
      "metadata": {
        "id": "OhxpYW5Fjur2",
        "colab_type": "code",
        "colab": {
          "base_uri": "https://localhost:8080/",
          "height": 35
        },
        "outputId": "8b782262-de7c-49b2-bd12-fad759630526"
      },
      "source": [
        "print(py_inputs.shape)"
      ],
      "execution_count": 14,
      "outputs": [
        {
          "output_type": "stream",
          "text": [
            "torch.Size([1599, 11])\n"
          ],
          "name": "stdout"
        }
      ]
    },
    {
      "cell_type": "markdown",
      "metadata": {
        "id": "EcDEWuMuIrSm",
        "colab_type": "text"
      },
      "source": [
        "## Pytorch Dataset and Dataloader"
      ]
    },
    {
      "cell_type": "code",
      "metadata": {
        "id": "NhgAKYwgkiSb",
        "colab_type": "code",
        "colab": {}
      },
      "source": [
        "dataset=TensorDataset(py_inputs,py_target)"
      ],
      "execution_count": 0,
      "outputs": []
    },
    {
      "cell_type": "code",
      "metadata": {
        "id": "ufqBhzNIsvt_",
        "colab_type": "code",
        "colab": {}
      },
      "source": [
        "val_percent = 0.1\n",
        "num_rows=inputs.shape[0]\n",
        "val_size = int(num_rows * val_percent)\n",
        "train_size = num_rows - val_size\n",
        "train_ds, val_ds = random_split(dataset, [train_size, val_size])"
      ],
      "execution_count": 0,
      "outputs": []
    },
    {
      "cell_type": "code",
      "metadata": {
        "id": "QYzW1nNWB-vJ",
        "colab_type": "code",
        "colab": {}
      },
      "source": [
        "batchsize=32"
      ],
      "execution_count": 0,
      "outputs": []
    },
    {
      "cell_type": "code",
      "metadata": {
        "id": "1JR6N1mrtapb",
        "colab_type": "code",
        "colab": {}
      },
      "source": [
        "train_loader = DataLoader(train_ds,batch_size=batchsize,shuffle=True)\n",
        "val_loader = DataLoader(val_ds,batch_size=batchsize)"
      ],
      "execution_count": 0,
      "outputs": []
    },
    {
      "cell_type": "code",
      "metadata": {
        "id": "S9OH1sXouGR8",
        "colab_type": "code",
        "colab": {
          "base_uri": "https://localhost:8080/",
          "height": 1000
        },
        "outputId": "e436137a-6eab-4739-e7f6-7aa3c014ba71"
      },
      "source": [
        "for xb,yb in train_loader:\n",
        "  print(\"inputs\",xb)\n",
        "  print(\"outputs\",yb)\n",
        "  break"
      ],
      "execution_count": 19,
      "outputs": [
        {
          "output_type": "stream",
          "text": [
            "inputs tensor([[7.8000e+00, 3.4000e-01, 3.7000e-01, 2.0000e+00, 8.2000e-02, 2.4000e+01,\n",
            "         5.8000e+01, 9.9640e-01, 3.3400e+00, 5.9000e-01, 9.4000e+00],\n",
            "        [6.3000e+00, 3.0000e-01, 4.8000e-01, 1.8000e+00, 6.9000e-02, 1.8000e+01,\n",
            "         6.1000e+01, 9.9590e-01, 3.4400e+00, 7.8000e-01, 1.0300e+01],\n",
            "        [7.9000e+00, 5.7000e-01, 3.1000e-01, 2.0000e+00, 7.9000e-02, 1.0000e+01,\n",
            "         7.9000e+01, 9.9677e-01, 3.2900e+00, 6.9000e-01, 9.5000e+00],\n",
            "        [9.0000e+00, 4.0000e-01, 4.1000e-01, 2.0000e+00, 5.8000e-02, 1.5000e+01,\n",
            "         4.0000e+01, 9.9414e-01, 3.2200e+00, 6.0000e-01, 1.2200e+01],\n",
            "        [7.4000e+00, 6.0000e-01, 2.6000e-01, 7.3000e+00, 7.0000e-02, 3.6000e+01,\n",
            "         1.2100e+02, 9.9820e-01, 3.3700e+00, 4.9000e-01, 9.4000e+00],\n",
            "        [8.9000e+00, 1.2000e-01, 4.5000e-01, 1.8000e+00, 7.5000e-02, 1.0000e+01,\n",
            "         2.1000e+01, 9.9552e-01, 3.4100e+00, 7.6000e-01, 1.1900e+01],\n",
            "        [7.1000e+00, 4.6000e-01, 1.4000e-01, 2.8000e+00, 7.6000e-02, 1.5000e+01,\n",
            "         3.7000e+01, 9.9624e-01, 3.3600e+00, 4.9000e-01, 1.0700e+01],\n",
            "        [6.5000e+00, 5.3000e-01, 6.0000e-02, 2.0000e+00, 6.3000e-02, 2.9000e+01,\n",
            "         4.4000e+01, 9.9489e-01, 3.3800e+00, 8.3000e-01, 1.0300e+01],\n",
            "        [5.9000e+00, 1.9000e-01, 2.1000e-01, 1.7000e+00, 4.5000e-02, 5.7000e+01,\n",
            "         1.3500e+02, 9.9341e-01, 3.3200e+00, 4.4000e-01, 9.5000e+00],\n",
            "        [1.2800e+01, 3.0000e-01, 7.4000e-01, 2.6000e+00, 9.5000e-02, 9.0000e+00,\n",
            "         2.8000e+01, 9.9940e-01, 3.2000e+00, 7.7000e-01, 1.0800e+01],\n",
            "        [7.8000e+00, 5.0000e-01, 1.2000e-01, 1.8000e+00, 1.7800e-01, 6.0000e+00,\n",
            "         2.1000e+01, 9.9600e-01, 3.2800e+00, 8.7000e-01, 9.8000e+00],\n",
            "        [7.5000e+00, 6.0000e-01, 3.0000e-02, 1.8000e+00, 9.5000e-02, 2.5000e+01,\n",
            "         9.9000e+01, 9.9500e-01, 3.3500e+00, 5.4000e-01, 1.0100e+01],\n",
            "        [1.1200e+01, 6.6000e-01, 2.4000e-01, 2.5000e+00, 8.5000e-02, 1.6000e+01,\n",
            "         5.3000e+01, 9.9930e-01, 3.0600e+00, 7.2000e-01, 1.1000e+01],\n",
            "        [7.2000e+00, 6.3000e-01, 0.0000e+00, 1.9000e+00, 9.7000e-02, 1.4000e+01,\n",
            "         3.8000e+01, 9.9675e-01, 3.3700e+00, 5.8000e-01, 9.0000e+00],\n",
            "        [6.4000e+00, 6.3000e-01, 2.1000e-01, 1.6000e+00, 8.0000e-02, 1.2000e+01,\n",
            "         3.2000e+01, 9.9689e-01, 3.5800e+00, 6.6000e-01, 9.8000e+00],\n",
            "        [1.0200e+01, 2.9000e-01, 4.9000e-01, 2.6000e+00, 5.9000e-02, 5.0000e+00,\n",
            "         1.3000e+01, 9.9760e-01, 3.0500e+00, 7.4000e-01, 1.0500e+01],\n",
            "        [9.2000e+00, 6.3000e-01, 2.1000e-01, 2.7000e+00, 9.7000e-02, 2.9000e+01,\n",
            "         6.5000e+01, 9.9880e-01, 3.2800e+00, 5.8000e-01, 9.6000e+00],\n",
            "        [8.4000e+00, 6.7000e-01, 1.9000e-01, 2.2000e+00, 9.3000e-02, 1.1000e+01,\n",
            "         7.5000e+01, 9.9736e-01, 3.2000e+00, 5.9000e-01, 9.2000e+00],\n",
            "        [8.2000e+00, 2.8000e-01, 6.0000e-01, 3.0000e+00, 1.0400e-01, 1.0000e+01,\n",
            "         2.2000e+01, 9.9828e-01, 3.3900e+00, 6.8000e-01, 1.0600e+01],\n",
            "        [8.0000e+00, 4.3000e-01, 3.6000e-01, 2.3000e+00, 7.5000e-02, 1.0000e+01,\n",
            "         4.8000e+01, 9.9760e-01, 3.3400e+00, 4.6000e-01, 9.4000e+00],\n",
            "        [9.8000e+00, 5.0000e-01, 3.4000e-01, 2.3000e+00, 9.4000e-02, 1.0000e+01,\n",
            "         4.5000e+01, 9.9864e-01, 3.2400e+00, 6.0000e-01, 9.7000e+00],\n",
            "        [8.7000e+00, 7.8000e-01, 5.1000e-01, 1.7000e+00, 4.1500e-01, 1.2000e+01,\n",
            "         6.6000e+01, 9.9623e-01, 3.0000e+00, 1.1700e+00, 9.2000e+00],\n",
            "        [7.1000e+00, 6.8000e-01, 0.0000e+00, 2.2000e+00, 7.3000e-02, 1.2000e+01,\n",
            "         2.2000e+01, 9.9690e-01, 3.4800e+00, 5.0000e-01, 9.3000e+00],\n",
            "        [6.3000e+00, 3.9000e-01, 1.6000e-01, 1.4000e+00, 8.0000e-02, 1.1000e+01,\n",
            "         2.3000e+01, 9.9550e-01, 3.3400e+00, 5.6000e-01, 9.3000e+00],\n",
            "        [1.2500e+01, 3.8000e-01, 6.0000e-01, 2.6000e+00, 8.1000e-02, 3.1000e+01,\n",
            "         7.2000e+01, 9.9960e-01, 3.1000e+00, 7.3000e-01, 1.0500e+01],\n",
            "        [8.4000e+00, 7.1500e-01, 2.0000e-01, 2.4000e+00, 7.6000e-02, 1.0000e+01,\n",
            "         3.8000e+01, 9.9735e-01, 3.3100e+00, 6.4000e-01, 9.4000e+00],\n",
            "        [6.2000e+00, 4.3000e-01, 2.2000e-01, 1.8000e+00, 7.8000e-02, 2.1000e+01,\n",
            "         5.6000e+01, 9.9633e-01, 3.5200e+00, 6.0000e-01, 9.5000e+00],\n",
            "        [8.8000e+00, 2.4000e-01, 5.4000e-01, 2.5000e+00, 8.3000e-02, 2.5000e+01,\n",
            "         5.7000e+01, 9.9830e-01, 3.3900e+00, 5.4000e-01, 9.2000e+00],\n",
            "        [8.4000e+00, 1.0350e+00, 1.5000e-01, 6.0000e+00, 7.3000e-02, 1.1000e+01,\n",
            "         5.4000e+01, 9.9900e-01, 3.3700e+00, 4.9000e-01, 9.9000e+00],\n",
            "        [8.4000e+00, 6.5000e-01, 6.0000e-01, 2.1000e+00, 1.1200e-01, 1.2000e+01,\n",
            "         9.0000e+01, 9.9730e-01, 3.2000e+00, 5.2000e-01, 9.2000e+00],\n",
            "        [8.8000e+00, 3.7000e-01, 4.8000e-01, 2.1000e+00, 9.7000e-02, 3.9000e+01,\n",
            "         1.4500e+02, 9.9750e-01, 3.0400e+00, 1.0300e+00, 9.3000e+00],\n",
            "        [8.3000e+00, 6.1500e-01, 2.2000e-01, 2.6000e+00, 8.7000e-02, 6.0000e+00,\n",
            "         1.9000e+01, 9.9820e-01, 3.2600e+00, 6.1000e-01, 9.3000e+00]])\n",
            "outputs tensor([[6],\n",
            "        [6],\n",
            "        [6],\n",
            "        [6],\n",
            "        [5],\n",
            "        [7],\n",
            "        [5],\n",
            "        [6],\n",
            "        [5],\n",
            "        [7],\n",
            "        [6],\n",
            "        [5],\n",
            "        [6],\n",
            "        [6],\n",
            "        [5],\n",
            "        [7],\n",
            "        [5],\n",
            "        [4],\n",
            "        [5],\n",
            "        [5],\n",
            "        [7],\n",
            "        [5],\n",
            "        [5],\n",
            "        [5],\n",
            "        [5],\n",
            "        [5],\n",
            "        [6],\n",
            "        [5],\n",
            "        [5],\n",
            "        [5],\n",
            "        [5],\n",
            "        [5]])\n"
          ],
          "name": "stdout"
        }
      ]
    },
    {
      "cell_type": "markdown",
      "metadata": {
        "id": "YdUwMQ1bIz3H",
        "colab_type": "text"
      },
      "source": [
        "## Building A model"
      ]
    },
    {
      "cell_type": "code",
      "metadata": {
        "id": "waVRf6mlugHG",
        "colab_type": "code",
        "colab": {}
      },
      "source": [
        "input_size = 11\n",
        "output_size = 1 "
      ],
      "execution_count": 0,
      "outputs": []
    },
    {
      "cell_type": "code",
      "metadata": {
        "id": "2mjXTbQVgWLW",
        "colab_type": "code",
        "colab": {}
      },
      "source": [
        "class Wine_Quality(nn.Module):\n",
        "\n",
        "  def __init__(self):\n",
        "     super().__init__()\n",
        "     self.linear = nn.Linear(input_size, output_size)\n",
        "\n",
        "  def forward(self,xb):\n",
        "    out = self.linear(xb)\n",
        "    return out\n",
        "\n",
        "  def training_step(self,batch):\n",
        "    inputs,target = batch\n",
        "    out=self(inputs)\n",
        "    loss = F.l1_loss(out,target)\n",
        "    return loss\n",
        "\n",
        "  def validation_step(self,batch):\n",
        "    inputs,target = batch\n",
        "    out = self(inputs)\n",
        "    loss = F.l1_loss(out,target)\n",
        "    return {'val_loss': loss.detach()}\n",
        "\n",
        "  def validation_epoch_end(self,outputs):\n",
        "    batch_losses = [out['val_loss'] for out in outputs]\n",
        "    epoch_loss = torch.stack(batch_losses).mean()\n",
        "    return {'val_loss': epoch_loss.item()}\n",
        "\n",
        "  def epoch_end(self, epoch, result):\n",
        "    print(\"Epoch [{}], val_loss: {:.4f}\".format(epoch, result['val_loss']))"
      ],
      "execution_count": 0,
      "outputs": []
    },
    {
      "cell_type": "code",
      "metadata": {
        "id": "grIqA66c1WFF",
        "colab_type": "code",
        "colab": {}
      },
      "source": [
        "model = Wine_Quality()"
      ],
      "execution_count": 0,
      "outputs": []
    },
    {
      "cell_type": "markdown",
      "metadata": {
        "id": "1iRynxKZJP7x",
        "colab_type": "text"
      },
      "source": [
        "## Training and Evaluation"
      ]
    },
    {
      "cell_type": "code",
      "metadata": {
        "id": "RFZjZIF51sPe",
        "colab_type": "code",
        "colab": {}
      },
      "source": [
        "def evaluate(model,val_loader):\n",
        "  outputs = [model.validation_step(batch) for batch in val_loader]\n",
        "  return model.validation_epoch_end(outputs)"
      ],
      "execution_count": 0,
      "outputs": []
    },
    {
      "cell_type": "code",
      "metadata": {
        "id": "UNyqGuFk2GWI",
        "colab_type": "code",
        "colab": {}
      },
      "source": [
        "def fit(epochs, lr, model, train_loader, val_loader, opt_func=torch.optim.SGD):\n",
        "    history = []\n",
        "    optimizer = opt_func(model.parameters(), lr)\n",
        "    for epoch in range(epochs):\n",
        "        # Training Phase \n",
        "        for batch in train_loader:\n",
        "            loss = model.training_step(batch)\n",
        "            loss.backward()\n",
        "            optimizer.step()\n",
        "            optimizer.zero_grad()\n",
        "        # Validation phase\n",
        "        result = evaluate(model, val_loader)\n",
        "        model.epoch_end(epoch, result)\n",
        "        history.append(result)\n",
        "    return history"
      ],
      "execution_count": 0,
      "outputs": []
    },
    {
      "cell_type": "code",
      "metadata": {
        "id": "Zz2LHbvl2MAC",
        "colab_type": "code",
        "colab": {
          "base_uri": "https://localhost:8080/",
          "height": 191
        },
        "outputId": "c5525b79-7a54-473e-ab8f-59ac318ee017"
      },
      "source": [
        "history = fit(10,1e-4, model, train_loader, val_loader)"
      ],
      "execution_count": 25,
      "outputs": [
        {
          "output_type": "stream",
          "text": [
            "Epoch [0], val_loss: 5.7212\n",
            "Epoch [1], val_loss: 3.0375\n",
            "Epoch [2], val_loss: 2.7132\n",
            "Epoch [3], val_loss: 2.4260\n",
            "Epoch [4], val_loss: 2.1597\n",
            "Epoch [5], val_loss: 1.8899\n",
            "Epoch [6], val_loss: 1.6367\n",
            "Epoch [7], val_loss: 1.4067\n",
            "Epoch [8], val_loss: 1.1773\n",
            "Epoch [9], val_loss: 0.9660\n"
          ],
          "name": "stdout"
        }
      ]
    },
    {
      "cell_type": "code",
      "metadata": {
        "id": "b3M8olRaGaK8",
        "colab_type": "code",
        "colab": {
          "base_uri": "https://localhost:8080/",
          "height": 191
        },
        "outputId": "47b3b997-eefd-48f4-fd52-254fc60b3003"
      },
      "source": [
        "history1 = fit(10,1e-4, model, train_loader, val_loader)"
      ],
      "execution_count": 26,
      "outputs": [
        {
          "output_type": "stream",
          "text": [
            "Epoch [0], val_loss: 0.8141\n",
            "Epoch [1], val_loss: 0.7096\n",
            "Epoch [2], val_loss: 0.6367\n",
            "Epoch [3], val_loss: 0.6143\n",
            "Epoch [4], val_loss: 0.6036\n",
            "Epoch [5], val_loss: 0.5996\n",
            "Epoch [6], val_loss: 0.5966\n",
            "Epoch [7], val_loss: 0.5953\n",
            "Epoch [8], val_loss: 0.5941\n",
            "Epoch [9], val_loss: 0.5963\n"
          ],
          "name": "stdout"
        }
      ]
    },
    {
      "cell_type": "code",
      "metadata": {
        "id": "ndDm7Eav2QMg",
        "colab_type": "code",
        "colab": {
          "base_uri": "https://localhost:8080/",
          "height": 295
        },
        "outputId": "425cce79-6750-40ff-ea34-da4e0051bd1c"
      },
      "source": [
        "accuracies = [r['val_loss'] for r in history+history1]\n",
        "plt.plot(accuracies, '-x')\n",
        "plt.xlabel('Epoch')\n",
        "plt.ylabel('Loss')\n",
        "plt.title('Loss vs. No. of epochs');"
      ],
      "execution_count": 28,
      "outputs": [
        {
          "output_type": "display_data",
          "data": {
            "image/png": "[encoded data removed]",
            "text/plain": [
              "<Figure size 432x288 with 1 Axes>"
            ]
          },
          "metadata": {
            "tags": [],
            "needs_background": "light"
          }
        }
      ]
    },
    {
      "cell_type": "code",
      "metadata": {
        "id": "cW089CGL5ygS",
        "colab_type": "code",
        "colab": {
          "base_uri": "https://localhost:8080/",
          "height": 35
        },
        "outputId": "fa74cf56-3262-43f6-daca-8664d586383c"
      },
      "source": [
        "val_loss = evaluate(model,val_loader)\n",
        "val_loss"
      ],
      "execution_count": 29,
      "outputs": [
        {
          "output_type": "execute_result",
          "data": {
            "text/plain": [
              "{'val_loss': 0.5963369011878967}"
            ]
          },
          "metadata": {
            "tags": []
          },
          "execution_count": 29
        }
      ]
    },
    {
      "cell_type": "markdown",
      "metadata": {
        "id": "JUV4JPHFJWoh",
        "colab_type": "text"
      },
      "source": [
        "## Prediction"
      ]
    },
    {
      "cell_type": "code",
      "metadata": {
        "id": "tonpoXVpJVtP",
        "colab_type": "code",
        "colab": {}
      },
      "source": [
        "def predict_single(input, target, model):\n",
        "    inputs = input.unsqueeze(0)\n",
        "    predictions = model(inputs)          \n",
        "    prediction = predictions[0].detach()\n",
        "    print(\"Input:\", input)\n",
        "    print(\"Target:\", target)\n",
        "    print(\"Prediction:\", prediction)"
      ],
      "execution_count": 0,
      "outputs": []
    },
    {
      "cell_type": "code",
      "metadata": {
        "id": "fQOH55zgK8hJ",
        "colab_type": "code",
        "colab": {
          "base_uri": "https://localhost:8080/",
          "height": 87
        },
        "outputId": "2911b024-3945-4dfa-fc9f-be7d41c431fc"
      },
      "source": [
        "input,target=val_ds[0]\n",
        "predict_single(input, target, model)"
      ],
      "execution_count": 55,
      "outputs": [
        {
          "output_type": "stream",
          "text": [
            "Input: tensor([ 9.0000,  0.5800,  0.2500,  2.0000,  0.1040,  8.0000, 21.0000,  0.9977,\n",
            "         3.2700,  0.7200,  9.6000])\n",
            "Target: tensor([5])\n",
            "Prediction: tensor([5.3161])\n"
          ],
          "name": "stdout"
        }
      ]
    },
    {
      "cell_type": "markdown",
      "metadata": {
        "id": "AnzS7gDtNl1w",
        "colab_type": "text"
      },
      "source": [
        "## Saving a pytorch model"
      ]
    },
    {
      "cell_type": "code",
      "metadata": {
        "id": "9P5N-5gdNVA6",
        "colab_type": "code",
        "colab": {}
      },
      "source": [
        "torch.save(model.state_dict(), 'wine_quality.pth')"
      ],
      "execution_count": 0,
      "outputs": []
    }
  ]
}