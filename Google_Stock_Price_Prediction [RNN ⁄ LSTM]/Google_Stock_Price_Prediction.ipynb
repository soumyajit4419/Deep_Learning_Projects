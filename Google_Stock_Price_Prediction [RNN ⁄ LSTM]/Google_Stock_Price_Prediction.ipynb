{
  "nbformat": 4,
  "nbformat_minor": 0,
  "metadata": {
    "kernelspec": {
      "display_name": "Python 3",
      "language": "python",
      "name": "python3"
    },
    "language_info": {
      "codemirror_mode": {
        "name": "ipython",
        "version": 3
      },
      "file_extension": ".py",
      "mimetype": "text/x-python",
      "name": "python",
      "nbconvert_exporter": "python",
      "pygments_lexer": "ipython3",
      "version": "3.7.4"
    },
    "colab": {
      "name": "Google_Stock_Price_Prediction.ipynb",
      "provenance": []
    },
    "accelerator": "GPU"
  },
  "cells": [
    {
      "cell_type": "code",
      "metadata": {
        "id": "6rfFeGPoDNYi",
        "colab_type": "code",
        "colab": {}
      },
      "source": [
        "import numpy as np \n",
        "import seaborn as sns\n",
        "import pandas as pd\n",
        "import matplotlib.pyplot as plt\n",
        "%matplotlib inline"
      ],
      "execution_count": 0,
      "outputs": []
    },
    {
      "cell_type": "code",
      "metadata": {
        "id": "9N_ei7LQD2Vc",
        "colab_type": "code",
        "colab": {
          "base_uri": "https://localhost:8080/",
          "height": 34
        },
        "outputId": "3f472989-7acf-418e-8291-512f1de39e8e"
      },
      "source": [
        "import tensorflow as tf\n",
        "tf.__version__"
      ],
      "execution_count": 317,
      "outputs": [
        {
          "output_type": "execute_result",
          "data": {
            "text/plain": [
              "'2.2.0-rc3'"
            ]
          },
          "metadata": {
            "tags": []
          },
          "execution_count": 317
        }
      ]
    },
    {
      "cell_type": "code",
      "metadata": {
        "id": "QGvwQ3ZlD6XZ",
        "colab_type": "code",
        "colab": {}
      },
      "source": [
        "from tensorflow.keras.models import Sequential\n",
        "from tensorflow.keras.layers import Dense\n",
        "from tensorflow.keras.layers import LSTM\n",
        "from tensorflow.keras.layers import Dropout"
      ],
      "execution_count": 0,
      "outputs": []
    },
    {
      "cell_type": "code",
      "metadata": {
        "id": "bHNqQ8nuDV_o",
        "colab_type": "code",
        "colab": {
          "base_uri": "https://localhost:8080/",
          "height": 34
        },
        "outputId": "33bd82da-b29c-4faf-eae8-3018f8a3aac0"
      },
      "source": [
        "from google.colab import drive\n",
        "drive.mount('/content/drive')"
      ],
      "execution_count": 319,
      "outputs": [
        {
          "output_type": "stream",
          "text": [
            "Drive already mounted at /content/drive; to attempt to forcibly remount, call drive.mount(\"/content/drive\", force_remount=True).\n"
          ],
          "name": "stdout"
        }
      ]
    },
    {
      "cell_type": "code",
      "metadata": {
        "id": "cD6snJ5JDNYr",
        "colab_type": "code",
        "colab": {}
      },
      "source": [
        "from sklearn.preprocessing import MinMaxScaler"
      ],
      "execution_count": 0,
      "outputs": []
    },
    {
      "cell_type": "code",
      "metadata": {
        "id": "8_fR39iADNYv",
        "colab_type": "code",
        "colab": {}
      },
      "source": [
        "training_df=pd.read_csv('/content/drive/My Drive/Colab Notebooks/Google_Stock_Price_Train.csv')"
      ],
      "execution_count": 0,
      "outputs": []
    },
    {
      "cell_type": "code",
      "metadata": {
        "id": "BKoqtRvgDNY0",
        "colab_type": "code",
        "colab": {
          "base_uri": "https://localhost:8080/",
          "height": 197
        },
        "outputId": "5713f5e6-29ea-4328-eb05-60b38553f6f3"
      },
      "source": [
        "training_df.head()"
      ],
      "execution_count": 322,
      "outputs": [
        {
          "output_type": "execute_result",
          "data": {
            "text/html": [
              "<div>\n",
              "<style scoped>\n",
              "    .dataframe tbody tr th:only-of-type {\n",
              "        vertical-align: middle;\n",
              "    }\n",
              "\n",
              "    .dataframe tbody tr th {\n",
              "        vertical-align: top;\n",
              "    }\n",
              "\n",
              "    .dataframe thead th {\n",
              "        text-align: right;\n",
              "    }\n",
              "</style>\n",
              "<table border=\"1\" class=\"dataframe\">\n",
              "  <thead>\n",
              "    <tr style=\"text-align: right;\">\n",
              "      <th></th>\n",
              "      <th>Date</th>\n",
              "      <th>Open</th>\n",
              "      <th>High</th>\n",
              "      <th>Low</th>\n",
              "      <th>Close</th>\n",
              "      <th>Volume</th>\n",
              "    </tr>\n",
              "  </thead>\n",
              "  <tbody>\n",
              "    <tr>\n",
              "      <th>0</th>\n",
              "      <td>1/3/2012</td>\n",
              "      <td>325.25</td>\n",
              "      <td>332.83</td>\n",
              "      <td>324.97</td>\n",
              "      <td>663.59</td>\n",
              "      <td>7,380,500</td>\n",
              "    </tr>\n",
              "    <tr>\n",
              "      <th>1</th>\n",
              "      <td>1/4/2012</td>\n",
              "      <td>331.27</td>\n",
              "      <td>333.87</td>\n",
              "      <td>329.08</td>\n",
              "      <td>666.45</td>\n",
              "      <td>5,749,400</td>\n",
              "    </tr>\n",
              "    <tr>\n",
              "      <th>2</th>\n",
              "      <td>1/5/2012</td>\n",
              "      <td>329.83</td>\n",
              "      <td>330.75</td>\n",
              "      <td>326.89</td>\n",
              "      <td>657.21</td>\n",
              "      <td>6,590,300</td>\n",
              "    </tr>\n",
              "    <tr>\n",
              "      <th>3</th>\n",
              "      <td>1/6/2012</td>\n",
              "      <td>328.34</td>\n",
              "      <td>328.77</td>\n",
              "      <td>323.68</td>\n",
              "      <td>648.24</td>\n",
              "      <td>5,405,900</td>\n",
              "    </tr>\n",
              "    <tr>\n",
              "      <th>4</th>\n",
              "      <td>1/9/2012</td>\n",
              "      <td>322.04</td>\n",
              "      <td>322.29</td>\n",
              "      <td>309.46</td>\n",
              "      <td>620.76</td>\n",
              "      <td>11,688,800</td>\n",
              "    </tr>\n",
              "  </tbody>\n",
              "</table>\n",
              "</div>"
            ],
            "text/plain": [
              "       Date    Open    High     Low   Close      Volume\n",
              "0  1/3/2012  325.25  332.83  324.97  663.59   7,380,500\n",
              "1  1/4/2012  331.27  333.87  329.08  666.45   5,749,400\n",
              "2  1/5/2012  329.83  330.75  326.89  657.21   6,590,300\n",
              "3  1/6/2012  328.34  328.77  323.68  648.24   5,405,900\n",
              "4  1/9/2012  322.04  322.29  309.46  620.76  11,688,800"
            ]
          },
          "metadata": {
            "tags": []
          },
          "execution_count": 322
        }
      ]
    },
    {
      "cell_type": "markdown",
      "metadata": {
        "id": "Rog1ATxaDNY6",
        "colab_type": "text"
      },
      "source": [
        "## EDA and Data Cleaning"
      ]
    },
    {
      "cell_type": "code",
      "metadata": {
        "id": "KvZN65DMDNY7",
        "colab_type": "code",
        "colab": {
          "base_uri": "https://localhost:8080/",
          "height": 139
        },
        "outputId": "466f9273-8eca-4f95-8b85-dd0d16a3fd2f"
      },
      "source": [
        "training_df.isnull().sum()"
      ],
      "execution_count": 323,
      "outputs": [
        {
          "output_type": "execute_result",
          "data": {
            "text/plain": [
              "Date      0\n",
              "Open      0\n",
              "High      0\n",
              "Low       0\n",
              "Close     0\n",
              "Volume    0\n",
              "dtype: int64"
            ]
          },
          "metadata": {
            "tags": []
          },
          "execution_count": 323
        }
      ]
    },
    {
      "cell_type": "code",
      "metadata": {
        "id": "J8K-QrDcDNZA",
        "colab_type": "code",
        "colab": {
          "base_uri": "https://localhost:8080/",
          "height": 244
        },
        "outputId": "699c94e8-a896-4463-d4b4-bf9bc330d772"
      },
      "source": [
        "training_df.info()"
      ],
      "execution_count": 324,
      "outputs": [
        {
          "output_type": "stream",
          "text": [
            "<class 'pandas.core.frame.DataFrame'>\n",
            "RangeIndex: 1258 entries, 0 to 1257\n",
            "Data columns (total 6 columns):\n",
            " #   Column  Non-Null Count  Dtype  \n",
            "---  ------  --------------  -----  \n",
            " 0   Date    1258 non-null   object \n",
            " 1   Open    1258 non-null   float64\n",
            " 2   High    1258 non-null   float64\n",
            " 3   Low     1258 non-null   float64\n",
            " 4   Close   1258 non-null   object \n",
            " 5   Volume  1258 non-null   object \n",
            "dtypes: float64(3), object(3)\n",
            "memory usage: 59.1+ KB\n"
          ],
          "name": "stdout"
        }
      ]
    },
    {
      "cell_type": "code",
      "metadata": {
        "id": "fIMCPVoIDNZE",
        "colab_type": "code",
        "colab": {
          "base_uri": "https://localhost:8080/",
          "height": 197
        },
        "outputId": "8593d07d-23e6-4b57-c105-6c6e61d1ae57"
      },
      "source": [
        "df1=training_df.copy()\n",
        "df1.head()"
      ],
      "execution_count": 325,
      "outputs": [
        {
          "output_type": "execute_result",
          "data": {
            "text/html": [
              "<div>\n",
              "<style scoped>\n",
              "    .dataframe tbody tr th:only-of-type {\n",
              "        vertical-align: middle;\n",
              "    }\n",
              "\n",
              "    .dataframe tbody tr th {\n",
              "        vertical-align: top;\n",
              "    }\n",
              "\n",
              "    .dataframe thead th {\n",
              "        text-align: right;\n",
              "    }\n",
              "</style>\n",
              "<table border=\"1\" class=\"dataframe\">\n",
              "  <thead>\n",
              "    <tr style=\"text-align: right;\">\n",
              "      <th></th>\n",
              "      <th>Date</th>\n",
              "      <th>Open</th>\n",
              "      <th>High</th>\n",
              "      <th>Low</th>\n",
              "      <th>Close</th>\n",
              "      <th>Volume</th>\n",
              "    </tr>\n",
              "  </thead>\n",
              "  <tbody>\n",
              "    <tr>\n",
              "      <th>0</th>\n",
              "      <td>1/3/2012</td>\n",
              "      <td>325.25</td>\n",
              "      <td>332.83</td>\n",
              "      <td>324.97</td>\n",
              "      <td>663.59</td>\n",
              "      <td>7,380,500</td>\n",
              "    </tr>\n",
              "    <tr>\n",
              "      <th>1</th>\n",
              "      <td>1/4/2012</td>\n",
              "      <td>331.27</td>\n",
              "      <td>333.87</td>\n",
              "      <td>329.08</td>\n",
              "      <td>666.45</td>\n",
              "      <td>5,749,400</td>\n",
              "    </tr>\n",
              "    <tr>\n",
              "      <th>2</th>\n",
              "      <td>1/5/2012</td>\n",
              "      <td>329.83</td>\n",
              "      <td>330.75</td>\n",
              "      <td>326.89</td>\n",
              "      <td>657.21</td>\n",
              "      <td>6,590,300</td>\n",
              "    </tr>\n",
              "    <tr>\n",
              "      <th>3</th>\n",
              "      <td>1/6/2012</td>\n",
              "      <td>328.34</td>\n",
              "      <td>328.77</td>\n",
              "      <td>323.68</td>\n",
              "      <td>648.24</td>\n",
              "      <td>5,405,900</td>\n",
              "    </tr>\n",
              "    <tr>\n",
              "      <th>4</th>\n",
              "      <td>1/9/2012</td>\n",
              "      <td>322.04</td>\n",
              "      <td>322.29</td>\n",
              "      <td>309.46</td>\n",
              "      <td>620.76</td>\n",
              "      <td>11,688,800</td>\n",
              "    </tr>\n",
              "  </tbody>\n",
              "</table>\n",
              "</div>"
            ],
            "text/plain": [
              "       Date    Open    High     Low   Close      Volume\n",
              "0  1/3/2012  325.25  332.83  324.97  663.59   7,380,500\n",
              "1  1/4/2012  331.27  333.87  329.08  666.45   5,749,400\n",
              "2  1/5/2012  329.83  330.75  326.89  657.21   6,590,300\n",
              "3  1/6/2012  328.34  328.77  323.68  648.24   5,405,900\n",
              "4  1/9/2012  322.04  322.29  309.46  620.76  11,688,800"
            ]
          },
          "metadata": {
            "tags": []
          },
          "execution_count": 325
        }
      ]
    },
    {
      "cell_type": "code",
      "metadata": {
        "id": "RaHWvFv-DNZK",
        "colab_type": "code",
        "colab": {
          "base_uri": "https://localhost:8080/",
          "height": 197
        },
        "outputId": "5c0b2a62-ae1b-4215-e1f7-5bb9da947f30"
      },
      "source": [
        "df1['Date']=pd.to_datetime(df1['Date'])\n",
        "df1.head()"
      ],
      "execution_count": 326,
      "outputs": [
        {
          "output_type": "execute_result",
          "data": {
            "text/html": [
              "<div>\n",
              "<style scoped>\n",
              "    .dataframe tbody tr th:only-of-type {\n",
              "        vertical-align: middle;\n",
              "    }\n",
              "\n",
              "    .dataframe tbody tr th {\n",
              "        vertical-align: top;\n",
              "    }\n",
              "\n",
              "    .dataframe thead th {\n",
              "        text-align: right;\n",
              "    }\n",
              "</style>\n",
              "<table border=\"1\" class=\"dataframe\">\n",
              "  <thead>\n",
              "    <tr style=\"text-align: right;\">\n",
              "      <th></th>\n",
              "      <th>Date</th>\n",
              "      <th>Open</th>\n",
              "      <th>High</th>\n",
              "      <th>Low</th>\n",
              "      <th>Close</th>\n",
              "      <th>Volume</th>\n",
              "    </tr>\n",
              "  </thead>\n",
              "  <tbody>\n",
              "    <tr>\n",
              "      <th>0</th>\n",
              "      <td>2012-01-03</td>\n",
              "      <td>325.25</td>\n",
              "      <td>332.83</td>\n",
              "      <td>324.97</td>\n",
              "      <td>663.59</td>\n",
              "      <td>7,380,500</td>\n",
              "    </tr>\n",
              "    <tr>\n",
              "      <th>1</th>\n",
              "      <td>2012-01-04</td>\n",
              "      <td>331.27</td>\n",
              "      <td>333.87</td>\n",
              "      <td>329.08</td>\n",
              "      <td>666.45</td>\n",
              "      <td>5,749,400</td>\n",
              "    </tr>\n",
              "    <tr>\n",
              "      <th>2</th>\n",
              "      <td>2012-01-05</td>\n",
              "      <td>329.83</td>\n",
              "      <td>330.75</td>\n",
              "      <td>326.89</td>\n",
              "      <td>657.21</td>\n",
              "      <td>6,590,300</td>\n",
              "    </tr>\n",
              "    <tr>\n",
              "      <th>3</th>\n",
              "      <td>2012-01-06</td>\n",
              "      <td>328.34</td>\n",
              "      <td>328.77</td>\n",
              "      <td>323.68</td>\n",
              "      <td>648.24</td>\n",
              "      <td>5,405,900</td>\n",
              "    </tr>\n",
              "    <tr>\n",
              "      <th>4</th>\n",
              "      <td>2012-01-09</td>\n",
              "      <td>322.04</td>\n",
              "      <td>322.29</td>\n",
              "      <td>309.46</td>\n",
              "      <td>620.76</td>\n",
              "      <td>11,688,800</td>\n",
              "    </tr>\n",
              "  </tbody>\n",
              "</table>\n",
              "</div>"
            ],
            "text/plain": [
              "        Date    Open    High     Low   Close      Volume\n",
              "0 2012-01-03  325.25  332.83  324.97  663.59   7,380,500\n",
              "1 2012-01-04  331.27  333.87  329.08  666.45   5,749,400\n",
              "2 2012-01-05  329.83  330.75  326.89  657.21   6,590,300\n",
              "3 2012-01-06  328.34  328.77  323.68  648.24   5,405,900\n",
              "4 2012-01-09  322.04  322.29  309.46  620.76  11,688,800"
            ]
          },
          "metadata": {
            "tags": []
          },
          "execution_count": 326
        }
      ]
    },
    {
      "cell_type": "code",
      "metadata": {
        "id": "Lory0F1JDNZO",
        "colab_type": "code",
        "colab": {
          "base_uri": "https://localhost:8080/",
          "height": 139
        },
        "outputId": "cdfcc588-8c83-40a1-e16a-2f2cef697e84"
      },
      "source": [
        "df1['Date'].describe()"
      ],
      "execution_count": 327,
      "outputs": [
        {
          "output_type": "execute_result",
          "data": {
            "text/plain": [
              "count                    1258\n",
              "unique                   1258\n",
              "top       2016-09-08 00:00:00\n",
              "freq                        1\n",
              "first     2012-01-03 00:00:00\n",
              "last      2016-12-30 00:00:00\n",
              "Name: Date, dtype: object"
            ]
          },
          "metadata": {
            "tags": []
          },
          "execution_count": 327
        }
      ]
    },
    {
      "cell_type": "markdown",
      "metadata": {
        "id": "Ct3xsz2-DNZS",
        "colab_type": "text"
      },
      "source": [
        "##### It containes data from 2012-Jan  to 2016-Dec"
      ]
    },
    {
      "cell_type": "code",
      "metadata": {
        "id": "6tLp-OHBDNZT",
        "colab_type": "code",
        "colab": {
          "base_uri": "https://localhost:8080/",
          "height": 227
        },
        "outputId": "fb61b37a-3bcd-4ad6-e0d5-d00297cfef43"
      },
      "source": [
        "df1=df1.set_index('Date')\n",
        "df1.head()"
      ],
      "execution_count": 328,
      "outputs": [
        {
          "output_type": "execute_result",
          "data": {
            "text/html": [
              "<div>\n",
              "<style scoped>\n",
              "    .dataframe tbody tr th:only-of-type {\n",
              "        vertical-align: middle;\n",
              "    }\n",
              "\n",
              "    .dataframe tbody tr th {\n",
              "        vertical-align: top;\n",
              "    }\n",
              "\n",
              "    .dataframe thead th {\n",
              "        text-align: right;\n",
              "    }\n",
              "</style>\n",
              "<table border=\"1\" class=\"dataframe\">\n",
              "  <thead>\n",
              "    <tr style=\"text-align: right;\">\n",
              "      <th></th>\n",
              "      <th>Open</th>\n",
              "      <th>High</th>\n",
              "      <th>Low</th>\n",
              "      <th>Close</th>\n",
              "      <th>Volume</th>\n",
              "    </tr>\n",
              "    <tr>\n",
              "      <th>Date</th>\n",
              "      <th></th>\n",
              "      <th></th>\n",
              "      <th></th>\n",
              "      <th></th>\n",
              "      <th></th>\n",
              "    </tr>\n",
              "  </thead>\n",
              "  <tbody>\n",
              "    <tr>\n",
              "      <th>2012-01-03</th>\n",
              "      <td>325.25</td>\n",
              "      <td>332.83</td>\n",
              "      <td>324.97</td>\n",
              "      <td>663.59</td>\n",
              "      <td>7,380,500</td>\n",
              "    </tr>\n",
              "    <tr>\n",
              "      <th>2012-01-04</th>\n",
              "      <td>331.27</td>\n",
              "      <td>333.87</td>\n",
              "      <td>329.08</td>\n",
              "      <td>666.45</td>\n",
              "      <td>5,749,400</td>\n",
              "    </tr>\n",
              "    <tr>\n",
              "      <th>2012-01-05</th>\n",
              "      <td>329.83</td>\n",
              "      <td>330.75</td>\n",
              "      <td>326.89</td>\n",
              "      <td>657.21</td>\n",
              "      <td>6,590,300</td>\n",
              "    </tr>\n",
              "    <tr>\n",
              "      <th>2012-01-06</th>\n",
              "      <td>328.34</td>\n",
              "      <td>328.77</td>\n",
              "      <td>323.68</td>\n",
              "      <td>648.24</td>\n",
              "      <td>5,405,900</td>\n",
              "    </tr>\n",
              "    <tr>\n",
              "      <th>2012-01-09</th>\n",
              "      <td>322.04</td>\n",
              "      <td>322.29</td>\n",
              "      <td>309.46</td>\n",
              "      <td>620.76</td>\n",
              "      <td>11,688,800</td>\n",
              "    </tr>\n",
              "  </tbody>\n",
              "</table>\n",
              "</div>"
            ],
            "text/plain": [
              "              Open    High     Low   Close      Volume\n",
              "Date                                                  \n",
              "2012-01-03  325.25  332.83  324.97  663.59   7,380,500\n",
              "2012-01-04  331.27  333.87  329.08  666.45   5,749,400\n",
              "2012-01-05  329.83  330.75  326.89  657.21   6,590,300\n",
              "2012-01-06  328.34  328.77  323.68  648.24   5,405,900\n",
              "2012-01-09  322.04  322.29  309.46  620.76  11,688,800"
            ]
          },
          "metadata": {
            "tags": []
          },
          "execution_count": 328
        }
      ]
    },
    {
      "cell_type": "markdown",
      "metadata": {
        "id": "D0CDyWPaDNZX",
        "colab_type": "text"
      },
      "source": [
        "## Setting the frequency of the stock prices to buissness days"
      ]
    },
    {
      "cell_type": "code",
      "metadata": {
        "id": "cYubsT9EDNZY",
        "colab_type": "code",
        "colab": {
          "base_uri": "https://localhost:8080/",
          "height": 227
        },
        "outputId": "1be4352e-1af8-4d60-870e-c0f07824bddf"
      },
      "source": [
        "df1.asfreq('b')\n",
        "df1.head()"
      ],
      "execution_count": 329,
      "outputs": [
        {
          "output_type": "execute_result",
          "data": {
            "text/html": [
              "<div>\n",
              "<style scoped>\n",
              "    .dataframe tbody tr th:only-of-type {\n",
              "        vertical-align: middle;\n",
              "    }\n",
              "\n",
              "    .dataframe tbody tr th {\n",
              "        vertical-align: top;\n",
              "    }\n",
              "\n",
              "    .dataframe thead th {\n",
              "        text-align: right;\n",
              "    }\n",
              "</style>\n",
              "<table border=\"1\" class=\"dataframe\">\n",
              "  <thead>\n",
              "    <tr style=\"text-align: right;\">\n",
              "      <th></th>\n",
              "      <th>Open</th>\n",
              "      <th>High</th>\n",
              "      <th>Low</th>\n",
              "      <th>Close</th>\n",
              "      <th>Volume</th>\n",
              "    </tr>\n",
              "    <tr>\n",
              "      <th>Date</th>\n",
              "      <th></th>\n",
              "      <th></th>\n",
              "      <th></th>\n",
              "      <th></th>\n",
              "      <th></th>\n",
              "    </tr>\n",
              "  </thead>\n",
              "  <tbody>\n",
              "    <tr>\n",
              "      <th>2012-01-03</th>\n",
              "      <td>325.25</td>\n",
              "      <td>332.83</td>\n",
              "      <td>324.97</td>\n",
              "      <td>663.59</td>\n",
              "      <td>7,380,500</td>\n",
              "    </tr>\n",
              "    <tr>\n",
              "      <th>2012-01-04</th>\n",
              "      <td>331.27</td>\n",
              "      <td>333.87</td>\n",
              "      <td>329.08</td>\n",
              "      <td>666.45</td>\n",
              "      <td>5,749,400</td>\n",
              "    </tr>\n",
              "    <tr>\n",
              "      <th>2012-01-05</th>\n",
              "      <td>329.83</td>\n",
              "      <td>330.75</td>\n",
              "      <td>326.89</td>\n",
              "      <td>657.21</td>\n",
              "      <td>6,590,300</td>\n",
              "    </tr>\n",
              "    <tr>\n",
              "      <th>2012-01-06</th>\n",
              "      <td>328.34</td>\n",
              "      <td>328.77</td>\n",
              "      <td>323.68</td>\n",
              "      <td>648.24</td>\n",
              "      <td>5,405,900</td>\n",
              "    </tr>\n",
              "    <tr>\n",
              "      <th>2012-01-09</th>\n",
              "      <td>322.04</td>\n",
              "      <td>322.29</td>\n",
              "      <td>309.46</td>\n",
              "      <td>620.76</td>\n",
              "      <td>11,688,800</td>\n",
              "    </tr>\n",
              "  </tbody>\n",
              "</table>\n",
              "</div>"
            ],
            "text/plain": [
              "              Open    High     Low   Close      Volume\n",
              "Date                                                  \n",
              "2012-01-03  325.25  332.83  324.97  663.59   7,380,500\n",
              "2012-01-04  331.27  333.87  329.08  666.45   5,749,400\n",
              "2012-01-05  329.83  330.75  326.89  657.21   6,590,300\n",
              "2012-01-06  328.34  328.77  323.68  648.24   5,405,900\n",
              "2012-01-09  322.04  322.29  309.46  620.76  11,688,800"
            ]
          },
          "metadata": {
            "tags": []
          },
          "execution_count": 329
        }
      ]
    },
    {
      "cell_type": "code",
      "metadata": {
        "id": "tuXktBayDNZd",
        "colab_type": "code",
        "colab": {
          "base_uri": "https://localhost:8080/",
          "height": 122
        },
        "outputId": "670c0696-c501-4352-d9ff-7d85899c4996"
      },
      "source": [
        "df1.isnull().sum()"
      ],
      "execution_count": 330,
      "outputs": [
        {
          "output_type": "execute_result",
          "data": {
            "text/plain": [
              "Open      0\n",
              "High      0\n",
              "Low       0\n",
              "Close     0\n",
              "Volume    0\n",
              "dtype: int64"
            ]
          },
          "metadata": {
            "tags": []
          },
          "execution_count": 330
        }
      ]
    },
    {
      "cell_type": "markdown",
      "metadata": {
        "id": "lZ8LBm8fDNZh",
        "colab_type": "text"
      },
      "source": [
        "#### Data is completly clean and has no null values"
      ]
    },
    {
      "cell_type": "code",
      "metadata": {
        "id": "Fmipe6qPDNZi",
        "colab_type": "code",
        "colab": {
          "base_uri": "https://localhost:8080/",
          "height": 442
        },
        "outputId": "f205bd94-ca13-41a7-e23e-a2087e93b026"
      },
      "source": [
        "plt.figure(figsize=(15,7))\n",
        "plt.plot(df1['Open'])\n",
        "plt.xlabel('Dates')\n",
        "plt.ylabel('Opening Value of stock prices')\n",
        "plt.show()"
      ],
      "execution_count": 331,
      "outputs": [
        {
          "output_type": "display_data",
          "data": {
            "image/png": "[encoded data removed]",
            "text/plain": [
              "<Figure size 1080x504 with 1 Axes>"
            ]
          },
          "metadata": {
            "tags": [],
            "needs_background": "light"
          }
        }
      ]
    },
    {
      "cell_type": "markdown",
      "metadata": {
        "id": "kvjlvZZgDNZn",
        "colab_type": "text"
      },
      "source": [
        "## Preparing Data for RNN Model"
      ]
    },
    {
      "cell_type": "code",
      "metadata": {
        "id": "4yinOIn4DNZn",
        "colab_type": "code",
        "colab": {
          "base_uri": "https://localhost:8080/",
          "height": 197
        },
        "outputId": "9c444a5d-4254-4f95-8e06-7862b1322912"
      },
      "source": [
        "training_df.head()"
      ],
      "execution_count": 332,
      "outputs": [
        {
          "output_type": "execute_result",
          "data": {
            "text/html": [
              "<div>\n",
              "<style scoped>\n",
              "    .dataframe tbody tr th:only-of-type {\n",
              "        vertical-align: middle;\n",
              "    }\n",
              "\n",
              "    .dataframe tbody tr th {\n",
              "        vertical-align: top;\n",
              "    }\n",
              "\n",
              "    .dataframe thead th {\n",
              "        text-align: right;\n",
              "    }\n",
              "</style>\n",
              "<table border=\"1\" class=\"dataframe\">\n",
              "  <thead>\n",
              "    <tr style=\"text-align: right;\">\n",
              "      <th></th>\n",
              "      <th>Date</th>\n",
              "      <th>Open</th>\n",
              "      <th>High</th>\n",
              "      <th>Low</th>\n",
              "      <th>Close</th>\n",
              "      <th>Volume</th>\n",
              "    </tr>\n",
              "  </thead>\n",
              "  <tbody>\n",
              "    <tr>\n",
              "      <th>0</th>\n",
              "      <td>1/3/2012</td>\n",
              "      <td>325.25</td>\n",
              "      <td>332.83</td>\n",
              "      <td>324.97</td>\n",
              "      <td>663.59</td>\n",
              "      <td>7,380,500</td>\n",
              "    </tr>\n",
              "    <tr>\n",
              "      <th>1</th>\n",
              "      <td>1/4/2012</td>\n",
              "      <td>331.27</td>\n",
              "      <td>333.87</td>\n",
              "      <td>329.08</td>\n",
              "      <td>666.45</td>\n",
              "      <td>5,749,400</td>\n",
              "    </tr>\n",
              "    <tr>\n",
              "      <th>2</th>\n",
              "      <td>1/5/2012</td>\n",
              "      <td>329.83</td>\n",
              "      <td>330.75</td>\n",
              "      <td>326.89</td>\n",
              "      <td>657.21</td>\n",
              "      <td>6,590,300</td>\n",
              "    </tr>\n",
              "    <tr>\n",
              "      <th>3</th>\n",
              "      <td>1/6/2012</td>\n",
              "      <td>328.34</td>\n",
              "      <td>328.77</td>\n",
              "      <td>323.68</td>\n",
              "      <td>648.24</td>\n",
              "      <td>5,405,900</td>\n",
              "    </tr>\n",
              "    <tr>\n",
              "      <th>4</th>\n",
              "      <td>1/9/2012</td>\n",
              "      <td>322.04</td>\n",
              "      <td>322.29</td>\n",
              "      <td>309.46</td>\n",
              "      <td>620.76</td>\n",
              "      <td>11,688,800</td>\n",
              "    </tr>\n",
              "  </tbody>\n",
              "</table>\n",
              "</div>"
            ],
            "text/plain": [
              "       Date    Open    High     Low   Close      Volume\n",
              "0  1/3/2012  325.25  332.83  324.97  663.59   7,380,500\n",
              "1  1/4/2012  331.27  333.87  329.08  666.45   5,749,400\n",
              "2  1/5/2012  329.83  330.75  326.89  657.21   6,590,300\n",
              "3  1/6/2012  328.34  328.77  323.68  648.24   5,405,900\n",
              "4  1/9/2012  322.04  322.29  309.46  620.76  11,688,800"
            ]
          },
          "metadata": {
            "tags": []
          },
          "execution_count": 332
        }
      ]
    },
    {
      "cell_type": "code",
      "metadata": {
        "id": "j2hSSlIgDNZr",
        "colab_type": "code",
        "colab": {
          "base_uri": "https://localhost:8080/",
          "height": 407
        },
        "outputId": "e35dc93d-be05-40ff-e259-8eeb1ecafee3"
      },
      "source": [
        "x=training_df['Open']\n",
        "x=pd.DataFrame(x)\n",
        "x"
      ],
      "execution_count": 333,
      "outputs": [
        {
          "output_type": "execute_result",
          "data": {
            "text/html": [
              "<div>\n",
              "<style scoped>\n",
              "    .dataframe tbody tr th:only-of-type {\n",
              "        vertical-align: middle;\n",
              "    }\n",
              "\n",
              "    .dataframe tbody tr th {\n",
              "        vertical-align: top;\n",
              "    }\n",
              "\n",
              "    .dataframe thead th {\n",
              "        text-align: right;\n",
              "    }\n",
              "</style>\n",
              "<table border=\"1\" class=\"dataframe\">\n",
              "  <thead>\n",
              "    <tr style=\"text-align: right;\">\n",
              "      <th></th>\n",
              "      <th>Open</th>\n",
              "    </tr>\n",
              "  </thead>\n",
              "  <tbody>\n",
              "    <tr>\n",
              "      <th>0</th>\n",
              "      <td>325.25</td>\n",
              "    </tr>\n",
              "    <tr>\n",
              "      <th>1</th>\n",
              "      <td>331.27</td>\n",
              "    </tr>\n",
              "    <tr>\n",
              "      <th>2</th>\n",
              "      <td>329.83</td>\n",
              "    </tr>\n",
              "    <tr>\n",
              "      <th>3</th>\n",
              "      <td>328.34</td>\n",
              "    </tr>\n",
              "    <tr>\n",
              "      <th>4</th>\n",
              "      <td>322.04</td>\n",
              "    </tr>\n",
              "    <tr>\n",
              "      <th>...</th>\n",
              "      <td>...</td>\n",
              "    </tr>\n",
              "    <tr>\n",
              "      <th>1253</th>\n",
              "      <td>790.90</td>\n",
              "    </tr>\n",
              "    <tr>\n",
              "      <th>1254</th>\n",
              "      <td>790.68</td>\n",
              "    </tr>\n",
              "    <tr>\n",
              "      <th>1255</th>\n",
              "      <td>793.70</td>\n",
              "    </tr>\n",
              "    <tr>\n",
              "      <th>1256</th>\n",
              "      <td>783.33</td>\n",
              "    </tr>\n",
              "    <tr>\n",
              "      <th>1257</th>\n",
              "      <td>782.75</td>\n",
              "    </tr>\n",
              "  </tbody>\n",
              "</table>\n",
              "<p>1258 rows × 1 columns</p>\n",
              "</div>"
            ],
            "text/plain": [
              "        Open\n",
              "0     325.25\n",
              "1     331.27\n",
              "2     329.83\n",
              "3     328.34\n",
              "4     322.04\n",
              "...      ...\n",
              "1253  790.90\n",
              "1254  790.68\n",
              "1255  793.70\n",
              "1256  783.33\n",
              "1257  782.75\n",
              "\n",
              "[1258 rows x 1 columns]"
            ]
          },
          "metadata": {
            "tags": []
          },
          "execution_count": 333
        }
      ]
    },
    {
      "cell_type": "markdown",
      "metadata": {
        "id": "1TXs533YDNZu",
        "colab_type": "text"
      },
      "source": [
        "### Min-Max Scaler to scale between 0-1"
      ]
    },
    {
      "cell_type": "code",
      "metadata": {
        "id": "DbQDxJRrDNZv",
        "colab_type": "code",
        "colab": {}
      },
      "source": [
        "mn=MinMaxScaler()"
      ],
      "execution_count": 0,
      "outputs": []
    },
    {
      "cell_type": "code",
      "metadata": {
        "id": "W_JwNmyTDNZz",
        "colab_type": "code",
        "colab": {
          "base_uri": "https://localhost:8080/",
          "height": 139
        },
        "outputId": "20b089f5-5c41-455d-981f-cf31ec9b7608"
      },
      "source": [
        "x=mn.fit_transform(x)\n",
        "x"
      ],
      "execution_count": 335,
      "outputs": [
        {
          "output_type": "execute_result",
          "data": {
            "text/plain": [
              "array([[0.08581368],\n",
              "       [0.09701243],\n",
              "       [0.09433366],\n",
              "       ...,\n",
              "       [0.95725128],\n",
              "       [0.93796041],\n",
              "       [0.93688146]])"
            ]
          },
          "metadata": {
            "tags": []
          },
          "execution_count": 335
        }
      ]
    },
    {
      "cell_type": "code",
      "metadata": {
        "id": "IFbed15xDNZ2",
        "colab_type": "code",
        "colab": {
          "base_uri": "https://localhost:8080/",
          "height": 34
        },
        "outputId": "8a2ef719-eca1-416d-d2ce-b4a1bb30a6d9"
      },
      "source": [
        "len(x)"
      ],
      "execution_count": 336,
      "outputs": [
        {
          "output_type": "execute_result",
          "data": {
            "text/plain": [
              "1258"
            ]
          },
          "metadata": {
            "tags": []
          },
          "execution_count": 336
        }
      ]
    },
    {
      "cell_type": "markdown",
      "metadata": {
        "id": "NycuvgmhDNZ6",
        "colab_type": "text"
      },
      "source": [
        "### Data Preprocessing [Creating Time Stamp]"
      ]
    },
    {
      "cell_type": "code",
      "metadata": {
        "id": "D48DbXVYDNZ7",
        "colab_type": "code",
        "colab": {}
      },
      "source": [
        "x_train=[]\n",
        "y_train=[]"
      ],
      "execution_count": 0,
      "outputs": []
    },
    {
      "cell_type": "code",
      "metadata": {
        "id": "Ko1kqrT4DNZ-",
        "colab_type": "code",
        "colab": {}
      },
      "source": [
        "for i in range(60, 1258):\n",
        "    x_train.append(x[i-60:i,0])\n",
        "    y_train.append(x[i, 0])\n",
        "x_train, y_train = np.array(x_train), np.array(y_train)"
      ],
      "execution_count": 0,
      "outputs": []
    },
    {
      "cell_type": "code",
      "metadata": {
        "id": "Pzmnb0GzDNaC",
        "colab_type": "code",
        "colab": {
          "base_uri": "https://localhost:8080/",
          "height": 52
        },
        "outputId": "d74cab04-060e-4c5d-a257-fd2628d9dd45"
      },
      "source": [
        "y_train"
      ],
      "execution_count": 339,
      "outputs": [
        {
          "output_type": "execute_result",
          "data": {
            "text/plain": [
              "array([0.08627874, 0.08471612, 0.07454052, ..., 0.95725128, 0.93796041,\n",
              "       0.93688146])"
            ]
          },
          "metadata": {
            "tags": []
          },
          "execution_count": 339
        }
      ]
    },
    {
      "cell_type": "code",
      "metadata": {
        "id": "rqYzeBXYDNaF",
        "colab_type": "code",
        "colab": {
          "base_uri": "https://localhost:8080/",
          "height": 34
        },
        "outputId": "7eecbc5e-482f-442e-86bc-52986873f83a"
      },
      "source": [
        "x_train.shape"
      ],
      "execution_count": 340,
      "outputs": [
        {
          "output_type": "execute_result",
          "data": {
            "text/plain": [
              "(1198, 60)"
            ]
          },
          "metadata": {
            "tags": []
          },
          "execution_count": 340
        }
      ]
    },
    {
      "cell_type": "code",
      "metadata": {
        "id": "pDrZlAMCKlRy",
        "colab_type": "code",
        "colab": {
          "base_uri": "https://localhost:8080/",
          "height": 34
        },
        "outputId": "5ca1e0e9-9dd8-4452-91d6-45dc9987cc37"
      },
      "source": [
        "y_train.shape"
      ],
      "execution_count": 341,
      "outputs": [
        {
          "output_type": "execute_result",
          "data": {
            "text/plain": [
              "(1198,)"
            ]
          },
          "metadata": {
            "tags": []
          },
          "execution_count": 341
        }
      ]
    },
    {
      "cell_type": "markdown",
      "metadata": {
        "id": "1kkzsNs3DNaJ",
        "colab_type": "text"
      },
      "source": [
        "### Reshaping"
      ]
    },
    {
      "cell_type": "code",
      "metadata": {
        "id": "gIIoAV6wDNaJ",
        "colab_type": "code",
        "colab": {}
      },
      "source": [
        "x_train = np.reshape(x_train, (x_train.shape[0], x_train.shape[1], 1))"
      ],
      "execution_count": 0,
      "outputs": []
    },
    {
      "cell_type": "code",
      "metadata": {
        "id": "lsnU-u0mDNaN",
        "colab_type": "code",
        "colab": {
          "base_uri": "https://localhost:8080/",
          "height": 34
        },
        "outputId": "ab5d2122-5536-44cd-de9c-f1bdcd5d8d5f"
      },
      "source": [
        "x_train.shape"
      ],
      "execution_count": 343,
      "outputs": [
        {
          "output_type": "execute_result",
          "data": {
            "text/plain": [
              "(1198, 60, 1)"
            ]
          },
          "metadata": {
            "tags": []
          },
          "execution_count": 343
        }
      ]
    },
    {
      "cell_type": "markdown",
      "metadata": {
        "id": "0QZWEAI4DNaS",
        "colab_type": "text"
      },
      "source": [
        "## Building Model"
      ]
    },
    {
      "cell_type": "code",
      "metadata": {
        "id": "cwxLPNmiDNaS",
        "colab_type": "code",
        "colab": {}
      },
      "source": [
        "model=Sequential()"
      ],
      "execution_count": 0,
      "outputs": []
    },
    {
      "cell_type": "code",
      "metadata": {
        "id": "YO4TkBB_DNaW",
        "colab_type": "code",
        "colab": {}
      },
      "source": [
        "model.add(LSTM(units=50,return_sequences = True,input_shape=(60,1)))\n",
        "model.add(Dropout(0.2))\n",
        "model.add(LSTM(units=50,return_sequences = True))\n",
        "model.add(Dropout(0.2))\n",
        "model.add(LSTM(units=50,return_sequences = True))\n",
        "model.add(Dropout(0.2))\n",
        "model.add(LSTM(units=50))\n",
        "model.add(Dropout(0.2))\n",
        "model.add(Dense(units=1))"
      ],
      "execution_count": 0,
      "outputs": []
    },
    {
      "cell_type": "code",
      "metadata": {
        "id": "7LO5xxMmGFy7",
        "colab_type": "code",
        "colab": {
          "base_uri": "https://localhost:8080/",
          "height": 472
        },
        "outputId": "6d43df0b-69e9-4ce4-c9e1-04e63027ed74"
      },
      "source": [
        "model.summary()"
      ],
      "execution_count": 346,
      "outputs": [
        {
          "output_type": "stream",
          "text": [
            "Model: \"sequential_6\"\n",
            "_________________________________________________________________\n",
            "Layer (type)                 Output Shape              Param #   \n",
            "=================================================================\n",
            "lstm_26 (LSTM)               (None, 60, 50)            10400     \n",
            "_________________________________________________________________\n",
            "dropout_24 (Dropout)         (None, 60, 50)            0         \n",
            "_________________________________________________________________\n",
            "lstm_27 (LSTM)               (None, 60, 50)            20200     \n",
            "_________________________________________________________________\n",
            "dropout_25 (Dropout)         (None, 60, 50)            0         \n",
            "_________________________________________________________________\n",
            "lstm_28 (LSTM)               (None, 60, 50)            20200     \n",
            "_________________________________________________________________\n",
            "dropout_26 (Dropout)         (None, 60, 50)            0         \n",
            "_________________________________________________________________\n",
            "lstm_29 (LSTM)               (None, 50)                20200     \n",
            "_________________________________________________________________\n",
            "dropout_27 (Dropout)         (None, 50)                0         \n",
            "_________________________________________________________________\n",
            "dense_6 (Dense)              (None, 1)                 51        \n",
            "=================================================================\n",
            "Total params: 71,051\n",
            "Trainable params: 71,051\n",
            "Non-trainable params: 0\n",
            "_________________________________________________________________\n"
          ],
          "name": "stdout"
        }
      ]
    },
    {
      "cell_type": "code",
      "metadata": {
        "id": "B9fbUDPwGH1R",
        "colab_type": "code",
        "colab": {}
      },
      "source": [
        "model.compile(optimizer='adam',loss='mean_squared_error')"
      ],
      "execution_count": 0,
      "outputs": []
    },
    {
      "cell_type": "code",
      "metadata": {
        "id": "jazRUZ3OGWji",
        "colab_type": "code",
        "colab": {
          "base_uri": "https://localhost:8080/",
          "height": 1000
        },
        "outputId": "73934dbb-417d-498a-8afb-e50e84519441"
      },
      "source": [
        "model.fit(x_train,y_train,batch_size=32,epochs=100)"
      ],
      "execution_count": 348,
      "outputs": [
        {
          "output_type": "stream",
          "text": [
            "Epoch 1/100\n",
            "38/38 [==============================] - 1s 15ms/step - loss: 0.0470\n",
            "Epoch 2/100\n",
            "38/38 [==============================] - 1s 14ms/step - loss: 0.0059\n",
            "Epoch 3/100\n",
            "38/38 [==============================] - 1s 14ms/step - loss: 0.0055\n",
            "Epoch 4/100\n",
            "38/38 [==============================] - 1s 14ms/step - loss: 0.0051\n",
            "Epoch 5/100\n",
            "38/38 [==============================] - 1s 15ms/step - loss: 0.0050\n",
            "Epoch 6/100\n",
            "38/38 [==============================] - 1s 15ms/step - loss: 0.0046\n",
            "Epoch 7/100\n",
            "38/38 [==============================] - 1s 14ms/step - loss: 0.0051\n",
            "Epoch 8/100\n",
            "38/38 [==============================] - 1s 14ms/step - loss: 0.0046\n",
            "Epoch 9/100\n",
            "38/38 [==============================] - 1s 14ms/step - loss: 0.0049\n",
            "Epoch 10/100\n",
            "38/38 [==============================] - 1s 15ms/step - loss: 0.0049\n",
            "Epoch 11/100\n",
            "38/38 [==============================] - 1s 14ms/step - loss: 0.0046\n",
            "Epoch 12/100\n",
            "38/38 [==============================] - 1s 14ms/step - loss: 0.0036\n",
            "Epoch 13/100\n",
            "38/38 [==============================] - 1s 14ms/step - loss: 0.0038\n",
            "Epoch 14/100\n",
            "38/38 [==============================] - 1s 15ms/step - loss: 0.0040\n",
            "Epoch 15/100\n",
            "38/38 [==============================] - 1s 14ms/step - loss: 0.0037\n",
            "Epoch 16/100\n",
            "38/38 [==============================] - 1s 14ms/step - loss: 0.0040\n",
            "Epoch 17/100\n",
            "38/38 [==============================] - 1s 14ms/step - loss: 0.0037\n",
            "Epoch 18/100\n",
            "38/38 [==============================] - 1s 14ms/step - loss: 0.0036\n",
            "Epoch 19/100\n",
            "38/38 [==============================] - 1s 14ms/step - loss: 0.0038\n",
            "Epoch 20/100\n",
            "38/38 [==============================] - 1s 14ms/step - loss: 0.0034\n",
            "Epoch 21/100\n",
            "38/38 [==============================] - 1s 14ms/step - loss: 0.0036\n",
            "Epoch 22/100\n",
            "38/38 [==============================] - 1s 14ms/step - loss: 0.0033\n",
            "Epoch 23/100\n",
            "38/38 [==============================] - 1s 14ms/step - loss: 0.0035\n",
            "Epoch 24/100\n",
            "38/38 [==============================] - 1s 14ms/step - loss: 0.0033\n",
            "Epoch 25/100\n",
            "38/38 [==============================] - 1s 14ms/step - loss: 0.0030\n",
            "Epoch 26/100\n",
            "38/38 [==============================] - 1s 14ms/step - loss: 0.0033\n",
            "Epoch 27/100\n",
            "38/38 [==============================] - 1s 14ms/step - loss: 0.0033\n",
            "Epoch 28/100\n",
            "38/38 [==============================] - 1s 14ms/step - loss: 0.0035\n",
            "Epoch 29/100\n",
            "38/38 [==============================] - 1s 14ms/step - loss: 0.0030\n",
            "Epoch 30/100\n",
            "38/38 [==============================] - 1s 14ms/step - loss: 0.0030\n",
            "Epoch 31/100\n",
            "38/38 [==============================] - 1s 14ms/step - loss: 0.0029\n",
            "Epoch 32/100\n",
            "38/38 [==============================] - 1s 14ms/step - loss: 0.0030\n",
            "Epoch 33/100\n",
            "38/38 [==============================] - 1s 14ms/step - loss: 0.0030\n",
            "Epoch 34/100\n",
            "38/38 [==============================] - 1s 15ms/step - loss: 0.0028\n",
            "Epoch 35/100\n",
            "38/38 [==============================] - 1s 14ms/step - loss: 0.0030\n",
            "Epoch 36/100\n",
            "38/38 [==============================] - 1s 15ms/step - loss: 0.0029\n",
            "Epoch 37/100\n",
            "38/38 [==============================] - 1s 15ms/step - loss: 0.0026\n",
            "Epoch 38/100\n",
            "38/38 [==============================] - 1s 14ms/step - loss: 0.0027\n",
            "Epoch 39/100\n",
            "38/38 [==============================] - 1s 15ms/step - loss: 0.0026\n",
            "Epoch 40/100\n",
            "38/38 [==============================] - 1s 15ms/step - loss: 0.0025\n",
            "Epoch 41/100\n",
            "38/38 [==============================] - 1s 14ms/step - loss: 0.0029\n",
            "Epoch 42/100\n",
            "38/38 [==============================] - 1s 14ms/step - loss: 0.0028\n",
            "Epoch 43/100\n",
            "38/38 [==============================] - 1s 14ms/step - loss: 0.0027\n",
            "Epoch 44/100\n",
            "38/38 [==============================] - 1s 14ms/step - loss: 0.0026\n",
            "Epoch 45/100\n",
            "38/38 [==============================] - 1s 14ms/step - loss: 0.0027\n",
            "Epoch 46/100\n",
            "38/38 [==============================] - 1s 14ms/step - loss: 0.0023\n",
            "Epoch 47/100\n",
            "38/38 [==============================] - 1s 14ms/step - loss: 0.0026\n",
            "Epoch 48/100\n",
            "38/38 [==============================] - 1s 14ms/step - loss: 0.0024\n",
            "Epoch 49/100\n",
            "38/38 [==============================] - 1s 14ms/step - loss: 0.0023\n",
            "Epoch 50/100\n",
            "38/38 [==============================] - 1s 14ms/step - loss: 0.0022\n",
            "Epoch 51/100\n",
            "38/38 [==============================] - 1s 14ms/step - loss: 0.0025\n",
            "Epoch 52/100\n",
            "38/38 [==============================] - 1s 15ms/step - loss: 0.0023\n",
            "Epoch 53/100\n",
            "38/38 [==============================] - 1s 15ms/step - loss: 0.0026\n",
            "Epoch 54/100\n",
            "38/38 [==============================] - 1s 15ms/step - loss: 0.0022\n",
            "Epoch 55/100\n",
            "38/38 [==============================] - 1s 14ms/step - loss: 0.0028\n",
            "Epoch 56/100\n",
            "38/38 [==============================] - 1s 14ms/step - loss: 0.0022\n",
            "Epoch 57/100\n",
            "38/38 [==============================] - 1s 14ms/step - loss: 0.0022\n",
            "Epoch 58/100\n",
            "38/38 [==============================] - 1s 14ms/step - loss: 0.0023\n",
            "Epoch 59/100\n",
            "38/38 [==============================] - 1s 14ms/step - loss: 0.0021\n",
            "Epoch 60/100\n",
            "38/38 [==============================] - 1s 14ms/step - loss: 0.0021\n",
            "Epoch 61/100\n",
            "38/38 [==============================] - 1s 14ms/step - loss: 0.0019\n",
            "Epoch 62/100\n",
            "38/38 [==============================] - 1s 14ms/step - loss: 0.0020\n",
            "Epoch 63/100\n",
            "38/38 [==============================] - 1s 14ms/step - loss: 0.0021\n",
            "Epoch 64/100\n",
            "38/38 [==============================] - 1s 14ms/step - loss: 0.0020\n",
            "Epoch 65/100\n",
            "38/38 [==============================] - 1s 14ms/step - loss: 0.0020\n",
            "Epoch 66/100\n",
            "38/38 [==============================] - 1s 14ms/step - loss: 0.0021\n",
            "Epoch 67/100\n",
            "38/38 [==============================] - 1s 14ms/step - loss: 0.0019\n",
            "Epoch 68/100\n",
            "38/38 [==============================] - 1s 14ms/step - loss: 0.0021\n",
            "Epoch 69/100\n",
            "38/38 [==============================] - 1s 14ms/step - loss: 0.0020\n",
            "Epoch 70/100\n",
            "38/38 [==============================] - 1s 14ms/step - loss: 0.0018\n",
            "Epoch 71/100\n",
            "38/38 [==============================] - 1s 14ms/step - loss: 0.0021\n",
            "Epoch 72/100\n",
            "38/38 [==============================] - 1s 15ms/step - loss: 0.0019\n",
            "Epoch 73/100\n",
            "38/38 [==============================] - 1s 14ms/step - loss: 0.0018\n",
            "Epoch 74/100\n",
            "38/38 [==============================] - 1s 14ms/step - loss: 0.0018\n",
            "Epoch 75/100\n",
            "38/38 [==============================] - 1s 14ms/step - loss: 0.0017\n",
            "Epoch 76/100\n",
            "38/38 [==============================] - 1s 14ms/step - loss: 0.0018\n",
            "Epoch 77/100\n",
            "38/38 [==============================] - 1s 14ms/step - loss: 0.0017\n",
            "Epoch 78/100\n",
            "38/38 [==============================] - 1s 14ms/step - loss: 0.0018\n",
            "Epoch 79/100\n",
            "38/38 [==============================] - 1s 14ms/step - loss: 0.0016\n",
            "Epoch 80/100\n",
            "38/38 [==============================] - 1s 14ms/step - loss: 0.0018\n",
            "Epoch 81/100\n",
            "38/38 [==============================] - 1s 14ms/step - loss: 0.0018\n",
            "Epoch 82/100\n",
            "38/38 [==============================] - 1s 14ms/step - loss: 0.0018\n",
            "Epoch 83/100\n",
            "38/38 [==============================] - 1s 14ms/step - loss: 0.0019\n",
            "Epoch 84/100\n",
            "38/38 [==============================] - 1s 14ms/step - loss: 0.0018\n",
            "Epoch 85/100\n",
            "38/38 [==============================] - 1s 14ms/step - loss: 0.0016\n",
            "Epoch 86/100\n",
            "38/38 [==============================] - 1s 14ms/step - loss: 0.0015\n",
            "Epoch 87/100\n",
            "38/38 [==============================] - 1s 14ms/step - loss: 0.0016\n",
            "Epoch 88/100\n",
            "38/38 [==============================] - 1s 14ms/step - loss: 0.0016\n",
            "Epoch 89/100\n",
            "38/38 [==============================] - 1s 14ms/step - loss: 0.0016\n",
            "Epoch 90/100\n",
            "38/38 [==============================] - 1s 15ms/step - loss: 0.0016\n",
            "Epoch 91/100\n",
            "38/38 [==============================] - 1s 14ms/step - loss: 0.0016\n",
            "Epoch 92/100\n",
            "38/38 [==============================] - 1s 14ms/step - loss: 0.0016\n",
            "Epoch 93/100\n",
            "38/38 [==============================] - 1s 14ms/step - loss: 0.0016\n",
            "Epoch 94/100\n",
            "38/38 [==============================] - 1s 14ms/step - loss: 0.0016\n",
            "Epoch 95/100\n",
            "38/38 [==============================] - 1s 14ms/step - loss: 0.0014\n",
            "Epoch 96/100\n",
            "38/38 [==============================] - 1s 14ms/step - loss: 0.0013\n",
            "Epoch 97/100\n",
            "38/38 [==============================] - 1s 14ms/step - loss: 0.0015\n",
            "Epoch 98/100\n",
            "38/38 [==============================] - 1s 14ms/step - loss: 0.0014\n",
            "Epoch 99/100\n",
            "38/38 [==============================] - 1s 14ms/step - loss: 0.0014\n",
            "Epoch 100/100\n",
            "38/38 [==============================] - 1s 14ms/step - loss: 0.0015\n"
          ],
          "name": "stdout"
        },
        {
          "output_type": "execute_result",
          "data": {
            "text/plain": [
              "<tensorflow.python.keras.callbacks.History at 0x7f779194aba8>"
            ]
          },
          "metadata": {
            "tags": []
          },
          "execution_count": 348
        }
      ]
    },
    {
      "cell_type": "code",
      "metadata": {
        "id": "URAkdkJwHlHi",
        "colab_type": "code",
        "colab": {
          "base_uri": "https://localhost:8080/",
          "height": 197
        },
        "outputId": "eb786e09-2ee4-43e9-ff68-5d77546e0a6d"
      },
      "source": [
        "test_df=pd.read_csv('/content/drive/My Drive/Colab Notebooks/Google_Stock_Price_Test.csv')\n",
        "test_df.head()"
      ],
      "execution_count": 349,
      "outputs": [
        {
          "output_type": "execute_result",
          "data": {
            "text/html": [
              "<div>\n",
              "<style scoped>\n",
              "    .dataframe tbody tr th:only-of-type {\n",
              "        vertical-align: middle;\n",
              "    }\n",
              "\n",
              "    .dataframe tbody tr th {\n",
              "        vertical-align: top;\n",
              "    }\n",
              "\n",
              "    .dataframe thead th {\n",
              "        text-align: right;\n",
              "    }\n",
              "</style>\n",
              "<table border=\"1\" class=\"dataframe\">\n",
              "  <thead>\n",
              "    <tr style=\"text-align: right;\">\n",
              "      <th></th>\n",
              "      <th>Date</th>\n",
              "      <th>Open</th>\n",
              "      <th>High</th>\n",
              "      <th>Low</th>\n",
              "      <th>Close</th>\n",
              "      <th>Volume</th>\n",
              "    </tr>\n",
              "  </thead>\n",
              "  <tbody>\n",
              "    <tr>\n",
              "      <th>0</th>\n",
              "      <td>1/3/2017</td>\n",
              "      <td>778.81</td>\n",
              "      <td>789.63</td>\n",
              "      <td>775.80</td>\n",
              "      <td>786.14</td>\n",
              "      <td>1,657,300</td>\n",
              "    </tr>\n",
              "    <tr>\n",
              "      <th>1</th>\n",
              "      <td>1/4/2017</td>\n",
              "      <td>788.36</td>\n",
              "      <td>791.34</td>\n",
              "      <td>783.16</td>\n",
              "      <td>786.90</td>\n",
              "      <td>1,073,000</td>\n",
              "    </tr>\n",
              "    <tr>\n",
              "      <th>2</th>\n",
              "      <td>1/5/2017</td>\n",
              "      <td>786.08</td>\n",
              "      <td>794.48</td>\n",
              "      <td>785.02</td>\n",
              "      <td>794.02</td>\n",
              "      <td>1,335,200</td>\n",
              "    </tr>\n",
              "    <tr>\n",
              "      <th>3</th>\n",
              "      <td>1/6/2017</td>\n",
              "      <td>795.26</td>\n",
              "      <td>807.90</td>\n",
              "      <td>792.20</td>\n",
              "      <td>806.15</td>\n",
              "      <td>1,640,200</td>\n",
              "    </tr>\n",
              "    <tr>\n",
              "      <th>4</th>\n",
              "      <td>1/9/2017</td>\n",
              "      <td>806.40</td>\n",
              "      <td>809.97</td>\n",
              "      <td>802.83</td>\n",
              "      <td>806.65</td>\n",
              "      <td>1,272,400</td>\n",
              "    </tr>\n",
              "  </tbody>\n",
              "</table>\n",
              "</div>"
            ],
            "text/plain": [
              "       Date    Open    High     Low   Close     Volume\n",
              "0  1/3/2017  778.81  789.63  775.80  786.14  1,657,300\n",
              "1  1/4/2017  788.36  791.34  783.16  786.90  1,073,000\n",
              "2  1/5/2017  786.08  794.48  785.02  794.02  1,335,200\n",
              "3  1/6/2017  795.26  807.90  792.20  806.15  1,640,200\n",
              "4  1/9/2017  806.40  809.97  802.83  806.65  1,272,400"
            ]
          },
          "metadata": {
            "tags": []
          },
          "execution_count": 349
        }
      ]
    },
    {
      "cell_type": "code",
      "metadata": {
        "id": "YMrqgchGHzWI",
        "colab_type": "code",
        "colab": {
          "base_uri": "https://localhost:8080/",
          "height": 34
        },
        "outputId": "19b4c4ea-d315-4ca6-fcef-82f26ca60899"
      },
      "source": [
        "test_df.shape"
      ],
      "execution_count": 350,
      "outputs": [
        {
          "output_type": "execute_result",
          "data": {
            "text/plain": [
              "(20, 6)"
            ]
          },
          "metadata": {
            "tags": []
          },
          "execution_count": 350
        }
      ]
    },
    {
      "cell_type": "code",
      "metadata": {
        "id": "bpj9Y6ulXpmW",
        "colab_type": "code",
        "colab": {
          "base_uri": "https://localhost:8080/",
          "height": 384
        },
        "outputId": "9fd03918-862b-4e01-c77c-9274e5c545ff"
      },
      "source": [
        "real_stock_price=test_df['Open']\n",
        "real_stock_price"
      ],
      "execution_count": 351,
      "outputs": [
        {
          "output_type": "execute_result",
          "data": {
            "text/plain": [
              "0     778.81\n",
              "1     788.36\n",
              "2     786.08\n",
              "3     795.26\n",
              "4     806.40\n",
              "5     807.86\n",
              "6     805.00\n",
              "7     807.14\n",
              "8     807.48\n",
              "9     807.08\n",
              "10    805.81\n",
              "11    805.12\n",
              "12    806.91\n",
              "13    807.25\n",
              "14    822.30\n",
              "15    829.62\n",
              "16    837.81\n",
              "17    834.71\n",
              "18    814.66\n",
              "19    796.86\n",
              "Name: Open, dtype: float64"
            ]
          },
          "metadata": {
            "tags": []
          },
          "execution_count": 351
        }
      ]
    },
    {
      "cell_type": "code",
      "metadata": {
        "id": "pmz46JiUMdHg",
        "colab_type": "code",
        "colab": {}
      },
      "source": [
        "df=pd.concat([training_df,test_df],axis=0)"
      ],
      "execution_count": 0,
      "outputs": []
    },
    {
      "cell_type": "code",
      "metadata": {
        "id": "-qMWd96rMpVr",
        "colab_type": "code",
        "colab": {
          "base_uri": "https://localhost:8080/",
          "height": 34
        },
        "outputId": "e28baf2a-a23f-4385-f992-06b6dcba5a0d"
      },
      "source": [
        "df.shape"
      ],
      "execution_count": 353,
      "outputs": [
        {
          "output_type": "execute_result",
          "data": {
            "text/plain": [
              "(1278, 6)"
            ]
          },
          "metadata": {
            "tags": []
          },
          "execution_count": 353
        }
      ]
    },
    {
      "cell_type": "code",
      "metadata": {
        "id": "O8sDY8xDWoud",
        "colab_type": "code",
        "colab": {}
      },
      "source": [
        "test=df['Open']"
      ],
      "execution_count": 0,
      "outputs": []
    },
    {
      "cell_type": "code",
      "metadata": {
        "id": "upgyHIM-Mz4w",
        "colab_type": "code",
        "colab": {
          "base_uri": "https://localhost:8080/",
          "height": 192
        },
        "outputId": "7a609490-d15a-42d3-f6a3-d825a2da3bd2"
      },
      "source": [
        "inputs = test[len(df['Open']) - len(test_df['Open']) - 60:].values\n",
        "inputs"
      ],
      "execution_count": 355,
      "outputs": [
        {
          "output_type": "execute_result",
          "data": {
            "text/plain": [
              "array([779.  , 779.66, 777.71, 786.66, 783.76, 781.22, 781.65, 779.8 ,\n",
              "       787.85, 798.24, 803.3 , 795.  , 804.9 , 816.68, 806.34, 801.  ,\n",
              "       808.35, 795.47, 782.89, 778.2 , 767.25, 750.66, 774.5 , 783.4 ,\n",
              "       779.94, 791.17, 756.54, 755.6 , 746.97, 755.2 , 766.92, 771.37,\n",
              "       762.61, 772.63, 767.73, 764.26, 760.  , 771.53, 770.07, 757.44,\n",
              "       744.59, 757.71, 764.73, 761.  , 772.48, 780.  , 785.04, 793.9 ,\n",
              "       797.4 , 797.34, 800.4 , 790.22, 796.76, 795.84, 792.36, 790.9 ,\n",
              "       790.68, 793.7 , 783.33, 782.75, 778.81, 788.36, 786.08, 795.26,\n",
              "       806.4 , 807.86, 805.  , 807.14, 807.48, 807.08, 805.81, 805.12,\n",
              "       806.91, 807.25, 822.3 , 829.62, 837.81, 834.71, 814.66, 796.86])"
            ]
          },
          "metadata": {
            "tags": []
          },
          "execution_count": 355
        }
      ]
    },
    {
      "cell_type": "code",
      "metadata": {
        "id": "DUc4oVFQVSXs",
        "colab_type": "code",
        "colab": {
          "base_uri": "https://localhost:8080/",
          "height": 1000
        },
        "outputId": "12c1a151-13d3-4998-c15e-378ff2f01498"
      },
      "source": [
        "inputs = inputs.reshape(-1,1)\n",
        "inputs"
      ],
      "execution_count": 356,
      "outputs": [
        {
          "output_type": "execute_result",
          "data": {
            "text/plain": [
              "array([[779.  ],\n",
              "       [779.66],\n",
              "       [777.71],\n",
              "       [786.66],\n",
              "       [783.76],\n",
              "       [781.22],\n",
              "       [781.65],\n",
              "       [779.8 ],\n",
              "       [787.85],\n",
              "       [798.24],\n",
              "       [803.3 ],\n",
              "       [795.  ],\n",
              "       [804.9 ],\n",
              "       [816.68],\n",
              "       [806.34],\n",
              "       [801.  ],\n",
              "       [808.35],\n",
              "       [795.47],\n",
              "       [782.89],\n",
              "       [778.2 ],\n",
              "       [767.25],\n",
              "       [750.66],\n",
              "       [774.5 ],\n",
              "       [783.4 ],\n",
              "       [779.94],\n",
              "       [791.17],\n",
              "       [756.54],\n",
              "       [755.6 ],\n",
              "       [746.97],\n",
              "       [755.2 ],\n",
              "       [766.92],\n",
              "       [771.37],\n",
              "       [762.61],\n",
              "       [772.63],\n",
              "       [767.73],\n",
              "       [764.26],\n",
              "       [760.  ],\n",
              "       [771.53],\n",
              "       [770.07],\n",
              "       [757.44],\n",
              "       [744.59],\n",
              "       [757.71],\n",
              "       [764.73],\n",
              "       [761.  ],\n",
              "       [772.48],\n",
              "       [780.  ],\n",
              "       [785.04],\n",
              "       [793.9 ],\n",
              "       [797.4 ],\n",
              "       [797.34],\n",
              "       [800.4 ],\n",
              "       [790.22],\n",
              "       [796.76],\n",
              "       [795.84],\n",
              "       [792.36],\n",
              "       [790.9 ],\n",
              "       [790.68],\n",
              "       [793.7 ],\n",
              "       [783.33],\n",
              "       [782.75],\n",
              "       [778.81],\n",
              "       [788.36],\n",
              "       [786.08],\n",
              "       [795.26],\n",
              "       [806.4 ],\n",
              "       [807.86],\n",
              "       [805.  ],\n",
              "       [807.14],\n",
              "       [807.48],\n",
              "       [807.08],\n",
              "       [805.81],\n",
              "       [805.12],\n",
              "       [806.91],\n",
              "       [807.25],\n",
              "       [822.3 ],\n",
              "       [829.62],\n",
              "       [837.81],\n",
              "       [834.71],\n",
              "       [814.66],\n",
              "       [796.86]])"
            ]
          },
          "metadata": {
            "tags": []
          },
          "execution_count": 356
        }
      ]
    },
    {
      "cell_type": "code",
      "metadata": {
        "id": "80kWqSoWM4Md",
        "colab_type": "code",
        "colab": {}
      },
      "source": [
        "inputs=mn.transform(inputs)"
      ],
      "execution_count": 0,
      "outputs": []
    },
    {
      "cell_type": "code",
      "metadata": {
        "id": "ZnPoZFX1Oi4s",
        "colab_type": "code",
        "colab": {
          "base_uri": "https://localhost:8080/",
          "height": 1000
        },
        "outputId": "c3cc4f90-f896-496b-c819-87262ab2ca1e"
      },
      "source": [
        "inputs"
      ],
      "execution_count": 358,
      "outputs": [
        {
          "output_type": "execute_result",
          "data": {
            "text/plain": [
              "array([[0.9299055 ],\n",
              "       [0.93113327],\n",
              "       [0.92750577],\n",
              "       [0.94415507],\n",
              "       [0.93876032],\n",
              "       [0.93403527],\n",
              "       [0.93483518],\n",
              "       [0.9313937 ],\n",
              "       [0.94636878],\n",
              "       [0.96569685],\n",
              "       [0.97510976],\n",
              "       [0.95966962],\n",
              "       [0.97808617],\n",
              "       [1.        ],\n",
              "       [0.98076494],\n",
              "       [0.97083116],\n",
              "       [0.98450406],\n",
              "       [0.96054394],\n",
              "       [0.9371419 ],\n",
              "       [0.92841729],\n",
              "       [0.90804747],\n",
              "       [0.8771858 ],\n",
              "       [0.92153434],\n",
              "       [0.93809063],\n",
              "       [0.93165414],\n",
              "       [0.95254483],\n",
              "       [0.88812412],\n",
              "       [0.88637547],\n",
              "       [0.87032145],\n",
              "       [0.88563137],\n",
              "       [0.90743359],\n",
              "       [0.91571173],\n",
              "       [0.89941588],\n",
              "       [0.91805566],\n",
              "       [0.9089404 ],\n",
              "       [0.9024853 ],\n",
              "       [0.89456061],\n",
              "       [0.91600938],\n",
              "       [0.9132934 ],\n",
              "       [0.88979835],\n",
              "       [0.86589404],\n",
              "       [0.89030062],\n",
              "       [0.90335962],\n",
              "       [0.89642086],\n",
              "       [0.91777662],\n",
              "       [0.93176576],\n",
              "       [0.94114145],\n",
              "       [0.95762334],\n",
              "       [0.96413424],\n",
              "       [0.96402262],\n",
              "       [0.96971501],\n",
              "       [0.95077759],\n",
              "       [0.96294367],\n",
              "       [0.96123223],\n",
              "       [0.95475854],\n",
              "       [0.95204256],\n",
              "       [0.95163331],\n",
              "       [0.95725128],\n",
              "       [0.93796041],\n",
              "       [0.93688146],\n",
              "       [0.92955205],\n",
              "       [0.94731751],\n",
              "       [0.94307612],\n",
              "       [0.96015329],\n",
              "       [0.98087655],\n",
              "       [0.98359253],\n",
              "       [0.97827219],\n",
              "       [0.98225314],\n",
              "       [0.98288563],\n",
              "       [0.98214153],\n",
              "       [0.979779  ],\n",
              "       [0.97849542],\n",
              "       [0.98182528],\n",
              "       [0.98245777],\n",
              "       [1.01045465],\n",
              "       [1.02407173],\n",
              "       [1.03930724],\n",
              "       [1.03354044],\n",
              "       [0.99624228],\n",
              "       [0.9631297 ]])"
            ]
          },
          "metadata": {
            "tags": []
          },
          "execution_count": 358
        }
      ]
    },
    {
      "cell_type": "code",
      "metadata": {
        "id": "5MgB419eOa34",
        "colab_type": "code",
        "colab": {}
      },
      "source": [
        "X_test = []\n",
        "for i in range(60,80):\n",
        "    X_test.append(inputs[i-60:i, 0])\n",
        "X_test = np.array(X_test)\n",
        "X_test = np.reshape(X_test, (X_test.shape[0], X_test.shape[1], 1))"
      ],
      "execution_count": 0,
      "outputs": []
    },
    {
      "cell_type": "code",
      "metadata": {
        "id": "z9pctYKiO7d_",
        "colab_type": "code",
        "colab": {
          "base_uri": "https://localhost:8080/",
          "height": 34
        },
        "outputId": "5ab86586-7531-45dc-f9ef-1c812fa2f559"
      },
      "source": [
        "X_test.shape"
      ],
      "execution_count": 360,
      "outputs": [
        {
          "output_type": "execute_result",
          "data": {
            "text/plain": [
              "(20, 60, 1)"
            ]
          },
          "metadata": {
            "tags": []
          },
          "execution_count": 360
        }
      ]
    },
    {
      "cell_type": "code",
      "metadata": {
        "id": "Zj9Ndh1TY5t7",
        "colab_type": "code",
        "colab": {}
      },
      "source": [
        ""
      ],
      "execution_count": 0,
      "outputs": []
    },
    {
      "cell_type": "code",
      "metadata": {
        "id": "2Q8AqJuAO-UZ",
        "colab_type": "code",
        "colab": {}
      },
      "source": [
        "predicted_stock_price = model.predict(X_test)"
      ],
      "execution_count": 0,
      "outputs": []
    },
    {
      "cell_type": "code",
      "metadata": {
        "id": "pC4GRL61XOBY",
        "colab_type": "code",
        "colab": {
          "base_uri": "https://localhost:8080/",
          "height": 367
        },
        "outputId": "405f6016-b00e-4308-971d-c571d6421aa2"
      },
      "source": [
        "predicted_stock_price = mn.inverse_transform(predicted_stock_price)\n",
        "predicted_stock_price"
      ],
      "execution_count": 362,
      "outputs": [
        {
          "output_type": "execute_result",
          "data": {
            "text/plain": [
              "array([[775.8781 ],\n",
              "       [772.9811 ],\n",
              "       [772.964  ],\n",
              "       [774.0164 ],\n",
              "       [776.9248 ],\n",
              "       [782.3114 ],\n",
              "       [787.32   ],\n",
              "       [789.4655 ],\n",
              "       [790.0271 ],\n",
              "       [790.1244 ],\n",
              "       [790.1859 ],\n",
              "       [790.13416],\n",
              "       [790.0604 ],\n",
              "       [790.5933 ],\n",
              "       [791.4834 ],\n",
              "       [795.82184],\n",
              "       [802.27045],\n",
              "       [809.1666 ],\n",
              "       [812.97473],\n",
              "       [809.29694]], dtype=float32)"
            ]
          },
          "metadata": {
            "tags": []
          },
          "execution_count": 362
        }
      ]
    },
    {
      "cell_type": "code",
      "metadata": {
        "id": "Utw7HBziXU-_",
        "colab_type": "code",
        "colab": {
          "base_uri": "https://localhost:8080/",
          "height": 295
        },
        "outputId": "6a16add2-900d-48cd-e027-6735dd5e852b"
      },
      "source": [
        "plt.plot(real_stock_price, color = 'red', label = 'Real Google Stock Price')\n",
        "plt.plot(predicted_stock_price, color = 'blue', label = 'Predicted Google Stock Price')\n",
        "plt.title('Google Stock Price Prediction')\n",
        "plt.xlabel('Time')\n",
        "plt.ylabel('Google Stock Price')\n",
        "plt.show()"
      ],
      "execution_count": 363,
      "outputs": [
        {
          "output_type": "display_data",
          "data": {
            "image/png": "[encoded data removed]",
            "text/plain": [
              "<Figure size 432x288 with 1 Axes>"
            ]
          },
          "metadata": {
            "tags": [],
            "needs_background": "light"
          }
        }
      ]
    },
    {
      "cell_type": "code",
      "metadata": {
        "id": "cloeJ7G_d6Q5",
        "colab_type": "code",
        "colab": {}
      },
      "source": [
        "from sklearn.metrics import mean_squared_error"
      ],
      "execution_count": 0,
      "outputs": []
    },
    {
      "cell_type": "code",
      "metadata": {
        "id": "NoAlxPameZwt",
        "colab_type": "code",
        "colab": {
          "base_uri": "https://localhost:8080/",
          "height": 34
        },
        "outputId": "6b9b59f6-2c23-4703-b4d1-ede68a45ff88"
      },
      "source": [
        "mean_squared_error(real_stock_price,predicted_stock_price)"
      ],
      "execution_count": 365,
      "outputs": [
        {
          "output_type": "execute_result",
          "data": {
            "text/plain": [
              "440.10356952266545"
            ]
          },
          "metadata": {
            "tags": []
          },
          "execution_count": 365
        }
      ]
    }
  ]
}