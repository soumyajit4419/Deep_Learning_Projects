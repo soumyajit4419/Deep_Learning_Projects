{
  "nbformat": 4,
  "nbformat_minor": 0,
  "metadata": {
    "colab": {
      "name": "Hotel Desciption Generation.ipynb",
      "provenance": [],
      "collapsed_sections": []
    },
    "kernelspec": {
      "name": "python3",
      "display_name": "Python 3"
    },
    "accelerator": "GPU"
  },
  "cells": [
    {
      "cell_type": "markdown",
      "metadata": {
        "id": "LJ6wx0VfHe-w",
        "colab_type": "text"
      },
      "source": [
        "# Hotel Description Generation"
      ]
    },
    {
      "cell_type": "code",
      "metadata": {
        "id": "iu9CjxV34Pun",
        "colab_type": "code",
        "colab": {}
      },
      "source": [
        "import pandas as pd\n",
        "import numpy as np\n",
        "import matplotlib.pyplot as plt\n",
        "import re"
      ],
      "execution_count": 0,
      "outputs": []
    },
    {
      "cell_type": "code",
      "metadata": {
        "id": "UR-OgFuY_-cY",
        "colab_type": "code",
        "colab": {
          "base_uri": "https://localhost:8080/",
          "height": 34
        },
        "outputId": "23e9f9d2-6ff5-439f-85bd-4bee21f40313"
      },
      "source": [
        "import tensorflow as tf\n",
        "tf.__version__"
      ],
      "execution_count": 2,
      "outputs": [
        {
          "output_type": "execute_result",
          "data": {
            "text/plain": [
              "'2.2.0'"
            ]
          },
          "metadata": {
            "tags": []
          },
          "execution_count": 2
        }
      ]
    },
    {
      "cell_type": "code",
      "metadata": {
        "id": "WnZfopdMFKz0",
        "colab_type": "code",
        "colab": {}
      },
      "source": [
        "from tensorflow.keras.models import Sequential\n",
        "from tensorflow.keras.layers import Dense\n",
        "from tensorflow.keras.layers import Dropout\n",
        "from tensorflow.keras.layers import LSTM\n",
        "from tensorflow.keras.layers import Bidirectional\n",
        "from tensorflow.keras.layers import Embedding"
      ],
      "execution_count": 0,
      "outputs": []
    },
    {
      "cell_type": "code",
      "metadata": {
        "id": "BAjUgkdQFbDi",
        "colab_type": "code",
        "colab": {}
      },
      "source": [
        "from tensorflow.keras.preprocessing.text import Tokenizer\n",
        "from tensorflow.keras.preprocessing.sequence import pad_sequences\n",
        "import tensorflow.keras.utils as ku"
      ],
      "execution_count": 0,
      "outputs": []
    },
    {
      "cell_type": "code",
      "metadata": {
        "id": "gKPPINueV_9g",
        "colab_type": "code",
        "colab": {}
      },
      "source": [
        "df=pd.read_csv('/content/drive/My Drive/Colab Notebooks/Datasets/Seattle_Hotels.csv',encoding=\"latin-1\")"
      ],
      "execution_count": 0,
      "outputs": []
    },
    {
      "cell_type": "code",
      "metadata": {
        "id": "Cstxt9f9WSyK",
        "colab_type": "code",
        "colab": {
          "base_uri": "https://localhost:8080/",
          "height": 197
        },
        "outputId": "e87262cd-2144-4b11-ff2a-78bd6ae3c89e"
      },
      "source": [
        "df.head()"
      ],
      "execution_count": 6,
      "outputs": [
        {
          "output_type": "execute_result",
          "data": {
            "text/html": [
              "<div>\n",
              "<style scoped>\n",
              "    .dataframe tbody tr th:only-of-type {\n",
              "        vertical-align: middle;\n",
              "    }\n",
              "\n",
              "    .dataframe tbody tr th {\n",
              "        vertical-align: top;\n",
              "    }\n",
              "\n",
              "    .dataframe thead th {\n",
              "        text-align: right;\n",
              "    }\n",
              "</style>\n",
              "<table border=\"1\" class=\"dataframe\">\n",
              "  <thead>\n",
              "    <tr style=\"text-align: right;\">\n",
              "      <th></th>\n",
              "      <th>name</th>\n",
              "      <th>address</th>\n",
              "      <th>desc</th>\n",
              "    </tr>\n",
              "  </thead>\n",
              "  <tbody>\n",
              "    <tr>\n",
              "      <th>0</th>\n",
              "      <td>Hilton Garden Inn Seattle Downtown</td>\n",
              "      <td>1821 Boren Avenue, Seattle Washington 98101 USA</td>\n",
              "      <td>Located on the southern tip of Lake Union, the...</td>\n",
              "    </tr>\n",
              "    <tr>\n",
              "      <th>1</th>\n",
              "      <td>Sheraton Grand Seattle</td>\n",
              "      <td>1400 6th Avenue, Seattle, Washington 98101 USA</td>\n",
              "      <td>Located in the city's vibrant core, the Sherat...</td>\n",
              "    </tr>\n",
              "    <tr>\n",
              "      <th>2</th>\n",
              "      <td>Crowne Plaza Seattle Downtown</td>\n",
              "      <td>1113 6th Ave, Seattle, WA 98101</td>\n",
              "      <td>Located in the heart of downtown Seattle, the ...</td>\n",
              "    </tr>\n",
              "    <tr>\n",
              "      <th>3</th>\n",
              "      <td>Kimpton Hotel Monaco Seattle</td>\n",
              "      <td>1101 4th Ave, Seattle, WA98101</td>\n",
              "      <td>What?s near our hotel downtown Seattle locatio...</td>\n",
              "    </tr>\n",
              "    <tr>\n",
              "      <th>4</th>\n",
              "      <td>The Westin Seattle</td>\n",
              "      <td>1900 5th Avenue, Seattle, Washington 98101 USA</td>\n",
              "      <td>Situated amid incredible shopping and iconic a...</td>\n",
              "    </tr>\n",
              "  </tbody>\n",
              "</table>\n",
              "</div>"
            ],
            "text/plain": [
              "                                 name  ...                                               desc\n",
              "0  Hilton Garden Inn Seattle Downtown  ...  Located on the southern tip of Lake Union, the...\n",
              "1              Sheraton Grand Seattle  ...  Located in the city's vibrant core, the Sherat...\n",
              "2       Crowne Plaza Seattle Downtown  ...  Located in the heart of downtown Seattle, the ...\n",
              "3       Kimpton Hotel Monaco Seattle   ...  What?s near our hotel downtown Seattle locatio...\n",
              "4                  The Westin Seattle  ...  Situated amid incredible shopping and iconic a...\n",
              "\n",
              "[5 rows x 3 columns]"
            ]
          },
          "metadata": {
            "tags": []
          },
          "execution_count": 6
        }
      ]
    },
    {
      "cell_type": "code",
      "metadata": {
        "id": "1FZVbVkoWNGz",
        "colab_type": "code",
        "colab": {
          "base_uri": "https://localhost:8080/",
          "height": 34
        },
        "outputId": "07fc5cd1-9c7a-4812-8d9e-8df34d4d2d9d"
      },
      "source": [
        "df.shape"
      ],
      "execution_count": 7,
      "outputs": [
        {
          "output_type": "execute_result",
          "data": {
            "text/plain": [
              "(152, 3)"
            ]
          },
          "metadata": {
            "tags": []
          },
          "execution_count": 7
        }
      ]
    },
    {
      "cell_type": "code",
      "metadata": {
        "id": "0bOdoPNqWgwa",
        "colab_type": "code",
        "colab": {
          "base_uri": "https://localhost:8080/",
          "height": 87
        },
        "outputId": "c3f6c78f-58a6-4f20-ff53-6ba2ef3a63ee"
      },
      "source": [
        "df.isnull().sum()"
      ],
      "execution_count": 8,
      "outputs": [
        {
          "output_type": "execute_result",
          "data": {
            "text/plain": [
              "name       0\n",
              "address    0\n",
              "desc       0\n",
              "dtype: int64"
            ]
          },
          "metadata": {
            "tags": []
          },
          "execution_count": 8
        }
      ]
    },
    {
      "cell_type": "code",
      "metadata": {
        "id": "fSWzzzFVWyWR",
        "colab_type": "code",
        "colab": {}
      },
      "source": [
        "text=df['desc']"
      ],
      "execution_count": 0,
      "outputs": []
    },
    {
      "cell_type": "code",
      "metadata": {
        "id": "vWgu_zx2W58X",
        "colab_type": "code",
        "colab": {
          "base_uri": "https://localhost:8080/",
          "height": 227
        },
        "outputId": "9c3fed7a-0ea8-473f-e0e8-449e28e33a53"
      },
      "source": [
        "text"
      ],
      "execution_count": 10,
      "outputs": [
        {
          "output_type": "execute_result",
          "data": {
            "text/plain": [
              "0      Located on the southern tip of Lake Union, the...\n",
              "1      Located in the city's vibrant core, the Sherat...\n",
              "2      Located in the heart of downtown Seattle, the ...\n",
              "3      What?s near our hotel downtown Seattle locatio...\n",
              "4      Situated amid incredible shopping and iconic a...\n",
              "                             ...                        \n",
              "147    Located in Queen Anne district, The Halcyon Su...\n",
              "148    Just a block from the world famous Space Needl...\n",
              "149    Stay Alfred on Wall Street resides in the hear...\n",
              "150    The perfect marriage of heightened convenience...\n",
              "151    Yes, it's true. Every room at citizenM is the ...\n",
              "Name: desc, Length: 152, dtype: object"
            ]
          },
          "metadata": {
            "tags": []
          },
          "execution_count": 10
        }
      ]
    },
    {
      "cell_type": "markdown",
      "metadata": {
        "id": "YNn1WgFgx8kl",
        "colab_type": "text"
      },
      "source": [
        "# Preparing Text Data"
      ]
    },
    {
      "cell_type": "code",
      "metadata": {
        "id": "YQVE62W6iv2R",
        "colab_type": "code",
        "colab": {}
      },
      "source": [
        "cleaned_text=[]\n",
        "for i in text:\n",
        "  x=re.sub('[^.a-zA-Z]', ' ', i)\n",
        "  cleaned_text.append(x)"
      ],
      "execution_count": 0,
      "outputs": []
    },
    {
      "cell_type": "markdown",
      "metadata": {
        "id": "NvD7p1OVXAGw",
        "colab_type": "text"
      },
      "source": [
        "## Tokenizing"
      ]
    },
    {
      "cell_type": "code",
      "metadata": {
        "id": "3mrHmd9GW_AC",
        "colab_type": "code",
        "colab": {}
      },
      "source": [
        "tokenizer=Tokenizer(filters='!\"#$%&()*+,-/:;<=>?@[\\\\]^_`{|}~\\t\\n')"
      ],
      "execution_count": 0,
      "outputs": []
    },
    {
      "cell_type": "code",
      "metadata": {
        "id": "keJ-lsxnXH3g",
        "colab_type": "code",
        "colab": {}
      },
      "source": [
        "tokenizer.fit_on_texts(cleaned_text)"
      ],
      "execution_count": 0,
      "outputs": []
    },
    {
      "cell_type": "code",
      "metadata": {
        "id": "zuHGLTM-hmiQ",
        "colab_type": "code",
        "colab": {}
      },
      "source": [
        "word_index=tokenizer.word_index"
      ],
      "execution_count": 0,
      "outputs": []
    },
    {
      "cell_type": "code",
      "metadata": {
        "id": "ZV1yYuwrhqIX",
        "colab_type": "code",
        "colab": {
          "base_uri": "https://localhost:8080/",
          "height": 34
        },
        "outputId": "8935a3ee-688d-4702-dea8-1b4af4eec1a6"
      },
      "source": [
        "vocab_size=len(word_index)+1\n",
        "vocab_size"
      ],
      "execution_count": 15,
      "outputs": [
        {
          "output_type": "execute_result",
          "data": {
            "text/plain": [
              "3535"
            ]
          },
          "metadata": {
            "tags": []
          },
          "execution_count": 15
        }
      ]
    },
    {
      "cell_type": "markdown",
      "metadata": {
        "id": "wIJuGxQOvEtI",
        "colab_type": "text"
      },
      "source": [
        "## Creating Input Sequence"
      ]
    },
    {
      "cell_type": "code",
      "metadata": {
        "id": "kbn8pXQNuhQ7",
        "colab_type": "code",
        "colab": {}
      },
      "source": [
        "input_sequence=[]\n",
        "for lines in cleaned_text:\n",
        "  sequence=tokenizer.texts_to_sequences([lines])[0]\n",
        "  for i in range (1,len(sequence)):\n",
        "    ngrams=sequence[:i+1]\n",
        "    input_sequence.append(ngrams)"
      ],
      "execution_count": 0,
      "outputs": []
    },
    {
      "cell_type": "code",
      "metadata": {
        "id": "0vGXe9_Nti48",
        "colab_type": "code",
        "colab": {}
      },
      "source": [
        "max_len=max([len(lines) for lines in input_sequence])"
      ],
      "execution_count": 0,
      "outputs": []
    },
    {
      "cell_type": "code",
      "metadata": {
        "id": "d6NOCL3os-gO",
        "colab_type": "code",
        "colab": {
          "base_uri": "https://localhost:8080/",
          "height": 34
        },
        "outputId": "f6187cf6-7474-4481-ce33-3e03b338836f"
      },
      "source": [
        "max_len"
      ],
      "execution_count": 18,
      "outputs": [
        {
          "output_type": "execute_result",
          "data": {
            "text/plain": [
              "507"
            ]
          },
          "metadata": {
            "tags": []
          },
          "execution_count": 18
        }
      ]
    },
    {
      "cell_type": "markdown",
      "metadata": {
        "id": "93X9YncuwSHj",
        "colab_type": "text"
      },
      "source": [
        "## Padding Values"
      ]
    },
    {
      "cell_type": "code",
      "metadata": {
        "id": "PNFyJ7l2wRPe",
        "colab_type": "code",
        "colab": {
          "base_uri": "https://localhost:8080/",
          "height": 139
        },
        "outputId": "8b373ba1-c5ee-43ff-bd7f-29276608a2ea"
      },
      "source": [
        "input_sequence=pad_sequences(input_sequence,maxlen=max_len)\n",
        "input_sequence"
      ],
      "execution_count": 19,
      "outputs": [
        {
          "output_type": "execute_result",
          "data": {
            "text/plain": [
              "array([[   0,    0,    0, ...,    0,   25,   21],\n",
              "       [   0,    0,    0, ...,   25,   21,    1],\n",
              "       [   0,    0,    0, ...,   21,    1, 1779],\n",
              "       ...,\n",
              "       [   0,    0,    0, ..., 1276,   54, 3533],\n",
              "       [   0,    0,    0, ...,   54, 3533,   13],\n",
              "       [   0,    0,    0, ..., 3533,   13, 3534]], dtype=int32)"
            ]
          },
          "metadata": {
            "tags": []
          },
          "execution_count": 19
        }
      ]
    },
    {
      "cell_type": "markdown",
      "metadata": {
        "id": "MhhK2KLGws8Q",
        "colab_type": "text"
      },
      "source": [
        "## Creating Inputs and Labels"
      ]
    },
    {
      "cell_type": "code",
      "metadata": {
        "id": "Js4-JKgwwlxB",
        "colab_type": "code",
        "colab": {
          "base_uri": "https://localhost:8080/",
          "height": 139
        },
        "outputId": "53186e62-226c-4f6d-82b9-27f864c79154"
      },
      "source": [
        "input_text=input_sequence[:,:-1]\n",
        "input_text"
      ],
      "execution_count": 20,
      "outputs": [
        {
          "output_type": "execute_result",
          "data": {
            "text/plain": [
              "array([[   0,    0,    0, ...,    0,    0,   25],\n",
              "       [   0,    0,    0, ...,    0,   25,   21],\n",
              "       [   0,    0,    0, ...,   25,   21,    1],\n",
              "       ...,\n",
              "       [   0,    0,    0, ..., 3532, 1276,   54],\n",
              "       [   0,    0,    0, ..., 1276,   54, 3533],\n",
              "       [   0,    0,    0, ...,   54, 3533,   13]], dtype=int32)"
            ]
          },
          "metadata": {
            "tags": []
          },
          "execution_count": 20
        }
      ]
    },
    {
      "cell_type": "code",
      "metadata": {
        "id": "puP8dy6Bw5Su",
        "colab_type": "code",
        "colab": {
          "base_uri": "https://localhost:8080/",
          "height": 34
        },
        "outputId": "8bffae30-8262-492f-ca82-8729d401fe77"
      },
      "source": [
        "labels=input_sequence[:,-1]\n",
        "labels"
      ],
      "execution_count": 21,
      "outputs": [
        {
          "output_type": "execute_result",
          "data": {
            "text/plain": [
              "array([  21,    1, 1779, ..., 3533,   13, 3534], dtype=int32)"
            ]
          },
          "metadata": {
            "tags": []
          },
          "execution_count": 21
        }
      ]
    },
    {
      "cell_type": "code",
      "metadata": {
        "id": "O8SSFRlDyEzb",
        "colab_type": "code",
        "colab": {}
      },
      "source": [
        "labels=ku.to_categorical(labels,num_classes=vocab_size)"
      ],
      "execution_count": 0,
      "outputs": []
    },
    {
      "cell_type": "markdown",
      "metadata": {
        "id": "MaV_yUnYzvVJ",
        "colab_type": "text"
      },
      "source": [
        "## Globe Embedding"
      ]
    },
    {
      "cell_type": "code",
      "metadata": {
        "id": "IP9Kpk8YzgSv",
        "colab_type": "code",
        "colab": {
          "base_uri": "https://localhost:8080/",
          "height": 209
        },
        "outputId": "70b0cc6b-9c39-4735-abf3-c7cf0fbf8788"
      },
      "source": [
        "# This is the 100 dimension version of GloVe from Stanford\n",
        "# I am using a api for faster access\n",
        "!wget --no-check-certificate \\\n",
        "    https://storage.googleapis.com/laurencemoroney-blog.appspot.com/glove.6B.100d.txt \\\n",
        "    -O /tmp/glove.6B.100d.txt\n",
        "embeddings_index = {};\n",
        "with open('/tmp/glove.6B.100d.txt') as f:\n",
        "    for line in f:\n",
        "        values = line.split();\n",
        "        word = values[0];\n",
        "        coefs = np.asarray(values[1:], dtype='float32');\n",
        "        embeddings_index[word] = coefs;\n",
        "\n",
        "embeddings_matrix = np.zeros((vocab_size,100));\n",
        "for word, i in word_index.items():\n",
        "    embedding_vector = embeddings_index.get(word);\n",
        "    if embedding_vector is not None:\n",
        "        embeddings_matrix[i] = embedding_vector;"
      ],
      "execution_count": 23,
      "outputs": [
        {
          "output_type": "stream",
          "text": [
            "--2020-05-18 14:21:48--  https://storage.googleapis.com/laurencemoroney-blog.appspot.com/glove.6B.100d.txt\n",
            "Resolving storage.googleapis.com (storage.googleapis.com)... 108.177.111.128, 2607:f8b0:4001:c23::80\n",
            "Connecting to storage.googleapis.com (storage.googleapis.com)|108.177.111.128|:443... connected.\n",
            "HTTP request sent, awaiting response... 200 OK\n",
            "Length: 347116733 (331M) [text/plain]\n",
            "Saving to: ‘/tmp/glove.6B.100d.txt’\n",
            "\n",
            "/tmp/glove.6B.100d. 100%[===================>] 331.04M   179MB/s    in 1.8s    \n",
            "\n",
            "2020-05-18 14:21:50 (179 MB/s) - ‘/tmp/glove.6B.100d.txt’ saved [347116733/347116733]\n",
            "\n"
          ],
          "name": "stdout"
        }
      ]
    },
    {
      "cell_type": "markdown",
      "metadata": {
        "id": "4p0U4CC72Ssg",
        "colab_type": "text"
      },
      "source": [
        "## Building Model"
      ]
    },
    {
      "cell_type": "code",
      "metadata": {
        "id": "8QCOFv02x1Ni",
        "colab_type": "code",
        "colab": {}
      },
      "source": [
        "model=Sequential()"
      ],
      "execution_count": 0,
      "outputs": []
    },
    {
      "cell_type": "code",
      "metadata": {
        "id": "DqsEYla0xRuK",
        "colab_type": "code",
        "colab": {}
      },
      "source": [
        "model.add(Embedding(vocab_size,100,input_length=max_len-1,weights=[embeddings_matrix],trainable=False))\n",
        "model.add(Dropout(0.2))\n",
        "model.add(Bidirectional(LSTM(128,return_sequences=True)))\n",
        "model.add(Dropout(0.2))\n",
        "model.add(Bidirectional(LSTM(128)))\n",
        "model.add(Dense(vocab_size,activation='softmax'))"
      ],
      "execution_count": 0,
      "outputs": []
    },
    {
      "cell_type": "code",
      "metadata": {
        "id": "_4fcGWrJ0hPg",
        "colab_type": "code",
        "colab": {
          "base_uri": "https://localhost:8080/",
          "height": 367
        },
        "outputId": "04248ad2-09de-40ba-9d0e-d4d873629967"
      },
      "source": [
        "model.summary()"
      ],
      "execution_count": 26,
      "outputs": [
        {
          "output_type": "stream",
          "text": [
            "Model: \"sequential\"\n",
            "_________________________________________________________________\n",
            "Layer (type)                 Output Shape              Param #   \n",
            "=================================================================\n",
            "embedding (Embedding)        (None, 506, 100)          353500    \n",
            "_________________________________________________________________\n",
            "dropout (Dropout)            (None, 506, 100)          0         \n",
            "_________________________________________________________________\n",
            "bidirectional (Bidirectional (None, 506, 256)          234496    \n",
            "_________________________________________________________________\n",
            "dropout_1 (Dropout)          (None, 506, 256)          0         \n",
            "_________________________________________________________________\n",
            "bidirectional_1 (Bidirection (None, 256)               394240    \n",
            "_________________________________________________________________\n",
            "dense (Dense)                (None, 3535)              908495    \n",
            "=================================================================\n",
            "Total params: 1,890,731\n",
            "Trainable params: 1,537,231\n",
            "Non-trainable params: 353,500\n",
            "_________________________________________________________________\n"
          ],
          "name": "stdout"
        }
      ]
    },
    {
      "cell_type": "code",
      "metadata": {
        "id": "dwg8cTKu0jwR",
        "colab_type": "code",
        "colab": {}
      },
      "source": [
        "model.compile(optimizer='adam',loss='categorical_crossentropy',metrics=['accuracy'])"
      ],
      "execution_count": 0,
      "outputs": []
    },
    {
      "cell_type": "code",
      "metadata": {
        "id": "g7y24mKZ06Hd",
        "colab_type": "code",
        "colab": {
          "base_uri": "https://localhost:8080/",
          "height": 1000
        },
        "outputId": "fc7c35bc-3a2c-4cf3-be08-c65d6e210a86"
      },
      "source": [
        "history=model.fit(input_text,labels,epochs=80)"
      ],
      "execution_count": 28,
      "outputs": [
        {
          "output_type": "stream",
          "text": [
            "Epoch 1/80\n",
            "759/759 [==============================] - 278s 366ms/step - loss: 6.6356 - accuracy: 0.0659\n",
            "Epoch 2/80\n",
            "759/759 [==============================] - 277s 365ms/step - loss: 6.0657 - accuracy: 0.0978\n",
            "Epoch 3/80\n",
            "759/759 [==============================] - 277s 364ms/step - loss: 5.6705 - accuracy: 0.1214\n",
            "Epoch 4/80\n",
            "759/759 [==============================] - 277s 365ms/step - loss: 5.3372 - accuracy: 0.1399\n",
            "Epoch 5/80\n",
            "759/759 [==============================] - 276s 364ms/step - loss: 5.0400 - accuracy: 0.1552\n",
            "Epoch 6/80\n",
            "759/759 [==============================] - 275s 363ms/step - loss: 4.7703 - accuracy: 0.1710\n",
            "Epoch 7/80\n",
            "759/759 [==============================] - 275s 363ms/step - loss: 4.5241 - accuracy: 0.1840\n",
            "Epoch 8/80\n",
            "759/759 [==============================] - 275s 362ms/step - loss: 4.3027 - accuracy: 0.1969\n",
            "Epoch 9/80\n",
            "759/759 [==============================] - 275s 362ms/step - loss: 4.0926 - accuracy: 0.2102\n",
            "Epoch 10/80\n",
            "759/759 [==============================] - 275s 362ms/step - loss: 3.8955 - accuracy: 0.2270\n",
            "Epoch 11/80\n",
            "759/759 [==============================] - 275s 363ms/step - loss: 3.7672 - accuracy: 0.2388\n",
            "Epoch 12/80\n",
            "759/759 [==============================] - 275s 363ms/step - loss: 3.5609 - accuracy: 0.2624\n",
            "Epoch 13/80\n",
            "759/759 [==============================] - 275s 362ms/step - loss: 3.4142 - accuracy: 0.2797\n",
            "Epoch 14/80\n",
            "759/759 [==============================] - 275s 362ms/step - loss: 3.2688 - accuracy: 0.2991\n",
            "Epoch 15/80\n",
            "759/759 [==============================] - 275s 362ms/step - loss: 3.1502 - accuracy: 0.3211\n",
            "Epoch 16/80\n",
            "759/759 [==============================] - 275s 362ms/step - loss: 3.0163 - accuracy: 0.3383\n",
            "Epoch 17/80\n",
            "759/759 [==============================] - 274s 361ms/step - loss: 2.9030 - accuracy: 0.3515\n",
            "Epoch 18/80\n",
            "759/759 [==============================] - 275s 362ms/step - loss: 2.8048 - accuracy: 0.3722\n",
            "Epoch 19/80\n",
            "759/759 [==============================] - 274s 362ms/step - loss: 2.7104 - accuracy: 0.3857\n",
            "Epoch 20/80\n",
            "759/759 [==============================] - 275s 362ms/step - loss: 2.6120 - accuracy: 0.4063\n",
            "Epoch 21/80\n",
            "759/759 [==============================] - 275s 362ms/step - loss: 2.5200 - accuracy: 0.4202\n",
            "Epoch 22/80\n",
            "759/759 [==============================] - 275s 362ms/step - loss: 2.4434 - accuracy: 0.4317\n",
            "Epoch 23/80\n",
            "759/759 [==============================] - 275s 363ms/step - loss: 2.3555 - accuracy: 0.4507\n",
            "Epoch 24/80\n",
            "759/759 [==============================] - 275s 362ms/step - loss: 2.2824 - accuracy: 0.4636\n",
            "Epoch 25/80\n",
            "759/759 [==============================] - 275s 362ms/step - loss: 2.2143 - accuracy: 0.4754\n",
            "Epoch 26/80\n",
            "759/759 [==============================] - 275s 362ms/step - loss: 2.1397 - accuracy: 0.4917\n",
            "Epoch 27/80\n",
            "759/759 [==============================] - 275s 362ms/step - loss: 2.0751 - accuracy: 0.5016\n",
            "Epoch 28/80\n",
            "759/759 [==============================] - 271s 357ms/step - loss: 2.0129 - accuracy: 0.5156\n",
            "Epoch 29/80\n",
            "759/759 [==============================] - 278s 366ms/step - loss: 1.9641 - accuracy: 0.5214\n",
            "Epoch 30/80\n",
            "759/759 [==============================] - 278s 367ms/step - loss: 1.8995 - accuracy: 0.5356\n",
            "Epoch 31/80\n",
            "759/759 [==============================] - 278s 367ms/step - loss: 1.8415 - accuracy: 0.5469\n",
            "Epoch 32/80\n",
            "759/759 [==============================] - 278s 366ms/step - loss: 1.7939 - accuracy: 0.5575\n",
            "Epoch 33/80\n",
            "759/759 [==============================] - 278s 366ms/step - loss: 1.7482 - accuracy: 0.5638\n",
            "Epoch 34/80\n",
            "759/759 [==============================] - 278s 367ms/step - loss: 1.6973 - accuracy: 0.5731\n",
            "Epoch 35/80\n",
            "759/759 [==============================] - 278s 367ms/step - loss: 1.6509 - accuracy: 0.5878\n",
            "Epoch 36/80\n",
            "759/759 [==============================] - 278s 367ms/step - loss: 1.6085 - accuracy: 0.5930\n",
            "Epoch 37/80\n",
            "759/759 [==============================] - 278s 367ms/step - loss: 1.5608 - accuracy: 0.6045\n",
            "Epoch 38/80\n",
            "759/759 [==============================] - 279s 367ms/step - loss: 1.5226 - accuracy: 0.6153\n",
            "Epoch 39/80\n",
            "759/759 [==============================] - 278s 367ms/step - loss: 1.4810 - accuracy: 0.6216\n",
            "Epoch 40/80\n",
            "759/759 [==============================] - 279s 367ms/step - loss: 1.4584 - accuracy: 0.6316\n",
            "Epoch 41/80\n",
            "759/759 [==============================] - 278s 367ms/step - loss: 1.4146 - accuracy: 0.6389\n",
            "Epoch 42/80\n",
            "759/759 [==============================] - 274s 361ms/step - loss: 1.3873 - accuracy: 0.6454\n",
            "Epoch 43/80\n",
            "759/759 [==============================] - 278s 367ms/step - loss: 1.3530 - accuracy: 0.6524\n",
            "Epoch 44/80\n",
            "759/759 [==============================] - 278s 366ms/step - loss: 1.3155 - accuracy: 0.6569\n",
            "Epoch 45/80\n",
            "759/759 [==============================] - 277s 365ms/step - loss: 1.2879 - accuracy: 0.6649\n",
            "Epoch 46/80\n",
            "759/759 [==============================] - 279s 367ms/step - loss: 1.2670 - accuracy: 0.6675\n",
            "Epoch 47/80\n",
            "759/759 [==============================] - 279s 367ms/step - loss: 1.2329 - accuracy: 0.6780\n",
            "Epoch 48/80\n",
            "759/759 [==============================] - 279s 367ms/step - loss: 1.2140 - accuracy: 0.6787\n",
            "Epoch 49/80\n",
            "759/759 [==============================] - 277s 365ms/step - loss: 1.1830 - accuracy: 0.6861\n",
            "Epoch 50/80\n",
            "759/759 [==============================] - 275s 362ms/step - loss: 1.1605 - accuracy: 0.6935\n",
            "Epoch 51/80\n",
            "759/759 [==============================] - 275s 362ms/step - loss: 1.1306 - accuracy: 0.6995\n",
            "Epoch 52/80\n",
            "759/759 [==============================] - 274s 361ms/step - loss: 1.1143 - accuracy: 0.7054\n",
            "Epoch 53/80\n",
            "759/759 [==============================] - 276s 363ms/step - loss: 1.0938 - accuracy: 0.7076\n",
            "Epoch 54/80\n",
            "759/759 [==============================] - 276s 363ms/step - loss: 1.0684 - accuracy: 0.7150\n",
            "Epoch 55/80\n",
            "759/759 [==============================] - 275s 362ms/step - loss: 1.0489 - accuracy: 0.7160\n",
            "Epoch 56/80\n",
            "759/759 [==============================] - 270s 355ms/step - loss: 1.0254 - accuracy: 0.7230\n",
            "Epoch 57/80\n",
            "759/759 [==============================] - 269s 354ms/step - loss: 1.0147 - accuracy: 0.7235\n",
            "Epoch 58/80\n",
            "759/759 [==============================] - 269s 354ms/step - loss: 0.9936 - accuracy: 0.7290\n",
            "Epoch 59/80\n",
            "759/759 [==============================] - 269s 354ms/step - loss: 0.9876 - accuracy: 0.7274\n",
            "Epoch 60/80\n",
            "759/759 [==============================] - 268s 354ms/step - loss: 0.9588 - accuracy: 0.7379\n",
            "Epoch 61/80\n",
            "759/759 [==============================] - 268s 353ms/step - loss: 0.9359 - accuracy: 0.7447\n",
            "Epoch 62/80\n",
            "759/759 [==============================] - 268s 353ms/step - loss: 0.9200 - accuracy: 0.7477\n",
            "Epoch 63/80\n",
            "759/759 [==============================] - 267s 352ms/step - loss: 0.8999 - accuracy: 0.7526\n",
            "Epoch 64/80\n",
            "759/759 [==============================] - 267s 352ms/step - loss: 0.9000 - accuracy: 0.7514\n",
            "Epoch 65/80\n",
            "759/759 [==============================] - 267s 352ms/step - loss: 0.8785 - accuracy: 0.7563\n",
            "Epoch 66/80\n",
            "759/759 [==============================] - 267s 352ms/step - loss: 0.8674 - accuracy: 0.7589\n",
            "Epoch 67/80\n",
            "759/759 [==============================] - 267s 352ms/step - loss: 0.8653 - accuracy: 0.7612\n",
            "Epoch 68/80\n",
            "759/759 [==============================] - 267s 352ms/step - loss: 0.8488 - accuracy: 0.7646\n",
            "Epoch 69/80\n",
            "759/759 [==============================] - 267s 352ms/step - loss: 0.8175 - accuracy: 0.7709\n",
            "Epoch 70/80\n",
            "759/759 [==============================] - 268s 354ms/step - loss: 0.8231 - accuracy: 0.7697\n",
            "Epoch 71/80\n",
            "759/759 [==============================] - 269s 354ms/step - loss: 0.8111 - accuracy: 0.7745\n",
            "Epoch 72/80\n",
            "759/759 [==============================] - 270s 356ms/step - loss: 0.8116 - accuracy: 0.7727\n",
            "Epoch 73/80\n",
            "759/759 [==============================] - 267s 352ms/step - loss: 0.7990 - accuracy: 0.7736\n",
            "Epoch 74/80\n",
            "759/759 [==============================] - 268s 353ms/step - loss: 0.7831 - accuracy: 0.7804\n",
            "Epoch 75/80\n",
            "759/759 [==============================] - 268s 353ms/step - loss: 0.7732 - accuracy: 0.7844\n",
            "Epoch 76/80\n",
            "759/759 [==============================] - 268s 353ms/step - loss: 0.7637 - accuracy: 0.7858\n",
            "Epoch 77/80\n",
            "759/759 [==============================] - 268s 353ms/step - loss: 0.7454 - accuracy: 0.7890\n",
            "Epoch 78/80\n",
            "759/759 [==============================] - 268s 353ms/step - loss: 0.7337 - accuracy: 0.7925\n",
            "Epoch 79/80\n",
            "759/759 [==============================] - 268s 353ms/step - loss: 0.7268 - accuracy: 0.7962\n",
            "Epoch 80/80\n",
            "759/759 [==============================] - 267s 352ms/step - loss: 0.7207 - accuracy: 0.7966\n"
          ],
          "name": "stdout"
        }
      ]
    },
    {
      "cell_type": "code",
      "metadata": {
        "id": "95ILyLn91DwJ",
        "colab_type": "code",
        "colab": {
          "base_uri": "https://localhost:8080/",
          "height": 265
        },
        "outputId": "6e8a7467-e8d3-4372-adcf-96d6303c824a"
      },
      "source": [
        "plt.plot(history.history['accuracy'],label='accuracy')\n",
        "plt.legend()\n",
        "plt.show()"
      ],
      "execution_count": 29,
      "outputs": [
        {
          "output_type": "display_data",
          "data": {
            "image/png": "[encoded data removed]",
            "text/plain": [
              "<Figure size 432x288 with 1 Axes>"
            ]
          },
          "metadata": {
            "tags": [],
            "needs_background": "light"
          }
        }
      ]
    },
    {
      "cell_type": "markdown",
      "metadata": {
        "id": "2aFHEUw83-WO",
        "colab_type": "text"
      },
      "source": [
        "## Generating Descriptions"
      ]
    },
    {
      "cell_type": "code",
      "metadata": {
        "id": "vCnB0ZfT1R7d",
        "colab_type": "code",
        "colab": {}
      },
      "source": [
        "def generate_text(next_words,new_text):\n",
        "  for i in range(next_words):\n",
        "    tokens=tokenizer.texts_to_sequences([new_text])\n",
        "    padded_sequence=pad_sequences(tokens,maxlen=max_len-1)\n",
        "    prediction=model.predict_classes(padded_sequence)\n",
        "    for word,index in tokenizer.word_index.items():\n",
        "      if index == prediction:\n",
        "        output_word = word\n",
        "        break\n",
        "    new_text = new_text+' ' + output_word\n",
        "  return new_text.title()"
      ],
      "execution_count": 0,
      "outputs": []
    },
    {
      "cell_type": "code",
      "metadata": {
        "id": "n3xiIc7-d9go",
        "colab_type": "code",
        "colab": {
          "base_uri": "https://localhost:8080/",
          "height": 54
        },
        "outputId": "2507bb68-fe49-45ac-d759-ecbe6b0a5f64"
      },
      "source": [
        "print(generate_text(100,\"hilton seattle downtown\"))"
      ],
      "execution_count": 36,
      "outputs": [
        {
          "output_type": "stream",
          "text": [
            "Hilton Seattle Downtown Sea Tac Airport South Is Accessible From I With Free Shuttle Service To Visit Of Sea Tac Airport Today Is An Extended Walk To The Washington State Convention Center Via The Underground Concourse. Hungry Visit Our Redtrees Restaurant Featuring Full Service Luxury Hotel And A Roomy Square Feet. Each Suite Includes A Private Bathroom A Separate Bedroom With Spacious Closets A Dining Area A Full Bath And Complete Kitchen Facilities Which Makes The University Motel Suites A Great Choice For Your Home Away From Home. At The University Motel Suites Each Of The Most Comfortable Beds And Suites With A\n"
          ],
          "name": "stdout"
        }
      ]
    },
    {
      "cell_type": "code",
      "metadata": {
        "id": "gtlJqz1E2KkV",
        "colab_type": "code",
        "colab": {
          "base_uri": "https://localhost:8080/",
          "height": 54
        },
        "outputId": "399bc455-10b3-4c99-d216-40cfb5a5f4ad"
      },
      "source": [
        "print(generate_text(150,'located in the heart of downtown seattle'))"
      ],
      "execution_count": 34,
      "outputs": [
        {
          "output_type": "stream",
          "text": [
            "Located In The Heart Of Downtown Seattle Hyatt Regency Seattle Is Just A Five Minute Walk From The Washington State Convention Center. Stay Within A Mile Of Seattle S Must See Attractions Including The Space Needle Chihuly Garden And Glass Pike Place Market And More. From Your Room Admire Stunning Views Through Floor To Ceiling Windows. Step Into Our Guest Rooms A King Bed With Plush Beds And Breakfast In The Courtyard. Entertain In Our Provenance Lounge With A Relaxing Retreat. Worked In The Hour Suite Includes A Swimming Pool Spa And Fitness Center Or Enjoy The Fitness Center And A Host Of Diverse Restaurants And Entertainment Venues Such As The Pacific Northwest Has To Offer. Historically By The Pacific Northwest Has To Offer. Historically By The Pacific Northwest. And Has Made Made The Community Banana Stand. As Seattle S Original Chef Derek Simcik You Ll Find Doing Easy Easy Access To Major Freeways Such Light Rail\n"
          ],
          "name": "stdout"
        }
      ]
    },
    {
      "cell_type": "code",
      "metadata": {
        "id": "pEi14AwHdUfZ",
        "colab_type": "code",
        "colab": {
          "base_uri": "https://localhost:8080/",
          "height": 54
        },
        "outputId": "2c47e6aa-8f87-4c18-ae0c-f88ed23b770c"
      },
      "source": [
        "print(generate_text(300,\"best western seattle airport hotel\"))"
      ],
      "execution_count": 35,
      "outputs": [
        {
          "output_type": "stream",
          "text": [
            "Best Western Seattle Airport Hotel In The Heart Of Downtown At Hilton Seattle. Our Upscale Residential Style Hotel Is Conveniently Located In The Fremont Neighborhood Off I And Exit From The Heart Of Downtown Seattle. Our Upscale Residential Style Hotel Is Conveniently Located In The Quiet Of Downtown Seattle. Our Hotel Is Near The Area S Oldest Attractions. Hall The Inn At The Wac House The Inn Operated As An Apartment Hotel For Many Years. Gradually As Long Term Tenants Moved Out The Hospital Began To Operate The Facility As A Limited Service Hotel For Patients Of The Hospital In One Of America S Most Dynamic Cities. It S A Place Where Travelers Become Residents And Residents Are Transported With Revelry Fueled By Executive Chef Derek Simcik S Dining Experiences. His Culinary Vision Pays Homage To The Bounty Of The Pacific Northwest Adding Intriguing Layers To The Choreography Of Your Stay. At The Maxwell Hotel We Pride Ourselves On Offering Only The Family Of Its Kind Neighborhood You Ll Find Union Square The Business District In The Heart Of Downtown Seattle. Choose From Our Seattle Bed And Breakfast You Will Find Here And See We Ll Be Close To The Heart Of Downtown Seattle. Rest In Town For Business At Booming To The Historic Carriage House. The Mansion Is Home To The Historic Carriage House. The Mansion At The Wac Rooms Enjoy Either Visitors To The Museum Of Flight Six Flags Enchanted Park And Rich Pioneer Square And The Highline Community Medical Center. After A Great Roof Relax In The Museum Of Seattle. The Alaska Cruises Departure Ports Of Seattle. Ports And A Mile From The Capitol Hill And Capitol Hill About The Capitol Hill Hill And Capitol Hill Hill And Capitol Hill Are Just Minutes From The Capitol Hill And Miles From The Airport.\n"
          ],
          "name": "stdout"
        }
      ]
    },
    {
      "cell_type": "markdown",
      "metadata": {
        "id": "xXdIhGWeesw2",
        "colab_type": "text"
      },
      "source": [
        "## Model Generates quite good description with few grammatical errors, Which can be improved by training the model for a more number of epochs.\n",
        "#### Training takes a huge amount of time as text size is quite large."
      ]
    }
  ]
}