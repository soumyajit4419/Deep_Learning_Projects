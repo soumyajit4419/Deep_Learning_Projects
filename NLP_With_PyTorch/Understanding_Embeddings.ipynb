{
  "nbformat": 4,
  "nbformat_minor": 0,
  "metadata": {
    "colab": {
      "name": "Understanding_Embeddings.ipynb",
      "provenance": [],
      "collapsed_sections": []
    },
    "kernelspec": {
      "name": "python3",
      "display_name": "Python 3"
    }
  },
  "cells": [
    {
      "cell_type": "markdown",
      "metadata": {
        "id": "uI2lT9Ia8VXD",
        "colab_type": "text"
      },
      "source": [
        "## Word Embeddings\n",
        "* An embedding maps discrete, categorical values to a continous space.\n",
        "* Words within the same location have the similiar/semantic meaning."
      ]
    },
    {
      "cell_type": "code",
      "metadata": {
        "id": "HQCJsucbvAJ4",
        "colab_type": "code",
        "colab": {}
      },
      "source": [
        "import numpy as np\n",
        "import matplotlib.pyplot as plt\n",
        "from sklearn.metrics.pairwise import cosine_similarity\n",
        "from sklearn.manifold import TSNE\n",
        "%matplotlib inline"
      ],
      "execution_count": 1,
      "outputs": []
    },
    {
      "cell_type": "code",
      "metadata": {
        "id": "DzfmFAbpuZtr",
        "colab_type": "code",
        "colab": {}
      },
      "source": [
        "import torch\n",
        "import torch.nn as nn\n",
        "import torch.nn.functional as F"
      ],
      "execution_count": 2,
      "outputs": []
    },
    {
      "cell_type": "code",
      "metadata": {
        "id": "bij5ZXeWyzM5",
        "colab_type": "code",
        "colab": {}
      },
      "source": [
        "text = \"the quick brown fox jumps over the lazy dog\""
      ],
      "execution_count": 3,
      "outputs": []
    },
    {
      "cell_type": "code",
      "metadata": {
        "id": "RUpYVMtYy5_4",
        "colab_type": "code",
        "colab": {}
      },
      "source": [
        "def vocab2idx(a):\n",
        "  vocab2idx = {}\n",
        "  text = a.split(' ')\n",
        "  vocab = set(text)\n",
        "  for i,word in enumerate(vocab):\n",
        "    vocab2idx[word] = i\n",
        "  return vocab2idx"
      ],
      "execution_count": 4,
      "outputs": []
    },
    {
      "cell_type": "code",
      "metadata": {
        "id": "jXHwR2H7zbrg",
        "colab_type": "code",
        "colab": {}
      },
      "source": [
        "token2idx = vocab2idx(text)\n",
        "idx2token = {token:word for word,token in token2idx.items()}\n",
        "vocab_size = len(token2idx)"
      ],
      "execution_count": 5,
      "outputs": []
    },
    {
      "cell_type": "code",
      "metadata": {
        "id": "ncYeMXCR2O7Q",
        "colab_type": "code",
        "colab": {}
      },
      "source": [
        "def convert2int(text,token2idx):\n",
        "  text = text.split(' ')\n",
        "  tokens = [token2idx[word] for word in text]\n",
        "  return tokens"
      ],
      "execution_count": 6,
      "outputs": []
    },
    {
      "cell_type": "code",
      "metadata": {
        "id": "wlWbzTdo4GGD",
        "colab_type": "code",
        "colab": {
          "base_uri": "https://localhost:8080/",
          "height": 35
        },
        "outputId": "220ff4b8-7fcd-4e0b-c9e9-ec7bc1c0afff"
      },
      "source": [
        "tokens = convert2int(text,token2idx)\n",
        "tokens = torch.tensor(tokens)\n",
        "tokens"
      ],
      "execution_count": 7,
      "outputs": [
        {
          "output_type": "execute_result",
          "data": {
            "text/plain": [
              "tensor([2, 5, 0, 3, 7, 1, 2, 4, 6])"
            ]
          },
          "metadata": {
            "tags": []
          },
          "execution_count": 7
        }
      ]
    },
    {
      "cell_type": "code",
      "metadata": {
        "id": "lhg2utl04aX7",
        "colab_type": "code",
        "colab": {
          "base_uri": "https://localhost:8080/",
          "height": 174
        },
        "outputId": "f4cf4bb5-8341-4418-cb7c-e59f9809c13c"
      },
      "source": [
        "embedding = nn.Embedding(vocab_size,3)\n",
        "out = embedding(tokens)\n",
        "print(out,out.shape)"
      ],
      "execution_count": 8,
      "outputs": [
        {
          "output_type": "stream",
          "text": [
            "tensor([[-0.8817,  0.6176, -0.4646],\n",
            "        [-0.7545, -0.3889,  0.4914],\n",
            "        [-0.4092,  0.1777, -0.8619],\n",
            "        [ 0.3895,  0.3403,  1.6206],\n",
            "        [-0.6223,  0.0088, -0.0897],\n",
            "        [ 0.6188,  1.0530,  0.5260],\n",
            "        [-0.8817,  0.6176, -0.4646],\n",
            "        [-1.1419,  0.8132,  1.7498],\n",
            "        [-2.6799,  1.0546, -2.2106]], grad_fn=<EmbeddingBackward>) torch.Size([9, 3])\n"
          ],
          "name": "stdout"
        }
      ]
    },
    {
      "cell_type": "markdown",
      "metadata": {
        "id": "Uq6VLfDX-RzL",
        "colab_type": "text"
      },
      "source": [
        "## Using Globe Embedding and checking the similarity of words"
      ]
    },
    {
      "cell_type": "code",
      "metadata": {
        "id": "yWqj5KK3-RZ9",
        "colab_type": "code",
        "colab": {
          "base_uri": "https://localhost:8080/",
          "height": 208
        },
        "outputId": "2d435e12-e231-41e1-8a66-edb05dae5192"
      },
      "source": [
        "# Used a api of globe for faster access\n",
        "!wget --no-check-certificate \\\n",
        "    https://storage.googleapis.com/laurencemoroney-blog.appspot.com/glove.6B.100d.txt \\\n",
        "    -O /tmp/glove.6B.100d.txt\n",
        "embeddings_index = {};\n",
        "with open('/tmp/glove.6B.100d.txt') as f:\n",
        "    for line in f:\n",
        "        values = line.split();\n",
        "        word = values[0];\n",
        "        coefs = np.asarray(values[1:], dtype='float32');\n",
        "        embeddings_index[word] = coefs;"
      ],
      "execution_count": 9,
      "outputs": [
        {
          "output_type": "stream",
          "text": [
            "--2020-07-29 13:18:54--  https://storage.googleapis.com/laurencemoroney-blog.appspot.com/glove.6B.100d.txt\n",
            "Resolving storage.googleapis.com (storage.googleapis.com)... 108.177.119.128, 108.177.126.128, 108.177.127.128, ...\n",
            "Connecting to storage.googleapis.com (storage.googleapis.com)|108.177.119.128|:443... connected.\n",
            "HTTP request sent, awaiting response... 200 OK\n",
            "Length: 347116733 (331M) [text/plain]\n",
            "Saving to: ‘/tmp/glove.6B.100d.txt’\n",
            "\n",
            "\r/tmp/glove.6B.100d.   0%[                    ]       0  --.-KB/s               \r/tmp/glove.6B.100d.  10%[=>                  ]  35.77M   179MB/s               \r/tmp/glove.6B.100d.  24%[===>                ]  80.01M   173MB/s               \r/tmp/glove.6B.100d.  40%[=======>            ] 133.84M   202MB/s               \r/tmp/glove.6B.100d.  57%[==========>         ] 190.37M   221MB/s               \r/tmp/glove.6B.100d.  75%[==============>     ] 248.95M   234MB/s               \r/tmp/glove.6B.100d.  91%[=================>  ] 301.53M   239MB/s               \r/tmp/glove.6B.100d. 100%[===================>] 331.04M   240MB/s    in 1.4s    \n",
            "\n",
            "2020-07-29 13:18:56 (240 MB/s) - ‘/tmp/glove.6B.100d.txt’ saved [347116733/347116733]\n",
            "\n"
          ],
          "name": "stdout"
        }
      ]
    },
    {
      "cell_type": "code",
      "metadata": {
        "id": "Ked9jLMkDwIe",
        "colab_type": "code",
        "colab": {}
      },
      "source": [
        "glove_embeddings = np.array([embeddings_index[word] for word in text.split()])"
      ],
      "execution_count": 10,
      "outputs": []
    },
    {
      "cell_type": "code",
      "metadata": {
        "id": "gIThanOs-Rci",
        "colab_type": "code",
        "colab": {
          "base_uri": "https://localhost:8080/",
          "height": 35
        },
        "outputId": "61a9ceed-0133-4954-a5de-70eb31358091"
      },
      "source": [
        "glove_embeddings.shape\n",
        "\n",
        "# As there are 9 words of it is embedding of 100d"
      ],
      "execution_count": 11,
      "outputs": [
        {
          "output_type": "execute_result",
          "data": {
            "text/plain": [
              "(9, 100)"
            ]
          },
          "metadata": {
            "tags": []
          },
          "execution_count": 11
        }
      ]
    },
    {
      "cell_type": "markdown",
      "metadata": {
        "id": "6invX7NEGEF7",
        "colab_type": "text"
      },
      "source": [
        "## Similarity operations on embeddings\n",
        "#### Finiding the similarity in different words of the same content"
      ]
    },
    {
      "cell_type": "code",
      "metadata": {
        "id": "Fzfjh-uGGH14",
        "colab_type": "code",
        "colab": {}
      },
      "source": [
        "def get_similarity(word1,word2):\n",
        "  x = embeddings_index[word1]\n",
        "  y = embeddings_index[word2]\n",
        "  sim = cosine_similarity([x],[y])\n",
        "  print(\"Similarity between 2 vectors: \",sim[0][0])"
      ],
      "execution_count": 12,
      "outputs": []
    },
    {
      "cell_type": "code",
      "metadata": {
        "id": "2JgM_xGHGIYf",
        "colab_type": "code",
        "colab": {
          "base_uri": "https://localhost:8080/",
          "height": 35
        },
        "outputId": "9c7dbc84-af0a-427b-b1e3-1f2d2ff84c4b"
      },
      "source": [
        "get_similarity('cat','dog')"
      ],
      "execution_count": 13,
      "outputs": [
        {
          "output_type": "stream",
          "text": [
            "Similarity between 2 vectors:  0.8798075\n"
          ],
          "name": "stdout"
        }
      ]
    },
    {
      "cell_type": "code",
      "metadata": {
        "id": "pNRKP3S6I88Y",
        "colab_type": "code",
        "colab": {
          "base_uri": "https://localhost:8080/",
          "height": 35
        },
        "outputId": "e3eda936-f1b7-4be4-c5e1-615eaeffe59d"
      },
      "source": [
        "get_similarity('king','queen')"
      ],
      "execution_count": 14,
      "outputs": [
        {
          "output_type": "stream",
          "text": [
            "Similarity between 2 vectors:  0.7507691\n"
          ],
          "name": "stdout"
        }
      ]
    },
    {
      "cell_type": "code",
      "metadata": {
        "id": "_d0_orVdJBl9",
        "colab_type": "code",
        "colab": {
          "base_uri": "https://localhost:8080/",
          "height": 35
        },
        "outputId": "66c2c0a6-6782-4164-a853-615f341b6249"
      },
      "source": [
        "get_similarity('tree','leaf')"
      ],
      "execution_count": 15,
      "outputs": [
        {
          "output_type": "stream",
          "text": [
            "Similarity between 2 vectors:  0.6364573\n"
          ],
          "name": "stdout"
        }
      ]
    },
    {
      "cell_type": "markdown",
      "metadata": {
        "id": "-MafI4ryGItP",
        "colab_type": "text"
      },
      "source": [
        "## Visualizing Embeddings\n",
        "#### We can use an algorithm called t-SNE to project the high dimentional word embeddings to a lower dimension in order to plot them in 2-D.\n"
      ]
    },
    {
      "cell_type": "code",
      "metadata": {
        "id": "8soq2CWf5qAQ",
        "colab_type": "code",
        "colab": {}
      },
      "source": [
        "ANIMALS = [\n",
        "    'whale',\n",
        "    'fish',\n",
        "    'horse',\n",
        "    'rabbit',\n",
        "    'sheep',\n",
        "    'lion',\n",
        "    'dog',\n",
        "    'cat',\n",
        "    'tiger',\n",
        "    'hamster',\n",
        "    'pig',\n",
        "    'goat',\n",
        "    'lizard',\n",
        "    'elephant',\n",
        "    'giraffe',\n",
        "    'hippo',\n",
        "    'zebra',\n",
        "]\n",
        "\n",
        "\n",
        "HOUSEHOLD_OBJECTS = [\n",
        "    'stapler',\n",
        "    'screw',\n",
        "    'nail',\n",
        "    'tv',\n",
        "    'dresser',\n",
        "    'keyboard',\n",
        "    'hairdryer',\n",
        "    'couch',\n",
        "    'sofa',\n",
        "    'lamp',\n",
        "    'chair',\n",
        "    'desk',\n",
        "    'pen',\n",
        "    'pencil',\n",
        "    'table',\n",
        "    'sock',\n",
        "    'floor',\n",
        "    'wall',\n",
        "]"
      ],
      "execution_count": 16,
      "outputs": []
    },
    {
      "cell_type": "code",
      "metadata": {
        "id": "1eBvXCzNJTvC",
        "colab_type": "code",
        "colab": {
          "base_uri": "https://localhost:8080/",
          "height": 35
        },
        "outputId": "397297ea-136c-4411-e25e-8e160cfbf379"
      },
      "source": [
        "embed = np.array([embeddings_index[word] for word in ANIMALS+HOUSEHOLD_OBJECTS])\n",
        "embed.shape"
      ],
      "execution_count": 17,
      "outputs": [
        {
          "output_type": "execute_result",
          "data": {
            "text/plain": [
              "(35, 100)"
            ]
          },
          "metadata": {
            "tags": []
          },
          "execution_count": 17
        }
      ]
    },
    {
      "cell_type": "code",
      "metadata": {
        "id": "Q7T2zdMqKAQA",
        "colab_type": "code",
        "colab": {
          "base_uri": "https://localhost:8080/",
          "height": 35
        },
        "outputId": "41717f11-4b8e-4ba2-ff99-bf1ae98c27b8"
      },
      "source": [
        "tsne_words_embedded = TSNE(n_components=2).fit_transform(embed)\n",
        "tsne_words_embedded.shape"
      ],
      "execution_count": 18,
      "outputs": [
        {
          "output_type": "execute_result",
          "data": {
            "text/plain": [
              "(35, 2)"
            ]
          },
          "metadata": {
            "tags": []
          },
          "execution_count": 18
        }
      ]
    },
    {
      "cell_type": "code",
      "metadata": {
        "id": "c-E45sP9Kc8B",
        "colab_type": "code",
        "colab": {
          "base_uri": "https://localhost:8080/",
          "height": 466
        },
        "outputId": "fa7aff4b-bdb6-474a-899a-2b28e0dc237a"
      },
      "source": [
        "x, y = zip(*tsne_words_embedded)\n",
        "\n",
        "fig, ax = plt.subplots(figsize=(17, 8))\n",
        "\n",
        "for i, label in enumerate(ANIMALS + HOUSEHOLD_OBJECTS):\n",
        "    if label in ANIMALS:\n",
        "        color = '#0074D9'\n",
        "    elif label in HOUSEHOLD_OBJECTS:\n",
        "        color = '#FF4136'\n",
        "        \n",
        "    ax.scatter(x[i], y[i], c=color)\n",
        "    ax.annotate(label, (x[i], y[i]))\n",
        "\n",
        "ax.axis('off')\n",
        "\n",
        "plt.show()"
      ],
      "execution_count": 19,
      "outputs": [
        {
          "output_type": "display_data",
          "data": {
            "image/png": "[encoded data removed]",
            "text/plain": [
              "<Figure size 1224x576 with 1 Axes>"
            ]
          },
          "metadata": {
            "tags": [],
            "needs_background": "light"
          }
        }
      ]
    },
    {
      "cell_type": "markdown",
      "metadata": {
        "id": "n76OtHqCLokB",
        "colab_type": "text"
      },
      "source": [
        "Similar words are grouped together"
      ]
    },
    {
      "cell_type": "markdown",
      "metadata": {
        "id": "cb4MRyTELJ4V",
        "colab_type": "text"
      },
      "source": [
        "##  Context embeddings\n",
        "GloVe and Fasttext are two examples of global embeddings, where the embeddings don't change even though the \"sense\" of the word might change given the context. This can be a problem for cases such as:\n",
        "\n",
        "A mouse stole some cheese.\n",
        "I bought a new mouse the other day for my computer.\n",
        "\n",
        "\n",
        "The word mouse can mean both an animal and a computer accessory depending on the context, yet for GloVe they would receive the same exact distributed representation. We can combat this by taking into account the surroudning words to create a context-sensitive embedding. Context embeddings such as Bert are used for this case"
      ]
    },
    {
      "cell_type": "code",
      "metadata": {
        "id": "5MzaoJWbLAMV",
        "colab_type": "code",
        "colab": {}
      },
      "source": [
        ""
      ],
      "execution_count": 19,
      "outputs": []
    }
  ]
}