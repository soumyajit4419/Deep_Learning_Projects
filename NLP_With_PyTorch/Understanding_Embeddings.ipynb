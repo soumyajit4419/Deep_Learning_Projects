{
  "nbformat": 4,
  "nbformat_minor": 0,
  "metadata": {
    "colab": {
      "name": "Understanding_Embeddings.ipynb",
      "provenance": [],
      "collapsed_sections": []
    },
    "kernelspec": {
      "name": "python3",
      "display_name": "Python 3"
    }
  },
  "cells": [
    {
      "cell_type": "markdown",
      "metadata": {
        "id": "uI2lT9Ia8VXD",
        "colab_type": "text"
      },
      "source": [
        "## Word Embeddings\n",
        "* An embedding maps discrete, categorical values to a continous space.\n",
        "* Words within the same location have the similiar/semantic meaning."
      ]
    },
    {
      "cell_type": "code",
      "metadata": {
        "id": "HQCJsucbvAJ4",
        "colab_type": "code",
        "colab": {}
      },
      "source": [
        "import numpy as np\n",
        "import matplotlib.pyplot as plt\n",
        "from sklearn.metrics.pairwise import cosine_similarity\n",
        "from sklearn.manifold import TSNE\n",
        "%matplotlib inline"
      ],
      "execution_count": 1,
      "outputs": []
    },
    {
      "cell_type": "code",
      "metadata": {
        "id": "DzfmFAbpuZtr",
        "colab_type": "code",
        "colab": {}
      },
      "source": [
        "import torch\n",
        "import torch.nn as nn\n",
        "import torch.nn.functional as F"
      ],
      "execution_count": 2,
      "outputs": []
    },
    {
      "cell_type": "code",
      "metadata": {
        "id": "bij5ZXeWyzM5",
        "colab_type": "code",
        "colab": {}
      },
      "source": [
        "text = \"the quick brown fox jumps over the lazy dog\""
      ],
      "execution_count": 3,
      "outputs": []
    },
    {
      "cell_type": "code",
      "metadata": {
        "id": "RUpYVMtYy5_4",
        "colab_type": "code",
        "colab": {}
      },
      "source": [
        "def vocab2idx(a):\n",
        "  vocab2idx = {}\n",
        "  text = a.split(' ')\n",
        "  vocab = set(text)\n",
        "  for i,word in enumerate(vocab):\n",
        "    vocab2idx[word] = i\n",
        "  return vocab2idx"
      ],
      "execution_count": 4,
      "outputs": []
    },
    {
      "cell_type": "code",
      "metadata": {
        "id": "jXHwR2H7zbrg",
        "colab_type": "code",
        "colab": {}
      },
      "source": [
        "token2idx = vocab2idx(text)\n",
        "idx2token = {token:word for word,token in token2idx.items()}\n",
        "vocab_size = len(token2idx)"
      ],
      "execution_count": 5,
      "outputs": []
    },
    {
      "cell_type": "code",
      "metadata": {
        "id": "ncYeMXCR2O7Q",
        "colab_type": "code",
        "colab": {}
      },
      "source": [
        "def convert2int(text,token2idx):\n",
        "  text = text.split(' ')\n",
        "  tokens = [token2idx[word] for word in text]\n",
        "  return tokens"
      ],
      "execution_count": 6,
      "outputs": []
    },
    {
      "cell_type": "code",
      "metadata": {
        "id": "wlWbzTdo4GGD",
        "colab_type": "code",
        "colab": {
          "base_uri": "https://localhost:8080/",
          "height": 35
        },
        "outputId": "3cc9d62b-214b-49c2-f5a8-ecf58028fce0"
      },
      "source": [
        "tokens = convert2int(text,token2idx)\n",
        "tokens = torch.tensor(tokens)\n",
        "tokens"
      ],
      "execution_count": 7,
      "outputs": [
        {
          "output_type": "execute_result",
          "data": {
            "text/plain": [
              "tensor([5, 0, 6, 3, 2, 4, 5, 1, 7])"
            ]
          },
          "metadata": {
            "tags": []
          },
          "execution_count": 7
        }
      ]
    },
    {
      "cell_type": "code",
      "metadata": {
        "id": "lhg2utl04aX7",
        "colab_type": "code",
        "colab": {
          "base_uri": "https://localhost:8080/",
          "height": 174
        },
        "outputId": "80e07cb5-916d-4920-b011-a9c4eaaa52d1"
      },
      "source": [
        "embedding = nn.Embedding(vocab_size,3)\n",
        "out = embedding(tokens)\n",
        "print(out,out.shape)"
      ],
      "execution_count": 8,
      "outputs": [
        {
          "output_type": "stream",
          "text": [
            "tensor([[ 0.8511, -0.3192, -0.1122],\n",
            "        [ 1.6987,  0.3763,  0.3869],\n",
            "        [ 0.3629, -0.6382, -0.0951],\n",
            "        [-1.2222, -1.4792, -0.9029],\n",
            "        [ 0.3518,  0.7464, -1.5780],\n",
            "        [-0.7888, -0.7373, -0.7364],\n",
            "        [ 0.8511, -0.3192, -0.1122],\n",
            "        [ 1.2860, -0.0853,  1.3157],\n",
            "        [ 0.2360, -1.5934,  0.6178]], grad_fn=<EmbeddingBackward>) torch.Size([9, 3])\n"
          ],
          "name": "stdout"
        }
      ]
    },
    {
      "cell_type": "markdown",
      "metadata": {
        "id": "Uq6VLfDX-RzL",
        "colab_type": "text"
      },
      "source": [
        "## Using Globe Embedding and checking the similarity of words"
      ]
    },
    {
      "cell_type": "code",
      "metadata": {
        "id": "yWqj5KK3-RZ9",
        "colab_type": "code",
        "colab": {
          "base_uri": "https://localhost:8080/",
          "height": 208
        },
        "outputId": "162eefe0-e86d-4628-a974-4ccb50a9fd1b"
      },
      "source": [
        "# Used a api of globe for faster access\n",
        "!wget --no-check-certificate \\\n",
        "    https://storage.googleapis.com/laurencemoroney-blog.appspot.com/glove.6B.100d.txt \\\n",
        "    -O /tmp/glove.6B.100d.txt\n",
        "embeddings_index = {};\n",
        "with open('/tmp/glove.6B.100d.txt') as f:\n",
        "    for line in f:\n",
        "        values = line.split();\n",
        "        word = values[0];\n",
        "        coefs = np.asarray(values[1:], dtype='float32');\n",
        "        embeddings_index[word] = coefs;"
      ],
      "execution_count": 9,
      "outputs": [
        {
          "output_type": "stream",
          "text": [
            "--2020-07-31 14:24:47--  https://storage.googleapis.com/laurencemoroney-blog.appspot.com/glove.6B.100d.txt\n",
            "Resolving storage.googleapis.com (storage.googleapis.com)... 172.217.193.128, 172.217.204.128, 172.217.203.128, ...\n",
            "Connecting to storage.googleapis.com (storage.googleapis.com)|172.217.193.128|:443... connected.\n",
            "HTTP request sent, awaiting response... 200 OK\n",
            "Length: 347116733 (331M) [text/plain]\n",
            "Saving to: ‘/tmp/glove.6B.100d.txt’\n",
            "\n",
            "/tmp/glove.6B.100d. 100%[===================>] 331.04M  96.6MB/s    in 4.1s    \n",
            "\n",
            "2020-07-31 14:24:52 (81.4 MB/s) - ‘/tmp/glove.6B.100d.txt’ saved [347116733/347116733]\n",
            "\n"
          ],
          "name": "stdout"
        }
      ]
    },
    {
      "cell_type": "code",
      "metadata": {
        "id": "Ked9jLMkDwIe",
        "colab_type": "code",
        "colab": {}
      },
      "source": [
        "glove_embeddings = np.array([embeddings_index[word] for word in text.split()])"
      ],
      "execution_count": 10,
      "outputs": []
    },
    {
      "cell_type": "code",
      "metadata": {
        "id": "gIThanOs-Rci",
        "colab_type": "code",
        "colab": {
          "base_uri": "https://localhost:8080/",
          "height": 35
        },
        "outputId": "9f3cc79d-cb15-4fa7-f7d3-630d89f9b7f4"
      },
      "source": [
        "glove_embeddings.shape\n",
        "\n",
        "# As there are 9 words of it is embedding of 100d"
      ],
      "execution_count": 11,
      "outputs": [
        {
          "output_type": "execute_result",
          "data": {
            "text/plain": [
              "(9, 100)"
            ]
          },
          "metadata": {
            "tags": []
          },
          "execution_count": 11
        }
      ]
    },
    {
      "cell_type": "markdown",
      "metadata": {
        "id": "6invX7NEGEF7",
        "colab_type": "text"
      },
      "source": [
        "## Similarity operations on embeddings\n",
        "#### Finiding the similarity in different words of the same content"
      ]
    },
    {
      "cell_type": "code",
      "metadata": {
        "id": "Fzfjh-uGGH14",
        "colab_type": "code",
        "colab": {}
      },
      "source": [
        "def get_similarity(word1,word2):\n",
        "  x = embeddings_index[word1]\n",
        "  y = embeddings_index[word2]\n",
        "  sim = cosine_similarity([x],[y])\n",
        "  print(\"Similarity between 2 vectors: \",sim[0][0])"
      ],
      "execution_count": 12,
      "outputs": []
    },
    {
      "cell_type": "code",
      "metadata": {
        "id": "2JgM_xGHGIYf",
        "colab_type": "code",
        "colab": {
          "base_uri": "https://localhost:8080/",
          "height": 35
        },
        "outputId": "a40fc8d5-f179-4230-f1b8-042d20cbaa17"
      },
      "source": [
        "get_similarity('cat','dog')"
      ],
      "execution_count": 13,
      "outputs": [
        {
          "output_type": "stream",
          "text": [
            "Similarity between 2 vectors:  0.8798075\n"
          ],
          "name": "stdout"
        }
      ]
    },
    {
      "cell_type": "code",
      "metadata": {
        "id": "pNRKP3S6I88Y",
        "colab_type": "code",
        "colab": {
          "base_uri": "https://localhost:8080/",
          "height": 35
        },
        "outputId": "cca5b6a7-732c-472b-af48-88a57e4397dd"
      },
      "source": [
        "get_similarity('king','queen')"
      ],
      "execution_count": 14,
      "outputs": [
        {
          "output_type": "stream",
          "text": [
            "Similarity between 2 vectors:  0.7507691\n"
          ],
          "name": "stdout"
        }
      ]
    },
    {
      "cell_type": "code",
      "metadata": {
        "id": "_d0_orVdJBl9",
        "colab_type": "code",
        "colab": {
          "base_uri": "https://localhost:8080/",
          "height": 35
        },
        "outputId": "755bb2f6-838c-40ed-fe76-82fdf497a12d"
      },
      "source": [
        "get_similarity('tree','leaf')"
      ],
      "execution_count": 15,
      "outputs": [
        {
          "output_type": "stream",
          "text": [
            "Similarity between 2 vectors:  0.6364573\n"
          ],
          "name": "stdout"
        }
      ]
    },
    {
      "cell_type": "markdown",
      "metadata": {
        "id": "-MafI4ryGItP",
        "colab_type": "text"
      },
      "source": [
        "## Visualizing Embeddings\n",
        "#### We can use an algorithm called t-SNE to project the high dimentional word embeddings to a lower dimension in order to plot them in 2-D.\n"
      ]
    },
    {
      "cell_type": "code",
      "metadata": {
        "id": "8soq2CWf5qAQ",
        "colab_type": "code",
        "colab": {}
      },
      "source": [
        "ANIMALS = [\n",
        "    'whale',\n",
        "    'fish',\n",
        "    'horse',\n",
        "    'rabbit',\n",
        "    'sheep',\n",
        "    'lion',\n",
        "    'dog',\n",
        "    'cat',\n",
        "    'tiger',\n",
        "    'hamster',\n",
        "    'pig',\n",
        "    'goat',\n",
        "    'lizard',\n",
        "    'elephant',\n",
        "    'giraffe',\n",
        "    'hippo',\n",
        "    'zebra',\n",
        "]\n",
        "\n",
        "\n",
        "HOUSEHOLD_OBJECTS = [\n",
        "    'stapler',\n",
        "    'screw',\n",
        "    'nail',\n",
        "    'tv',\n",
        "    'dresser',\n",
        "    'keyboard',\n",
        "    'hairdryer',\n",
        "    'couch',\n",
        "    'sofa',\n",
        "    'lamp',\n",
        "    'chair',\n",
        "    'desk',\n",
        "    'pen',\n",
        "    'pencil',\n",
        "    'table',\n",
        "    'sock',\n",
        "    'floor',\n",
        "    'wall',\n",
        "]"
      ],
      "execution_count": 16,
      "outputs": []
    },
    {
      "cell_type": "code",
      "metadata": {
        "id": "1eBvXCzNJTvC",
        "colab_type": "code",
        "colab": {
          "base_uri": "https://localhost:8080/",
          "height": 35
        },
        "outputId": "afe2bbdf-59a2-4fab-ecd4-f669b471ea11"
      },
      "source": [
        "embed = np.array([embeddings_index[word] for word in ANIMALS+HOUSEHOLD_OBJECTS])\n",
        "embed.shape"
      ],
      "execution_count": 17,
      "outputs": [
        {
          "output_type": "execute_result",
          "data": {
            "text/plain": [
              "(35, 100)"
            ]
          },
          "metadata": {
            "tags": []
          },
          "execution_count": 17
        }
      ]
    },
    {
      "cell_type": "code",
      "metadata": {
        "id": "Q7T2zdMqKAQA",
        "colab_type": "code",
        "colab": {
          "base_uri": "https://localhost:8080/",
          "height": 35
        },
        "outputId": "4ff10785-d9be-441a-8ef7-6b04a8008cde"
      },
      "source": [
        "tsne_words_embedded = TSNE(n_components=2).fit_transform(embed)\n",
        "tsne_words_embedded.shape"
      ],
      "execution_count": 18,
      "outputs": [
        {
          "output_type": "execute_result",
          "data": {
            "text/plain": [
              "(35, 2)"
            ]
          },
          "metadata": {
            "tags": []
          },
          "execution_count": 18
        }
      ]
    },
    {
      "cell_type": "code",
      "metadata": {
        "id": "c-E45sP9Kc8B",
        "colab_type": "code",
        "colab": {
          "base_uri": "https://localhost:8080/",
          "height": 466
        },
        "outputId": "ef2a8810-7c90-464d-a184-990261ba7944"
      },
      "source": [
        "x, y = zip(*tsne_words_embedded)\n",
        "\n",
        "fig, ax = plt.subplots(figsize=(17, 8))\n",
        "\n",
        "for i, label in enumerate(ANIMALS + HOUSEHOLD_OBJECTS):\n",
        "    if label in ANIMALS:\n",
        "        color = '#0074D9'\n",
        "    elif label in HOUSEHOLD_OBJECTS:\n",
        "        color = '#FF4136'\n",
        "        \n",
        "    ax.scatter(x[i], y[i], c=color)\n",
        "    ax.annotate(label, (x[i], y[i]))\n",
        "\n",
        "ax.axis('off')\n",
        "\n",
        "plt.show()"
      ],
      "execution_count": 19,
      "outputs": [
        {
          "output_type": "display_data",
          "data": {
            "image/png": "[encoded data removed]",
            "text/plain": [
              "<Figure size 1224x576 with 1 Axes>"
            ]
          },
          "metadata": {
            "tags": [],
            "needs_background": "light"
          }
        }
      ]
    },
    {
      "cell_type": "markdown",
      "metadata": {
        "id": "n76OtHqCLokB",
        "colab_type": "text"
      },
      "source": [
        "Similar words are grouped together"
      ]
    },
    {
      "cell_type": "markdown",
      "metadata": {
        "id": "cb4MRyTELJ4V",
        "colab_type": "text"
      },
      "source": [
        "##  Context embeddings\n",
        "GloVe and Fasttext are two examples of global embeddings, where the embeddings don't change even though the \"sense\" of the word might change given the context. This can be a problem for cases such as:\n",
        "\n",
        "A mouse stole some cheese.\n",
        "I bought a new mouse the other day for my computer.\n",
        "\n",
        "\n",
        "The word mouse can mean both an animal and a computer accessory depending on the context, yet for GloVe they would receive the same exact distributed representation. We can combat this by taking into account the surroudning words to create a context-sensitive embedding. Context embeddings such as Bert are used for this case"
      ]
    },
    {
      "cell_type": "code",
      "metadata": {
        "id": "Ks2ExpEDLulp",
        "colab_type": "code",
        "colab": {}
      },
      "source": [
        "# !pip install transformers"
      ],
      "execution_count": 20,
      "outputs": []
    },
    {
      "cell_type": "code",
      "metadata": {
        "id": "nVIadlXOecMV",
        "colab_type": "code",
        "colab": {}
      },
      "source": [
        "from transformers import BertTokenizer,BertModel"
      ],
      "execution_count": 21,
      "outputs": []
    },
    {
      "cell_type": "code",
      "metadata": {
        "id": "5MzaoJWbLAMV",
        "colab_type": "code",
        "colab": {}
      },
      "source": [
        "tokenizer = BertTokenizer.from_pretrained('bert-base-uncased')\n",
        "model = BertModel.from_pretrained('bert-base-uncased',output_hidden_states=True)"
      ],
      "execution_count": 22,
      "outputs": []
    },
    {
      "cell_type": "code",
      "metadata": {
        "id": "pKRRy1pmsCzJ",
        "colab_type": "code",
        "colab": {}
      },
      "source": [
        "words_sentences = [\n",
        "    ('mouse', 'I saw a mouse run off with some cheese.'),\n",
        "    ('mouse', 'I bought a new computer mouse yesterday.'),\n",
        "    ('cat', 'My cat jumped on the bed.'),\n",
        "    ('keyboard', 'My computer keyboard broke when I spilled juice on it.'),\n",
        "    ('dessert', 'I had a banana fudge sunday for dessert.'),\n",
        "    ('dinner', 'What did you eat for dinner?'),\n",
        "    ('lunch', 'Yesterday I had a bacon lettuce tomato sandwich for lunch. It was tasty!'),\n",
        "    ('computer', 'My computer broke after the motherdrive was overloaded.'),\n",
        "    ('program', 'I like to program in Java and Python.'),\n",
        "    ('pasta', 'I like to put tomatoes and cheese in my pasta.'),\n",
        "]\n",
        "words = [words_sentence[0] for words_sentence in words_sentences]\n",
        "sentences = [words_sentence[1] for words_sentence in words_sentences]"
      ],
      "execution_count": 23,
      "outputs": []
    },
    {
      "cell_type": "code",
      "metadata": {
        "id": "W1n5oB3bu1F6",
        "colab_type": "code",
        "colab": {}
      },
      "source": [
        "tokens_list = []\n",
        "embeddings_list = []\n",
        "for text in sentences:\n",
        "  # Adding special tokens to the text\n",
        "  text = \"[CLS] \" + text + \" [SEP]\"\n",
        "\n",
        "  # Tokenizing the text\n",
        "  tokenized_text = tokenizer.tokenize(text)\n",
        "\n",
        "  # Converting tokens to ids\n",
        "  indexed_tokens = tokenizer.convert_tokens_to_ids(tokenized_text)\n",
        "   \n",
        "  # Creating Tensor\n",
        "  token_tensor = torch.LongTensor([indexed_tokens])\n",
        "  \n",
        "  # Predicting using model\n",
        "  model.eval()\n",
        "  with torch.no_grad():\n",
        "    outputs = model(token_tensor)\n",
        "\n",
        "  # Hidden states of all layers\n",
        "  hidden_states = outputs[2] \n",
        "   \n",
        "  # Remove dimension 1, the \"batches\".\n",
        "  embeddings = torch.squeeze(torch.stack(hidden_states), dim=1)\n",
        "  \n",
        "  # Getting the values of last 4 layers\n",
        "  embeddings = embeddings[-4:] \n",
        "  \n",
        "  # Gettting the embedding values of all the words\n",
        "  embeds = []\n",
        "  for j in range(embeddings.shape[1]):\n",
        "    embeds.append(embeddings[:, j, :].flatten().detach().numpy())\n",
        "  \n",
        "  # Removing the special tokens\n",
        "  embeds = embeds[1:-1]\n",
        "   \n",
        "  tokens_list.append(tokenized_text[1:-1])\n",
        "  embeddings_list.append(embeds)"
      ],
      "execution_count": 24,
      "outputs": []
    },
    {
      "cell_type": "code",
      "metadata": {
        "id": "N3R62hjDK-iH",
        "colab_type": "code",
        "colab": {}
      },
      "source": [
        "# Finiding the indices of the target word\n",
        "target_indices = []\n",
        "for i,word in enumerate(words):\n",
        "  for j,token in enumerate(tokens_list[i]):\n",
        "    if token==word:\n",
        "      target_indices.append(j)\n",
        "    else:\n",
        "      continue"
      ],
      "execution_count": 25,
      "outputs": []
    },
    {
      "cell_type": "code",
      "metadata": {
        "id": "2NJgCHJyKwu2",
        "colab_type": "code",
        "colab": {}
      },
      "source": [
        "# Finding the embeddings of the targeted word\n",
        "target_embeddings=[]\n",
        "for i,embeds in enumerate(embeddings_list):\n",
        "  index = target_indices[i]\n",
        "  target_embeddings.append(embeds[index])"
      ],
      "execution_count": 26,
      "outputs": []
    },
    {
      "cell_type": "code",
      "metadata": {
        "id": "SxogOYlNpmDB",
        "colab_type": "code",
        "colab": {
          "base_uri": "https://localhost:8080/",
          "height": 575
        },
        "outputId": "0558e5bc-c285-40f5-c35a-e3a4f5d1aad7"
      },
      "source": [
        "tsne_words_embedded = TSNE(n_components=2).fit_transform(target_embeddings)\n",
        "x, y = zip(*tsne_words_embedded)\n",
        "\n",
        "fig, ax = plt.subplots(figsize=(5, 10))\n",
        "\n",
        "for word, tokens, x_i, y_i in zip(words, tokens_list, x, y):\n",
        "    ax.scatter(x_i, y_i, c=\"#FF4136\")\n",
        "    ax.annotate(' '.join([f'$\\\\bf{x}$' if x == word else x for x in tokens]), (x_i, y_i))\n",
        "\n",
        "ax.axis('off')\n",
        "plt.show()"
      ],
      "execution_count": 27,
      "outputs": [
        {
          "output_type": "display_data",
          "data": {
            "image/png": "[encoded data removed]",
            "text/plain": [
              "<Figure size 360x720 with 1 Axes>"
            ]
          },
          "metadata": {
            "tags": [],
            "needs_background": "light"
          }
        }
      ]
    }
  ]
}