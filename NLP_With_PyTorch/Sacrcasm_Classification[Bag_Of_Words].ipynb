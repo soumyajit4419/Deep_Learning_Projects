{
  "nbformat": 4,
  "nbformat_minor": 0,
  "metadata": {
    "colab": {
      "name": "Sacrcasm_Classification[Bag Of Words].ipynb",
      "provenance": [],
      "collapsed_sections": []
    },
    "kernelspec": {
      "name": "python3",
      "display_name": "Python 3"
    }
  },
  "cells": [
    {
      "cell_type": "code",
      "metadata": {
        "id": "E3zE9IQfYTVL",
        "colab_type": "code",
        "colab": {}
      },
      "source": [
        "import pandas as pd\n",
        "import numpy as np"
      ],
      "execution_count": 77,
      "outputs": []
    },
    {
      "cell_type": "code",
      "metadata": {
        "id": "EotzdjkcbFY7",
        "colab_type": "code",
        "colab": {
          "base_uri": "https://localhost:8080/",
          "height": 104
        },
        "outputId": "09026290-399f-4e3f-b9aa-1db039a90623"
      },
      "source": [
        "import re\n",
        "import nltk\n",
        "from nltk.stem import WordNetLemmatizer\n",
        "from nltk.corpus import stopwords\n",
        "\n",
        "nltk.download('wordnet')\n",
        "nltk.download('stopwords')"
      ],
      "execution_count": 78,
      "outputs": [
        {
          "output_type": "stream",
          "text": [
            "[nltk_data] Downloading package wordnet to /root/nltk_data...\n",
            "[nltk_data]   Package wordnet is already up-to-date!\n",
            "[nltk_data] Downloading package stopwords to /root/nltk_data...\n",
            "[nltk_data]   Package stopwords is already up-to-date!\n"
          ],
          "name": "stdout"
        },
        {
          "output_type": "execute_result",
          "data": {
            "text/plain": [
              "True"
            ]
          },
          "metadata": {
            "tags": []
          },
          "execution_count": 78
        }
      ]
    },
    {
      "cell_type": "code",
      "metadata": {
        "id": "9n8sKPY2nVLS",
        "colab_type": "code",
        "colab": {}
      },
      "source": [
        "from sklearn.feature_extraction.text import CountVectorizer"
      ],
      "execution_count": 79,
      "outputs": []
    },
    {
      "cell_type": "code",
      "metadata": {
        "id": "46QQgIWanW6d",
        "colab_type": "code",
        "colab": {}
      },
      "source": [
        "import torch\n",
        "import torch.nn as nn\n",
        "import torch.nn.functional as F\n",
        "from torch.utils.data import DataLoader,TensorDataset,random_split"
      ],
      "execution_count": 80,
      "outputs": []
    },
    {
      "cell_type": "code",
      "metadata": {
        "id": "rvaicB2WT99-",
        "colab_type": "code",
        "colab": {
          "base_uri": "https://localhost:8080/",
          "height": 197
        },
        "outputId": "b79b342c-389e-4a00-af3f-0c515f97784e"
      },
      "source": [
        "url='https://raw.githubusercontent.com/soumyajit4419/Deep_Learning_Projects/master/Sarcasm_Prediction_News_Headlines%20%5BBERT%20%E2%81%84%20LSTM%5D/dataset/headlines.csv'\n",
        "df = pd.read_csv(url)\n",
        "df.head()"
      ],
      "execution_count": 81,
      "outputs": [
        {
          "output_type": "execute_result",
          "data": {
            "text/html": [
              "<div>\n",
              "<style scoped>\n",
              "    .dataframe tbody tr th:only-of-type {\n",
              "        vertical-align: middle;\n",
              "    }\n",
              "\n",
              "    .dataframe tbody tr th {\n",
              "        vertical-align: top;\n",
              "    }\n",
              "\n",
              "    .dataframe thead th {\n",
              "        text-align: right;\n",
              "    }\n",
              "</style>\n",
              "<table border=\"1\" class=\"dataframe\">\n",
              "  <thead>\n",
              "    <tr style=\"text-align: right;\">\n",
              "      <th></th>\n",
              "      <th>article_link</th>\n",
              "      <th>headline</th>\n",
              "      <th>is_sarcastic</th>\n",
              "    </tr>\n",
              "  </thead>\n",
              "  <tbody>\n",
              "    <tr>\n",
              "      <th>0</th>\n",
              "      <td>https://www.huffingtonpost.com/entry/versace-b...</td>\n",
              "      <td>former versace store clerk sues over secret 'b...</td>\n",
              "      <td>0</td>\n",
              "    </tr>\n",
              "    <tr>\n",
              "      <th>1</th>\n",
              "      <td>https://www.huffingtonpost.com/entry/roseanne-...</td>\n",
              "      <td>the 'roseanne' revival catches up to our thorn...</td>\n",
              "      <td>0</td>\n",
              "    </tr>\n",
              "    <tr>\n",
              "      <th>2</th>\n",
              "      <td>https://local.theonion.com/mom-starting-to-fea...</td>\n",
              "      <td>mom starting to fear son's web series closest ...</td>\n",
              "      <td>1</td>\n",
              "    </tr>\n",
              "    <tr>\n",
              "      <th>3</th>\n",
              "      <td>https://politics.theonion.com/boehner-just-wan...</td>\n",
              "      <td>boehner just wants wife to listen, not come up...</td>\n",
              "      <td>1</td>\n",
              "    </tr>\n",
              "    <tr>\n",
              "      <th>4</th>\n",
              "      <td>https://www.huffingtonpost.com/entry/jk-rowlin...</td>\n",
              "      <td>j.k. rowling wishes snape happy birthday in th...</td>\n",
              "      <td>0</td>\n",
              "    </tr>\n",
              "  </tbody>\n",
              "</table>\n",
              "</div>"
            ],
            "text/plain": [
              "                                        article_link  ... is_sarcastic\n",
              "0  https://www.huffingtonpost.com/entry/versace-b...  ...            0\n",
              "1  https://www.huffingtonpost.com/entry/roseanne-...  ...            0\n",
              "2  https://local.theonion.com/mom-starting-to-fea...  ...            1\n",
              "3  https://politics.theonion.com/boehner-just-wan...  ...            1\n",
              "4  https://www.huffingtonpost.com/entry/jk-rowlin...  ...            0\n",
              "\n",
              "[5 rows x 3 columns]"
            ]
          },
          "metadata": {
            "tags": []
          },
          "execution_count": 81
        }
      ]
    },
    {
      "cell_type": "code",
      "metadata": {
        "id": "jsyvOruEmNzF",
        "colab_type": "code",
        "colab": {
          "base_uri": "https://localhost:8080/",
          "height": 35
        },
        "outputId": "cec55677-2384-4850-b674-efc63ac75bd8"
      },
      "source": [
        "df.shape"
      ],
      "execution_count": 82,
      "outputs": [
        {
          "output_type": "execute_result",
          "data": {
            "text/plain": [
              "(26709, 3)"
            ]
          },
          "metadata": {
            "tags": []
          },
          "execution_count": 82
        }
      ]
    },
    {
      "cell_type": "code",
      "metadata": {
        "id": "X6vva7pvl8w8",
        "colab_type": "code",
        "colab": {
          "base_uri": "https://localhost:8080/",
          "height": 87
        },
        "outputId": "4a449329-5d70-4c73-9d93-14e24e9b6124"
      },
      "source": [
        "df.isnull().sum()"
      ],
      "execution_count": 83,
      "outputs": [
        {
          "output_type": "execute_result",
          "data": {
            "text/plain": [
              "article_link    0\n",
              "headline        0\n",
              "is_sarcastic    0\n",
              "dtype: int64"
            ]
          },
          "metadata": {
            "tags": []
          },
          "execution_count": 83
        }
      ]
    },
    {
      "cell_type": "code",
      "metadata": {
        "id": "Ch1drZZ5aUne",
        "colab_type": "code",
        "colab": {}
      },
      "source": [
        "wordnet = WordNetLemmatizer()\n",
        "def clean_text(text):\n",
        "  text = re.sub('[^a-zA-Z]', ' ',text)\n",
        "  text = text.lower()\n",
        "  text = text.split(' ')\n",
        "  text = [wordnet.lemmatize(word) for word in text if word not in stopwords.words('english')]\n",
        "  text = ' '.join(text)\n",
        "  return text"
      ],
      "execution_count": 84,
      "outputs": []
    },
    {
      "cell_type": "code",
      "metadata": {
        "id": "IXLL-dQAlxiw",
        "colab_type": "code",
        "colab": {}
      },
      "source": [
        "df['cleaned_text'] = df['headline'].apply(clean_text)"
      ],
      "execution_count": 85,
      "outputs": []
    },
    {
      "cell_type": "code",
      "metadata": {
        "id": "yHeNW2BUl3xl",
        "colab_type": "code",
        "colab": {
          "base_uri": "https://localhost:8080/",
          "height": 197
        },
        "outputId": "74271333-da73-4a29-fc47-7364dc33858f"
      },
      "source": [
        "df.head()"
      ],
      "execution_count": 86,
      "outputs": [
        {
          "output_type": "execute_result",
          "data": {
            "text/html": [
              "<div>\n",
              "<style scoped>\n",
              "    .dataframe tbody tr th:only-of-type {\n",
              "        vertical-align: middle;\n",
              "    }\n",
              "\n",
              "    .dataframe tbody tr th {\n",
              "        vertical-align: top;\n",
              "    }\n",
              "\n",
              "    .dataframe thead th {\n",
              "        text-align: right;\n",
              "    }\n",
              "</style>\n",
              "<table border=\"1\" class=\"dataframe\">\n",
              "  <thead>\n",
              "    <tr style=\"text-align: right;\">\n",
              "      <th></th>\n",
              "      <th>article_link</th>\n",
              "      <th>headline</th>\n",
              "      <th>is_sarcastic</th>\n",
              "      <th>cleaned_text</th>\n",
              "    </tr>\n",
              "  </thead>\n",
              "  <tbody>\n",
              "    <tr>\n",
              "      <th>0</th>\n",
              "      <td>https://www.huffingtonpost.com/entry/versace-b...</td>\n",
              "      <td>former versace store clerk sues over secret 'b...</td>\n",
              "      <td>0</td>\n",
              "      <td>former versace store clerk sue secret  black c...</td>\n",
              "    </tr>\n",
              "    <tr>\n",
              "      <th>1</th>\n",
              "      <td>https://www.huffingtonpost.com/entry/roseanne-...</td>\n",
              "      <td>the 'roseanne' revival catches up to our thorn...</td>\n",
              "      <td>0</td>\n",
              "      <td>roseanne  revival catch thorny political mood...</td>\n",
              "    </tr>\n",
              "    <tr>\n",
              "      <th>2</th>\n",
              "      <td>https://local.theonion.com/mom-starting-to-fea...</td>\n",
              "      <td>mom starting to fear son's web series closest ...</td>\n",
              "      <td>1</td>\n",
              "      <td>mom starting fear son web series closest thing...</td>\n",
              "    </tr>\n",
              "    <tr>\n",
              "      <th>3</th>\n",
              "      <td>https://politics.theonion.com/boehner-just-wan...</td>\n",
              "      <td>boehner just wants wife to listen, not come up...</td>\n",
              "      <td>1</td>\n",
              "      <td>boehner want wife listen  come alternative deb...</td>\n",
              "    </tr>\n",
              "    <tr>\n",
              "      <th>4</th>\n",
              "      <td>https://www.huffingtonpost.com/entry/jk-rowlin...</td>\n",
              "      <td>j.k. rowling wishes snape happy birthday in th...</td>\n",
              "      <td>0</td>\n",
              "      <td>j k  rowling wish snape happy birthday magical...</td>\n",
              "    </tr>\n",
              "  </tbody>\n",
              "</table>\n",
              "</div>"
            ],
            "text/plain": [
              "                                        article_link  ...                                       cleaned_text\n",
              "0  https://www.huffingtonpost.com/entry/versace-b...  ...  former versace store clerk sue secret  black c...\n",
              "1  https://www.huffingtonpost.com/entry/roseanne-...  ...   roseanne  revival catch thorny political mood...\n",
              "2  https://local.theonion.com/mom-starting-to-fea...  ...  mom starting fear son web series closest thing...\n",
              "3  https://politics.theonion.com/boehner-just-wan...  ...  boehner want wife listen  come alternative deb...\n",
              "4  https://www.huffingtonpost.com/entry/jk-rowlin...  ...  j k  rowling wish snape happy birthday magical...\n",
              "\n",
              "[5 rows x 4 columns]"
            ]
          },
          "metadata": {
            "tags": []
          },
          "execution_count": 86
        }
      ]
    },
    {
      "cell_type": "code",
      "metadata": {
        "id": "56SW76PKnCuz",
        "colab_type": "code",
        "colab": {}
      },
      "source": [
        "cv = CountVectorizer(max_df=0.99, min_df=0.005)"
      ],
      "execution_count": 87,
      "outputs": []
    },
    {
      "cell_type": "code",
      "metadata": {
        "id": "IpntlpgQ3IOw",
        "colab_type": "code",
        "colab": {}
      },
      "source": [
        "vect = cv.fit_transform(df['cleaned_text'])"
      ],
      "execution_count": 88,
      "outputs": []
    },
    {
      "cell_type": "code",
      "metadata": {
        "id": "QvXCDvun3mlk",
        "colab_type": "code",
        "colab": {}
      },
      "source": [
        "vect = vect.toarray()"
      ],
      "execution_count": 89,
      "outputs": []
    },
    {
      "cell_type": "code",
      "metadata": {
        "id": "ppqfYH_u4fQJ",
        "colab_type": "code",
        "colab": {}
      },
      "source": [
        "token2idx = cv.vocabulary_\n",
        "vocab_size = len(token2idx)\n",
        "\n",
        "\n",
        "idx2token = {id:token for token,id in token2idx.items()} "
      ],
      "execution_count": 90,
      "outputs": []
    },
    {
      "cell_type": "code",
      "metadata": {
        "id": "emd09kkT80Em",
        "colab_type": "code",
        "colab": {}
      },
      "source": [
        "inputs = torch.tensor(vect,dtype=torch.float32)\n",
        "target = torch.tensor(df[['is_sarcastic']].values,dtype=torch.float32)\n",
        "\n",
        "dataset = TensorDataset(inputs,target)"
      ],
      "execution_count": 120,
      "outputs": []
    },
    {
      "cell_type": "code",
      "metadata": {
        "id": "3VQi5AuBCy3K",
        "colab_type": "code",
        "colab": {}
      },
      "source": [
        "val_split = 0.2\n",
        "val_size = int(len(dataset) * val_split)\n",
        "train_size = len(dataset) - val_size\n",
        "\n",
        "train_ds,val_ds = random_split(dataset,[train_size,val_size])\n",
        "\n",
        "train_loader = DataLoader(train_ds,batch_size=128,shuffle=True,num_workers=3,pin_memory=True)\n",
        "val_loader = DataLoader(val_ds,batch_size=128,shuffle=True,num_workers=3,pin_memory=True)"
      ],
      "execution_count": 121,
      "outputs": []
    },
    {
      "cell_type": "code",
      "metadata": {
        "id": "4uTfByCtQBe-",
        "colab_type": "code",
        "colab": {
          "base_uri": "https://localhost:8080/",
          "height": 35
        },
        "outputId": "e20a8aa1-aa85-40a4-d27b-d705d1c5af2c"
      },
      "source": [
        "for input,labels in val_loader:\n",
        "  print(inputs.shape,labels.shape)\n",
        "  break"
      ],
      "execution_count": 122,
      "outputs": [
        {
          "output_type": "stream",
          "text": [
            "torch.Size([26709, 155]) torch.Size([128, 1])\n"
          ],
          "name": "stdout"
        }
      ]
    },
    {
      "cell_type": "code",
      "metadata": {
        "id": "G8DILGyxCy57",
        "colab_type": "code",
        "colab": {}
      },
      "source": [
        "# Defining the Model\n",
        "class classification_model(nn.Module):\n",
        "\n",
        "  def __init__(self):\n",
        "    super().__init__()\n",
        "    self.Linear1 = nn.Linear(vocab_size,128)\n",
        "    self.Linear2 = nn.Linear(128,64)\n",
        "    self.Linear3 = nn.Linear(64,1)\n",
        "\n",
        "  def forward(self,xb):\n",
        "    out = self.Linear1(xb)\n",
        "    out = F.relu(out)\n",
        "    out = self.Linear2(out)\n",
        "    out = F.relu(out)\n",
        "    out = self.Linear3(out)\n",
        "    out = F.sigmoid(out)\n",
        "    return out"
      ],
      "execution_count": 123,
      "outputs": []
    },
    {
      "cell_type": "code",
      "metadata": {
        "id": "v_1iIeO8Cy8b",
        "colab_type": "code",
        "colab": {}
      },
      "source": [
        "# Initializing the model\n",
        "model = classification_model()"
      ],
      "execution_count": 124,
      "outputs": []
    },
    {
      "cell_type": "code",
      "metadata": {
        "id": "XTmai3OU8Lvz",
        "colab_type": "code",
        "colab": {
          "base_uri": "https://localhost:8080/",
          "height": 35
        },
        "outputId": "2e3d2442-c950-4d27-fb48-a003fb1a06e5"
      },
      "source": [
        "# Moving data to GPU if available\n",
        "def get_device():\n",
        "  if torch.cuda.is_available():\n",
        "    return torch.device('cuda')\n",
        "  else:\n",
        "    return torch.device('cpu')\n",
        "\n",
        "device = get_device()\n",
        "device"
      ],
      "execution_count": 125,
      "outputs": [
        {
          "output_type": "execute_result",
          "data": {
            "text/plain": [
              "device(type='cpu')"
            ]
          },
          "metadata": {
            "tags": []
          },
          "execution_count": 125
        }
      ]
    },
    {
      "cell_type": "code",
      "metadata": {
        "id": "s8vURjJ8J33D",
        "colab_type": "code",
        "colab": {}
      },
      "source": [
        "model = model.to(device)"
      ],
      "execution_count": 126,
      "outputs": []
    },
    {
      "cell_type": "code",
      "metadata": {
        "id": "dJPyshA-CvvG",
        "colab_type": "code",
        "colab": {}
      },
      "source": [
        "def fit(num_epochs):\n",
        "  # Initailizing the optimizer\n",
        "  optimizer = torch.optim.Adam(model.parameters(),lr=0.001)\n",
        "  train_losses=[]\n",
        "\n",
        "  # Training for some epochs\n",
        "  for epoch in range(num_epochs):\n",
        "    losses = []\n",
        "    for input,target in train_loader:\n",
        "      # Moving the batches of data to device\n",
        "      input = input.to(device)\n",
        "      target = target.to(device)\n",
        "\n",
        "      # Predicting the output\n",
        "      out = model(input)\n",
        "\n",
        "      # Calculating the loss\n",
        "      loss = F.binary_cross_entropy(out,target)\n",
        "\n",
        "      # Updating the weights and bias\n",
        "      loss.backward()\n",
        "      optimizer.step()\n",
        "      optimizer.zero_grad()\n",
        "      losses.append(loss)\n",
        "\n",
        "    # Epoch loss\n",
        "    epoch_loss = torch.stack(losses).mean()\n",
        "    \n",
        "    #Appending all the epoch loss \n",
        "    train_losses.append(epoch_loss)\n",
        "\n",
        "    print(\"Epoch: {} , Loss: {}\".format(epoch+1,epoch_loss.item()))\n",
        "  return train_losses"
      ],
      "execution_count": 131,
      "outputs": []
    },
    {
      "cell_type": "code",
      "metadata": {
        "id": "e7clrAsCNFVR",
        "colab_type": "code",
        "colab": {
          "base_uri": "https://localhost:8080/",
          "height": 226
        },
        "outputId": "390d41cf-4faf-453e-b8d4-713c85214539"
      },
      "source": [
        "history = fit(10)"
      ],
      "execution_count": 132,
      "outputs": [
        {
          "output_type": "stream",
          "text": [
            "/usr/local/lib/python3.6/dist-packages/torch/nn/functional.py:1569: UserWarning: nn.functional.sigmoid is deprecated. Use torch.sigmoid instead.\n",
            "  warnings.warn(\"nn.functional.sigmoid is deprecated. Use torch.sigmoid instead.\")\n"
          ],
          "name": "stderr"
        },
        {
          "output_type": "stream",
          "text": [
            "Epoch: 1 , Loss: 0.5766692757606506\n",
            "Epoch: 2 , Loss: 0.5688551664352417\n",
            "Epoch: 3 , Loss: 0.5611430406570435\n",
            "Epoch: 4 , Loss: 0.550683319568634\n",
            "Epoch: 5 , Loss: 0.5400444269180298\n",
            "Epoch: 6 , Loss: 0.5289016366004944\n",
            "Epoch: 7 , Loss: 0.518133819103241\n",
            "Epoch: 8 , Loss: 0.5071132183074951\n",
            "Epoch: 9 , Loss: 0.49874645471572876\n",
            "Epoch: 10 , Loss: 0.4898260831832886\n"
          ],
          "name": "stdout"
        }
      ]
    },
    {
      "cell_type": "code",
      "metadata": {
        "id": "dEenBtrqSndj",
        "colab_type": "code",
        "colab": {
          "base_uri": "https://localhost:8080/",
          "height": 174
        },
        "outputId": "786197ec-4fd0-48f2-94d0-1822e526e4ba"
      },
      "source": [
        "input,target = val_ds[0]\n",
        "input"
      ],
      "execution_count": 138,
      "outputs": [
        {
          "output_type": "execute_result",
          "data": {
            "text/plain": [
              "tensor([0., 0., 1., 0., 0., 0., 0., 0., 0., 0., 0., 0., 0., 0., 0., 0., 0., 0.,\n",
              "        0., 0., 0., 0., 0., 0., 0., 0., 0., 0., 0., 0., 0., 0., 0., 0., 0., 0.,\n",
              "        0., 0., 0., 0., 0., 0., 0., 0., 0., 0., 0., 0., 0., 0., 0., 0., 0., 0.,\n",
              "        0., 0., 0., 0., 0., 0., 0., 0., 0., 0., 0., 0., 0., 0., 0., 0., 0., 0.,\n",
              "        0., 0., 0., 0., 0., 0., 0., 0., 0., 0., 0., 0., 0., 0., 0., 0., 0., 0.,\n",
              "        0., 0., 0., 0., 0., 0., 0., 0., 0., 0., 0., 0., 0., 0., 0., 0., 0., 0.,\n",
              "        0., 0., 0., 0., 0., 0., 0., 0., 0., 0., 0., 0., 0., 0., 0., 0., 0., 0.,\n",
              "        0., 0., 0., 0., 0., 0., 0., 0., 0., 0., 0., 0., 0., 0., 0., 0., 0., 0.,\n",
              "        0., 0., 0., 0., 0., 0., 0., 0., 0., 0., 0.])"
            ]
          },
          "metadata": {
            "tags": []
          },
          "execution_count": 138
        }
      ]
    },
    {
      "cell_type": "code",
      "metadata": {
        "id": "Fk0Vk_PeZdw_",
        "colab_type": "code",
        "colab": {
          "base_uri": "https://localhost:8080/",
          "height": 52
        },
        "outputId": "276db3c3-de9f-4a9d-9d46-defb34b1c49f"
      },
      "source": [
        "for input,target in val_loader:\n",
        "  preds = model(input)\n",
        "  break"
      ],
      "execution_count": 150,
      "outputs": [
        {
          "output_type": "stream",
          "text": [
            "/usr/local/lib/python3.6/dist-packages/torch/nn/functional.py:1569: UserWarning: nn.functional.sigmoid is deprecated. Use torch.sigmoid instead.\n",
            "  warnings.warn(\"nn.functional.sigmoid is deprecated. Use torch.sigmoid instead.\")\n"
          ],
          "name": "stderr"
        }
      ]
    },
    {
      "cell_type": "code",
      "metadata": {
        "id": "u4o21OMLbMh3",
        "colab_type": "code",
        "colab": {
          "base_uri": "https://localhost:8080/",
          "height": 174
        },
        "outputId": "802707e7-91ec-45ab-ebbb-e4250c1990f5"
      },
      "source": [
        "preds = preds>0.5\n",
        "from sklearn.metrics import classification_report\n",
        "print(classification_report(preds.detach(),target))\n"
      ],
      "execution_count": 153,
      "outputs": [
        {
          "output_type": "stream",
          "text": [
            "              precision    recall  f1-score   support\n",
            "\n",
            "       False       0.77      0.58      0.66        81\n",
            "        True       0.49      0.70      0.58        47\n",
            "\n",
            "    accuracy                           0.62       128\n",
            "   macro avg       0.63      0.64      0.62       128\n",
            "weighted avg       0.67      0.62      0.63       128\n",
            "\n"
          ],
          "name": "stdout"
        }
      ]
    },
    {
      "cell_type": "code",
      "metadata": {
        "id": "MScjlwFITVYu",
        "colab_type": "code",
        "colab": {
          "base_uri": "https://localhost:8080/",
          "height": 87
        },
        "outputId": "6992b7e1-9d92-408d-b0e4-9675d0ceadb8"
      },
      "source": [
        "pred = model(input)\n",
        "print(pred.item())\n",
        "print(target)"
      ],
      "execution_count": 147,
      "outputs": [
        {
          "output_type": "stream",
          "text": [
            "0.40181946754455566\n",
            "tensor([1.])\n"
          ],
          "name": "stdout"
        },
        {
          "output_type": "stream",
          "text": [
            "/usr/local/lib/python3.6/dist-packages/torch/nn/functional.py:1569: UserWarning: nn.functional.sigmoid is deprecated. Use torch.sigmoid instead.\n",
            "  warnings.warn(\"nn.functional.sigmoid is deprecated. Use torch.sigmoid instead.\")\n"
          ],
          "name": "stderr"
        }
      ]
    }
  ]
}